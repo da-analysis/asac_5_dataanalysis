{
 "cells": [
  {
   "cell_type": "code",
   "execution_count": 0,
   "metadata": {
    "application/vnd.databricks.v1+cell": {
     "cellMetadata": {
      "byteLimit": 2048000,
      "rowLimit": 10000
     },
     "inputWidgets": {},
     "nuid": "047d5db2-f8a7-4dbc-8399-4c6997ad20fd",
     "showTitle": false,
     "title": ""
    }
   },
   "outputs": [
    {
     "output_type": "stream",
     "name": "stdout",
     "output_type": "stream",
     "text": [
      "Collecting langchain\n  Using cached langchain-0.2.15-py3-none-any.whl (1.0 MB)\nCollecting faiss-cpu\n  Using cached faiss_cpu-1.8.0.post1-cp310-cp310-manylinux_2_17_x86_64.manylinux2014_x86_64.whl (27.0 MB)\nCollecting mlflow\n  Using cached mlflow-2.16.0-py3-none-any.whl (26.6 MB)\nRequirement already satisfied: pydantic<3,>=1 in /databricks/python3/lib/python3.10/site-packages (from langchain) (1.10.6)\nCollecting aiohttp<4.0.0,>=3.8.3\n  Using cached aiohttp-3.10.5-cp310-cp310-manylinux_2_17_x86_64.manylinux2014_x86_64.whl (1.2 MB)\nRequirement already satisfied: numpy<2,>=1 in /databricks/python3/lib/python3.10/site-packages (from langchain) (1.23.5)\nCollecting langchain-text-splitters<0.3.0,>=0.2.0\n  Using cached langchain_text_splitters-0.2.2-py3-none-any.whl (25 kB)\nRequirement already satisfied: requests<3,>=2 in /databricks/python3/lib/python3.10/site-packages (from langchain) (2.28.1)\nCollecting PyYAML>=5.3\n  Using cached PyYAML-6.0.2-cp310-cp310-manylinux_2_17_x86_64.manylinux2014_x86_64.whl (751 kB)\nRequirement already satisfied: tenacity!=8.4.0,<9.0.0,>=8.1.0 in /databricks/python3/lib/python3.10/site-packages (from langchain) (8.1.0)\nCollecting SQLAlchemy<3,>=1.4\n  Using cached SQLAlchemy-2.0.32-cp310-cp310-manylinux_2_17_x86_64.manylinux2014_x86_64.whl (3.1 MB)\nCollecting async-timeout<5.0.0,>=4.0.0\n  Using cached async_timeout-4.0.3-py3-none-any.whl (5.7 kB)\nCollecting langsmith<0.2.0,>=0.1.17\n  Using cached langsmith-0.1.108-py3-none-any.whl (150 kB)\nCollecting langchain-core<0.3.0,>=0.2.35\n  Using cached langchain_core-0.2.37-py3-none-any.whl (396 kB)\nRequirement already satisfied: packaging in /databricks/python3/lib/python3.10/site-packages (from faiss-cpu) (23.2)\nCollecting alembic!=1.10.0,<2\n  Using cached alembic-1.13.2-py3-none-any.whl (232 kB)\nCollecting docker<8,>=4.0.0\n  Using cached docker-7.1.0-py3-none-any.whl (147 kB)\nCollecting markdown<4,>=3.3\n  Using cached Markdown-3.7-py3-none-any.whl (106 kB)\nRequirement already satisfied: scikit-learn<2 in /databricks/python3/lib/python3.10/site-packages (from mlflow) (1.1.1)\nRequirement already satisfied: scipy<2 in /databricks/python3/lib/python3.10/site-packages (from mlflow) (1.10.0)\nCollecting mlflow-skinny==2.16.0\n  Using cached mlflow_skinny-2.16.0-py3-none-any.whl (5.6 MB)\nCollecting graphene<4\n  Using cached graphene-3.3-py2.py3-none-any.whl (128 kB)\nRequirement already satisfied: pandas<3 in /databricks/python3/lib/python3.10/site-packages (from mlflow) (1.5.3)\nRequirement already satisfied: Jinja2<4,>=2.11 in /databricks/python3/lib/python3.10/site-packages (from mlflow) (3.1.2)\nRequirement already satisfied: pyarrow<18,>=4.0.0 in /databricks/python3/lib/python3.10/site-packages (from mlflow) (8.0.0)\nCollecting gunicorn<24\n  Using cached gunicorn-23.0.0-py3-none-any.whl (85 kB)\nCollecting Flask<4\n  Using cached flask-3.0.3-py3-none-any.whl (101 kB)\nRequirement already satisfied: matplotlib<4 in /databricks/python3/lib/python3.10/site-packages (from mlflow) (3.7.0)\nCollecting opentelemetry-api<3,>=1.9.0\n  Using cached opentelemetry_api-1.27.0-py3-none-any.whl (63 kB)\nRequirement already satisfied: click<9,>=7.0 in /databricks/python3/lib/python3.10/site-packages (from mlflow-skinny==2.16.0->mlflow) (8.0.4)\nCollecting cloudpickle<4\n  Using cached cloudpickle-3.0.0-py3-none-any.whl (20 kB)\nCollecting gitpython<4,>=3.1.9\n  Using cached GitPython-3.1.43-py3-none-any.whl (207 kB)\nRequirement already satisfied: cachetools<6,>=5.0.0 in /databricks/python3/lib/python3.10/site-packages (from mlflow-skinny==2.16.0->mlflow) (5.3.2)\nCollecting opentelemetry-sdk<3,>=1.9.0\n  Using cached opentelemetry_sdk-1.27.0-py3-none-any.whl (110 kB)\nRequirement already satisfied: databricks-sdk<1,>=0.20.0 in /databricks/python3/lib/python3.10/site-packages (from mlflow-skinny==2.16.0->mlflow) (0.20.0)\nCollecting sqlparse<1,>=0.4.0\n  Using cached sqlparse-0.5.1-py3-none-any.whl (44 kB)\nRequirement already satisfied: protobuf<6,>=3.12.0 in /databricks/python3/lib/python3.10/site-packages (from mlflow-skinny==2.16.0->mlflow) (4.25.3)\nRequirement already satisfied: importlib-metadata!=4.7.0,<9,>=3.7.0 in /usr/lib/python3/dist-packages (from mlflow-skinny==2.16.0->mlflow) (4.6.4)\nCollecting frozenlist>=1.1.1\n  Downloading frozenlist-1.4.1-cp310-cp310-manylinux_2_5_x86_64.manylinux1_x86_64.manylinux_2_17_x86_64.manylinux2014_x86_64.whl (239 kB)\n     ━━━━━━━━━━━━━━━━━━━━━━━━━━━━━━━━━━━━━━━ 239.5/239.5 kB 5.1 MB/s eta 0:00:00\nCollecting aiohappyeyeballs>=2.3.0\n  Using cached aiohappyeyeballs-2.4.0-py3-none-any.whl (12 kB)\nCollecting yarl<2.0,>=1.0\n  Using cached yarl-1.9.7-cp310-cp310-manylinux_2_17_x86_64.manylinux2014_x86_64.whl (467 kB)\nRequirement already satisfied: attrs>=17.3.0 in /databricks/python3/lib/python3.10/site-packages (from aiohttp<4.0.0,>=3.8.3->langchain) (22.1.0)\nCollecting aiosignal>=1.1.2\n  Downloading aiosignal-1.3.1-py3-none-any.whl (7.6 kB)\nCollecting multidict<7.0,>=4.5\n  Downloading multidict-6.0.5-cp310-cp310-manylinux_2_17_x86_64.manylinux2014_x86_64.whl (124 kB)\n     ━━━━━━━━━━━━━━━━━━━━━━━━━━━━━━━━━━━━━━ 124.3/124.3 kB 27.4 MB/s eta 0:00:00\nCollecting Mako\n  Downloading Mako-1.3.5-py3-none-any.whl (78 kB)\n     ━━━━━━━━━━━━━━━━━━━━━━━━━━━━━━━━━━━━━━━━ 78.6/78.6 kB 17.0 MB/s eta 0:00:00\nRequirement already satisfied: typing-extensions>=4 in /databricks/python3/lib/python3.10/site-packages (from alembic!=1.10.0,<2->mlflow) (4.4.0)\nRequirement already satisfied: urllib3>=1.26.0 in /databricks/python3/lib/python3.10/site-packages (from docker<8,>=4.0.0->mlflow) (1.26.14)\nCollecting itsdangerous>=2.1.2\n  Downloading itsdangerous-2.2.0-py3-none-any.whl (16 kB)\nCollecting Werkzeug>=3.0.0\n  Downloading werkzeug-3.0.4-py3-none-any.whl (227 kB)\n     ━━━━━━━━━━━━━━━━━━━━━━━━━━━━━━━━━━━━━━ 227.6/227.6 kB 38.8 MB/s eta 0:00:00\nCollecting blinker>=1.6.2\n  Downloading blinker-1.8.2-py3-none-any.whl (9.5 kB)\nCollecting click<9,>=7.0\n  Downloading click-8.1.7-py3-none-any.whl (97 kB)\n     ━━━━━━━━━━━━━━━━━━━━━━━━━━━━━━━━━━━━━━━━ 97.9/97.9 kB 21.0 MB/s eta 0:00:00\nCollecting aniso8601<10,>=8\n  Downloading aniso8601-9.0.1-py2.py3-none-any.whl (52 kB)\n     ━━━━━━━━━━━━━━━━━━━━━━━━━━━━━━━━━━━━━━━━ 52.8/52.8 kB 11.7 MB/s eta 0:00:00\nCollecting graphql-relay<3.3,>=3.1\n  Downloading graphql_relay-3.2.0-py3-none-any.whl (16 kB)\nCollecting graphql-core<3.3,>=3.1\n  Downloading graphql_core-3.2.3-py3-none-any.whl (202 kB)\n     ━━━━━━━━━━━━━━━━━━━━━━━━━━━━━━━━━━━━━━ 202.9/202.9 kB 34.8 MB/s eta 0:00:00\nRequirement already satisfied: MarkupSafe>=2.0 in /databricks/python3/lib/python3.10/site-packages (from Jinja2<4,>=2.11->mlflow) (2.1.1)\nCollecting typing-extensions>=4\n  Downloading typing_extensions-4.12.2-py3-none-any.whl (37 kB)\nCollecting jsonpatch<2.0,>=1.33\n  Downloading jsonpatch-1.33-py2.py3-none-any.whl (12 kB)\nCollecting httpx<1,>=0.23.0\n  Downloading httpx-0.27.2-py3-none-any.whl (76 kB)\n     ━━━━━━━━━━━━━━━━━━━━━━━━━━━━━━━━━━━━━━━━ 76.4/76.4 kB 16.0 MB/s eta 0:00:00\nCollecting orjson<4.0.0,>=3.9.14\n  Downloading orjson-3.10.7-cp310-cp310-manylinux_2_17_x86_64.manylinux2014_x86_64.whl (141 kB)\n     ━━━━━━━━━━━━━━━━━━━━━━━━━━━━━━━━━━━━━━ 141.9/141.9 kB 27.4 MB/s eta 0:00:00\nRequirement already satisfied: pillow>=6.2.0 in /databricks/python3/lib/python3.10/site-packages (from matplotlib<4->mlflow) (9.4.0)\nRequirement already satisfied: pyparsing>=2.3.1 in /databricks/python3/lib/python3.10/site-packages (from matplotlib<4->mlflow) (3.0.9)\nRequirement already satisfied: contourpy>=1.0.1 in /databricks/python3/lib/python3.10/site-packages (from matplotlib<4->mlflow) (1.0.5)\nRequirement already satisfied: fonttools>=4.22.0 in /databricks/python3/lib/python3.10/site-packages (from matplotlib<4->mlflow) (4.25.0)\nRequirement already satisfied: python-dateutil>=2.7 in /databricks/python3/lib/python3.10/site-packages (from matplotlib<4->mlflow) (2.8.2)\nRequirement already satisfied: cycler>=0.10 in /databricks/python3/lib/python3.10/site-packages (from matplotlib<4->mlflow) (0.11.0)\nRequirement already satisfied: kiwisolver>=1.0.1 in /databricks/python3/lib/python3.10/site-packages (from matplotlib<4->mlflow) (1.4.4)\nRequirement already satisfied: pytz>=2020.1 in /databricks/python3/lib/python3.10/site-packages (from pandas<3->mlflow) (2022.7)\nRequirement already satisfied: charset-normalizer<3,>=2 in /databricks/python3/lib/python3.10/site-packages (from requests<3,>=2->langchain) (2.0.4)\nRequirement already satisfied: idna<4,>=2.5 in /databricks/python3/lib/python3.10/site-packages (from requests<3,>=2->langchain) (3.4)\nRequirement already satisfied: certifi>=2017.4.17 in /databricks/python3/lib/python3.10/site-packages (from requests<3,>=2->langchain) (2022.12.7)\nRequirement already satisfied: joblib>=1.0.0 in /databricks/python3/lib/python3.10/site-packages (from scikit-learn<2->mlflow) (1.2.0)\nRequirement already satisfied: threadpoolctl>=2.0.0 in /databricks/python3/lib/python3.10/site-packages (from scikit-learn<2->mlflow) (2.2.0)\nCollecting greenlet!=0.4.17\n  Downloading greenlet-3.0.3-cp310-cp310-manylinux_2_24_x86_64.manylinux_2_28_x86_64.whl (616 kB)\n     ━━━━━━━━━━━━━━━━━━━━━━━━━━━━━━━━━━━━━━ 616.0/616.0 kB 32.9 MB/s eta 0:00:00\nRequirement already satisfied: google-auth~=2.0 in /databricks/python3/lib/python3.10/site-packages (from databricks-sdk<1,>=0.20.0->mlflow-skinny==2.16.0->mlflow) (2.28.1)\nCollecting gitdb<5,>=4.0.1\n  Downloading gitdb-4.0.11-py3-none-any.whl (62 kB)\n     ━━━━━━━━━━━━━━━━━━━━━━━━━━━━━━━━━━━━━━━━ 62.7/62.7 kB 7.8 MB/s eta 0:00:00\nRequirement already satisfied: anyio in /databricks/python3/lib/python3.10/site-packages (from httpx<1,>=0.23.0->langsmith<0.2.0,>=0.1.17->langchain) (3.5.0)\nCollecting httpcore==1.*\n  Downloading httpcore-1.0.5-py3-none-any.whl (77 kB)\n     ━━━━━━━━━━━━━━━━━━━━━━━━━━━━━━━━━━━━━━━━ 77.9/77.9 kB 4.7 MB/s eta 0:00:00\nRequirement already satisfied: sniffio in /databricks/python3/lib/python3.10/site-packages (from httpx<1,>=0.23.0->langsmith<0.2.0,>=0.1.17->langchain) (1.2.0)\nCollecting h11<0.15,>=0.13\n  Downloading h11-0.14.0-py3-none-any.whl (58 kB)\n     ━━━━━━━━━━━━━━━━━━━━━━━━━━━━━━━━━━━━━━━━ 58.3/58.3 kB 6.7 MB/s eta 0:00:00\nCollecting jsonpointer>=1.9\n  Downloading jsonpointer-3.0.0-py2.py3-none-any.whl (7.6 kB)\nCollecting importlib-metadata!=4.7.0,<9,>=3.7.0\n  Downloading importlib_metadata-8.4.0-py3-none-any.whl (26 kB)\nCollecting deprecated>=1.2.6\n  Downloading Deprecated-1.2.14-py2.py3-none-any.whl (9.6 kB)\nRequirement already satisfied: zipp>=0.5 in /usr/lib/python3/dist-packages (from importlib-metadata!=4.7.0,<9,>=3.7.0->mlflow-skinny==2.16.0->mlflow) (1.0.0)\nCollecting opentelemetry-semantic-conventions==0.48b0\n  Downloading opentelemetry_semantic_conventions-0.48b0-py3-none-any.whl (149 kB)\n     ━━━━━━━━━━━━━━━━━━━━━━━━━━━━━━━━━━━━━━ 149.7/149.7 kB 31.4 MB/s eta 0:00:00\nRequirement already satisfied: six>=1.5 in /usr/lib/python3/dist-packages (from python-dateutil>=2.7->matplotlib<4->mlflow) (1.16.0)\nCollecting wrapt<2,>=1.10\n  Downloading wrapt-1.16.0-cp310-cp310-manylinux_2_5_x86_64.manylinux1_x86_64.manylinux_2_17_x86_64.manylinux2014_x86_64.whl (80 kB)\n     ━━━━━━━━━━━━━━━━━━━━━━━━━━━━━━━━━━━━━━━━ 80.3/80.3 kB 15.9 MB/s eta 0:00:00\nCollecting smmap<6,>=3.0.1\n  Downloading smmap-5.0.1-py3-none-any.whl (24 kB)\nRequirement already satisfied: pyasn1-modules>=0.2.1 in /databricks/python3/lib/python3.10/site-packages (from google-auth~=2.0->databricks-sdk<1,>=0.20.0->mlflow-skinny==2.16.0->mlflow) (0.3.0)\nRequirement already satisfied: rsa<5,>=3.1.4 in /databricks/python3/lib/python3.10/site-packages (from google-auth~=2.0->databricks-sdk<1,>=0.20.0->mlflow-skinny==2.16.0->mlflow) (4.9)\nRequirement already satisfied: pyasn1<0.6.0,>=0.4.6 in /databricks/python3/lib/python3.10/site-packages (from pyasn1-modules>=0.2.1->google-auth~=2.0->databricks-sdk<1,>=0.20.0->mlflow-skinny==2.16.0->mlflow) (0.5.1)\nInstalling collected packages: aniso8601, wrapt, Werkzeug, typing-extensions, sqlparse, smmap, PyYAML, orjson, multidict, markdown, Mako, jsonpointer, itsdangerous, importlib-metadata, h11, gunicorn, greenlet, graphql-core, frozenlist, faiss-cpu, cloudpickle, click, blinker, async-timeout, aiohappyeyeballs, yarl, SQLAlchemy, jsonpatch, httpcore, graphql-relay, gitdb, Flask, docker, deprecated, aiosignal, opentelemetry-api, httpx, graphene, gitpython, alembic, aiohttp, opentelemetry-semantic-conventions, langsmith, opentelemetry-sdk, langchain-core, mlflow-skinny, langchain-text-splitters, mlflow, langchain\n  Attempting uninstall: typing-extensions\n    Found existing installation: typing_extensions 4.4.0\n    Not uninstalling typing-extensions at /databricks/python3/lib/python3.10/site-packages, outside environment /local_disk0/.ephemeral_nfs/envs/pythonEnv-cb583340-e320-4b15-a470-9a4ce32f7f60\n    Can't uninstall 'typing_extensions'. No files were found to uninstall.\n  Attempting uninstall: importlib-metadata\n    Found existing installation: importlib-metadata 4.6.4\n    Not uninstalling importlib-metadata at /usr/lib/python3/dist-packages, outside environment /local_disk0/.ephemeral_nfs/envs/pythonEnv-cb583340-e320-4b15-a470-9a4ce32f7f60\n    Can't uninstall 'importlib-metadata'. No files were found to uninstall.\n  Attempting uninstall: click\n    Found existing installation: click 8.0.4\n    Not uninstalling click at /databricks/python3/lib/python3.10/site-packages, outside environment /local_disk0/.ephemeral_nfs/envs/pythonEnv-cb583340-e320-4b15-a470-9a4ce32f7f60\n    Can't uninstall 'click'. No files were found to uninstall.\n  Attempting uninstall: blinker\n    Found existing installation: blinker 1.4\n    Not uninstalling blinker at /usr/lib/python3/dist-packages, outside environment /local_disk0/.ephemeral_nfs/envs/pythonEnv-cb583340-e320-4b15-a470-9a4ce32f7f60\n    Can't uninstall 'blinker'. No files were found to uninstall.\nSuccessfully installed Flask-3.0.3 Mako-1.3.5 PyYAML-6.0.2 SQLAlchemy-2.0.32 Werkzeug-3.0.4 aiohappyeyeballs-2.4.0 aiohttp-3.10.5 aiosignal-1.3.1 alembic-1.13.2 aniso8601-9.0.1 async-timeout-4.0.3 blinker-1.8.2 click-8.1.7 cloudpickle-3.0.0 deprecated-1.2.14 docker-7.1.0 faiss-cpu-1.8.0.post1 frozenlist-1.4.1 gitdb-4.0.11 gitpython-3.1.43 graphene-3.3 graphql-core-3.2.3 graphql-relay-3.2.0 greenlet-3.0.3 gunicorn-23.0.0 h11-0.14.0 httpcore-1.0.5 httpx-0.27.2 importlib-metadata-8.4.0 itsdangerous-2.2.0 jsonpatch-1.33 jsonpointer-3.0.0 langchain-0.2.15 langchain-core-0.2.37 langchain-text-splitters-0.2.2 langsmith-0.1.108 markdown-3.7 mlflow-2.16.0 mlflow-skinny-2.16.0 multidict-6.0.5 opentelemetry-api-1.27.0 opentelemetry-sdk-1.27.0 opentelemetry-semantic-conventions-0.48b0 orjson-3.10.7 smmap-5.0.1 sqlparse-0.5.1 typing-extensions-4.12.2 wrapt-1.16.0 yarl-1.9.7\n\u001B[43mNote: you may need to restart the kernel using %restart_python or dbutils.library.restartPython() to use updated packages.\u001B[0m\n"
     ]
    }
   ],
   "source": [
    "%pip install --upgrade langchain faiss-cpu mlflow"
   ]
  },
  {
   "cell_type": "code",
   "execution_count": 0,
   "metadata": {
    "application/vnd.databricks.v1+cell": {
     "cellMetadata": {
      "byteLimit": 2048000,
      "rowLimit": 10000
     },
     "inputWidgets": {},
     "nuid": "8ee8bf17-be16-4179-9d2e-a31c032bb5fc",
     "showTitle": false,
     "title": ""
    }
   },
   "outputs": [
    {
     "output_type": "stream",
     "name": "stdout",
     "output_type": "stream",
     "text": [
      "Collecting langchain-openai\n  Downloading langchain_openai-0.1.23-py3-none-any.whl (51 kB)\n     ━━━━━━━━━━━━━━━━━━━━━━━━━━━━━━━━━━━━━━━━ 52.0/52.0 kB 2.3 MB/s eta 0:00:00\nCollecting langchain-community\n  Downloading langchain_community-0.2.15-py3-none-any.whl (2.3 MB)\n     ━━━━━━━━━━━━━━━━━━━━━━━━━━━━━━━━━━━━━━━━ 2.3/2.3 MB 12.0 MB/s eta 0:00:00\nCollecting tiktoken<1,>=0.7\n  Downloading tiktoken-0.7.0-cp310-cp310-manylinux_2_17_x86_64.manylinux2014_x86_64.whl (1.1 MB)\n     ━━━━━━━━━━━━━━━━━━━━━━━━━━━━━━━━━━━━━━━━ 1.1/1.1 MB 23.7 MB/s eta 0:00:00\nRequirement already satisfied: langchain-core<0.3.0,>=0.2.35 in /local_disk0/.ephemeral_nfs/envs/pythonEnv-cb583340-e320-4b15-a470-9a4ce32f7f60/lib/python3.10/site-packages (from langchain-openai) (0.2.37)\nCollecting openai<2.0.0,>=1.40.0\n  Downloading openai-1.43.0-py3-none-any.whl (365 kB)\n     ━━━━━━━━━━━━━━━━━━━━━━━━━━━━━━━━━━━━━━ 365.7/365.7 kB 23.4 MB/s eta 0:00:00\nRequirement already satisfied: aiohttp<4.0.0,>=3.8.3 in /local_disk0/.ephemeral_nfs/envs/pythonEnv-cb583340-e320-4b15-a470-9a4ce32f7f60/lib/python3.10/site-packages (from langchain-community) (3.10.5)\nRequirement already satisfied: langsmith<0.2.0,>=0.1.0 in /local_disk0/.ephemeral_nfs/envs/pythonEnv-cb583340-e320-4b15-a470-9a4ce32f7f60/lib/python3.10/site-packages (from langchain-community) (0.1.108)\nRequirement already satisfied: requests<3,>=2 in /databricks/python3/lib/python3.10/site-packages (from langchain-community) (2.28.1)\nRequirement already satisfied: langchain<0.3.0,>=0.2.15 in /local_disk0/.ephemeral_nfs/envs/pythonEnv-cb583340-e320-4b15-a470-9a4ce32f7f60/lib/python3.10/site-packages (from langchain-community) (0.2.15)\nRequirement already satisfied: PyYAML>=5.3 in /local_disk0/.ephemeral_nfs/envs/pythonEnv-cb583340-e320-4b15-a470-9a4ce32f7f60/lib/python3.10/site-packages (from langchain-community) (6.0.2)\nRequirement already satisfied: numpy<2,>=1 in /databricks/python3/lib/python3.10/site-packages (from langchain-community) (1.23.5)\nCollecting dataclasses-json<0.7,>=0.5.7\n  Downloading dataclasses_json-0.6.7-py3-none-any.whl (28 kB)\nRequirement already satisfied: tenacity!=8.4.0,<9.0.0,>=8.1.0 in /databricks/python3/lib/python3.10/site-packages (from langchain-community) (8.1.0)\nRequirement already satisfied: SQLAlchemy<3,>=1.4 in /local_disk0/.ephemeral_nfs/envs/pythonEnv-cb583340-e320-4b15-a470-9a4ce32f7f60/lib/python3.10/site-packages (from langchain-community) (2.0.32)\nRequirement already satisfied: frozenlist>=1.1.1 in /local_disk0/.ephemeral_nfs/envs/pythonEnv-cb583340-e320-4b15-a470-9a4ce32f7f60/lib/python3.10/site-packages (from aiohttp<4.0.0,>=3.8.3->langchain-community) (1.4.1)\nRequirement already satisfied: multidict<7.0,>=4.5 in /local_disk0/.ephemeral_nfs/envs/pythonEnv-cb583340-e320-4b15-a470-9a4ce32f7f60/lib/python3.10/site-packages (from aiohttp<4.0.0,>=3.8.3->langchain-community) (6.0.5)\nRequirement already satisfied: attrs>=17.3.0 in /databricks/python3/lib/python3.10/site-packages (from aiohttp<4.0.0,>=3.8.3->langchain-community) (22.1.0)\nRequirement already satisfied: aiosignal>=1.1.2 in /local_disk0/.ephemeral_nfs/envs/pythonEnv-cb583340-e320-4b15-a470-9a4ce32f7f60/lib/python3.10/site-packages (from aiohttp<4.0.0,>=3.8.3->langchain-community) (1.3.1)\nRequirement already satisfied: aiohappyeyeballs>=2.3.0 in /local_disk0/.ephemeral_nfs/envs/pythonEnv-cb583340-e320-4b15-a470-9a4ce32f7f60/lib/python3.10/site-packages (from aiohttp<4.0.0,>=3.8.3->langchain-community) (2.4.0)\nRequirement already satisfied: async-timeout<5.0,>=4.0 in /local_disk0/.ephemeral_nfs/envs/pythonEnv-cb583340-e320-4b15-a470-9a4ce32f7f60/lib/python3.10/site-packages (from aiohttp<4.0.0,>=3.8.3->langchain-community) (4.0.3)\nRequirement already satisfied: yarl<2.0,>=1.0 in /local_disk0/.ephemeral_nfs/envs/pythonEnv-cb583340-e320-4b15-a470-9a4ce32f7f60/lib/python3.10/site-packages (from aiohttp<4.0.0,>=3.8.3->langchain-community) (1.9.7)\nCollecting typing-inspect<1,>=0.4.0\n  Downloading typing_inspect-0.9.0-py3-none-any.whl (8.8 kB)\nCollecting marshmallow<4.0.0,>=3.18.0\n  Downloading marshmallow-3.22.0-py3-none-any.whl (49 kB)\n     ━━━━━━━━━━━━━━━━━━━━━━━━━━━━━━━━━━━━━━━━ 49.3/49.3 kB 6.4 MB/s eta 0:00:00\nRequirement already satisfied: langchain-text-splitters<0.3.0,>=0.2.0 in /local_disk0/.ephemeral_nfs/envs/pythonEnv-cb583340-e320-4b15-a470-9a4ce32f7f60/lib/python3.10/site-packages (from langchain<0.3.0,>=0.2.15->langchain-community) (0.2.2)\nRequirement already satisfied: pydantic<3,>=1 in /databricks/python3/lib/python3.10/site-packages (from langchain<0.3.0,>=0.2.15->langchain-community) (1.10.6)\nRequirement already satisfied: packaging<25,>=23.2 in /databricks/python3/lib/python3.10/site-packages (from langchain-core<0.3.0,>=0.2.35->langchain-openai) (23.2)\nRequirement already satisfied: typing-extensions>=4.7 in /local_disk0/.ephemeral_nfs/envs/pythonEnv-cb583340-e320-4b15-a470-9a4ce32f7f60/lib/python3.10/site-packages (from langchain-core<0.3.0,>=0.2.35->langchain-openai) (4.12.2)\nRequirement already satisfied: jsonpatch<2.0,>=1.33 in /local_disk0/.ephemeral_nfs/envs/pythonEnv-cb583340-e320-4b15-a470-9a4ce32f7f60/lib/python3.10/site-packages (from langchain-core<0.3.0,>=0.2.35->langchain-openai) (1.33)\nRequirement already satisfied: orjson<4.0.0,>=3.9.14 in /local_disk0/.ephemeral_nfs/envs/pythonEnv-cb583340-e320-4b15-a470-9a4ce32f7f60/lib/python3.10/site-packages (from langsmith<0.2.0,>=0.1.0->langchain-community) (3.10.7)\nRequirement already satisfied: httpx<1,>=0.23.0 in /local_disk0/.ephemeral_nfs/envs/pythonEnv-cb583340-e320-4b15-a470-9a4ce32f7f60/lib/python3.10/site-packages (from langsmith<0.2.0,>=0.1.0->langchain-community) (0.27.2)\nCollecting tqdm>4\n  Downloading tqdm-4.66.5-py3-none-any.whl (78 kB)\n     ━━━━━━━━━━━━━━━━━━━━━━━━━━━━━━━━━━━━━━━━ 78.4/78.4 kB 16.7 MB/s eta 0:00:00\nCollecting jiter<1,>=0.4.0\n  Downloading jiter-0.5.0-cp310-cp310-manylinux_2_17_x86_64.manylinux2014_x86_64.whl (318 kB)\n     ━━━━━━━━━━━━━━━━━━━━━━━━━━━━━━━━━━━━━━ 318.9/318.9 kB 19.4 MB/s eta 0:00:00\nRequirement already satisfied: sniffio in /databricks/python3/lib/python3.10/site-packages (from openai<2.0.0,>=1.40.0->langchain-openai) (1.2.0)\nRequirement already satisfied: anyio<5,>=3.5.0 in /databricks/python3/lib/python3.10/site-packages (from openai<2.0.0,>=1.40.0->langchain-openai) (3.5.0)\nRequirement already satisfied: distro<2,>=1.7.0 in /usr/lib/python3/dist-packages (from openai<2.0.0,>=1.40.0->langchain-openai) (1.7.0)\nRequirement already satisfied: certifi>=2017.4.17 in /databricks/python3/lib/python3.10/site-packages (from requests<3,>=2->langchain-community) (2022.12.7)\nRequirement already satisfied: idna<4,>=2.5 in /databricks/python3/lib/python3.10/site-packages (from requests<3,>=2->langchain-community) (3.4)\nRequirement already satisfied: charset-normalizer<3,>=2 in /databricks/python3/lib/python3.10/site-packages (from requests<3,>=2->langchain-community) (2.0.4)\nRequirement already satisfied: urllib3<1.27,>=1.21.1 in /databricks/python3/lib/python3.10/site-packages (from requests<3,>=2->langchain-community) (1.26.14)\nRequirement already satisfied: greenlet!=0.4.17 in /local_disk0/.ephemeral_nfs/envs/pythonEnv-cb583340-e320-4b15-a470-9a4ce32f7f60/lib/python3.10/site-packages (from SQLAlchemy<3,>=1.4->langchain-community) (3.0.3)\nCollecting regex>=2022.1.18\n  Downloading regex-2024.7.24-cp310-cp310-manylinux_2_17_x86_64.manylinux2014_x86_64.whl (776 kB)\n     ━━━━━━━━━━━━━━━━━━━━━━━━━━━━━━━━━━━━━━ 776.5/776.5 kB 18.8 MB/s eta 0:00:00\nRequirement already satisfied: httpcore==1.* in /local_disk0/.ephemeral_nfs/envs/pythonEnv-cb583340-e320-4b15-a470-9a4ce32f7f60/lib/python3.10/site-packages (from httpx<1,>=0.23.0->langsmith<0.2.0,>=0.1.0->langchain-community) (1.0.5)\nRequirement already satisfied: h11<0.15,>=0.13 in /local_disk0/.ephemeral_nfs/envs/pythonEnv-cb583340-e320-4b15-a470-9a4ce32f7f60/lib/python3.10/site-packages (from httpcore==1.*->httpx<1,>=0.23.0->langsmith<0.2.0,>=0.1.0->langchain-community) (0.14.0)\nRequirement already satisfied: jsonpointer>=1.9 in /local_disk0/.ephemeral_nfs/envs/pythonEnv-cb583340-e320-4b15-a470-9a4ce32f7f60/lib/python3.10/site-packages (from jsonpatch<2.0,>=1.33->langchain-core<0.3.0,>=0.2.35->langchain-openai) (3.0.0)\nRequirement already satisfied: mypy-extensions>=0.3.0 in /databricks/python3/lib/python3.10/site-packages (from typing-inspect<1,>=0.4.0->dataclasses-json<0.7,>=0.5.7->langchain-community) (0.4.3)\nInstalling collected packages: typing-inspect, tqdm, regex, marshmallow, jiter, tiktoken, dataclasses-json, openai, langchain-openai, langchain-community\nSuccessfully installed dataclasses-json-0.6.7 jiter-0.5.0 langchain-community-0.2.15 langchain-openai-0.1.23 marshmallow-3.22.0 openai-1.43.0 regex-2024.7.24 tiktoken-0.7.0 tqdm-4.66.5 typing-inspect-0.9.0\n\u001B[43mNote: you may need to restart the kernel using %restart_python or dbutils.library.restartPython() to use updated packages.\u001B[0m\n"
     ]
    }
   ],
   "source": [
    "%pip install -U langchain-openai langchain-community"
   ]
  },
  {
   "cell_type": "code",
   "execution_count": 0,
   "metadata": {
    "application/vnd.databricks.v1+cell": {
     "cellMetadata": {
      "byteLimit": 2048000,
      "rowLimit": 10000
     },
     "inputWidgets": {},
     "nuid": "34f20186-7b40-4d02-9edb-51a7f42bbd66",
     "showTitle": false,
     "title": ""
    }
   },
   "outputs": [
    {
     "output_type": "stream",
     "name": "stdout",
     "output_type": "stream",
     "text": [
      "Requirement already satisfied: langchain-openai in /local_disk0/.ephemeral_nfs/envs/pythonEnv-cb583340-e320-4b15-a470-9a4ce32f7f60/lib/python3.10/site-packages (0.1.23)\nRequirement already satisfied: tiktoken<1,>=0.7 in /local_disk0/.ephemeral_nfs/envs/pythonEnv-cb583340-e320-4b15-a470-9a4ce32f7f60/lib/python3.10/site-packages (from langchain-openai) (0.7.0)\nRequirement already satisfied: langchain-core<0.3.0,>=0.2.35 in /local_disk0/.ephemeral_nfs/envs/pythonEnv-cb583340-e320-4b15-a470-9a4ce32f7f60/lib/python3.10/site-packages (from langchain-openai) (0.2.37)\nRequirement already satisfied: openai<2.0.0,>=1.40.0 in /local_disk0/.ephemeral_nfs/envs/pythonEnv-cb583340-e320-4b15-a470-9a4ce32f7f60/lib/python3.10/site-packages (from langchain-openai) (1.43.0)\nRequirement already satisfied: pydantic<3,>=1 in /databricks/python3/lib/python3.10/site-packages (from langchain-core<0.3.0,>=0.2.35->langchain-openai) (1.10.6)\nRequirement already satisfied: typing-extensions>=4.7 in /local_disk0/.ephemeral_nfs/envs/pythonEnv-cb583340-e320-4b15-a470-9a4ce32f7f60/lib/python3.10/site-packages (from langchain-core<0.3.0,>=0.2.35->langchain-openai) (4.12.2)\nRequirement already satisfied: packaging<25,>=23.2 in /databricks/python3/lib/python3.10/site-packages (from langchain-core<0.3.0,>=0.2.35->langchain-openai) (23.2)\nRequirement already satisfied: tenacity!=8.4.0,<9.0.0,>=8.1.0 in /databricks/python3/lib/python3.10/site-packages (from langchain-core<0.3.0,>=0.2.35->langchain-openai) (8.1.0)\nRequirement already satisfied: PyYAML>=5.3 in /local_disk0/.ephemeral_nfs/envs/pythonEnv-cb583340-e320-4b15-a470-9a4ce32f7f60/lib/python3.10/site-packages (from langchain-core<0.3.0,>=0.2.35->langchain-openai) (6.0.2)\nRequirement already satisfied: jsonpatch<2.0,>=1.33 in /local_disk0/.ephemeral_nfs/envs/pythonEnv-cb583340-e320-4b15-a470-9a4ce32f7f60/lib/python3.10/site-packages (from langchain-core<0.3.0,>=0.2.35->langchain-openai) (1.33)\nRequirement already satisfied: langsmith<0.2.0,>=0.1.75 in /local_disk0/.ephemeral_nfs/envs/pythonEnv-cb583340-e320-4b15-a470-9a4ce32f7f60/lib/python3.10/site-packages (from langchain-core<0.3.0,>=0.2.35->langchain-openai) (0.1.108)\nRequirement already satisfied: distro<2,>=1.7.0 in /usr/lib/python3/dist-packages (from openai<2.0.0,>=1.40.0->langchain-openai) (1.7.0)\nRequirement already satisfied: sniffio in /databricks/python3/lib/python3.10/site-packages (from openai<2.0.0,>=1.40.0->langchain-openai) (1.2.0)\nRequirement already satisfied: tqdm>4 in /local_disk0/.ephemeral_nfs/envs/pythonEnv-cb583340-e320-4b15-a470-9a4ce32f7f60/lib/python3.10/site-packages (from openai<2.0.0,>=1.40.0->langchain-openai) (4.66.5)\nRequirement already satisfied: anyio<5,>=3.5.0 in /databricks/python3/lib/python3.10/site-packages (from openai<2.0.0,>=1.40.0->langchain-openai) (3.5.0)\nRequirement already satisfied: httpx<1,>=0.23.0 in /local_disk0/.ephemeral_nfs/envs/pythonEnv-cb583340-e320-4b15-a470-9a4ce32f7f60/lib/python3.10/site-packages (from openai<2.0.0,>=1.40.0->langchain-openai) (0.27.2)\nRequirement already satisfied: jiter<1,>=0.4.0 in /local_disk0/.ephemeral_nfs/envs/pythonEnv-cb583340-e320-4b15-a470-9a4ce32f7f60/lib/python3.10/site-packages (from openai<2.0.0,>=1.40.0->langchain-openai) (0.5.0)\nRequirement already satisfied: regex>=2022.1.18 in /local_disk0/.ephemeral_nfs/envs/pythonEnv-cb583340-e320-4b15-a470-9a4ce32f7f60/lib/python3.10/site-packages (from tiktoken<1,>=0.7->langchain-openai) (2024.7.24)\nRequirement already satisfied: requests>=2.26.0 in /databricks/python3/lib/python3.10/site-packages (from tiktoken<1,>=0.7->langchain-openai) (2.28.1)\nRequirement already satisfied: idna>=2.8 in /databricks/python3/lib/python3.10/site-packages (from anyio<5,>=3.5.0->openai<2.0.0,>=1.40.0->langchain-openai) (3.4)\nRequirement already satisfied: httpcore==1.* in /local_disk0/.ephemeral_nfs/envs/pythonEnv-cb583340-e320-4b15-a470-9a4ce32f7f60/lib/python3.10/site-packages (from httpx<1,>=0.23.0->openai<2.0.0,>=1.40.0->langchain-openai) (1.0.5)\nRequirement already satisfied: certifi in /databricks/python3/lib/python3.10/site-packages (from httpx<1,>=0.23.0->openai<2.0.0,>=1.40.0->langchain-openai) (2022.12.7)\nRequirement already satisfied: h11<0.15,>=0.13 in /local_disk0/.ephemeral_nfs/envs/pythonEnv-cb583340-e320-4b15-a470-9a4ce32f7f60/lib/python3.10/site-packages (from httpcore==1.*->httpx<1,>=0.23.0->openai<2.0.0,>=1.40.0->langchain-openai) (0.14.0)\nRequirement already satisfied: jsonpointer>=1.9 in /local_disk0/.ephemeral_nfs/envs/pythonEnv-cb583340-e320-4b15-a470-9a4ce32f7f60/lib/python3.10/site-packages (from jsonpatch<2.0,>=1.33->langchain-core<0.3.0,>=0.2.35->langchain-openai) (3.0.0)\nRequirement already satisfied: orjson<4.0.0,>=3.9.14 in /local_disk0/.ephemeral_nfs/envs/pythonEnv-cb583340-e320-4b15-a470-9a4ce32f7f60/lib/python3.10/site-packages (from langsmith<0.2.0,>=0.1.75->langchain-core<0.3.0,>=0.2.35->langchain-openai) (3.10.7)\nRequirement already satisfied: urllib3<1.27,>=1.21.1 in /databricks/python3/lib/python3.10/site-packages (from requests>=2.26.0->tiktoken<1,>=0.7->langchain-openai) (1.26.14)\nRequirement already satisfied: charset-normalizer<3,>=2 in /databricks/python3/lib/python3.10/site-packages (from requests>=2.26.0->tiktoken<1,>=0.7->langchain-openai) (2.0.4)\n\u001B[43mNote: you may need to restart the kernel using %restart_python or dbutils.library.restartPython() to use updated packages.\u001B[0m\n"
     ]
    }
   ],
   "source": [
    "%pip install -U langchain-openai"
   ]
  },
  {
   "cell_type": "code",
   "execution_count": 0,
   "metadata": {
    "application/vnd.databricks.v1+cell": {
     "cellMetadata": {
      "byteLimit": 2048000,
      "rowLimit": 10000
     },
     "inputWidgets": {},
     "nuid": "a3f12ae6-6741-4807-9aaa-6c8cabcfb6d7",
     "showTitle": false,
     "title": ""
    }
   },
   "outputs": [
    {
     "output_type": "stream",
     "name": "stdout",
     "output_type": "stream",
     "text": [
      "Requirement already satisfied: faiss-cpu in /local_disk0/.ephemeral_nfs/envs/pythonEnv-cb583340-e320-4b15-a470-9a4ce32f7f60/lib/python3.10/site-packages (1.8.0.post1)\nRequirement already satisfied: numpy<2.0,>=1.0 in /databricks/python3/lib/python3.10/site-packages (from faiss-cpu) (1.23.5)\nRequirement already satisfied: packaging in /databricks/python3/lib/python3.10/site-packages (from faiss-cpu) (23.2)\n\u001B[43mNote: you may need to restart the kernel using %restart_python or dbutils.library.restartPython() to use updated packages.\u001B[0m\n"
     ]
    }
   ],
   "source": [
    "%pip install faiss-cpu"
   ]
  },
  {
   "cell_type": "code",
   "execution_count": 0,
   "metadata": {
    "application/vnd.databricks.v1+cell": {
     "cellMetadata": {
      "byteLimit": 2048000,
      "rowLimit": 10000
     },
     "inputWidgets": {},
     "nuid": "a746024e-1710-42ef-a271-5be09e9441a2",
     "showTitle": false,
     "title": ""
    }
   },
   "outputs": [],
   "source": [
    "dbutils.library.restartPython()"
   ]
  },
  {
   "cell_type": "code",
   "execution_count": 0,
   "metadata": {
    "application/vnd.databricks.v1+cell": {
     "cellMetadata": {
      "byteLimit": 2048000,
      "rowLimit": 10000
     },
     "inputWidgets": {},
     "nuid": "2d44dcf0-db2a-45ae-8fe0-c83cf0a86001",
     "showTitle": false,
     "title": ""
    }
   },
   "outputs": [],
   "source": [
    "\n",
    "import sys\n",
    "# sys.path.append('/usr/lib/python3.9/site-packages')\n",
    "\n",
    "\n",
    "from langchain_core.runnables import RunnableParallel, RunnablePassthrough\n",
    "from langchain.prompts import ChatPromptTemplate\n",
    "from langchain.vectorstores import FAISS\n",
    "from langchain_core.output_parsers import StrOutputParser\n",
    "from langchain_community.embeddings import OpenAIEmbeddings\n",
    "from langchain_openai import ChatOpenAI\n",
    "from langchain_community.vectorstores import FAISS\n",
    "\n",
    "from langchain_core.runnables import RunnableLambda\n",
    "from langchain.retrievers.multi_query import MultiQueryRetriever\n",
    "\n",
    "\n",
    "import os\n",
    "os.environ[\"OPENAI_API_KEY\"]=\"이곳에 api key를 넣어주세요\"\n",
    "\n",
    "\n",
    "## meta chain, reveiw chain \n",
    "\n",
    "class Retriever:\n",
    "    def __init__(self, retriever_type):\n",
    "        self.retriever_type = retriever_type\n",
    "\n",
    "        # Initialize common attributes first\n",
    "        self.embed_model = OpenAIEmbeddings()  # Embedding model initialization\n",
    "        self.llm_model = ChatOpenAI(model_name=\"gpt-4o-mini\")  # LLM model initialization\n",
    "        \n",
    "        \n",
    "        # Set vector store path based on the retriever type\n",
    "        if retriever_type == \"review\":\n",
    "            self.vector_store_path=os.path.abspath(\"/home/ec2-user/workspace/workspace/vectorDB/review2\")\n",
    "            # Initialize the database (FAISS) before using it in retrievers\n",
    "            self.db = FAISS.load_local(self.vector_store_path, self.embed_model, allow_dangerous_deserialization=True)\n",
    "\n",
    "            self.retriever = MultiQueryRetriever.from_llm(\n",
    "                retriever=self.db.as_retriever(search_type=\"mmr\"),\n",
    "                llm=self.llm_model\n",
    "           )\n",
    "            self.prompt_template=\"\"\"\"\n",
    "            You are an expert in 'review information' \\\n",
    "            You will recommend places to the user based on their questions. When recommending places, it will do so based on Google Maps review data.\"\n",
    "            This review data contains information about various places.\n",
    "            Explaining columns in the data, \n",
    "\n",
    "            gmap_id: Unique map ID for your store.\n",
    "            rating: the rating of a place on a scale of 1 to 5.\n",
    "            review : reviews for the place. The review content includes information related to 'service(great customer service, great service, good service, friendly staff)', 'food taste(great food, good food, delicious food)', 'experience(great experience, great place, nice place, good place, here again next time, back again next time, back here next time)', 'tips for the place', 'time(Date the review was uploaded)', 'waiting time', 'great place to go with someone(friend, family)'\n",
    "\n",
    "            response_of_store_owner : place owner's response to user reviews.\n",
    "            time : Date the review was uploaded (review date, year).\n",
    "    \n",
    "            \\\n",
    "\n",
    "            Always answer questions starting with \"Accroding to review information...\"\n",
    "            For 'review summary', please summarize the review contents mainly in relation to the questions\\\n",
    "            Respond to the following question:{context}\n",
    "\n",
    "            Question: {question}\n",
    "            Answer:\n",
    "            \\nrecommended place: ** name **\n",
    "            \\n\n",
    "            \\n- review summary:\n",
    "            \\n- [gmap_id]\n",
    "            \n",
    "            \"\"\"\n",
    "\n",
    "\n",
    "        elif retriever_type == \"meta\":\n",
    "            self.vector_store_path=os.path.abspath(\"/home/ec2-user/workspace/workspace/vectorDB/meta2\")\n",
    "            # Initialize the database (FAISS) before using it in retrievers\n",
    "            self.db = FAISS.load_local(self.vector_store_path, self.embed_model, allow_dangerous_deserialization=True)\n",
    "            self.retriever = MultiQueryRetriever.from_llm(\n",
    "                retriever=self.db.as_retriever(),\n",
    "                llm=self.llm_model\n",
    "            )\n",
    "             # self.retriever = self.db.as_retriever(search_type=\"mmr\", search_kwargs={\"k\": 2})\n",
    "            self.prompt_template=\"\"\"\"\n",
    "            You are an expert in 'meta information'. \\\n",
    "            You will recommend places to the user based on their questions. When recommending places, it will do so based on Google Maps metadata.\"\n",
    "            This meta data contains information about various places.\n",
    "            Explaining columns in the data, \n",
    "\n",
    "            name : place name \n",
    "            category_filtered: The category of the place such as restaurants, retail shops, park, beach, etc. \n",
    "            MISC_filtered: Various other information about the store such as Accessibility, Activities, Amenities, Atmosphere, Crowd, Dining_options, From_the_business, Getting_here,Health_and_safety,Highlights,Lodging_options,Offerings,Payments,Planning,Popular_for ,Recycling ,Service_options\n",
    "            address: Address of the place \n",
    "            avg_rating: the average rating of a place on a scale of 1 to 5.\n",
    "            description: A brief description of the place\n",
    "            gmap_id: Unique map ID for your store\n",
    "            hours_filtered: place operating hours, business hours (The operating days and times) \n",
    "            latitude: Latitude of place location\n",
    "            longitude: longitude of place location\n",
    "            num_of_reviews: Number of google map reviews for the place\n",
    "            price: Prices for items sold in a store. \n",
    "            state: Current operating status\n",
    "            url: url link to the place\n",
    "            relative_results: gmap_ids of places similar to the given place\n",
    "    \n",
    "            \\\n",
    "\n",
    "            Always answer questions starting with \"Accroding to meta information...\".\\\n",
    "            Respond to the following question:{context}\n",
    "\n",
    "            Question: {question}\n",
    "            Answer:\n",
    "            \\nrecommended place: ** name **\n",
    "            \\n\n",
    "            \\n- Address: \n",
    "            \\n- avg_rating:\n",
    "            \\n- Number of Reviews:\n",
    "            \\n- hours:\n",
    "            \\n- category:\n",
    "            \\n- [Google Maps Link]\n",
    "            \\n- [gmap_id]\n",
    "\n",
    "            \\n\\nPlease provide only one recommendation by returning the 1 most relevant result.\n",
    "            \"\"\"\n",
    "\n",
    "        else:\n",
    "            raise ValueError(\"Invalid retriever type. Choose 'review' or 'meta'.\")\n",
    "\n",
    "\n",
    "        # Set up the prompt template\n",
    "        self.prompt_template = ChatPromptTemplate.from_template(self.prompt_template)\n",
    "\n",
    "    def format_docs(self, docs):\n",
    "        return '\\n\\n'.join([d.page_content for d in docs])\n",
    "\n",
    "    # 번역을 위한 LLM 호출 함수\n",
    "    def translate_with_llm(self, text, target_language):\n",
    "        # 번역을 위해 OpenAI 모델을 사용하여 LLM을 호출하는 프롬프트 설정\n",
    "        translation_prompt = f\"Translate the following text to {target_language}:\\n\\n{text}\"\n",
    "        translated_text = self.llm_model.invoke(translation_prompt)\n",
    "        return translated_text\n",
    "\n",
    "    # 한국어 -> 영어 번역\n",
    "    def translate_to_english(self, text):\n",
    "        return self.translate_with_llm(text, \"English\")\n",
    "\n",
    "    # 영어 -> 한국어 번역\n",
    "    def translate_to_korean(self, text):\n",
    "        return self.translate_with_llm(text, \"Korean\")\n",
    "\n",
    "    def get_chain(self):\n",
    "        chain = (\n",
    "            {'context': lambda x: self.format_docs(self.retriever.invoke(self.translate_to_english(x[\"question\"]))),\n",
    "             'question': lambda x: x[\"question\"]}\n",
    "            | self.prompt_template\n",
    "            | self.llm_model\n",
    "        )\n",
    "        return chain\n",
    "    \n",
    "\n",
    "    def search(self, query):\n",
    "        chain = self.get_chain()\n",
    "        res = chain.invoke({\"question\": query})\n",
    "        return res.content\n",
    "\n",
    "\n",
    "\n",
    "# Meta 정보와 리뷰 정보를 처리하는 체인을 리턴하는 클래스\n",
    "class KoreanChainClassifier:\n",
    "    def __init__(self):\n",
    "        # 모델 이름을 전달하여 초기화\n",
    "        self.llm_model = ChatOpenAI(model_name=\"gpt-4o-mini\")\n",
    "        self.meta_retriever = Retriever(\"meta\")\n",
    "        self.review_retriever = Retriever(\"review\")\n",
    "\n",
    "    # 분류 체인 정의\n",
    "    def get_classify_chain(self):\n",
    "        # 템플릿 정의\n",
    "        prompt = ChatPromptTemplate.from_template(\n",
    "            \"\"\"Classify the given user question as either `meta information`, `review information`. Please do not respond with more than one word.\n",
    "            For reference, \n",
    "            'meta information' includes 'place name', 'place category', 'place rating', 'place address', 'place operating hours', 'price', 'place status', 'place MISC information(Accessibility, Activities, Amenities,Payments)', etc.  \n",
    "\n",
    "            ‘review information’ includes 'service(great customer service, great service, good service, friendly staff)', 'food taste(great food, good food, delicious food)', 'experience(great experience, great place, nice place, good place, here again next time, back again next time, back here next time)', 'tips for the place', 'time(Date the review was uploaded)', 'cleanliness', 'waiting time', 'great place to go with someone(friend, family)' etc. \n",
    "            <question>\n",
    "            {question}\n",
    "            </question>\n",
    "\n",
    "            Classification:\"\"\"\n",
    "        )\n",
    "\n",
    "        # 체인 생성\n",
    "        cl_chain = (\n",
    "            prompt\n",
    "            | self.llm_model\n",
    "            | StrOutputParser()\n",
    "        )\n",
    "\n",
    "        return cl_chain\n",
    "\n",
    "    # 정보 분류에 따라 체인 라우팅\n",
    "    def route(self, info):\n",
    "        # 메타 정보가 포함된 경우 메타 체인 반환\n",
    "        if \"meta information\" in info[\"topic\"].lower():\n",
    "            return self.meta_retriever.get_chain()\n",
    "        # 리뷰 정보가 포함된 경우 리뷰 체인 반환\n",
    "        elif \"review information\" in info[\"topic\"].lower():\n",
    "            return self.review_retriever.get_chain()\n",
    "        # 그 외의 경우 메타 체인 반환\n",
    "        else:\n",
    "            return self.meta_retriever.get_chain()\n",
    "\n",
    "    # 번역을 위한 LLM 호출 함수\n",
    "    def translate_with_llm(self, text, target_language):\n",
    "        # 번역을 위해 OpenAI 모델을 사용하여 LLM을 호출하는 프롬프트 설정\n",
    "        translation_prompt = f\"Translate the following text to {target_language}:\\n\\n{text}\"\n",
    "        translated_text = self.llm_model.invoke(translation_prompt)\n",
    "        return translated_text\n",
    "\n",
    "    # 한국어 -> 영어 번역\n",
    "    def translate_to_english(self, text):\n",
    "        return self.translate_with_llm(text, \"English\")\n",
    "\n",
    "    # 영어 -> 한국어 번역\n",
    "    def translate_to_korean(self, text):\n",
    "        return self.translate_with_llm(text, \"Korean\")\n",
    "\n",
    "\n",
    "    # 전체 체인 정의\n",
    "    def get_full_chain(self):\n",
    "        full_chain = (\n",
    "            {\"topic\": self.get_classify_chain(), \"question\": lambda x: x[\"question\"]}\n",
    "            | RunnableLambda( \n",
    "                # 라우팅 함수를 전달\n",
    "                self.route\n",
    "            )\n",
    "            | StrOutputParser()\n",
    "        )\n",
    "\n",
    "        return full_chain\n",
    "\n",
    "    # 전체 체인을 실행하고 결과 반환\n",
    "    def search(self, query):\n",
    "        full_chain = self.get_full_chain()\n",
    "        result = full_chain.invoke({\"question\": query})\n",
    "\n",
    "        # 최종 결과를 한국어로 번역\n",
    "        translated_result = self.translate_to_korean(result).content\n",
    "\n",
    "        return translated_result\n"
   ]
  },
  {
   "cell_type": "code",
   "execution_count": 0,
   "metadata": {
    "application/vnd.databricks.v1+cell": {
     "cellMetadata": {
      "byteLimit": 2048000,
      "rowLimit": 10000
     },
     "inputWidgets": {},
     "nuid": "e94e9308-e3ca-4aaa-98a5-e6096fe82319",
     "showTitle": false,
     "title": ""
    }
   },
   "outputs": [],
   "source": [
    "full_chain = KoreanChainClassifier()"
   ]
  },
  {
   "cell_type": "code",
   "execution_count": 0,
   "metadata": {
    "application/vnd.databricks.v1+cell": {
     "cellMetadata": {
      "byteLimit": 2048000,
      "rowLimit": 10000
     },
     "inputWidgets": {},
     "nuid": "d8ce4318-cba9-4e60-b6a9-98974e57acdc",
     "showTitle": false,
     "title": ""
    }
   },
   "outputs": [
    {
     "output_type": "stream",
     "name": "stdout",
     "output_type": "stream",
     "text": [
      "메타 정보를 바탕으로, 평점이 4.0 이상인 추천 랍스터 레스토랑은 다음과 같습니다:\n\n**추천 장소: 레드 롭스터**\n\n- 주소: 1525 트래비스 블러바드, 페어필드, CA 94533\n- 평균 평점: 4.2\n- 리뷰 수: 1265\n- 운영 시간: 월요일, 오전 11:30 - 오후 8:30 / 화요일, 오전 11:30 - 오후 8:30 / 수요일, 오전 11:30 - 오후 8:30 / 목요일, 오전 11:30 - 오후 8:30 / 금요일, 오전 11:30 - 오후 9:30 / 토요일, 오전 11:30 - 오후 9:30 / 일요일, 오전 11:30 - 오후 8:30\n- 카테고리: 해산물 레스토랑, 미국식 레스토랑, 앵글러 피쉬 레스토랑, 바, 게 하우스, 이벤트 장소, 가족 레스토랑\n- [구글 지도 링크](https://www.google.com/maps/place//data=!4m2!3m1!1s0x80851423d137e51b:0xd7a2d93bdc327e75?authuser=-1&hl=en&gl=us)\n- [gmap_id] 0x80851423d137e51b:0xd7a2d93bdc327e75\n"
     ]
    }
   ],
   "source": [
    "print(full_chain.search(\"평점이 4.0 이상인 랍스터 레스토랑 추천해줘\"))"
   ]
  },
  {
   "cell_type": "code",
   "execution_count": 0,
   "metadata": {
    "application/vnd.databricks.v1+cell": {
     "cellMetadata": {
      "byteLimit": 2048000,
      "rowLimit": 10000
     },
     "inputWidgets": {},
     "nuid": "89e340b7-58ff-4ce9-90b7-036877bd5b62",
     "showTitle": false,
     "title": ""
    }
   },
   "outputs": [
    {
     "output_type": "stream",
     "name": "stdout",
     "output_type": "stream",
     "text": [
      "다음 정보를 바탕으로 가족과 함께 즐거운 나들이를 위한 장소를 추천합니다:\n\n**추천 장소: 베니 H. 포터 웨스트 아담스 애비뉴 기념 공원**\n\n- 리뷰 요약: 이 공원은 가족 활동을 위한 넓은 공간과 좋은 개방감을 제공합니다. 다양한 연령대의 어린이에게 적합한 대형 놀이터, 피크닉 테이블, 농구장이 있습니다. 또한, 피트니스 공간과 반려동물용 개방 공간이 있어 가족 모임이나 외출에 적합한 다목적 장소입니다. 그러나 화장실과 같은 일부 편의시설은 더 자주 청소될 필요가 있습니다.\n\n- [gmap_id: 0x80c2b8696ab728a7:0x2b4227d1397a4c4a]\n"
     ]
    }
   ],
   "source": [
    "print(full_chain.search(\"가족과 함께 가기 좋은 공원 추천해줘\"))"
   ]
  }
 ],
 "metadata": {
  "application/vnd.databricks.v1+notebook": {
   "dashboards": [],
   "environmentMetadata": {
    "base_environment": "",
    "client": "1"
   },
   "language": "python",
   "notebookMetadata": {
    "pythonIndentUnit": 4
   },
   "notebookName": "(최종) 랭체인_분기,한영_함수화_ipynb",
   "widgets": {}
  }
 },
 "nbformat": 4,
 "nbformat_minor": 0
}
