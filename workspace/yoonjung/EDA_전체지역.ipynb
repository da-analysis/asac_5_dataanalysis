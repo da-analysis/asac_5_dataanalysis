{
 "cells": [
  {
   "cell_type": "markdown",
   "metadata": {
    "application/vnd.databricks.v1+cell": {
     "cellMetadata": {},
     "inputWidgets": {},
     "nuid": "89c82217-8945-446f-9082-9c75e6922349",
     "showTitle": false,
     "title": ""
    }
   },
   "source": [
    "### 전처리 전 전체 지역 EDA"
   ]
  },
  {
   "cell_type": "markdown",
   "metadata": {
    "application/vnd.databricks.v1+cell": {
     "cellMetadata": {},
     "inputWidgets": {},
     "nuid": "96ad0b99-d735-4925-a1b3-efc9a442ede9",
     "showTitle": false,
     "title": ""
    }
   },
   "source": [
    "지역별 리뷰 데이터 수 "
   ]
  },
  {
   "cell_type": "code",
   "execution_count": 0,
   "metadata": {
    "application/vnd.databricks.v1+cell": {
     "cellMetadata": {
      "byteLimit": 2048000,
      "implicitDf": true,
      "rowLimit": 10000
     },
     "inputWidgets": {},
     "nuid": "9a24326a-7136-4573-926b-472eb75860a6",
     "showTitle": false,
     "title": ""
    }
   },
   "outputs": [
    {
     "output_type": "display_data",
     "data": {
      "text/html": [
       "<style scoped>\n",
       "  .table-result-container {\n",
       "    max-height: 300px;\n",
       "    overflow: auto;\n",
       "  }\n",
       "  table, th, td {\n",
       "    border: 1px solid black;\n",
       "    border-collapse: collapse;\n",
       "  }\n",
       "  th, td {\n",
       "    padding: 5px;\n",
       "  }\n",
       "  th {\n",
       "    text-align: left;\n",
       "  }\n",
       "</style><div class='table-result-container'><table class='table-result'><thead style='background-color: white'><tr><th>region</th><th>count(*)</th></tr></thead><tbody><tr><td>Texas</td><td>66435184</td></tr><tr><td>Florida</td><td>61803524</td></tr><tr><td>California</td><td>70529977</td></tr><tr><td>New_York</td><td>33459761</td></tr><tr><td>Georgia</td><td>24060125</td></tr><tr><td>North_Carolina</td><td>22299136</td></tr><tr><td>Illinois</td><td>23096838</td></tr><tr><td>Ohio</td><td>23039365</td></tr><tr><td>Pennsylvania</td><td>21944802</td></tr><tr><td>Michigan</td><td>20776155</td></tr><tr><td>Arizona</td><td>18375050</td></tr><tr><td>Colorado</td><td>15681222</td></tr><tr><td>Washington</td><td>16541734</td></tr><tr><td>Virginia</td><td>15957938</td></tr><tr><td>New_Jersey</td><td>15720266</td></tr><tr><td>Tennessee</td><td>15951213</td></tr><tr><td>Missouri</td><td>13416511</td></tr><tr><td>Oregon</td><td>11012170</td></tr><tr><td>South_Carolina</td><td>11995482</td></tr><tr><td>Indiana</td><td>12865167</td></tr><tr><td>Maryland</td><td>10728483</td></tr><tr><td>Utah</td><td>9081167</td></tr><tr><td>Massachusetts</td><td>10447007</td></tr><tr><td>Wisconsin</td><td>10246685</td></tr><tr><td>Minnesota</td><td>9520258</td></tr><tr><td>Nevada</td><td>8833403</td></tr><tr><td>South_Dakota</td><td>1452599</td></tr><tr><td>Alabama</td><td>8967499</td></tr><tr><td>Maine</td><td>2214773</td></tr><tr><td>Oklahoma</td><td>8482820</td></tr><tr><td>other</td><td>162952</td></tr><tr><td>District_of_Columbia</td><td>1894317</td></tr><tr><td>Kentucky</td><td>7654993</td></tr><tr><td>Mississippi</td><td>3861771</td></tr><tr><td>Nebraska</td><td>3286810</td></tr><tr><td>Louisiana</td><td>7536078</td></tr><tr><td>Hawaii</td><td>3111531</td></tr><tr><td>New_Mexico</td><td>4705389</td></tr><tr><td>Kansas</td><td>5546880</td></tr><tr><td>Connecticut</td><td>5181800</td></tr><tr><td>Vermont</td><td>852203</td></tr><tr><td>Arkansas</td><td>5106056</td></tr><tr><td>Iowa</td><td>4838887</td></tr><tr><td>West_Virginia</td><td>2208199</td></tr><tr><td>New_Hampshire</td><td>2648081</td></tr><tr><td>Idaho</td><td>3892636</td></tr><tr><td>Rhode_Island</td><td>1777094</td></tr><tr><td>Montana</td><td>1933939</td></tr><tr><td>Delaware</td><td>1885948</td></tr><tr><td>North_Dakota</td><td>1109558</td></tr><tr><td>Wyoming</td><td>1141421</td></tr><tr><td>Alaska</td><td>1051246</td></tr></tbody></table></div>"
      ]
     },
     "metadata": {
      "application/vnd.databricks.v1+output": {
       "addedWidgets": {},
       "aggData": [],
       "aggError": "",
       "aggOverflow": false,
       "aggSchema": [],
       "aggSeriesLimitReached": false,
       "aggType": "",
       "arguments": {},
       "columnCustomDisplayInfos": {},
       "data": [
        [
         "Texas",
         66435184
        ],
        [
         "Florida",
         61803524
        ],
        [
         "California",
         70529977
        ],
        [
         "New_York",
         33459761
        ],
        [
         "Georgia",
         24060125
        ],
        [
         "North_Carolina",
         22299136
        ],
        [
         "Illinois",
         23096838
        ],
        [
         "Ohio",
         23039365
        ],
        [
         "Pennsylvania",
         21944802
        ],
        [
         "Michigan",
         20776155
        ],
        [
         "Arizona",
         18375050
        ],
        [
         "Colorado",
         15681222
        ],
        [
         "Washington",
         16541734
        ],
        [
         "Virginia",
         15957938
        ],
        [
         "New_Jersey",
         15720266
        ],
        [
         "Tennessee",
         15951213
        ],
        [
         "Missouri",
         13416511
        ],
        [
         "Oregon",
         11012170
        ],
        [
         "South_Carolina",
         11995482
        ],
        [
         "Indiana",
         12865167
        ],
        [
         "Maryland",
         10728483
        ],
        [
         "Utah",
         9081167
        ],
        [
         "Massachusetts",
         10447007
        ],
        [
         "Wisconsin",
         10246685
        ],
        [
         "Minnesota",
         9520258
        ],
        [
         "Nevada",
         8833403
        ],
        [
         "South_Dakota",
         1452599
        ],
        [
         "Alabama",
         8967499
        ],
        [
         "Maine",
         2214773
        ],
        [
         "Oklahoma",
         8482820
        ],
        [
         "other",
         162952
        ],
        [
         "District_of_Columbia",
         1894317
        ],
        [
         "Kentucky",
         7654993
        ],
        [
         "Mississippi",
         3861771
        ],
        [
         "Nebraska",
         3286810
        ],
        [
         "Louisiana",
         7536078
        ],
        [
         "Hawaii",
         3111531
        ],
        [
         "New_Mexico",
         4705389
        ],
        [
         "Kansas",
         5546880
        ],
        [
         "Connecticut",
         5181800
        ],
        [
         "Vermont",
         852203
        ],
        [
         "Arkansas",
         5106056
        ],
        [
         "Iowa",
         4838887
        ],
        [
         "West_Virginia",
         2208199
        ],
        [
         "New_Hampshire",
         2648081
        ],
        [
         "Idaho",
         3892636
        ],
        [
         "Rhode_Island",
         1777094
        ],
        [
         "Montana",
         1933939
        ],
        [
         "Delaware",
         1885948
        ],
        [
         "North_Dakota",
         1109558
        ],
        [
         "Wyoming",
         1141421
        ],
        [
         "Alaska",
         1051246
        ]
       ],
       "datasetInfos": [
        {
         "name": "_sqldf",
         "schema": {
          "fields": [
           {
            "metadata": {},
            "name": "region",
            "nullable": true,
            "type": "string"
           },
           {
            "metadata": {},
            "name": "count(*)",
            "nullable": false,
            "type": "long"
           }
          ],
          "type": "struct"
         },
         "tableIdentifier": null,
         "typeStr": "pyspark.sql.connect.dataframe.DataFrame"
        }
       ],
       "dbfsResultPath": null,
       "isJsonSchema": true,
       "metadata": {
        "createTempViewForImplicitDf": true,
        "dataframeName": "_sqldf",
        "executionCount": 1
       },
       "overflow": false,
       "plotOptions": {
        "customPlotOptions": {},
        "displayType": "table",
        "pivotAggregation": null,
        "pivotColumns": null,
        "xColumns": null,
        "yColumns": null
       },
       "removedWidgets": [],
       "schema": [
        {
         "metadata": "{}",
         "name": "region",
         "type": "\"string\""
        },
        {
         "metadata": "{}",
         "name": "count(*)",
         "type": "\"long\""
        }
       ],
       "type": "table"
      }
     },
     "output_type": "display_data"
    }
   ],
   "source": [
    "%sql \n",
    "\n",
    "-- 지역별 리뷰 개수 \n",
    "\n",
    "select region, count(*) from hive_metastore.default.review_data\n",
    "group by region; "
   ]
  },
  {
   "cell_type": "markdown",
   "metadata": {
    "application/vnd.databricks.v1+cell": {
     "cellMetadata": {},
     "inputWidgets": {},
     "nuid": "81fd78a2-2b8d-4122-9e66-7b516f09782a",
     "showTitle": false,
     "title": ""
    }
   },
   "source": [
    "지역별 gmap_id 수 "
   ]
  },
  {
   "cell_type": "code",
   "execution_count": 0,
   "metadata": {
    "application/vnd.databricks.v1+cell": {
     "cellMetadata": {
      "byteLimit": 2048000,
      "implicitDf": true,
      "rowLimit": 10000
     },
     "inputWidgets": {},
     "nuid": "54e66de3-e9d6-4a39-b4ab-e9c22d2baf9e",
     "showTitle": false,
     "title": ""
    }
   },
   "outputs": [
    {
     "output_type": "display_data",
     "data": {
      "text/html": [
       "<style scoped>\n",
       "  .table-result-container {\n",
       "    max-height: 300px;\n",
       "    overflow: auto;\n",
       "  }\n",
       "  table, th, td {\n",
       "    border: 1px solid black;\n",
       "    border-collapse: collapse;\n",
       "  }\n",
       "  th, td {\n",
       "    padding: 5px;\n",
       "  }\n",
       "  th {\n",
       "    text-align: left;\n",
       "  }\n",
       "</style><div class='table-result-container'><table class='table-result'><thead style='background-color: white'><tr><th>region</th><th>gmap_id_count</th></tr></thead><tbody><tr><td>California</td><td>515961</td></tr><tr><td>Texas</td><td>447314</td></tr><tr><td>Florida</td><td>378020</td></tr><tr><td>New_York</td><td>272189</td></tr><tr><td>Illinois</td><td>179205</td></tr><tr><td>Pennsylvania</td><td>190816</td></tr><tr><td>Ohio</td><td>173761</td></tr><tr><td>North_Carolina</td><td>166235</td></tr><tr><td>Georgia</td><td>166381</td></tr><tr><td>Michigan</td><td>158819</td></tr><tr><td>New_Jersey</td><td>127276</td></tr><tr><td>Washington</td><td>121304</td></tr><tr><td>Virginia</td><td>119673</td></tr><tr><td>Arizona</td><td>108579</td></tr><tr><td>Tennessee</td><td>111395</td></tr><tr><td>Colorado</td><td>106829</td></tr><tr><td>Wisconsin</td><td>92041</td></tr><tr><td>Missouri</td><td>99569</td></tr><tr><td>Massachusetts</td><td>92520</td></tr><tr><td>Indiana</td><td>100391</td></tr><tr><td>South_Carolina</td><td>84929</td></tr><tr><td>Oregon</td><td>93476</td></tr><tr><td>Minnesota</td><td>80964</td></tr><tr><td>Maryland</td><td>78144</td></tr><tr><td>Kentucky</td><td>63193</td></tr><tr><td>Utah</td><td>58797</td></tr><tr><td>Louisiana</td><td>63315</td></tr><tr><td>Oklahoma</td><td>68102</td></tr><tr><td>Alabama</td><td>74967</td></tr><tr><td>Arkansas</td><td>47246</td></tr><tr><td>Idaho</td><td>33214</td></tr><tr><td>Nevada</td><td>48237</td></tr><tr><td>New_Mexico</td><td>34703</td></tr><tr><td>Iowa</td><td>47794</td></tr><tr><td>Mississippi</td><td>37147</td></tr><tr><td>Kansas</td><td>46286</td></tr><tr><td>Connecticut</td><td>49200</td></tr><tr><td>New_Hampshire</td><td>24767</td></tr><tr><td>Maine</td><td>24853</td></tr><tr><td>other</td><td>1224</td></tr><tr><td>Vermont</td><td>11291</td></tr><tr><td>Nebraska</td><td>30016</td></tr><tr><td>North_Dakota</td><td>11987</td></tr><tr><td>Wyoming</td><td>12088</td></tr><tr><td>Rhode_Island</td><td>15941</td></tr><tr><td>Hawaii</td><td>21507</td></tr><tr><td>Montana</td><td>21680</td></tr><tr><td>Alaska</td><td>12774</td></tr><tr><td>Delaware</td><td>14706</td></tr><tr><td>South_Dakota</td><td>14257</td></tr><tr><td>West_Virginia</td><td>23541</td></tr><tr><td>District_of_Columbia</td><td>11060</td></tr></tbody></table></div>"
      ]
     },
     "metadata": {
      "application/vnd.databricks.v1+output": {
       "addedWidgets": {},
       "aggData": [],
       "aggError": "",
       "aggOverflow": false,
       "aggSchema": [],
       "aggSeriesLimitReached": false,
       "aggType": "",
       "arguments": {},
       "columnCustomDisplayInfos": {},
       "data": [
        [
         "California",
         515961
        ],
        [
         "Texas",
         447314
        ],
        [
         "Florida",
         378020
        ],
        [
         "New_York",
         272189
        ],
        [
         "Illinois",
         179205
        ],
        [
         "Pennsylvania",
         190816
        ],
        [
         "Ohio",
         173761
        ],
        [
         "North_Carolina",
         166235
        ],
        [
         "Georgia",
         166381
        ],
        [
         "Michigan",
         158819
        ],
        [
         "New_Jersey",
         127276
        ],
        [
         "Washington",
         121304
        ],
        [
         "Virginia",
         119673
        ],
        [
         "Arizona",
         108579
        ],
        [
         "Tennessee",
         111395
        ],
        [
         "Colorado",
         106829
        ],
        [
         "Wisconsin",
         92041
        ],
        [
         "Missouri",
         99569
        ],
        [
         "Massachusetts",
         92520
        ],
        [
         "Indiana",
         100391
        ],
        [
         "South_Carolina",
         84929
        ],
        [
         "Oregon",
         93476
        ],
        [
         "Minnesota",
         80964
        ],
        [
         "Maryland",
         78144
        ],
        [
         "Kentucky",
         63193
        ],
        [
         "Utah",
         58797
        ],
        [
         "Louisiana",
         63315
        ],
        [
         "Oklahoma",
         68102
        ],
        [
         "Alabama",
         74967
        ],
        [
         "Arkansas",
         47246
        ],
        [
         "Idaho",
         33214
        ],
        [
         "Nevada",
         48237
        ],
        [
         "New_Mexico",
         34703
        ],
        [
         "Iowa",
         47794
        ],
        [
         "Mississippi",
         37147
        ],
        [
         "Kansas",
         46286
        ],
        [
         "Connecticut",
         49200
        ],
        [
         "New_Hampshire",
         24767
        ],
        [
         "Maine",
         24853
        ],
        [
         "other",
         1224
        ],
        [
         "Vermont",
         11291
        ],
        [
         "Nebraska",
         30016
        ],
        [
         "North_Dakota",
         11987
        ],
        [
         "Wyoming",
         12088
        ],
        [
         "Rhode_Island",
         15941
        ],
        [
         "Hawaii",
         21507
        ],
        [
         "Montana",
         21680
        ],
        [
         "Alaska",
         12774
        ],
        [
         "Delaware",
         14706
        ],
        [
         "South_Dakota",
         14257
        ],
        [
         "West_Virginia",
         23541
        ],
        [
         "District_of_Columbia",
         11060
        ]
       ],
       "datasetInfos": [
        {
         "name": "_sqldf",
         "schema": {
          "fields": [
           {
            "metadata": {},
            "name": "region",
            "nullable": true,
            "type": "string"
           },
           {
            "metadata": {},
            "name": "gmap_id_count",
            "nullable": false,
            "type": "long"
           }
          ],
          "type": "struct"
         },
         "tableIdentifier": null,
         "typeStr": "pyspark.sql.connect.dataframe.DataFrame"
        }
       ],
       "dbfsResultPath": null,
       "isJsonSchema": true,
       "metadata": {
        "createTempViewForImplicitDf": true,
        "dataframeName": "_sqldf",
        "executionCount": 2
       },
       "overflow": false,
       "plotOptions": {
        "customPlotOptions": {},
        "displayType": "table",
        "pivotAggregation": null,
        "pivotColumns": null,
        "xColumns": null,
        "yColumns": null
       },
       "removedWidgets": [],
       "schema": [
        {
         "metadata": "{}",
         "name": "region",
         "type": "\"string\""
        },
        {
         "metadata": "{}",
         "name": "gmap_id_count",
         "type": "\"long\""
        }
       ],
       "type": "table"
      }
     },
     "output_type": "display_data"
    }
   ],
   "source": [
    "%sql \n",
    "--  지역별 gmap_id 수 \n",
    "\n",
    "SELECT \n",
    "    region, \n",
    "    COUNT(gmap_id) AS gmap_id_count\n",
    "FROM \n",
    "    hive_metastore.default.meta_data\n",
    "GROUP BY \n",
    "    region;"
   ]
  },
  {
   "cell_type": "markdown",
   "metadata": {
    "application/vnd.databricks.v1+cell": {
     "cellMetadata": {},
     "inputWidgets": {},
     "nuid": "2a1efdcf-a2e8-4b1d-a569-5d4edc760b2c",
     "showTitle": false,
     "title": ""
    }
   },
   "source": [
    "지역별 user_id 수 "
   ]
  },
  {
   "cell_type": "code",
   "execution_count": 0,
   "metadata": {
    "application/vnd.databricks.v1+cell": {
     "cellMetadata": {
      "byteLimit": 2048000,
      "implicitDf": true,
      "rowLimit": 10000
     },
     "inputWidgets": {},
     "nuid": "6ab91a2c-6fa8-4d45-be5a-75da7afdd21d",
     "showTitle": false,
     "title": ""
    }
   },
   "outputs": [
    {
     "output_type": "display_data",
     "data": {
      "text/html": [
       "<style scoped>\n",
       "  .table-result-container {\n",
       "    max-height: 300px;\n",
       "    overflow: auto;\n",
       "  }\n",
       "  table, th, td {\n",
       "    border: 1px solid black;\n",
       "    border-collapse: collapse;\n",
       "  }\n",
       "  th, td {\n",
       "    padding: 5px;\n",
       "  }\n",
       "  th {\n",
       "    text-align: left;\n",
       "  }\n",
       "</style><div class='table-result-container'><table class='table-result'><thead style='background-color: white'><tr><th>region</th><th>distinct_user_count</th></tr></thead><tbody><tr><td>Maine</td><td>575257</td></tr><tr><td>New_Hampshire</td><td>748007</td></tr><tr><td>other</td><td>143319</td></tr><tr><td>Vermont</td><td>288211</td></tr><tr><td>South_Carolina</td><td>2964113</td></tr><tr><td>Arkansas</td><td>1217718</td></tr><tr><td>Oregon</td><td>2764082</td></tr><tr><td>Arizona</td><td>4020106</td></tr><tr><td>Idaho</td><td>968801</td></tr><tr><td>Nebraska</td><td>798181</td></tr><tr><td>Florida</td><td>13832724</td></tr><tr><td>Tennessee</td><td>3802147</td></tr><tr><td>Georgia</td><td>5620482</td></tr><tr><td>New_Jersey</td><td>4213428</td></tr><tr><td>North_Dakota</td><td>293523</td></tr><tr><td>Nevada</td><td>2565244</td></tr><tr><td>New_Mexico</td><td>1136149</td></tr><tr><td>California</td><td>14098915</td></tr><tr><td>Kentucky</td><td>1873160</td></tr><tr><td>Wisconsin</td><td>2257895</td></tr><tr><td>Wyoming</td><td>392550</td></tr><tr><td>Utah</td><td>2210420</td></tr><tr><td>Iowa</td><td>1159889</td></tr><tr><td>Missouri</td><td>2982323</td></tr><tr><td>Massachusetts</td><td>2639379</td></tr><tr><td>Rhode_Island</td><td>502479</td></tr><tr><td>Hawaii</td><td>833776</td></tr><tr><td>New_York</td><td>8086412</td></tr><tr><td>Ohio</td><td>4590857</td></tr><tr><td>Minnesota</td><td>2074583</td></tr><tr><td>Louisiana</td><td>1898236</td></tr><tr><td>Montana</td><td>526275</td></tr><tr><td>Washington</td><td>3360838</td></tr><tr><td>North_Carolina</td><td>5025701</td></tr><tr><td>Alaska</td><td>278695</td></tr><tr><td>Colorado</td><td>3656977</td></tr><tr><td>Texas</td><td>13545569</td></tr><tr><td>Maryland</td><td>2858778</td></tr><tr><td>Illinois</td><td>5373130</td></tr><tr><td>Indiana</td><td>2848489</td></tr><tr><td>Mississippi</td><td>1056414</td></tr><tr><td>Oklahoma</td><td>1865711</td></tr><tr><td>Kansas</td><td>1359825</td></tr><tr><td>Delaware</td><td>566738</td></tr><tr><td>Michigan</td><td>4008458</td></tr><tr><td>Connecticut</td><td>1419448</td></tr><tr><td>Virginia</td><td>4047833</td></tr><tr><td>Alabama</td><td>2077087</td></tr><tr><td>South_Dakota</td><td>412911</td></tr><tr><td>West_Virginia</td><td>631093</td></tr><tr><td>District_of_Columbia</td><td>753560</td></tr><tr><td>Pennsylvania</td><td>4957916</td></tr></tbody></table></div>"
      ]
     },
     "metadata": {
      "application/vnd.databricks.v1+output": {
       "addedWidgets": {},
       "aggData": [],
       "aggError": "",
       "aggOverflow": false,
       "aggSchema": [],
       "aggSeriesLimitReached": false,
       "aggType": "",
       "arguments": {},
       "columnCustomDisplayInfos": {},
       "data": [
        [
         "Maine",
         575257
        ],
        [
         "New_Hampshire",
         748007
        ],
        [
         "other",
         143319
        ],
        [
         "Vermont",
         288211
        ],
        [
         "South_Carolina",
         2964113
        ],
        [
         "Arkansas",
         1217718
        ],
        [
         "Oregon",
         2764082
        ],
        [
         "Arizona",
         4020106
        ],
        [
         "Idaho",
         968801
        ],
        [
         "Nebraska",
         798181
        ],
        [
         "Florida",
         13832724
        ],
        [
         "Tennessee",
         3802147
        ],
        [
         "Georgia",
         5620482
        ],
        [
         "New_Jersey",
         4213428
        ],
        [
         "North_Dakota",
         293523
        ],
        [
         "Nevada",
         2565244
        ],
        [
         "New_Mexico",
         1136149
        ],
        [
         "California",
         14098915
        ],
        [
         "Kentucky",
         1873160
        ],
        [
         "Wisconsin",
         2257895
        ],
        [
         "Wyoming",
         392550
        ],
        [
         "Utah",
         2210420
        ],
        [
         "Iowa",
         1159889
        ],
        [
         "Missouri",
         2982323
        ],
        [
         "Massachusetts",
         2639379
        ],
        [
         "Rhode_Island",
         502479
        ],
        [
         "Hawaii",
         833776
        ],
        [
         "New_York",
         8086412
        ],
        [
         "Ohio",
         4590857
        ],
        [
         "Minnesota",
         2074583
        ],
        [
         "Louisiana",
         1898236
        ],
        [
         "Montana",
         526275
        ],
        [
         "Washington",
         3360838
        ],
        [
         "North_Carolina",
         5025701
        ],
        [
         "Alaska",
         278695
        ],
        [
         "Colorado",
         3656977
        ],
        [
         "Texas",
         13545569
        ],
        [
         "Maryland",
         2858778
        ],
        [
         "Illinois",
         5373130
        ],
        [
         "Indiana",
         2848489
        ],
        [
         "Mississippi",
         1056414
        ],
        [
         "Oklahoma",
         1865711
        ],
        [
         "Kansas",
         1359825
        ],
        [
         "Delaware",
         566738
        ],
        [
         "Michigan",
         4008458
        ],
        [
         "Connecticut",
         1419448
        ],
        [
         "Virginia",
         4047833
        ],
        [
         "Alabama",
         2077087
        ],
        [
         "South_Dakota",
         412911
        ],
        [
         "West_Virginia",
         631093
        ],
        [
         "District_of_Columbia",
         753560
        ],
        [
         "Pennsylvania",
         4957916
        ]
       ],
       "datasetInfos": [
        {
         "name": "_sqldf",
         "schema": {
          "fields": [
           {
            "metadata": {},
            "name": "region",
            "nullable": true,
            "type": "string"
           },
           {
            "metadata": {},
            "name": "distinct_user_count",
            "nullable": false,
            "type": "long"
           }
          ],
          "type": "struct"
         },
         "tableIdentifier": null,
         "typeStr": "pyspark.sql.connect.dataframe.DataFrame"
        }
       ],
       "dbfsResultPath": null,
       "isJsonSchema": true,
       "metadata": {
        "createTempViewForImplicitDf": true,
        "dataframeName": "_sqldf",
        "executionCount": 3
       },
       "overflow": false,
       "plotOptions": {
        "customPlotOptions": {},
        "displayType": "table",
        "pivotAggregation": null,
        "pivotColumns": null,
        "xColumns": null,
        "yColumns": null
       },
       "removedWidgets": [],
       "schema": [
        {
         "metadata": "{}",
         "name": "region",
         "type": "\"string\""
        },
        {
         "metadata": "{}",
         "name": "distinct_user_count",
         "type": "\"long\""
        }
       ],
       "type": "table"
      }
     },
     "output_type": "display_data"
    }
   ],
   "source": [
    "%sql \n",
    "--  지역별 user_id 수 \n",
    "SELECT \n",
    "    region, \n",
    "    COUNT(DISTINCT user_id) AS distinct_user_count\n",
    "FROM \n",
    "    hive_metastore.default.review_data\n",
    "GROUP BY \n",
    "    region;"
   ]
  },
  {
   "cell_type": "code",
   "execution_count": 0,
   "metadata": {
    "application/vnd.databricks.v1+cell": {
     "cellMetadata": {},
     "inputWidgets": {},
     "nuid": "216b6f1b-d308-47fd-b52e-1f1b18d8fed4",
     "showTitle": false,
     "title": ""
    }
   },
   "outputs": [],
   "source": [
    "%sql\n",
    "-- user_id 가 null 값인 개수가 몇개인지 지역별로 보기 (중복 포함)\n",
    "WITH total_user_count AS (\n",
    "    SELECT region, COUNT(user_id) AS total_cnt\n",
    "    FROM hive_metastore.default.review_data\n",
    "    GROUP BY region\n",
    ")\n",
    "SELECT \n",
    "    rd.region, \n",
    "    COUNT(*) AS null_cnt, \n",
    "    t.total_cnt,\n",
    "    COUNT(*) / t.total_cnt AS null_user_ratio\n",
    "FROM \n",
    "    hive_metastore.default.review_data rd\n",
    "JOIN \n",
    "    total_user_count t\n",
    "ON \n",
    "    rd.region = t.region\n",
    "WHERE \n",
    "    rd.user_id IS NULL\n",
    "GROUP BY \n",
    "    rd.region, t.total_cnt\n",
    "ORDER BY \n",
    "    null_cnt DESC;"
   ]
  },
  {
   "cell_type": "code",
   "execution_count": 0,
   "metadata": {
    "application/vnd.databricks.v1+cell": {
     "cellMetadata": {},
     "inputWidgets": {},
     "nuid": "192c42fd-1e07-437e-b46f-62e2d81799fc",
     "showTitle": false,
     "title": ""
    }
   },
   "outputs": [],
   "source": [
    "%sql\n",
    "--  User_id 기준 - 한 사용자가 몇 개의 gmap_id 장소를 갔는지 (user_id null 값 제외)\n",
    "-- 장소 방문 개수별 분포 확인\n",
    "\n",
    "\n",
    "select unique_gmap_count, count(*) as cnt\n",
    "from \n",
    "  (select user_id, count(distinct gmap_id) as unique_gmap_count\n",
    "  from hive_metastore.default.review_data\n",
    "  where user_id is not null\n",
    "  group by user_id)\n",
    "group by unique_gmap_count\n",
    "order by cnt desc;"
   ]
  },
  {
   "cell_type": "markdown",
   "metadata": {
    "application/vnd.databricks.v1+cell": {
     "cellMetadata": {},
     "inputWidgets": {},
     "nuid": "4d5c7f51-93d3-4131-a52e-122a58939da7",
     "showTitle": false,
     "title": ""
    }
   },
   "source": [
    "지역별 gmap_id 기준 개수 분포 "
   ]
  },
  {
   "cell_type": "code",
   "execution_count": 0,
   "metadata": {
    "application/vnd.databricks.v1+cell": {
     "cellMetadata": {},
     "inputWidgets": {},
     "nuid": "998fb47d-ee7e-4f1d-80d9-3408c67fe8fe",
     "showTitle": false,
     "title": ""
    }
   },
   "outputs": [],
   "source": [
    "%sql\n",
    "-- gmap_id 기준 리뷰 개수 분포 확인 (unique 미적용시) \n",
    "-- 최소, 최대, 평균 \n",
    "\n",
    "SELECT min(gmap_count), max(gmap_count), avg(gmap_count)\n",
    "from \n",
    "  (SELECT gmap_id, COUNT(*) as gmap_count\n",
    "  from hive_metastore.default.review_data\n",
    "  group by gmap_id); "
   ]
  },
  {
   "cell_type": "code",
   "execution_count": 0,
   "metadata": {
    "application/vnd.databricks.v1+cell": {
     "cellMetadata": {},
     "inputWidgets": {},
     "nuid": "46e557df-364d-4906-a750-354aed0a05d6",
     "showTitle": false,
     "title": ""
    }
   },
   "outputs": [],
   "source": [
    "%sql\n",
    "-- 지역별 \n",
    "--  gmap_id 기준 - 한 장소에 몇 명의 user_id가 방문(리뷰 작성)했는지\n",
    "-- 리뷰 개수별 분포 확인\n",
    "\n",
    "SELECT region, unique_user_count, COUNT(*) as cnt\n",
    "FROM (\n",
    "  SELECT gmap_id, region, COUNT(user_id) as user_count, COUNT(DISTINCT user_id) AS unique_user_count\n",
    "  FROM hive_metastore.default.review_data\n",
    "  WHERE user_id is not null\n",
    "  GROUP BY gmap_id, region\n",
    ") as subquery\n",
    "GROUP BY region, unique_user_count\n",
    "ORDER BY region, cnt DESC;"
   ]
  },
  {
   "cell_type": "markdown",
   "metadata": {
    "application/vnd.databricks.v1+cell": {
     "cellMetadata": {},
     "inputWidgets": {},
     "nuid": "f8ed366b-fec9-403d-9355-9ba20a5d8c49",
     "showTitle": false,
     "title": ""
    }
   },
   "source": [
    "region - 사용자가 몇개 지역에 리뷰를 작성했는지"
   ]
  },
  {
   "cell_type": "code",
   "execution_count": 0,
   "metadata": {
    "application/vnd.databricks.v1+cell": {
     "cellMetadata": {},
     "inputWidgets": {},
     "nuid": "58374f6e-1305-4a99-b4ad-7aee2b6b46b9",
     "showTitle": false,
     "title": ""
    }
   },
   "outputs": [],
   "source": [
    "%sql\n",
    "-- 사용자가 리뷰를 작성한 지역이 몇개 인지 \n",
    "-- user_id 기준 지역 unique count\n",
    "-- 분포\n",
    "\n",
    "select region_count, count(*) as cnt\n",
    "from \n",
    "  (select user_id, count(distinct region) as region_count\n",
    "  from hive_metastore.default.review_data\n",
    "  where user_id is not null\n",
    "  group by user_id)\n",
    "group by region_count\n",
    "order by cnt desc;"
   ]
  },
  {
   "cell_type": "markdown",
   "metadata": {
    "application/vnd.databricks.v1+cell": {
     "cellMetadata": {},
     "inputWidgets": {},
     "nuid": "36fa2d23-afb0-4dda-bafd-f9e0b9a8f256",
     "showTitle": false,
     "title": ""
    }
   },
   "source": [
    "### 실버 데이터 전체지역 EDA"
   ]
  },
  {
   "cell_type": "markdown",
   "metadata": {
    "application/vnd.databricks.v1+cell": {
     "cellMetadata": {},
     "inputWidgets": {},
     "nuid": "5840d980-a58d-497c-8297-66326e5b34be",
     "showTitle": false,
     "title": ""
    }
   },
   "source": [
    "year- 리뷰 작성년도 분포 "
   ]
  },
  {
   "cell_type": "code",
   "execution_count": 0,
   "metadata": {
    "application/vnd.databricks.v1+cell": {
     "cellMetadata": {
      "byteLimit": 2048000,
      "implicitDf": true,
      "rowLimit": 10000
     },
     "inputWidgets": {},
     "nuid": "4e9fb327-cd4b-4fe9-b83c-a4d09320856f",
     "showTitle": false,
     "title": ""
    }
   },
   "outputs": [
    {
     "output_type": "display_data",
     "data": {
      "text/html": [
       "<style scoped>\n",
       "  .table-result-container {\n",
       "    max-height: 300px;\n",
       "    overflow: auto;\n",
       "  }\n",
       "  table, th, td {\n",
       "    border: 1px solid black;\n",
       "    border-collapse: collapse;\n",
       "  }\n",
       "  th, td {\n",
       "    padding: 5px;\n",
       "  }\n",
       "  th {\n",
       "    text-align: left;\n",
       "  }\n",
       "</style><div class='table-result-container'><table class='table-result'><thead style='background-color: white'><tr><th>year</th><th>review_count</th></tr></thead><tbody><tr><td>1990</td><td>899</td></tr><tr><td>1999</td><td>161</td></tr><tr><td>2000</td><td>20</td></tr><tr><td>2001</td><td>39</td></tr><tr><td>2002</td><td>320</td></tr><tr><td>2003</td><td>598</td></tr><tr><td>2004</td><td>1569</td></tr><tr><td>2005</td><td>2721</td></tr><tr><td>2006</td><td>5132</td></tr><tr><td>2007</td><td>8590</td></tr><tr><td>2008</td><td>15775</td></tr><tr><td>2009</td><td>26005</td></tr><tr><td>2010</td><td>143612</td></tr><tr><td>2011</td><td>491472</td></tr><tr><td>2012</td><td>985829</td></tr><tr><td>2013</td><td>2028597</td></tr><tr><td>2014</td><td>3044197</td></tr><tr><td>2015</td><td>7447191</td></tr><tr><td>2016</td><td>27968353</td></tr><tr><td>2017</td><td>87102834</td></tr><tr><td>2018</td><td>158783064</td></tr><tr><td>2019</td><td>193566735</td></tr><tr><td>2020</td><td>126096502</td></tr><tr><td>2021</td><td>58603888</td></tr></tbody></table></div>"
      ]
     },
     "metadata": {
      "application/vnd.databricks.v1+output": {
       "addedWidgets": {},
       "aggData": [],
       "aggError": "",
       "aggOverflow": false,
       "aggSchema": [],
       "aggSeriesLimitReached": false,
       "aggType": "",
       "arguments": {},
       "columnCustomDisplayInfos": {},
       "data": [
        [
         1990,
         899
        ],
        [
         1999,
         161
        ],
        [
         2000,
         20
        ],
        [
         2001,
         39
        ],
        [
         2002,
         320
        ],
        [
         2003,
         598
        ],
        [
         2004,
         1569
        ],
        [
         2005,
         2721
        ],
        [
         2006,
         5132
        ],
        [
         2007,
         8590
        ],
        [
         2008,
         15775
        ],
        [
         2009,
         26005
        ],
        [
         2010,
         143612
        ],
        [
         2011,
         491472
        ],
        [
         2012,
         985829
        ],
        [
         2013,
         2028597
        ],
        [
         2014,
         3044197
        ],
        [
         2015,
         7447191
        ],
        [
         2016,
         27968353
        ],
        [
         2017,
         87102834
        ],
        [
         2018,
         158783064
        ],
        [
         2019,
         193566735
        ],
        [
         2020,
         126096502
        ],
        [
         2021,
         58603888
        ]
       ],
       "datasetInfos": [
        {
         "name": "_sqldf",
         "schema": {
          "fields": [
           {
            "metadata": {},
            "name": "year",
            "nullable": true,
            "type": "integer"
           },
           {
            "metadata": {},
            "name": "review_count",
            "nullable": false,
            "type": "long"
           }
          ],
          "type": "struct"
         },
         "tableIdentifier": null,
         "typeStr": "pyspark.sql.connect.dataframe.DataFrame"
        }
       ],
       "dbfsResultPath": null,
       "isJsonSchema": true,
       "metadata": {
        "createTempViewForImplicitDf": true,
        "dataframeName": "_sqldf",
        "executionCount": 35
       },
       "overflow": false,
       "plotOptions": {
        "customPlotOptions": {},
        "displayType": "table",
        "pivotAggregation": null,
        "pivotColumns": null,
        "xColumns": null,
        "yColumns": null
       },
       "removedWidgets": [],
       "schema": [
        {
         "metadata": "{}",
         "name": "year",
         "type": "\"integer\""
        },
        {
         "metadata": "{}",
         "name": "review_count",
         "type": "\"long\""
        }
       ],
       "type": "table"
      }
     },
     "output_type": "display_data"
    }
   ],
   "source": [
    "%sql\n",
    "SELECT \n",
    "    YEAR(time) AS year, -- time 컬럼에서 년도를 추출하여 year 컬럼 생성\n",
    "    COUNT(*) AS review_count -- 년도별 리뷰 개수를 카운트\n",
    "FROM \n",
    "    hive_metastore.silver.review_data\n",
    "GROUP BY \n",
    "    YEAR(time) -- year 컬럼을 기준으로 그룹화\n",
    "ORDER BY \n",
    "    year; -- 년도별로 정렬"
   ]
  },
  {
   "cell_type": "code",
   "execution_count": 0,
   "metadata": {
    "application/vnd.databricks.v1+cell": {
     "cellMetadata": {
      "byteLimit": 2048000,
      "implicitDf": true,
      "rowLimit": 10000
     },
     "inputWidgets": {},
     "nuid": "aa2a90c0-4900-4f91-8540-631a749d5cba",
     "showTitle": false,
     "title": ""
    }
   },
   "outputs": [
    {
     "output_type": "display_data",
     "data": {
      "text/html": [
       "<style scoped>\n",
       "  .table-result-container {\n",
       "    max-height: 300px;\n",
       "    overflow: auto;\n",
       "  }\n",
       "  table, th, td {\n",
       "    border: 1px solid black;\n",
       "    border-collapse: collapse;\n",
       "  }\n",
       "  th, td {\n",
       "    padding: 5px;\n",
       "  }\n",
       "  th {\n",
       "    text-align: left;\n",
       "  }\n",
       "</style><div class='table-result-container'><table class='table-result'><thead style='background-color: white'><tr><th>region</th><th>year</th><th>review_count</th></tr></thead><tbody><tr><td>Alabama</td><td>1999</td><td>2</td></tr><tr><td>Alabama</td><td>2006</td><td>45</td></tr><tr><td>Alabama</td><td>2007</td><td>91</td></tr><tr><td>Alabama</td><td>2008</td><td>110</td></tr><tr><td>Alabama</td><td>2009</td><td>182</td></tr><tr><td>Alabama</td><td>2010</td><td>862</td></tr><tr><td>Alabama</td><td>2011</td><td>3576</td></tr><tr><td>Alabama</td><td>2012</td><td>8225</td></tr><tr><td>Alabama</td><td>2013</td><td>17159</td></tr><tr><td>Alabama</td><td>2014</td><td>25792</td></tr><tr><td>Alabama</td><td>2015</td><td>68502</td></tr><tr><td>Alabama</td><td>2016</td><td>297455</td></tr><tr><td>Alabama</td><td>2017</td><td>1128700</td></tr><tr><td>Alabama</td><td>2018</td><td>2133922</td></tr><tr><td>Alabama</td><td>2019</td><td>2654002</td></tr><tr><td>Alabama</td><td>2020</td><td>1755053</td></tr><tr><td>Alabama</td><td>2021</td><td>873821</td></tr><tr><td>Alaska</td><td>2006</td><td>10</td></tr><tr><td>Alaska</td><td>2007</td><td>15</td></tr><tr><td>Alaska</td><td>2008</td><td>53</td></tr><tr><td>Alaska</td><td>2009</td><td>65</td></tr><tr><td>Alaska</td><td>2010</td><td>225</td></tr><tr><td>Alaska</td><td>2011</td><td>784</td></tr><tr><td>Alaska</td><td>2012</td><td>1589</td></tr><tr><td>Alaska</td><td>2013</td><td>3445</td></tr><tr><td>Alaska</td><td>2014</td><td>5090</td></tr><tr><td>Alaska</td><td>2015</td><td>12122</td></tr><tr><td>Alaska</td><td>2016</td><td>45425</td></tr><tr><td>Alaska</td><td>2017</td><td>141052</td></tr><tr><td>Alaska</td><td>2018</td><td>258700</td></tr><tr><td>Alaska</td><td>2019</td><td>324900</td></tr><tr><td>Alaska</td><td>2020</td><td>177311</td></tr><tr><td>Alaska</td><td>2021</td><td>80460</td></tr><tr><td>Arizona</td><td>1990</td><td>3</td></tr><tr><td>Arizona</td><td>1999</td><td>1</td></tr><tr><td>Arizona</td><td>2001</td><td>1</td></tr><tr><td>Arizona</td><td>2002</td><td>7</td></tr><tr><td>Arizona</td><td>2003</td><td>2</td></tr><tr><td>Arizona</td><td>2004</td><td>1</td></tr><tr><td>Arizona</td><td>2005</td><td>37</td></tr><tr><td>Arizona</td><td>2006</td><td>39</td></tr><tr><td>Arizona</td><td>2007</td><td>135</td></tr><tr><td>Arizona</td><td>2008</td><td>362</td></tr><tr><td>Arizona</td><td>2009</td><td>584</td></tr><tr><td>Arizona</td><td>2010</td><td>2566</td></tr><tr><td>Arizona</td><td>2011</td><td>11199</td></tr><tr><td>Arizona</td><td>2012</td><td>26459</td></tr><tr><td>Arizona</td><td>2013</td><td>56702</td></tr><tr><td>Arizona</td><td>2014</td><td>85505</td></tr><tr><td>Arizona</td><td>2015</td><td>208368</td></tr><tr><td>Arizona</td><td>2016</td><td>743294</td></tr><tr><td>Arizona</td><td>2017</td><td>2240694</td></tr><tr><td>Arizona</td><td>2018</td><td>4249867</td></tr><tr><td>Arizona</td><td>2019</td><td>5270647</td></tr><tr><td>Arizona</td><td>2020</td><td>3692958</td></tr><tr><td>Arizona</td><td>2021</td><td>1785619</td></tr><tr><td>Arkansas</td><td>1999</td><td>5</td></tr><tr><td>Arkansas</td><td>2006</td><td>36</td></tr><tr><td>Arkansas</td><td>2007</td><td>68</td></tr><tr><td>Arkansas</td><td>2008</td><td>86</td></tr><tr><td>Arkansas</td><td>2009</td><td>160</td></tr><tr><td>Arkansas</td><td>2010</td><td>443</td></tr><tr><td>Arkansas</td><td>2011</td><td>2082</td></tr><tr><td>Arkansas</td><td>2012</td><td>4115</td></tr><tr><td>Arkansas</td><td>2013</td><td>9263</td></tr><tr><td>Arkansas</td><td>2014</td><td>13269</td></tr><tr><td>Arkansas</td><td>2015</td><td>39138</td></tr><tr><td>Arkansas</td><td>2016</td><td>167261</td></tr><tr><td>Arkansas</td><td>2017</td><td>650528</td></tr><tr><td>Arkansas</td><td>2018</td><td>1200515</td></tr><tr><td>Arkansas</td><td>2019</td><td>1510024</td></tr><tr><td>Arkansas</td><td>2020</td><td>1014292</td></tr><tr><td>Arkansas</td><td>2021</td><td>494771</td></tr><tr><td>California</td><td>1990</td><td>221</td></tr><tr><td>California</td><td>1999</td><td>24</td></tr><tr><td>California</td><td>2000</td><td>9</td></tr><tr><td>California</td><td>2001</td><td>4</td></tr><tr><td>California</td><td>2002</td><td>75</td></tr><tr><td>California</td><td>2003</td><td>201</td></tr><tr><td>California</td><td>2004</td><td>472</td></tr><tr><td>California</td><td>2005</td><td>720</td></tr><tr><td>California</td><td>2006</td><td>993</td></tr><tr><td>California</td><td>2007</td><td>1647</td></tr><tr><td>California</td><td>2008</td><td>2435</td></tr><tr><td>California</td><td>2009</td><td>3794</td></tr><tr><td>California</td><td>2010</td><td>34980</td></tr><tr><td>California</td><td>2011</td><td>72988</td></tr><tr><td>California</td><td>2012</td><td>132508</td></tr><tr><td>California</td><td>2013</td><td>271604</td></tr><tr><td>California</td><td>2014</td><td>399454</td></tr><tr><td>California</td><td>2015</td><td>919459</td></tr><tr><td>California</td><td>2016</td><td>3461101</td></tr><tr><td>California</td><td>2017</td><td>9737550</td></tr><tr><td>California</td><td>2018</td><td>17107104</td></tr><tr><td>California</td><td>2019</td><td>20478634</td></tr><tr><td>California</td><td>2020</td><td>12454014</td></tr><tr><td>California</td><td>2021</td><td>5449986</td></tr><tr><td>Colorado</td><td>1990</td><td>29</td></tr><tr><td>Colorado</td><td>1999</td><td>1</td></tr><tr><td>Colorado</td><td>2000</td><td>1</td></tr><tr><td>Colorado</td><td>2004</td><td>4</td></tr><tr><td>Colorado</td><td>2006</td><td>31</td></tr><tr><td>Colorado</td><td>2007</td><td>151</td></tr><tr><td>Colorado</td><td>2008</td><td>399</td></tr><tr><td>Colorado</td><td>2009</td><td>734</td></tr><tr><td>Colorado</td><td>2010</td><td>3374</td></tr><tr><td>Colorado</td><td>2011</td><td>11777</td></tr><tr><td>Colorado</td><td>2012</td><td>32853</td></tr><tr><td>Colorado</td><td>2013</td><td>57118</td></tr><tr><td>Colorado</td><td>2014</td><td>92876</td></tr><tr><td>Colorado</td><td>2015</td><td>214506</td></tr><tr><td>Colorado</td><td>2016</td><td>733698</td></tr><tr><td>Colorado</td><td>2017</td><td>2084034</td></tr><tr><td>Colorado</td><td>2018</td><td>3683398</td></tr><tr><td>Colorado</td><td>2019</td><td>4339447</td></tr><tr><td>Colorado</td><td>2020</td><td>3058817</td></tr><tr><td>Colorado</td><td>2021</td><td>1367974</td></tr><tr><td>Connecticut</td><td>1999</td><td>3</td></tr><tr><td>Connecticut</td><td>2002</td><td>13</td></tr><tr><td>Connecticut</td><td>2003</td><td>1</td></tr><tr><td>Connecticut</td><td>2004</td><td>46</td></tr><tr><td>Connecticut</td><td>2005</td><td>24</td></tr><tr><td>Connecticut</td><td>2006</td><td>83</td></tr><tr><td>Connecticut</td><td>2007</td><td>59</td></tr><tr><td>Connecticut</td><td>2008</td><td>210</td></tr><tr><td>Connecticut</td><td>2009</td><td>194</td></tr><tr><td>Connecticut</td><td>2010</td><td>1041</td></tr><tr><td>Connecticut</td><td>2011</td><td>3140</td></tr><tr><td>Connecticut</td><td>2012</td><td>7153</td></tr><tr><td>Connecticut</td><td>2013</td><td>15473</td></tr><tr><td>Connecticut</td><td>2014</td><td>24207</td></tr><tr><td>Connecticut</td><td>2015</td><td>59064</td></tr><tr><td>Connecticut</td><td>2016</td><td>218443</td></tr><tr><td>Connecticut</td><td>2017</td><td>685172</td></tr><tr><td>Connecticut</td><td>2018</td><td>1249462</td></tr><tr><td>Connecticut</td><td>2019</td><td>1484028</td></tr><tr><td>Connecticut</td><td>2020</td><td>976491</td></tr><tr><td>Connecticut</td><td>2021</td><td>457493</td></tr><tr><td>Delaware</td><td>2004</td><td>3</td></tr><tr><td>Delaware</td><td>2005</td><td>5</td></tr><tr><td>Delaware</td><td>2006</td><td>5</td></tr><tr><td>Delaware</td><td>2007</td><td>12</td></tr><tr><td>Delaware</td><td>2008</td><td>28</td></tr><tr><td>Delaware</td><td>2009</td><td>31</td></tr><tr><td>Delaware</td><td>2010</td><td>309</td></tr><tr><td>Delaware</td><td>2011</td><td>826</td></tr><tr><td>Delaware</td><td>2012</td><td>2085</td></tr><tr><td>Delaware</td><td>2013</td><td>4310</td></tr><tr><td>Delaware</td><td>2014</td><td>6518</td></tr><tr><td>Delaware</td><td>2015</td><td>16867</td></tr><tr><td>Delaware</td><td>2016</td><td>68972</td></tr><tr><td>Delaware</td><td>2017</td><td>243191</td></tr><tr><td>Delaware</td><td>2018</td><td>451855</td></tr><tr><td>Delaware</td><td>2019</td><td>556260</td></tr><tr><td>Delaware</td><td>2020</td><td>367293</td></tr><tr><td>Delaware</td><td>2021</td><td>167378</td></tr><tr><td>District_of_Columbia</td><td>1990</td><td>54</td></tr><tr><td>District_of_Columbia</td><td>2001</td><td>2</td></tr><tr><td>District_of_Columbia</td><td>2003</td><td>1</td></tr><tr><td>District_of_Columbia</td><td>2004</td><td>16</td></tr><tr><td>District_of_Columbia</td><td>2005</td><td>29</td></tr><tr><td>District_of_Columbia</td><td>2006</td><td>75</td></tr><tr><td>District_of_Columbia</td><td>2007</td><td>28</td></tr><tr><td>District_of_Columbia</td><td>2008</td><td>190</td></tr><tr><td>District_of_Columbia</td><td>2009</td><td>144</td></tr><tr><td>District_of_Columbia</td><td>2010</td><td>1344</td></tr><tr><td>District_of_Columbia</td><td>2011</td><td>2523</td></tr><tr><td>District_of_Columbia</td><td>2012</td><td>5435</td></tr><tr><td>District_of_Columbia</td><td>2013</td><td>8002</td></tr><tr><td>District_of_Columbia</td><td>2014</td><td>14935</td></tr><tr><td>District_of_Columbia</td><td>2015</td><td>32112</td></tr><tr><td>District_of_Columbia</td><td>2016</td><td>115490</td></tr><tr><td>District_of_Columbia</td><td>2017</td><td>286807</td></tr><tr><td>District_of_Columbia</td><td>2018</td><td>499145</td></tr><tr><td>District_of_Columbia</td><td>2019</td><td>591703</td></tr><tr><td>District_of_Columbia</td><td>2020</td><td>247433</td></tr><tr><td>District_of_Columbia</td><td>2021</td><td>88849</td></tr><tr><td>Florida</td><td>1990</td><td>5</td></tr><tr><td>Florida</td><td>1999</td><td>7</td></tr><tr><td>Florida</td><td>2000</td><td>1</td></tr><tr><td>Florida</td><td>2001</td><td>2</td></tr><tr><td>Florida</td><td>2002</td><td>6</td></tr><tr><td>Florida</td><td>2003</td><td>123</td></tr><tr><td>Florida</td><td>2004</td><td>7</td></tr><tr><td>Florida</td><td>2005</td><td>211</td></tr><tr><td>Florida</td><td>2006</td><td>197</td></tr><tr><td>Florida</td><td>2007</td><td>597</td></tr><tr><td>Florida</td><td>2008</td><td>978</td></tr><tr><td>Florida</td><td>2009</td><td>2150</td></tr><tr><td>Florida</td><td>2010</td><td>7216</td></tr><tr><td>Florida</td><td>2011</td><td>31662</td></tr><tr><td>Florida</td><td>2012</td><td>77383</td></tr><tr><td>Florida</td><td>2013</td><td>177978</td></tr><tr><td>Florida</td><td>2014</td><td>288892</td></tr><tr><td>Florida</td><td>2015</td><td>731592</td></tr><tr><td>Florida</td><td>2016</td><td>2573073</td></tr><tr><td>Florida</td><td>2017</td><td>7476987</td></tr><tr><td>Florida</td><td>2018</td><td>14226733</td></tr><tr><td>Florida</td><td>2019</td><td>17819548</td></tr><tr><td>Florida</td><td>2020</td><td>12190397</td></tr><tr><td>Florida</td><td>2021</td><td>6197779</td></tr><tr><td>Georgia</td><td>1999</td><td>5</td></tr><tr><td>Georgia</td><td>2001</td><td>2</td></tr><tr><td>Georgia</td><td>2003</td><td>10</td></tr><tr><td>Georgia</td><td>2004</td><td>8</td></tr><tr><td>Georgia</td><td>2005</td><td>55</td></tr><tr><td>Georgia</td><td>2006</td><td>125</td></tr><tr><td>Georgia</td><td>2007</td><td>257</td></tr><tr><td>Georgia</td><td>2008</td><td>440</td></tr><tr><td>Georgia</td><td>2009</td><td>763</td></tr><tr><td>Georgia</td><td>2010</td><td>3379</td></tr><tr><td>Georgia</td><td>2011</td><td>13159</td></tr><tr><td>Georgia</td><td>2012</td><td>29384</td></tr><tr><td>Georgia</td><td>2013</td><td>63400</td></tr><tr><td>Georgia</td><td>2014</td><td>108551</td></tr><tr><td>Georgia</td><td>2015</td><td>266525</td></tr><tr><td>Georgia</td><td>2016</td><td>998045</td></tr><tr><td>Georgia</td><td>2017</td><td>3094342</td></tr><tr><td>Georgia</td><td>2018</td><td>5562896</td></tr><tr><td>Georgia</td><td>2019</td><td>6836719</td></tr><tr><td>Georgia</td><td>2020</td><td>4754743</td></tr><tr><td>Georgia</td><td>2021</td><td>2327317</td></tr><tr><td>Hawaii</td><td>1990</td><td>1</td></tr><tr><td>Hawaii</td><td>2002</td><td>3</td></tr><tr><td>Hawaii</td><td>2004</td><td>1</td></tr><tr><td>Hawaii</td><td>2005</td><td>24</td></tr><tr><td>Hawaii</td><td>2006</td><td>25</td></tr><tr><td>Hawaii</td><td>2007</td><td>44</td></tr><tr><td>Hawaii</td><td>2008</td><td>205</td></tr><tr><td>Hawaii</td><td>2009</td><td>158</td></tr><tr><td>Hawaii</td><td>2010</td><td>596</td></tr><tr><td>Hawaii</td><td>2011</td><td>2858</td></tr><tr><td>Hawaii</td><td>2012</td><td>5939</td></tr><tr><td>Hawaii</td><td>2013</td><td>11336</td></tr><tr><td>Hawaii</td><td>2014</td><td>16275</td></tr><tr><td>Hawaii</td><td>2015</td><td>38181</td></tr><tr><td>Hawaii</td><td>2016</td><td>147408</td></tr><tr><td>Hawaii</td><td>2017</td><td>406397</td></tr><tr><td>Hawaii</td><td>2018</td><td>802270</td></tr><tr><td>Hawaii</td><td>2019</td><td>1031857</td></tr><tr><td>Hawaii</td><td>2020</td><td>436246</td></tr><tr><td>Hawaii</td><td>2021</td><td>211707</td></tr><tr><td>Idaho</td><td>2006</td><td>9</td></tr><tr><td>Idaho</td><td>2007</td><td>28</td></tr><tr><td>Idaho</td><td>2008</td><td>58</td></tr><tr><td>Idaho</td><td>2009</td><td>104</td></tr><tr><td>Idaho</td><td>2010</td><td>600</td></tr><tr><td>Idaho</td><td>2011</td><td>1922</td></tr><tr><td>Idaho</td><td>2012</td><td>4708</td></tr><tr><td>Idaho</td><td>2013</td><td>9722</td></tr><tr><td>Idaho</td><td>2014</td><td>15052</td></tr><tr><td>Idaho</td><td>2015</td><td>37305</td></tr><tr><td>Idaho</td><td>2016</td><td>141070</td></tr><tr><td>Idaho</td><td>2017</td><td>489812</td></tr><tr><td>Idaho</td><td>2018</td><td>915645</td></tr><tr><td>Idaho</td><td>2019</td><td>1114211</td></tr><tr><td>Idaho</td><td>2020</td><td>793819</td></tr><tr><td>Idaho</td><td>2021</td><td>368571</td></tr><tr><td>Illinois</td><td>1990</td><td>48</td></tr><tr><td>Illinois</td><td>1999</td><td>2</td></tr><tr><td>Illinois</td><td>2001</td><td>4</td></tr><tr><td>Illinois</td><td>2002</td><td>1</td></tr><tr><td>Illinois</td><td>2003</td><td>2</td></tr><tr><td>Illinois</td><td>2004</td><td>36</td></tr><tr><td>Illinois</td><td>2005</td><td>32</td></tr><tr><td>Illinois</td><td>2006</td><td>221</td></tr><tr><td>Illinois</td><td>2007</td><td>311</td></tr><tr><td>Illinois</td><td>2008</td><td>501</td></tr><tr><td>Illinois</td><td>2009</td><td>958</td></tr><tr><td>Illinois</td><td>2010</td><td>5512</td></tr><tr><td>Illinois</td><td>2011</td><td>17970</td></tr><tr><td>Illinois</td><td>2012</td><td>39441</td></tr><tr><td>Illinois</td><td>2013</td><td>106122</td></tr><tr><td>Illinois</td><td>2014</td><td>122869</td></tr><tr><td>Illinois</td><td>2015</td><td>287665</td></tr><tr><td>Illinois</td><td>2016</td><td>1031707</td></tr><tr><td>Illinois</td><td>2017</td><td>3182891</td></tr><tr><td>Illinois</td><td>2018</td><td>5535795</td></tr><tr><td>Illinois</td><td>2019</td><td>6507648</td></tr><tr><td>Illinois</td><td>2020</td><td>4321511</td></tr><tr><td>Illinois</td><td>2021</td><td>1935591</td></tr><tr><td>Indiana</td><td>1999</td><td>6</td></tr><tr><td>Indiana</td><td>2006</td><td>44</td></tr><tr><td>Indiana</td><td>2007</td><td>95</td></tr><tr><td>Indiana</td><td>2008</td><td>143</td></tr><tr><td>Indiana</td><td>2009</td><td>294</td></tr><tr><td>Indiana</td><td>2010</td><td>1537</td></tr><tr><td>Indiana</td><td>2011</td><td>6139</td></tr><tr><td>Indiana</td><td>2012</td><td>13778</td></tr><tr><td>Indiana</td><td>2013</td><td>28081</td></tr><tr><td>Indiana</td><td>2014</td><td>42318</td></tr><tr><td>Indiana</td><td>2015</td><td>111859</td></tr><tr><td>Indiana</td><td>2016</td><td>452361</td></tr><tr><td>Indiana</td><td>2017</td><td>1641965</td></tr><tr><td>Indiana</td><td>2018</td><td>3079664</td></tr><tr><td>Indiana</td><td>2019</td><td>3755393</td></tr><tr><td>Indiana</td><td>2020</td><td>2534321</td></tr><tr><td>Indiana</td><td>2021</td><td>1197169</td></tr><tr><td>Iowa</td><td>1999</td><td>2</td></tr><tr><td>Iowa</td><td>2004</td><td>3</td></tr><tr><td>Iowa</td><td>2005</td><td>1</td></tr><tr><td>Iowa</td><td>2006</td><td>20</td></tr><tr><td>Iowa</td><td>2007</td><td>54</td></tr><tr><td>Iowa</td><td>2008</td><td>98</td></tr><tr><td>Iowa</td><td>2009</td><td>175</td></tr><tr><td>Iowa</td><td>2010</td><td>757</td></tr><tr><td>Iowa</td><td>2011</td><td>3124</td></tr><tr><td>Iowa</td><td>2012</td><td>6096</td></tr><tr><td>Iowa</td><td>2013</td><td>12107</td></tr><tr><td>Iowa</td><td>2014</td><td>16578</td></tr><tr><td>Iowa</td><td>2015</td><td>42566</td></tr><tr><td>Iowa</td><td>2016</td><td>177613</td></tr><tr><td>Iowa</td><td>2017</td><td>651187</td></tr><tr><td>Iowa</td><td>2018</td><td>1197823</td></tr><tr><td>Iowa</td><td>2019</td><td>1405963</td></tr><tr><td>Iowa</td><td>2020</td><td>907193</td></tr><tr><td>Iowa</td><td>2021</td><td>417527</td></tr><tr><td>Kansas</td><td>1999</td><td>2</td></tr><tr><td>Kansas</td><td>2001</td><td>1</td></tr><tr><td>Kansas</td><td>2006</td><td>25</td></tr><tr><td>Kansas</td><td>2007</td><td>61</td></tr><tr><td>Kansas</td><td>2008</td><td>78</td></tr><tr><td>Kansas</td><td>2009</td><td>198</td></tr><tr><td>Kansas</td><td>2010</td><td>931</td></tr><tr><td>Kansas</td><td>2011</td><td>3676</td></tr><tr><td>Kansas</td><td>2012</td><td>7418</td></tr><tr><td>Kansas</td><td>2013</td><td>14817</td></tr><tr><td>Kansas</td><td>2014</td><td>21894</td></tr><tr><td>Kansas</td><td>2015</td><td>55096</td></tr><tr><td>Kansas</td><td>2016</td><td>217529</td></tr><tr><td>Kansas</td><td>2017</td><td>747432</td></tr><tr><td>Kansas</td><td>2018</td><td>1333423</td></tr><tr><td>Kansas</td><td>2019</td><td>1609812</td></tr><tr><td>Kansas</td><td>2020</td><td>1049434</td></tr><tr><td>Kansas</td><td>2021</td><td>485053</td></tr><tr><td>Kentucky</td><td>1999</td><td>2</td></tr><tr><td>Kentucky</td><td>2004</td><td>1</td></tr><tr><td>Kentucky</td><td>2005</td><td>1</td></tr><tr><td>Kentucky</td><td>2006</td><td>37</td></tr><tr><td>Kentucky</td><td>2007</td><td>72</td></tr><tr><td>Kentucky</td><td>2008</td><td>119</td></tr><tr><td>Kentucky</td><td>2009</td><td>183</td></tr><tr><td>Kentucky</td><td>2010</td><td>866</td></tr><tr><td>Kentucky</td><td>2011</td><td>3077</td></tr><tr><td>Kentucky</td><td>2012</td><td>7359</td></tr><tr><td>Kentucky</td><td>2013</td><td>14361</td></tr><tr><td>Kentucky</td><td>2014</td><td>22677</td></tr><tr><td>Kentucky</td><td>2015</td><td>62625</td></tr><tr><td>Kentucky</td><td>2016</td><td>265836</td></tr><tr><td>Kentucky</td><td>2017</td><td>971645</td></tr><tr><td>Kentucky</td><td>2018</td><td>1847417</td></tr><tr><td>Kentucky</td><td>2019</td><td>2310912</td></tr><tr><td>Kentucky</td><td>2020</td><td>1445779</td></tr><tr><td>Kentucky</td><td>2021</td><td>702024</td></tr><tr><td>Louisiana</td><td>1999</td><td>2</td></tr><tr><td>Louisiana</td><td>2001</td><td>6</td></tr><tr><td>Louisiana</td><td>2003</td><td>32</td></tr><tr><td>Louisiana</td><td>2004</td><td>4</td></tr><tr><td>Louisiana</td><td>2005</td><td>1</td></tr><tr><td>Louisiana</td><td>2006</td><td>49</td></tr><tr><td>Louisiana</td><td>2007</td><td>53</td></tr><tr><td>Louisiana</td><td>2008</td><td>207</td></tr><tr><td>Louisiana</td><td>2009</td><td>235</td></tr><tr><td>Louisiana</td><td>2010</td><td>1016</td></tr><tr><td>Louisiana</td><td>2011</td><td>4152</td></tr><tr><td>Louisiana</td><td>2012</td><td>8985</td></tr><tr><td>Louisiana</td><td>2013</td><td>17905</td></tr><tr><td>Louisiana</td><td>2014</td><td>26465</td></tr><tr><td>Louisiana</td><td>2015</td><td>70498</td></tr><tr><td>Louisiana</td><td>2016</td><td>281361</td></tr><tr><td>Louisiana</td><td>2017</td><td>963922</td></tr><tr><td>Louisiana</td><td>2018</td><td>1849092</td></tr><tr><td>Louisiana</td><td>2019</td><td>2269756</td></tr><tr><td>Louisiana</td><td>2020</td><td>1368943</td></tr><tr><td>Louisiana</td><td>2021</td><td>673394</td></tr><tr><td>Maine</td><td>1999</td><td>1</td></tr><tr><td>Maine</td><td>2006</td><td>5</td></tr><tr><td>Maine</td><td>2007</td><td>18</td></tr><tr><td>Maine</td><td>2008</td><td>54</td></tr><tr><td>Maine</td><td>2009</td><td>86</td></tr><tr><td>Maine</td><td>2010</td><td>299</td></tr><tr><td>Maine</td><td>2011</td><td>1220</td></tr><tr><td>Maine</td><td>2012</td><td>2765</td></tr><tr><td>Maine</td><td>2013</td><td>5485</td></tr><tr><td>Maine</td><td>2014</td><td>8209</td></tr><tr><td>Maine</td><td>2015</td><td>20059</td></tr><tr><td>Maine</td><td>2016</td><td>83449</td></tr><tr><td>Maine</td><td>2017</td><td>303353</td></tr><tr><td>Maine</td><td>2018</td><td>557043</td></tr><tr><td>Maine</td><td>2019</td><td>669093</td></tr><tr><td>Maine</td><td>2020</td><td>401742</td></tr><tr><td>Maine</td><td>2021</td><td>161892</td></tr><tr><td>Maryland</td><td>1990</td><td>19</td></tr><tr><td>Maryland</td><td>1999</td><td>4</td></tr><tr><td>Maryland</td><td>2001</td><td>1</td></tr><tr><td>Maryland</td><td>2002</td><td>1</td></tr><tr><td>Maryland</td><td>2003</td><td>4</td></tr><tr><td>Maryland</td><td>2004</td><td>4</td></tr><tr><td>Maryland</td><td>2005</td><td>19</td></tr><tr><td>Maryland</td><td>2006</td><td>71</td></tr><tr><td>Maryland</td><td>2007</td><td>103</td></tr><tr><td>Maryland</td><td>2008</td><td>247</td></tr><tr><td>Maryland</td><td>2009</td><td>433</td></tr><tr><td>Maryland</td><td>2010</td><td>2390</td></tr><tr><td>Maryland</td><td>2011</td><td>7718</td></tr><tr><td>Maryland</td><td>2012</td><td>16697</td></tr><tr><td>Maryland</td><td>2013</td><td>33988</td></tr><tr><td>Maryland</td><td>2014</td><td>53960</td></tr><tr><td>Maryland</td><td>2015</td><td>129141</td></tr><tr><td>Maryland</td><td>2016</td><td>462473</td></tr><tr><td>Maryland</td><td>2017</td><td>1416565</td></tr><tr><td>Maryland</td><td>2018</td><td>2556883</td></tr><tr><td>Maryland</td><td>2019</td><td>3125174</td></tr><tr><td>Maryland</td><td>2020</td><td>2007696</td></tr><tr><td>Maryland</td><td>2021</td><td>914892</td></tr><tr><td>Massachusetts</td><td>1999</td><td>4</td></tr><tr><td>Massachusetts</td><td>2000</td><td>2</td></tr><tr><td>Massachusetts</td><td>2001</td><td>1</td></tr><tr><td>Massachusetts</td><td>2002</td><td>26</td></tr><tr><td>Massachusetts</td><td>2003</td><td>11</td></tr><tr><td>Massachusetts</td><td>2004</td><td>220</td></tr><tr><td>Massachusetts</td><td>2005</td><td>17</td></tr><tr><td>Massachusetts</td><td>2006</td><td>245</td></tr><tr><td>Massachusetts</td><td>2007</td><td>122</td></tr><tr><td>Massachusetts</td><td>2008</td><td>503</td></tr><tr><td>Massachusetts</td><td>2009</td><td>456</td></tr><tr><td>Massachusetts</td><td>2010</td><td>3578</td></tr><tr><td>Massachusetts</td><td>2011</td><td>10289</td></tr><tr><td>Massachusetts</td><td>2012</td><td>25271</td></tr><tr><td>Massachusetts</td><td>2013</td><td>34721</td></tr><tr><td>Massachusetts</td><td>2014</td><td>56385</td></tr><tr><td>Massachusetts</td><td>2015</td><td>126565</td></tr><tr><td>Massachusetts</td><td>2016</td><td>499989</td></tr><tr><td>Massachusetts</td><td>2017</td><td>1473313</td></tr><tr><td>Massachusetts</td><td>2018</td><td>2558626</td></tr><tr><td>Massachusetts</td><td>2019</td><td>3031449</td></tr><tr><td>Massachusetts</td><td>2020</td><td>1829696</td></tr><tr><td>Massachusetts</td><td>2021</td><td>795518</td></tr><tr><td>Michigan</td><td>1999</td><td>8</td></tr><tr><td>Michigan</td><td>2003</td><td>1</td></tr><tr><td>Michigan</td><td>2006</td><td>42</td></tr><tr><td>Michigan</td><td>2007</td><td>176</td></tr><tr><td>Michigan</td><td>2008</td><td>333</td></tr><tr><td>Michigan</td><td>2009</td><td>658</td></tr><tr><td>Michigan</td><td>2010</td><td>3564</td></tr><tr><td>Michigan</td><td>2011</td><td>11991</td></tr><tr><td>Michigan</td><td>2012</td><td>26081</td></tr><tr><td>Michigan</td><td>2013</td><td>55631</td></tr><tr><td>Michigan</td><td>2014</td><td>83485</td></tr><tr><td>Michigan</td><td>2015</td><td>212112</td></tr><tr><td>Michigan</td><td>2016</td><td>818169</td></tr><tr><td>Michigan</td><td>2017</td><td>2786141</td></tr><tr><td>Michigan</td><td>2018</td><td>5090052</td></tr><tr><td>Michigan</td><td>2019</td><td>6067318</td></tr><tr><td>Michigan</td><td>2020</td><td>3909789</td></tr><tr><td>Michigan</td><td>2021</td><td>1710604</td></tr><tr><td>Minnesota</td><td>1999</td><td>1</td></tr><tr><td>Minnesota</td><td>2004</td><td>2</td></tr><tr><td>Minnesota</td><td>2006</td><td>17</td></tr><tr><td>Minnesota</td><td>2007</td><td>69</td></tr><tr><td>Minnesota</td><td>2008</td><td>176</td></tr><tr><td>Minnesota</td><td>2009</td><td>397</td></tr><tr><td>Minnesota</td><td>2010</td><td>2487</td></tr><tr><td>Minnesota</td><td>2011</td><td>8675</td></tr><tr><td>Minnesota</td><td>2012</td><td>16448</td></tr><tr><td>Minnesota</td><td>2013</td><td>32111</td></tr><tr><td>Minnesota</td><td>2014</td><td>48588</td></tr><tr><td>Minnesota</td><td>2015</td><td>118008</td></tr><tr><td>Minnesota</td><td>2016</td><td>442338</td></tr><tr><td>Minnesota</td><td>2017</td><td>1369774</td></tr><tr><td>Minnesota</td><td>2018</td><td>2269020</td></tr><tr><td>Minnesota</td><td>2019</td><td>2663538</td></tr><tr><td>Minnesota</td><td>2020</td><td>1773914</td></tr><tr><td>Minnesota</td><td>2021</td><td>774695</td></tr><tr><td>Mississippi</td><td>1999</td><td>3</td></tr><tr><td>Mississippi</td><td>2006</td><td>22</td></tr><tr><td>Mississippi</td><td>2007</td><td>49</td></tr><tr><td>Mississippi</td><td>2008</td><td>73</td></tr><tr><td>Mississippi</td><td>2009</td><td>104</td></tr><tr><td>Mississippi</td><td>2010</td><td>341</td></tr><tr><td>Mississippi</td><td>2011</td><td>1425</td></tr><tr><td>Mississippi</td><td>2012</td><td>3202</td></tr><tr><td>Mississippi</td><td>2013</td><td>6699</td></tr><tr><td>Mississippi</td><td>2014</td><td>9874</td></tr><tr><td>Mississippi</td><td>2015</td><td>27805</td></tr><tr><td>Mississippi</td><td>2016</td><td>120186</td></tr><tr><td>Mississippi</td><td>2017</td><td>485754</td></tr><tr><td>Mississippi</td><td>2018</td><td>932444</td></tr><tr><td>Mississippi</td><td>2019</td><td>1151784</td></tr><tr><td>Mississippi</td><td>2020</td><td>747451</td></tr><tr><td>Mississippi</td><td>2021</td><td>374555</td></tr><tr><td>Missouri</td><td>1999</td><td>2</td></tr><tr><td>Missouri</td><td>2003</td><td>7</td></tr><tr><td>Missouri</td><td>2004</td><td>2</td></tr><tr><td>Missouri</td><td>2005</td><td>2</td></tr><tr><td>Missouri</td><td>2006</td><td>48</td></tr><tr><td>Missouri</td><td>2007</td><td>92</td></tr><tr><td>Missouri</td><td>2008</td><td>200</td></tr><tr><td>Missouri</td><td>2009</td><td>382</td></tr><tr><td>Missouri</td><td>2010</td><td>1835</td></tr><tr><td>Missouri</td><td>2011</td><td>7505</td></tr><tr><td>Missouri</td><td>2012</td><td>16853</td></tr><tr><td>Missouri</td><td>2013</td><td>33828</td></tr><tr><td>Missouri</td><td>2014</td><td>51162</td></tr><tr><td>Missouri</td><td>2015</td><td>128912</td></tr><tr><td>Missouri</td><td>2016</td><td>519175</td></tr><tr><td>Missouri</td><td>2017</td><td>1785232</td></tr><tr><td>Missouri</td><td>2018</td><td>3209712</td></tr><tr><td>Missouri</td><td>2019</td><td>3872440</td></tr><tr><td>Missouri</td><td>2020</td><td>2585160</td></tr><tr><td>Missouri</td><td>2021</td><td>1203962</td></tr><tr><td>Montana</td><td>1999</td><td>1</td></tr><tr><td>Montana</td><td>2006</td><td>10</td></tr><tr><td>Montana</td><td>2007</td><td>31</td></tr><tr><td>Montana</td><td>2008</td><td>62</td></tr><tr><td>Montana</td><td>2009</td><td>68</td></tr><tr><td>Montana</td><td>2010</td><td>300</td></tr><tr><td>Montana</td><td>2011</td><td>1076</td></tr><tr><td>Montana</td><td>2012</td><td>2274</td></tr><tr><td>Montana</td><td>2013</td><td>4747</td></tr><tr><td>Montana</td><td>2014</td><td>7034</td></tr><tr><td>Montana</td><td>2015</td><td>17115</td></tr><tr><td>Montana</td><td>2016</td><td>72014</td></tr><tr><td>Montana</td><td>2017</td><td>255415</td></tr><tr><td>Montana</td><td>2018</td><td>466031</td></tr><tr><td>Montana</td><td>2019</td><td>554010</td></tr><tr><td>Montana</td><td>2020</td><td>384636</td></tr><tr><td>Montana</td><td>2021</td><td>169115</td></tr><tr><td>Nebraska</td><td>2006</td><td>3</td></tr><tr><td>Nebraska</td><td>2007</td><td>38</td></tr><tr><td>Nebraska</td><td>2008</td><td>55</td></tr><tr><td>Nebraska</td><td>2009</td><td>109</td></tr><tr><td>Nebraska</td><td>2010</td><td>732</td></tr><tr><td>Nebraska</td><td>2011</td><td>1923</td></tr><tr><td>Nebraska</td><td>2012</td><td>4467</td></tr><tr><td>Nebraska</td><td>2013</td><td>8540</td></tr><tr><td>Nebraska</td><td>2014</td><td>12780</td></tr><tr><td>Nebraska</td><td>2015</td><td>33583</td></tr><tr><td>Nebraska</td><td>2016</td><td>130578</td></tr><tr><td>Nebraska</td><td>2017</td><td>442812</td></tr><tr><td>Nebraska</td><td>2018</td><td>790182</td></tr><tr><td>Nebraska</td><td>2019</td><td>946997</td></tr><tr><td>Nebraska</td><td>2020</td><td>625593</td></tr><tr><td>Nebraska</td><td>2021</td><td>288418</td></tr><tr><td>Nevada</td><td>1999</td><td>1</td></tr><tr><td>Nevada</td><td>2001</td><td>3</td></tr><tr><td>Nevada</td><td>2002</td><td>6</td></tr><tr><td>Nevada</td><td>2003</td><td>24</td></tr><tr><td>Nevada</td><td>2004</td><td>16</td></tr><tr><td>Nevada</td><td>2005</td><td>246</td></tr><tr><td>Nevada</td><td>2006</td><td>36</td></tr><tr><td>Nevada</td><td>2007</td><td>266</td></tr><tr><td>Nevada</td><td>2008</td><td>128</td></tr><tr><td>Nevada</td><td>2009</td><td>257</td></tr><tr><td>Nevada</td><td>2010</td><td>1224</td></tr><tr><td>Nevada</td><td>2011</td><td>5654</td></tr><tr><td>Nevada</td><td>2012</td><td>11315</td></tr><tr><td>Nevada</td><td>2013</td><td>23892</td></tr><tr><td>Nevada</td><td>2014</td><td>36051</td></tr><tr><td>Nevada</td><td>2015</td><td>92024</td></tr><tr><td>Nevada</td><td>2016</td><td>373271</td></tr><tr><td>Nevada</td><td>2017</td><td>1062658</td></tr><tr><td>Nevada</td><td>2018</td><td>2083460</td></tr><tr><td>Nevada</td><td>2019</td><td>2625954</td></tr><tr><td>Nevada</td><td>2020</td><td>1706421</td></tr><tr><td>Nevada</td><td>2021</td><td>810496</td></tr><tr><td>New_Hampshire</td><td>2006</td><td>6</td></tr><tr><td>New_Hampshire</td><td>2007</td><td>35</td></tr><tr><td>New_Hampshire</td><td>2008</td><td>44</td></tr><tr><td>New_Hampshire</td><td>2009</td><td>102</td></tr><tr><td>New_Hampshire</td><td>2010</td><td>535</td></tr><tr><td>New_Hampshire</td><td>2011</td><td>1349</td></tr><tr><td>New_Hampshire</td><td>2012</td><td>3628</td></tr><tr><td>New_Hampshire</td><td>2013</td><td>7547</td></tr><tr><td>New_Hampshire</td><td>2014</td><td>10827</td></tr><tr><td>New_Hampshire</td><td>2015</td><td>26105</td></tr><tr><td>New_Hampshire</td><td>2016</td><td>105794</td></tr><tr><td>New_Hampshire</td><td>2017</td><td>356535</td></tr><tr><td>New_Hampshire</td><td>2018</td><td>639654</td></tr><tr><td>New_Hampshire</td><td>2019</td><td>756436</td></tr><tr><td>New_Hampshire</td><td>2020</td><td>520804</td></tr><tr><td>New_Hampshire</td><td>2021</td><td>218680</td></tr><tr><td>New_Jersey</td><td>1999</td><td>2</td></tr><tr><td>New_Jersey</td><td>2000</td><td>1</td></tr><tr><td>New_Jersey</td><td>2001</td><td>3</td></tr><tr><td>New_Jersey</td><td>2002</td><td>22</td></tr><tr><td>New_Jersey</td><td>2003</td><td>6</td></tr><tr><td>New_Jersey</td><td>2004</td><td>201</td></tr><tr><td>New_Jersey</td><td>2005</td><td>12</td></tr><tr><td>New_Jersey</td><td>2006</td><td>269</td></tr><tr><td>New_Jersey</td><td>2007</td><td>161</td></tr><tr><td>New_Jersey</td><td>2008</td><td>477</td></tr><tr><td>New_Jersey</td><td>2009</td><td>557</td></tr><tr><td>New_Jersey</td><td>2010</td><td>2869</td></tr><tr><td>New_Jersey</td><td>2011</td><td>9417</td></tr><tr><td>New_Jersey</td><td>2012</td><td>21964</td></tr><tr><td>New_Jersey</td><td>2013</td><td>48252</td></tr><tr><td>New_Jersey</td><td>2014</td><td>73881</td></tr><tr><td>New_Jersey</td><td>2015</td><td>184498</td></tr><tr><td>New_Jersey</td><td>2016</td><td>683193</td></tr><tr><td>New_Jersey</td><td>2017</td><td>2095662</td></tr><tr><td>New_Jersey</td><td>2018</td><td>3757574</td></tr><tr><td>New_Jersey</td><td>2019</td><td>4475015</td></tr><tr><td>New_Jersey</td><td>2020</td><td>2973187</td></tr><tr><td>New_Jersey</td><td>2021</td><td>1393043</td></tr><tr><td>New_Mexico</td><td>1999</td><td>4</td></tr><tr><td>New_Mexico</td><td>2005</td><td>1</td></tr><tr><td>New_Mexico</td><td>2006</td><td>25</td></tr><tr><td>New_Mexico</td><td>2007</td><td>66</td></tr><tr><td>New_Mexico</td><td>2008</td><td>121</td></tr><tr><td>New_Mexico</td><td>2009</td><td>177</td></tr><tr><td>New_Mexico</td><td>2010</td><td>781</td></tr><tr><td>New_Mexico</td><td>2011</td><td>2577</td></tr><tr><td>New_Mexico</td><td>2012</td><td>5875</td></tr><tr><td>New_Mexico</td><td>2013</td><td>11605</td></tr><tr><td>New_Mexico</td><td>2014</td><td>17775</td></tr><tr><td>New_Mexico</td><td>2015</td><td>43717</td></tr><tr><td>New_Mexico</td><td>2016</td><td>174454</td></tr><tr><td>New_Mexico</td><td>2017</td><td>601214</td></tr><tr><td>New_Mexico</td><td>2018</td><td>1166141</td></tr><tr><td>New_Mexico</td><td>2019</td><td>1444371</td></tr><tr><td>New_Mexico</td><td>2020</td><td>846430</td></tr><tr><td>New_Mexico</td><td>2021</td><td>390055</td></tr><tr><td>New_York</td><td>1990</td><td>411</td></tr><tr><td>New_York</td><td>1999</td><td>10</td></tr><tr><td>New_York</td><td>2000</td><td>4</td></tr><tr><td>New_York</td><td>2001</td><td>7</td></tr><tr><td>New_York</td><td>2002</td><td>150</td></tr><tr><td>New_York</td><td>2003</td><td>150</td></tr><tr><td>New_York</td><td>2004</td><td>458</td></tr><tr><td>New_York</td><td>2005</td><td>1057</td></tr><tr><td>New_York</td><td>2006</td><td>1337</td></tr><tr><td>New_York</td><td>2007</td><td>1302</td></tr><tr><td>New_York</td><td>2008</td><td>2224</td></tr><tr><td>New_York</td><td>2009</td><td>2529</td></tr><tr><td>New_York</td><td>2010</td><td>13526</td></tr><tr><td>New_York</td><td>2011</td><td>36355</td></tr><tr><td>New_York</td><td>2012</td><td>64044</td></tr><tr><td>New_York</td><td>2013</td><td>143088</td></tr><tr><td>New_York</td><td>2014</td><td>188223</td></tr><tr><td>New_York</td><td>2015</td><td>446811</td></tr><tr><td>New_York</td><td>2016</td><td>1583793</td></tr><tr><td>New_York</td><td>2017</td><td>4508192</td></tr><tr><td>New_York</td><td>2018</td><td>8222212</td></tr><tr><td>New_York</td><td>2019</td><td>9970815</td></tr><tr><td>New_York</td><td>2020</td><td>5767967</td></tr><tr><td>New_York</td><td>2021</td><td>2505096</td></tr><tr><td>North_Carolina</td><td>1999</td><td>2</td></tr><tr><td>North_Carolina</td><td>2002</td><td>4</td></tr><tr><td>North_Carolina</td><td>2003</td><td>1</td></tr><tr><td>North_Carolina</td><td>2005</td><td>24</td></tr><tr><td>North_Carolina</td><td>2006</td><td>59</td></tr><tr><td>North_Carolina</td><td>2007</td><td>179</td></tr><tr><td>North_Carolina</td><td>2008</td><td>416</td></tr><tr><td>North_Carolina</td><td>2009</td><td>819</td></tr><tr><td>North_Carolina</td><td>2010</td><td>3668</td></tr><tr><td>North_Carolina</td><td>2011</td><td>13903</td></tr><tr><td>North_Carolina</td><td>2012</td><td>31232</td></tr><tr><td>North_Carolina</td><td>2013</td><td>65389</td></tr><tr><td>North_Carolina</td><td>2014</td><td>98708</td></tr><tr><td>North_Carolina</td><td>2015</td><td>237784</td></tr><tr><td>North_Carolina</td><td>2016</td><td>872434</td></tr><tr><td>North_Carolina</td><td>2017</td><td>2843074</td></tr><tr><td>North_Carolina</td><td>2018</td><td>5228893</td></tr><tr><td>North_Carolina</td><td>2019</td><td>6531719</td></tr><tr><td>North_Carolina</td><td>2020</td><td>4298486</td></tr><tr><td>North_Carolina</td><td>2021</td><td>2072342</td></tr><tr><td>North_Dakota</td><td>2006</td><td>5</td></tr><tr><td>North_Dakota</td><td>2007</td><td>9</td></tr><tr><td>North_Dakota</td><td>2008</td><td>21</td></tr><tr><td>North_Dakota</td><td>2009</td><td>18</td></tr><tr><td>North_Dakota</td><td>2010</td><td>89</td></tr><tr><td>North_Dakota</td><td>2011</td><td>590</td></tr><tr><td>North_Dakota</td><td>2012</td><td>1263</td></tr><tr><td>North_Dakota</td><td>2013</td><td>2732</td></tr><tr><td>North_Dakota</td><td>2014</td><td>3835</td></tr><tr><td>North_Dakota</td><td>2015</td><td>10004</td></tr><tr><td>North_Dakota</td><td>2016</td><td>42297</td></tr><tr><td>North_Dakota</td><td>2017</td><td>150212</td></tr><tr><td>North_Dakota</td><td>2018</td><td>269148</td></tr><tr><td>North_Dakota</td><td>2019</td><td>321343</td></tr><tr><td>North_Dakota</td><td>2020</td><td>212786</td></tr><tr><td>North_Dakota</td><td>2021</td><td>95206</td></tr><tr><td>Ohio</td><td>1999</td><td>4</td></tr><tr><td>Ohio</td><td>2004</td><td>2</td></tr><tr><td>Ohio</td><td>2006</td><td>58</td></tr><tr><td>Ohio</td><td>2007</td><td>179</td></tr><tr><td>Ohio</td><td>2008</td><td>289</td></tr><tr><td>Ohio</td><td>2009</td><td>634</td></tr><tr><td>Ohio</td><td>2010</td><td>2775</td></tr><tr><td>Ohio</td><td>2011</td><td>12003</td></tr><tr><td>Ohio</td><td>2012</td><td>26115</td></tr><tr><td>Ohio</td><td>2013</td><td>52056</td></tr><tr><td>Ohio</td><td>2014</td><td>76980</td></tr><tr><td>Ohio</td><td>2015</td><td>207413</td></tr><tr><td>Ohio</td><td>2016</td><td>832599</td></tr><tr><td>Ohio</td><td>2017</td><td>2987766</td></tr><tr><td>Ohio</td><td>2018</td><td>5594056</td></tr><tr><td>Ohio</td><td>2019</td><td>6820441</td></tr><tr><td>Ohio</td><td>2020</td><td>4420266</td></tr><tr><td>Ohio</td><td>2021</td><td>2005729</td></tr><tr><td>Oklahoma</td><td>1999</td><td>3</td></tr><tr><td>Oklahoma</td><td>2006</td><td>31</td></tr><tr><td>Oklahoma</td><td>2007</td><td>129</td></tr><tr><td>Oklahoma</td><td>2008</td><td>188</td></tr><tr><td>Oklahoma</td><td>2009</td><td>250</td></tr><tr><td>Oklahoma</td><td>2010</td><td>1022</td></tr><tr><td>Oklahoma</td><td>2011</td><td>3878</td></tr><tr><td>Oklahoma</td><td>2012</td><td>8707</td></tr><tr><td>Oklahoma</td><td>2013</td><td>18356</td></tr><tr><td>Oklahoma</td><td>2014</td><td>27647</td></tr><tr><td>Oklahoma</td><td>2015</td><td>73337</td></tr><tr><td>Oklahoma</td><td>2016</td><td>298318</td></tr><tr><td>Oklahoma</td><td>2017</td><td>1062516</td></tr><tr><td>Oklahoma</td><td>2018</td><td>1967006</td></tr><tr><td>Oklahoma</td><td>2019</td><td>2454377</td></tr><tr><td>Oklahoma</td><td>2020</td><td>1742434</td></tr><tr><td>Oklahoma</td><td>2021</td><td>824621</td></tr><tr><td>Oregon</td><td>1990</td><td>9</td></tr><tr><td>Oregon</td><td>1999</td><td>2</td></tr><tr><td>Oregon</td><td>2002</td><td>1</td></tr><tr><td>Oregon</td><td>2003</td><td>8</td></tr><tr><td>Oregon</td><td>2004</td><td>2</td></tr><tr><td>Oregon</td><td>2005</td><td>2</td></tr><tr><td>Oregon</td><td>2006</td><td>28</td></tr><tr><td>Oregon</td><td>2007</td><td>88</td></tr><tr><td>Oregon</td><td>2008</td><td>301</td></tr><tr><td>Oregon</td><td>2009</td><td>622</td></tr><tr><td>Oregon</td><td>2010</td><td>4193</td></tr><tr><td>Oregon</td><td>2011</td><td>27084</td></tr><tr><td>Oregon</td><td>2012</td><td>27437</td></tr><tr><td>Oregon</td><td>2013</td><td>39507</td></tr><tr><td>Oregon</td><td>2014</td><td>56183</td></tr><tr><td>Oregon</td><td>2015</td><td>129644</td></tr><tr><td>Oregon</td><td>2016</td><td>515709</td></tr><tr><td>Oregon</td><td>2017</td><td>1518400</td></tr><tr><td>Oregon</td><td>2018</td><td>2703997</td></tr><tr><td>Oregon</td><td>2019</td><td>3137345</td></tr><tr><td>Oregon</td><td>2020</td><td>1982583</td></tr><tr><td>Oregon</td><td>2021</td><td>869025</td></tr><tr><td>Pennsylvania</td><td>1990</td><td>41</td></tr><tr><td>Pennsylvania</td><td>1999</td><td>4</td></tr><tr><td>Pennsylvania</td><td>2000</td><td>2</td></tr><tr><td>Pennsylvania</td><td>2001</td><td>1</td></tr><tr><td>Pennsylvania</td><td>2002</td><td>1</td></tr><tr><td>Pennsylvania</td><td>2003</td><td>2</td></tr><tr><td>Pennsylvania</td><td>2004</td><td>39</td></tr><tr><td>Pennsylvania</td><td>2005</td><td>23</td></tr><tr><td>Pennsylvania</td><td>2006</td><td>210</td></tr><tr><td>Pennsylvania</td><td>2007</td><td>215</td></tr><tr><td>Pennsylvania</td><td>2008</td><td>466</td></tr><tr><td>Pennsylvania</td><td>2009</td><td>757</td></tr><tr><td>Pennsylvania</td><td>2010</td><td>4226</td></tr><tr><td>Pennsylvania</td><td>2011</td><td>12799</td></tr><tr><td>Pennsylvania</td><td>2012</td><td>29212</td></tr><tr><td>Pennsylvania</td><td>2013</td><td>58057</td></tr><tr><td>Pennsylvania</td><td>2014</td><td>84598</td></tr><tr><td>Pennsylvania</td><td>2015</td><td>220003</td></tr><tr><td>Pennsylvania</td><td>2016</td><td>857919</td></tr><tr><td>Pennsylvania</td><td>2017</td><td>2928459</td></tr><tr><td>Pennsylvania</td><td>2018</td><td>5395594</td></tr><tr><td>Pennsylvania</td><td>2019</td><td>6454808</td></tr><tr><td>Pennsylvania</td><td>2020</td><td>4057083</td></tr><tr><td>Pennsylvania</td><td>2021</td><td>1840283</td></tr><tr><td>Rhode_Island</td><td>2006</td><td>5</td></tr><tr><td>Rhode_Island</td><td>2007</td><td>17</td></tr><tr><td>Rhode_Island</td><td>2008</td><td>23</td></tr><tr><td>Rhode_Island</td><td>2009</td><td>50</td></tr><tr><td>Rhode_Island</td><td>2010</td><td>344</td></tr><tr><td>Rhode_Island</td><td>2011</td><td>1142</td></tr><tr><td>Rhode_Island</td><td>2012</td><td>2239</td></tr><tr><td>Rhode_Island</td><td>2013</td><td>4402</td></tr><tr><td>Rhode_Island</td><td>2014</td><td>7019</td></tr><tr><td>Rhode_Island</td><td>2015</td><td>17681</td></tr><tr><td>Rhode_Island</td><td>2016</td><td>72266</td></tr><tr><td>Rhode_Island</td><td>2017</td><td>244711</td></tr><tr><td>Rhode_Island</td><td>2018</td><td>442436</td></tr><tr><td>Rhode_Island</td><td>2019</td><td>524956</td></tr><tr><td>Rhode_Island</td><td>2020</td><td>319589</td></tr><tr><td>Rhode_Island</td><td>2021</td><td>140214</td></tr><tr><td>South_Carolina</td><td>1999</td><td>5</td></tr><tr><td>South_Carolina</td><td>2005</td><td>5</td></tr><tr><td>South_Carolina</td><td>2006</td><td>38</td></tr><tr><td>South_Carolina</td><td>2007</td><td>106</td></tr><tr><td>South_Carolina</td><td>2008</td><td>135</td></tr><tr><td>South_Carolina</td><td>2009</td><td>340</td></tr><tr><td>South_Carolina</td><td>2010</td><td>1360</td></tr><tr><td>South_Carolina</td><td>2011</td><td>5952</td></tr><tr><td>South_Carolina</td><td>2012</td><td>13155</td></tr><tr><td>South_Carolina</td><td>2013</td><td>27717</td></tr><tr><td>South_Carolina</td><td>2014</td><td>42906</td></tr><tr><td>South_Carolina</td><td>2015</td><td>111167</td></tr><tr><td>South_Carolina</td><td>2016</td><td>430387</td></tr><tr><td>South_Carolina</td><td>2017</td><td>1513338</td></tr><tr><td>South_Carolina</td><td>2018</td><td>2816515</td></tr><tr><td>South_Carolina</td><td>2019</td><td>3567359</td></tr><tr><td>South_Carolina</td><td>2020</td><td>2336964</td></tr><tr><td>South_Carolina</td><td>2021</td><td>1128033</td></tr><tr><td>South_Dakota</td><td>1999</td><td>1</td></tr><tr><td>South_Dakota</td><td>2006</td><td>10</td></tr><tr><td>South_Dakota</td><td>2007</td><td>18</td></tr><tr><td>South_Dakota</td><td>2008</td><td>36</td></tr><tr><td>South_Dakota</td><td>2009</td><td>59</td></tr><tr><td>South_Dakota</td><td>2010</td><td>140</td></tr><tr><td>South_Dakota</td><td>2011</td><td>706</td></tr><tr><td>South_Dakota</td><td>2012</td><td>1465</td></tr><tr><td>South_Dakota</td><td>2013</td><td>2948</td></tr><tr><td>South_Dakota</td><td>2014</td><td>4572</td></tr><tr><td>South_Dakota</td><td>2015</td><td>11883</td></tr><tr><td>South_Dakota</td><td>2016</td><td>50323</td></tr><tr><td>South_Dakota</td><td>2017</td><td>185292</td></tr><tr><td>South_Dakota</td><td>2018</td><td>344188</td></tr><tr><td>South_Dakota</td><td>2019</td><td>423288</td></tr><tr><td>South_Dakota</td><td>2020</td><td>302501</td></tr><tr><td>South_Dakota</td><td>2021</td><td>125169</td></tr><tr><td>Tennessee</td><td>1999</td><td>5</td></tr><tr><td>Tennessee</td><td>2006</td><td>46</td></tr><tr><td>Tennessee</td><td>2007</td><td>150</td></tr><tr><td>Tennessee</td><td>2008</td><td>210</td></tr><tr><td>Tennessee</td><td>2009</td><td>427</td></tr><tr><td>Tennessee</td><td>2010</td><td>1706</td></tr><tr><td>Tennessee</td><td>2011</td><td>7261</td></tr><tr><td>Tennessee</td><td>2012</td><td>16018</td></tr><tr><td>Tennessee</td><td>2013</td><td>33916</td></tr><tr><td>Tennessee</td><td>2014</td><td>53031</td></tr><tr><td>Tennessee</td><td>2015</td><td>141177</td></tr><tr><td>Tennessee</td><td>2016</td><td>577830</td></tr><tr><td>Tennessee</td><td>2017</td><td>1981199</td></tr><tr><td>Tennessee</td><td>2018</td><td>3770489</td></tr><tr><td>Tennessee</td><td>2019</td><td>4738872</td></tr><tr><td>Tennessee</td><td>2020</td><td>3136985</td></tr><tr><td>Tennessee</td><td>2021</td><td>1491891</td></tr><tr><td>Texas</td><td>1990</td><td>29</td></tr><tr><td>Texas</td><td>1999</td><td>11</td></tr><tr><td>Texas</td><td>2003</td><td>10</td></tr><tr><td>Texas</td><td>2004</td><td>1</td></tr><tr><td>Texas</td><td>2005</td><td>142</td></tr><tr><td>Texas</td><td>2006</td><td>185</td></tr><tr><td>Texas</td><td>2007</td><td>578</td></tr><tr><td>Texas</td><td>2008</td><td>997</td></tr><tr><td>Texas</td><td>2009</td><td>2262</td></tr><tr><td>Texas</td><td>2010</td><td>8990</td></tr><tr><td>Texas</td><td>2011</td><td>55120</td></tr><tr><td>Texas</td><td>2012</td><td>95259</td></tr><tr><td>Texas</td><td>2013</td><td>202595</td></tr><tr><td>Texas</td><td>2014</td><td>316218</td></tr><tr><td>Texas</td><td>2015</td><td>767528</td></tr><tr><td>Texas</td><td>2016</td><td>2772976</td></tr><tr><td>Texas</td><td>2017</td><td>8372993</td></tr><tr><td>Texas</td><td>2018</td><td>15255844</td></tr><tr><td>Texas</td><td>2019</td><td>19050685</td></tr><tr><td>Texas</td><td>2020</td><td>13212873</td></tr><tr><td>Texas</td><td>2021</td><td>6319888</td></tr><tr><td>Utah</td><td>1990</td><td>5</td></tr><tr><td>Utah</td><td>1999</td><td>3</td></tr><tr><td>Utah</td><td>2004</td><td>4</td></tr><tr><td>Utah</td><td>2005</td><td>4</td></tr><tr><td>Utah</td><td>2006</td><td>14</td></tr><tr><td>Utah</td><td>2007</td><td>99</td></tr><tr><td>Utah</td><td>2008</td><td>176</td></tr><tr><td>Utah</td><td>2009</td><td>379</td></tr><tr><td>Utah</td><td>2010</td><td>2125</td></tr><tr><td>Utah</td><td>2011</td><td>6826</td></tr><tr><td>Utah</td><td>2012</td><td>15559</td></tr><tr><td>Utah</td><td>2013</td><td>30357</td></tr><tr><td>Utah</td><td>2014</td><td>51509</td></tr><tr><td>Utah</td><td>2015</td><td>120284</td></tr><tr><td>Utah</td><td>2016</td><td>433571</td></tr><tr><td>Utah</td><td>2017</td><td>1203166</td></tr><tr><td>Utah</td><td>2018</td><td>2057327</td></tr><tr><td>Utah</td><td>2019</td><td>2543636</td></tr><tr><td>Utah</td><td>2020</td><td>1795956</td></tr><tr><td>Utah</td><td>2021</td><td>820167</td></tr><tr><td>Vermont</td><td>1999</td><td>2</td></tr><tr><td>Vermont</td><td>2006</td><td>9</td></tr><tr><td>Vermont</td><td>2007</td><td>13</td></tr><tr><td>Vermont</td><td>2008</td><td>25</td></tr><tr><td>Vermont</td><td>2009</td><td>56</td></tr><tr><td>Vermont</td><td>2010</td><td>188</td></tr><tr><td>Vermont</td><td>2011</td><td>769</td></tr><tr><td>Vermont</td><td>2012</td><td>1391</td></tr><tr><td>Vermont</td><td>2013</td><td>2962</td></tr><tr><td>Vermont</td><td>2014</td><td>4224</td></tr><tr><td>Vermont</td><td>2015</td><td>9601</td></tr><tr><td>Vermont</td><td>2016</td><td>39033</td></tr><tr><td>Vermont</td><td>2017</td><td>121002</td></tr><tr><td>Vermont</td><td>2018</td><td>216229</td></tr><tr><td>Vermont</td><td>2019</td><td>247209</td></tr><tr><td>Vermont</td><td>2020</td><td>147006</td></tr><tr><td>Vermont</td><td>2021</td><td>62484</td></tr><tr><td>Virginia</td><td>1990</td><td>18</td></tr><tr><td>Virginia</td><td>1999</td><td>7</td></tr><tr><td>Virginia</td><td>2002</td><td>1</td></tr><tr><td>Virginia</td><td>2003</td><td>1</td></tr><tr><td>Virginia</td><td>2004</td><td>3</td></tr><tr><td>Virginia</td><td>2005</td><td>20</td></tr><tr><td>Virginia</td><td>2006</td><td>103</td></tr><tr><td>Virginia</td><td>2007</td><td>168</td></tr><tr><td>Virginia</td><td>2008</td><td>420</td></tr><tr><td>Virginia</td><td>2009</td><td>664</td></tr><tr><td>Virginia</td><td>2010</td><td>3316</td></tr><tr><td>Virginia</td><td>2011</td><td>12017</td></tr><tr><td>Virginia</td><td>2012</td><td>26139</td></tr><tr><td>Virginia</td><td>2013</td><td>52231</td></tr><tr><td>Virginia</td><td>2014</td><td>80012</td></tr><tr><td>Virginia</td><td>2015</td><td>191140</td></tr><tr><td>Virginia</td><td>2016</td><td>680911</td></tr><tr><td>Virginia</td><td>2017</td><td>2073030</td></tr><tr><td>Virginia</td><td>2018</td><td>3771691</td></tr><tr><td>Virginia</td><td>2019</td><td>4656865</td></tr><tr><td>Virginia</td><td>2020</td><td>3016787</td></tr><tr><td>Virginia</td><td>2021</td><td>1392394</td></tr><tr><td>Washington</td><td>1999</td><td>4</td></tr><tr><td>Washington</td><td>2001</td><td>1</td></tr><tr><td>Washington</td><td>2002</td><td>3</td></tr><tr><td>Washington</td><td>2003</td><td>1</td></tr><tr><td>Washington</td><td>2004</td><td>1</td></tr><tr><td>Washington</td><td>2005</td><td>2</td></tr><tr><td>Washington</td><td>2006</td><td>78</td></tr><tr><td>Washington</td><td>2007</td><td>219</td></tr><tr><td>Washington</td><td>2008</td><td>429</td></tr><tr><td>Washington</td><td>2009</td><td>746</td></tr><tr><td>Washington</td><td>2010</td><td>5248</td></tr><tr><td>Washington</td><td>2011</td><td>18281</td></tr><tr><td>Washington</td><td>2012</td><td>30394</td></tr><tr><td>Washington</td><td>2013</td><td>50738</td></tr><tr><td>Washington</td><td>2014</td><td>78306</td></tr><tr><td>Washington</td><td>2015</td><td>189333</td></tr><tr><td>Washington</td><td>2016</td><td>758736</td></tr><tr><td>Washington</td><td>2017</td><td>2298026</td></tr><tr><td>Washington</td><td>2018</td><td>4090672</td></tr><tr><td>Washington</td><td>2019</td><td>4843869</td></tr><tr><td>Washington</td><td>2020</td><td>2905007</td></tr><tr><td>Washington</td><td>2021</td><td>1271640</td></tr><tr><td>West_Virginia</td><td>2006</td><td>15</td></tr><tr><td>West_Virginia</td><td>2007</td><td>20</td></tr><tr><td>West_Virginia</td><td>2008</td><td>40</td></tr><tr><td>West_Virginia</td><td>2009</td><td>39</td></tr><tr><td>West_Virginia</td><td>2010</td><td>194</td></tr><tr><td>West_Virginia</td><td>2011</td><td>1021</td></tr><tr><td>West_Virginia</td><td>2012</td><td>2095</td></tr><tr><td>West_Virginia</td><td>2013</td><td>4158</td></tr><tr><td>West_Virginia</td><td>2014</td><td>5457</td></tr><tr><td>West_Virginia</td><td>2015</td><td>16086</td></tr><tr><td>West_Virginia</td><td>2016</td><td>70556</td></tr><tr><td>West_Virginia</td><td>2017</td><td>282480</td></tr><tr><td>West_Virginia</td><td>2018</td><td>538386</td></tr><tr><td>West_Virginia</td><td>2019</td><td>664726</td></tr><tr><td>West_Virginia</td><td>2020</td><td>423374</td></tr><tr><td>West_Virginia</td><td>2021</td><td>199552</td></tr><tr><td>Wisconsin</td><td>1990</td><td>4</td></tr><tr><td>Wisconsin</td><td>1999</td><td>3</td></tr><tr><td>Wisconsin</td><td>2004</td><td>10</td></tr><tr><td>Wisconsin</td><td>2005</td><td>5</td></tr><tr><td>Wisconsin</td><td>2006</td><td>22</td></tr><tr><td>Wisconsin</td><td>2007</td><td>69</td></tr><tr><td>Wisconsin</td><td>2008</td><td>163</td></tr><tr><td>Wisconsin</td><td>2009</td><td>395</td></tr><tr><td>Wisconsin</td><td>2010</td><td>1791</td></tr><tr><td>Wisconsin</td><td>2011</td><td>7575</td></tr><tr><td>Wisconsin</td><td>2012</td><td>14874</td></tr><tr><td>Wisconsin</td><td>2013</td><td>28346</td></tr><tr><td>Wisconsin</td><td>2014</td><td>40622</td></tr><tr><td>Wisconsin</td><td>2015</td><td>100886</td></tr><tr><td>Wisconsin</td><td>2016</td><td>407486</td></tr><tr><td>Wisconsin</td><td>2017</td><td>1405094</td></tr><tr><td>Wisconsin</td><td>2018</td><td>2526869</td></tr><tr><td>Wisconsin</td><td>2019</td><td>2969487</td></tr><tr><td>Wisconsin</td><td>2020</td><td>1896948</td></tr><tr><td>Wisconsin</td><td>2021</td><td>846036</td></tr><tr><td>Wyoming</td><td>2006</td><td>10</td></tr><tr><td>Wyoming</td><td>2007</td><td>27</td></tr><tr><td>Wyoming</td><td>2008</td><td>38</td></tr><tr><td>Wyoming</td><td>2009</td><td>66</td></tr><tr><td>Wyoming</td><td>2010</td><td>181</td></tr><tr><td>Wyoming</td><td>2011</td><td>631</td></tr><tr><td>Wyoming</td><td>2012</td><td>1258</td></tr><tr><td>Wyoming</td><td>2013</td><td>2715</td></tr><tr><td>Wyoming</td><td>2014</td><td>4236</td></tr><tr><td>Wyoming</td><td>2015</td><td>9885</td></tr><tr><td>Wyoming</td><td>2016</td><td>42674</td></tr><tr><td>Wyoming</td><td>2017</td><td>148279</td></tr><tr><td>Wyoming</td><td>2018</td><td>274867</td></tr><tr><td>Wyoming</td><td>2019</td><td>341383</td></tr><tr><td>Wyoming</td><td>2020</td><td>226991</td></tr><tr><td>Wyoming</td><td>2021</td><td>88180</td></tr><tr><td>other</td><td>1990</td><td>2</td></tr><tr><td>other</td><td>2004</td><td>2</td></tr><tr><td>other</td><td>2006</td><td>1</td></tr><tr><td>other</td><td>2007</td><td>1</td></tr><tr><td>other</td><td>2008</td><td>5</td></tr><tr><td>other</td><td>2009</td><td>1</td></tr><tr><td>other</td><td>2010</td><td>41</td></tr><tr><td>other</td><td>2011</td><td>106</td></tr><tr><td>other</td><td>2012</td><td>220</td></tr><tr><td>other</td><td>2013</td><td>376</td></tr><tr><td>other</td><td>2014</td><td>683</td></tr><tr><td>other</td><td>2015</td><td>1850</td></tr><tr><td>other</td><td>2016</td><td>6310</td></tr><tr><td>other</td><td>2017</td><td>16869</td></tr><tr><td>other</td><td>2018</td><td>35097</td></tr><tr><td>other</td><td>2019</td><td>48509</td></tr><tr><td>other</td><td>2020</td><td>35349</td></tr><tr><td>other</td><td>2021</td><td>17530</td></tr></tbody></table></div>"
      ]
     },
     "metadata": {
      "application/vnd.databricks.v1+output": {
       "addedWidgets": {},
       "aggData": [],
       "aggError": "",
       "aggOverflow": false,
       "aggSchema": [],
       "aggSeriesLimitReached": false,
       "aggType": "",
       "arguments": {},
       "columnCustomDisplayInfos": {},
       "data": [
        [
         "Alabama",
         1999,
         2
        ],
        [
         "Alabama",
         2006,
         45
        ],
        [
         "Alabama",
         2007,
         91
        ],
        [
         "Alabama",
         2008,
         110
        ],
        [
         "Alabama",
         2009,
         182
        ],
        [
         "Alabama",
         2010,
         862
        ],
        [
         "Alabama",
         2011,
         3576
        ],
        [
         "Alabama",
         2012,
         8225
        ],
        [
         "Alabama",
         2013,
         17159
        ],
        [
         "Alabama",
         2014,
         25792
        ],
        [
         "Alabama",
         2015,
         68502
        ],
        [
         "Alabama",
         2016,
         297455
        ],
        [
         "Alabama",
         2017,
         1128700
        ],
        [
         "Alabama",
         2018,
         2133922
        ],
        [
         "Alabama",
         2019,
         2654002
        ],
        [
         "Alabama",
         2020,
         1755053
        ],
        [
         "Alabama",
         2021,
         873821
        ],
        [
         "Alaska",
         2006,
         10
        ],
        [
         "Alaska",
         2007,
         15
        ],
        [
         "Alaska",
         2008,
         53
        ],
        [
         "Alaska",
         2009,
         65
        ],
        [
         "Alaska",
         2010,
         225
        ],
        [
         "Alaska",
         2011,
         784
        ],
        [
         "Alaska",
         2012,
         1589
        ],
        [
         "Alaska",
         2013,
         3445
        ],
        [
         "Alaska",
         2014,
         5090
        ],
        [
         "Alaska",
         2015,
         12122
        ],
        [
         "Alaska",
         2016,
         45425
        ],
        [
         "Alaska",
         2017,
         141052
        ],
        [
         "Alaska",
         2018,
         258700
        ],
        [
         "Alaska",
         2019,
         324900
        ],
        [
         "Alaska",
         2020,
         177311
        ],
        [
         "Alaska",
         2021,
         80460
        ],
        [
         "Arizona",
         1990,
         3
        ],
        [
         "Arizona",
         1999,
         1
        ],
        [
         "Arizona",
         2001,
         1
        ],
        [
         "Arizona",
         2002,
         7
        ],
        [
         "Arizona",
         2003,
         2
        ],
        [
         "Arizona",
         2004,
         1
        ],
        [
         "Arizona",
         2005,
         37
        ],
        [
         "Arizona",
         2006,
         39
        ],
        [
         "Arizona",
         2007,
         135
        ],
        [
         "Arizona",
         2008,
         362
        ],
        [
         "Arizona",
         2009,
         584
        ],
        [
         "Arizona",
         2010,
         2566
        ],
        [
         "Arizona",
         2011,
         11199
        ],
        [
         "Arizona",
         2012,
         26459
        ],
        [
         "Arizona",
         2013,
         56702
        ],
        [
         "Arizona",
         2014,
         85505
        ],
        [
         "Arizona",
         2015,
         208368
        ],
        [
         "Arizona",
         2016,
         743294
        ],
        [
         "Arizona",
         2017,
         2240694
        ],
        [
         "Arizona",
         2018,
         4249867
        ],
        [
         "Arizona",
         2019,
         5270647
        ],
        [
         "Arizona",
         2020,
         3692958
        ],
        [
         "Arizona",
         2021,
         1785619
        ],
        [
         "Arkansas",
         1999,
         5
        ],
        [
         "Arkansas",
         2006,
         36
        ],
        [
         "Arkansas",
         2007,
         68
        ],
        [
         "Arkansas",
         2008,
         86
        ],
        [
         "Arkansas",
         2009,
         160
        ],
        [
         "Arkansas",
         2010,
         443
        ],
        [
         "Arkansas",
         2011,
         2082
        ],
        [
         "Arkansas",
         2012,
         4115
        ],
        [
         "Arkansas",
         2013,
         9263
        ],
        [
         "Arkansas",
         2014,
         13269
        ],
        [
         "Arkansas",
         2015,
         39138
        ],
        [
         "Arkansas",
         2016,
         167261
        ],
        [
         "Arkansas",
         2017,
         650528
        ],
        [
         "Arkansas",
         2018,
         1200515
        ],
        [
         "Arkansas",
         2019,
         1510024
        ],
        [
         "Arkansas",
         2020,
         1014292
        ],
        [
         "Arkansas",
         2021,
         494771
        ],
        [
         "California",
         1990,
         221
        ],
        [
         "California",
         1999,
         24
        ],
        [
         "California",
         2000,
         9
        ],
        [
         "California",
         2001,
         4
        ],
        [
         "California",
         2002,
         75
        ],
        [
         "California",
         2003,
         201
        ],
        [
         "California",
         2004,
         472
        ],
        [
         "California",
         2005,
         720
        ],
        [
         "California",
         2006,
         993
        ],
        [
         "California",
         2007,
         1647
        ],
        [
         "California",
         2008,
         2435
        ],
        [
         "California",
         2009,
         3794
        ],
        [
         "California",
         2010,
         34980
        ],
        [
         "California",
         2011,
         72988
        ],
        [
         "California",
         2012,
         132508
        ],
        [
         "California",
         2013,
         271604
        ],
        [
         "California",
         2014,
         399454
        ],
        [
         "California",
         2015,
         919459
        ],
        [
         "California",
         2016,
         3461101
        ],
        [
         "California",
         2017,
         9737550
        ],
        [
         "California",
         2018,
         17107104
        ],
        [
         "California",
         2019,
         20478634
        ],
        [
         "California",
         2020,
         12454014
        ],
        [
         "California",
         2021,
         5449986
        ],
        [
         "Colorado",
         1990,
         29
        ],
        [
         "Colorado",
         1999,
         1
        ],
        [
         "Colorado",
         2000,
         1
        ],
        [
         "Colorado",
         2004,
         4
        ],
        [
         "Colorado",
         2006,
         31
        ],
        [
         "Colorado",
         2007,
         151
        ],
        [
         "Colorado",
         2008,
         399
        ],
        [
         "Colorado",
         2009,
         734
        ],
        [
         "Colorado",
         2010,
         3374
        ],
        [
         "Colorado",
         2011,
         11777
        ],
        [
         "Colorado",
         2012,
         32853
        ],
        [
         "Colorado",
         2013,
         57118
        ],
        [
         "Colorado",
         2014,
         92876
        ],
        [
         "Colorado",
         2015,
         214506
        ],
        [
         "Colorado",
         2016,
         733698
        ],
        [
         "Colorado",
         2017,
         2084034
        ],
        [
         "Colorado",
         2018,
         3683398
        ],
        [
         "Colorado",
         2019,
         4339447
        ],
        [
         "Colorado",
         2020,
         3058817
        ],
        [
         "Colorado",
         2021,
         1367974
        ],
        [
         "Connecticut",
         1999,
         3
        ],
        [
         "Connecticut",
         2002,
         13
        ],
        [
         "Connecticut",
         2003,
         1
        ],
        [
         "Connecticut",
         2004,
         46
        ],
        [
         "Connecticut",
         2005,
         24
        ],
        [
         "Connecticut",
         2006,
         83
        ],
        [
         "Connecticut",
         2007,
         59
        ],
        [
         "Connecticut",
         2008,
         210
        ],
        [
         "Connecticut",
         2009,
         194
        ],
        [
         "Connecticut",
         2010,
         1041
        ],
        [
         "Connecticut",
         2011,
         3140
        ],
        [
         "Connecticut",
         2012,
         7153
        ],
        [
         "Connecticut",
         2013,
         15473
        ],
        [
         "Connecticut",
         2014,
         24207
        ],
        [
         "Connecticut",
         2015,
         59064
        ],
        [
         "Connecticut",
         2016,
         218443
        ],
        [
         "Connecticut",
         2017,
         685172
        ],
        [
         "Connecticut",
         2018,
         1249462
        ],
        [
         "Connecticut",
         2019,
         1484028
        ],
        [
         "Connecticut",
         2020,
         976491
        ],
        [
         "Connecticut",
         2021,
         457493
        ],
        [
         "Delaware",
         2004,
         3
        ],
        [
         "Delaware",
         2005,
         5
        ],
        [
         "Delaware",
         2006,
         5
        ],
        [
         "Delaware",
         2007,
         12
        ],
        [
         "Delaware",
         2008,
         28
        ],
        [
         "Delaware",
         2009,
         31
        ],
        [
         "Delaware",
         2010,
         309
        ],
        [
         "Delaware",
         2011,
         826
        ],
        [
         "Delaware",
         2012,
         2085
        ],
        [
         "Delaware",
         2013,
         4310
        ],
        [
         "Delaware",
         2014,
         6518
        ],
        [
         "Delaware",
         2015,
         16867
        ],
        [
         "Delaware",
         2016,
         68972
        ],
        [
         "Delaware",
         2017,
         243191
        ],
        [
         "Delaware",
         2018,
         451855
        ],
        [
         "Delaware",
         2019,
         556260
        ],
        [
         "Delaware",
         2020,
         367293
        ],
        [
         "Delaware",
         2021,
         167378
        ],
        [
         "District_of_Columbia",
         1990,
         54
        ],
        [
         "District_of_Columbia",
         2001,
         2
        ],
        [
         "District_of_Columbia",
         2003,
         1
        ],
        [
         "District_of_Columbia",
         2004,
         16
        ],
        [
         "District_of_Columbia",
         2005,
         29
        ],
        [
         "District_of_Columbia",
         2006,
         75
        ],
        [
         "District_of_Columbia",
         2007,
         28
        ],
        [
         "District_of_Columbia",
         2008,
         190
        ],
        [
         "District_of_Columbia",
         2009,
         144
        ],
        [
         "District_of_Columbia",
         2010,
         1344
        ],
        [
         "District_of_Columbia",
         2011,
         2523
        ],
        [
         "District_of_Columbia",
         2012,
         5435
        ],
        [
         "District_of_Columbia",
         2013,
         8002
        ],
        [
         "District_of_Columbia",
         2014,
         14935
        ],
        [
         "District_of_Columbia",
         2015,
         32112
        ],
        [
         "District_of_Columbia",
         2016,
         115490
        ],
        [
         "District_of_Columbia",
         2017,
         286807
        ],
        [
         "District_of_Columbia",
         2018,
         499145
        ],
        [
         "District_of_Columbia",
         2019,
         591703
        ],
        [
         "District_of_Columbia",
         2020,
         247433
        ],
        [
         "District_of_Columbia",
         2021,
         88849
        ],
        [
         "Florida",
         1990,
         5
        ],
        [
         "Florida",
         1999,
         7
        ],
        [
         "Florida",
         2000,
         1
        ],
        [
         "Florida",
         2001,
         2
        ],
        [
         "Florida",
         2002,
         6
        ],
        [
         "Florida",
         2003,
         123
        ],
        [
         "Florida",
         2004,
         7
        ],
        [
         "Florida",
         2005,
         211
        ],
        [
         "Florida",
         2006,
         197
        ],
        [
         "Florida",
         2007,
         597
        ],
        [
         "Florida",
         2008,
         978
        ],
        [
         "Florida",
         2009,
         2150
        ],
        [
         "Florida",
         2010,
         7216
        ],
        [
         "Florida",
         2011,
         31662
        ],
        [
         "Florida",
         2012,
         77383
        ],
        [
         "Florida",
         2013,
         177978
        ],
        [
         "Florida",
         2014,
         288892
        ],
        [
         "Florida",
         2015,
         731592
        ],
        [
         "Florida",
         2016,
         2573073
        ],
        [
         "Florida",
         2017,
         7476987
        ],
        [
         "Florida",
         2018,
         14226733
        ],
        [
         "Florida",
         2019,
         17819548
        ],
        [
         "Florida",
         2020,
         12190397
        ],
        [
         "Florida",
         2021,
         6197779
        ],
        [
         "Georgia",
         1999,
         5
        ],
        [
         "Georgia",
         2001,
         2
        ],
        [
         "Georgia",
         2003,
         10
        ],
        [
         "Georgia",
         2004,
         8
        ],
        [
         "Georgia",
         2005,
         55
        ],
        [
         "Georgia",
         2006,
         125
        ],
        [
         "Georgia",
         2007,
         257
        ],
        [
         "Georgia",
         2008,
         440
        ],
        [
         "Georgia",
         2009,
         763
        ],
        [
         "Georgia",
         2010,
         3379
        ],
        [
         "Georgia",
         2011,
         13159
        ],
        [
         "Georgia",
         2012,
         29384
        ],
        [
         "Georgia",
         2013,
         63400
        ],
        [
         "Georgia",
         2014,
         108551
        ],
        [
         "Georgia",
         2015,
         266525
        ],
        [
         "Georgia",
         2016,
         998045
        ],
        [
         "Georgia",
         2017,
         3094342
        ],
        [
         "Georgia",
         2018,
         5562896
        ],
        [
         "Georgia",
         2019,
         6836719
        ],
        [
         "Georgia",
         2020,
         4754743
        ],
        [
         "Georgia",
         2021,
         2327317
        ],
        [
         "Hawaii",
         1990,
         1
        ],
        [
         "Hawaii",
         2002,
         3
        ],
        [
         "Hawaii",
         2004,
         1
        ],
        [
         "Hawaii",
         2005,
         24
        ],
        [
         "Hawaii",
         2006,
         25
        ],
        [
         "Hawaii",
         2007,
         44
        ],
        [
         "Hawaii",
         2008,
         205
        ],
        [
         "Hawaii",
         2009,
         158
        ],
        [
         "Hawaii",
         2010,
         596
        ],
        [
         "Hawaii",
         2011,
         2858
        ],
        [
         "Hawaii",
         2012,
         5939
        ],
        [
         "Hawaii",
         2013,
         11336
        ],
        [
         "Hawaii",
         2014,
         16275
        ],
        [
         "Hawaii",
         2015,
         38181
        ],
        [
         "Hawaii",
         2016,
         147408
        ],
        [
         "Hawaii",
         2017,
         406397
        ],
        [
         "Hawaii",
         2018,
         802270
        ],
        [
         "Hawaii",
         2019,
         1031857
        ],
        [
         "Hawaii",
         2020,
         436246
        ],
        [
         "Hawaii",
         2021,
         211707
        ],
        [
         "Idaho",
         2006,
         9
        ],
        [
         "Idaho",
         2007,
         28
        ],
        [
         "Idaho",
         2008,
         58
        ],
        [
         "Idaho",
         2009,
         104
        ],
        [
         "Idaho",
         2010,
         600
        ],
        [
         "Idaho",
         2011,
         1922
        ],
        [
         "Idaho",
         2012,
         4708
        ],
        [
         "Idaho",
         2013,
         9722
        ],
        [
         "Idaho",
         2014,
         15052
        ],
        [
         "Idaho",
         2015,
         37305
        ],
        [
         "Idaho",
         2016,
         141070
        ],
        [
         "Idaho",
         2017,
         489812
        ],
        [
         "Idaho",
         2018,
         915645
        ],
        [
         "Idaho",
         2019,
         1114211
        ],
        [
         "Idaho",
         2020,
         793819
        ],
        [
         "Idaho",
         2021,
         368571
        ],
        [
         "Illinois",
         1990,
         48
        ],
        [
         "Illinois",
         1999,
         2
        ],
        [
         "Illinois",
         2001,
         4
        ],
        [
         "Illinois",
         2002,
         1
        ],
        [
         "Illinois",
         2003,
         2
        ],
        [
         "Illinois",
         2004,
         36
        ],
        [
         "Illinois",
         2005,
         32
        ],
        [
         "Illinois",
         2006,
         221
        ],
        [
         "Illinois",
         2007,
         311
        ],
        [
         "Illinois",
         2008,
         501
        ],
        [
         "Illinois",
         2009,
         958
        ],
        [
         "Illinois",
         2010,
         5512
        ],
        [
         "Illinois",
         2011,
         17970
        ],
        [
         "Illinois",
         2012,
         39441
        ],
        [
         "Illinois",
         2013,
         106122
        ],
        [
         "Illinois",
         2014,
         122869
        ],
        [
         "Illinois",
         2015,
         287665
        ],
        [
         "Illinois",
         2016,
         1031707
        ],
        [
         "Illinois",
         2017,
         3182891
        ],
        [
         "Illinois",
         2018,
         5535795
        ],
        [
         "Illinois",
         2019,
         6507648
        ],
        [
         "Illinois",
         2020,
         4321511
        ],
        [
         "Illinois",
         2021,
         1935591
        ],
        [
         "Indiana",
         1999,
         6
        ],
        [
         "Indiana",
         2006,
         44
        ],
        [
         "Indiana",
         2007,
         95
        ],
        [
         "Indiana",
         2008,
         143
        ],
        [
         "Indiana",
         2009,
         294
        ],
        [
         "Indiana",
         2010,
         1537
        ],
        [
         "Indiana",
         2011,
         6139
        ],
        [
         "Indiana",
         2012,
         13778
        ],
        [
         "Indiana",
         2013,
         28081
        ],
        [
         "Indiana",
         2014,
         42318
        ],
        [
         "Indiana",
         2015,
         111859
        ],
        [
         "Indiana",
         2016,
         452361
        ],
        [
         "Indiana",
         2017,
         1641965
        ],
        [
         "Indiana",
         2018,
         3079664
        ],
        [
         "Indiana",
         2019,
         3755393
        ],
        [
         "Indiana",
         2020,
         2534321
        ],
        [
         "Indiana",
         2021,
         1197169
        ],
        [
         "Iowa",
         1999,
         2
        ],
        [
         "Iowa",
         2004,
         3
        ],
        [
         "Iowa",
         2005,
         1
        ],
        [
         "Iowa",
         2006,
         20
        ],
        [
         "Iowa",
         2007,
         54
        ],
        [
         "Iowa",
         2008,
         98
        ],
        [
         "Iowa",
         2009,
         175
        ],
        [
         "Iowa",
         2010,
         757
        ],
        [
         "Iowa",
         2011,
         3124
        ],
        [
         "Iowa",
         2012,
         6096
        ],
        [
         "Iowa",
         2013,
         12107
        ],
        [
         "Iowa",
         2014,
         16578
        ],
        [
         "Iowa",
         2015,
         42566
        ],
        [
         "Iowa",
         2016,
         177613
        ],
        [
         "Iowa",
         2017,
         651187
        ],
        [
         "Iowa",
         2018,
         1197823
        ],
        [
         "Iowa",
         2019,
         1405963
        ],
        [
         "Iowa",
         2020,
         907193
        ],
        [
         "Iowa",
         2021,
         417527
        ],
        [
         "Kansas",
         1999,
         2
        ],
        [
         "Kansas",
         2001,
         1
        ],
        [
         "Kansas",
         2006,
         25
        ],
        [
         "Kansas",
         2007,
         61
        ],
        [
         "Kansas",
         2008,
         78
        ],
        [
         "Kansas",
         2009,
         198
        ],
        [
         "Kansas",
         2010,
         931
        ],
        [
         "Kansas",
         2011,
         3676
        ],
        [
         "Kansas",
         2012,
         7418
        ],
        [
         "Kansas",
         2013,
         14817
        ],
        [
         "Kansas",
         2014,
         21894
        ],
        [
         "Kansas",
         2015,
         55096
        ],
        [
         "Kansas",
         2016,
         217529
        ],
        [
         "Kansas",
         2017,
         747432
        ],
        [
         "Kansas",
         2018,
         1333423
        ],
        [
         "Kansas",
         2019,
         1609812
        ],
        [
         "Kansas",
         2020,
         1049434
        ],
        [
         "Kansas",
         2021,
         485053
        ],
        [
         "Kentucky",
         1999,
         2
        ],
        [
         "Kentucky",
         2004,
         1
        ],
        [
         "Kentucky",
         2005,
         1
        ],
        [
         "Kentucky",
         2006,
         37
        ],
        [
         "Kentucky",
         2007,
         72
        ],
        [
         "Kentucky",
         2008,
         119
        ],
        [
         "Kentucky",
         2009,
         183
        ],
        [
         "Kentucky",
         2010,
         866
        ],
        [
         "Kentucky",
         2011,
         3077
        ],
        [
         "Kentucky",
         2012,
         7359
        ],
        [
         "Kentucky",
         2013,
         14361
        ],
        [
         "Kentucky",
         2014,
         22677
        ],
        [
         "Kentucky",
         2015,
         62625
        ],
        [
         "Kentucky",
         2016,
         265836
        ],
        [
         "Kentucky",
         2017,
         971645
        ],
        [
         "Kentucky",
         2018,
         1847417
        ],
        [
         "Kentucky",
         2019,
         2310912
        ],
        [
         "Kentucky",
         2020,
         1445779
        ],
        [
         "Kentucky",
         2021,
         702024
        ],
        [
         "Louisiana",
         1999,
         2
        ],
        [
         "Louisiana",
         2001,
         6
        ],
        [
         "Louisiana",
         2003,
         32
        ],
        [
         "Louisiana",
         2004,
         4
        ],
        [
         "Louisiana",
         2005,
         1
        ],
        [
         "Louisiana",
         2006,
         49
        ],
        [
         "Louisiana",
         2007,
         53
        ],
        [
         "Louisiana",
         2008,
         207
        ],
        [
         "Louisiana",
         2009,
         235
        ],
        [
         "Louisiana",
         2010,
         1016
        ],
        [
         "Louisiana",
         2011,
         4152
        ],
        [
         "Louisiana",
         2012,
         8985
        ],
        [
         "Louisiana",
         2013,
         17905
        ],
        [
         "Louisiana",
         2014,
         26465
        ],
        [
         "Louisiana",
         2015,
         70498
        ],
        [
         "Louisiana",
         2016,
         281361
        ],
        [
         "Louisiana",
         2017,
         963922
        ],
        [
         "Louisiana",
         2018,
         1849092
        ],
        [
         "Louisiana",
         2019,
         2269756
        ],
        [
         "Louisiana",
         2020,
         1368943
        ],
        [
         "Louisiana",
         2021,
         673394
        ],
        [
         "Maine",
         1999,
         1
        ],
        [
         "Maine",
         2006,
         5
        ],
        [
         "Maine",
         2007,
         18
        ],
        [
         "Maine",
         2008,
         54
        ],
        [
         "Maine",
         2009,
         86
        ],
        [
         "Maine",
         2010,
         299
        ],
        [
         "Maine",
         2011,
         1220
        ],
        [
         "Maine",
         2012,
         2765
        ],
        [
         "Maine",
         2013,
         5485
        ],
        [
         "Maine",
         2014,
         8209
        ],
        [
         "Maine",
         2015,
         20059
        ],
        [
         "Maine",
         2016,
         83449
        ],
        [
         "Maine",
         2017,
         303353
        ],
        [
         "Maine",
         2018,
         557043
        ],
        [
         "Maine",
         2019,
         669093
        ],
        [
         "Maine",
         2020,
         401742
        ],
        [
         "Maine",
         2021,
         161892
        ],
        [
         "Maryland",
         1990,
         19
        ],
        [
         "Maryland",
         1999,
         4
        ],
        [
         "Maryland",
         2001,
         1
        ],
        [
         "Maryland",
         2002,
         1
        ],
        [
         "Maryland",
         2003,
         4
        ],
        [
         "Maryland",
         2004,
         4
        ],
        [
         "Maryland",
         2005,
         19
        ],
        [
         "Maryland",
         2006,
         71
        ],
        [
         "Maryland",
         2007,
         103
        ],
        [
         "Maryland",
         2008,
         247
        ],
        [
         "Maryland",
         2009,
         433
        ],
        [
         "Maryland",
         2010,
         2390
        ],
        [
         "Maryland",
         2011,
         7718
        ],
        [
         "Maryland",
         2012,
         16697
        ],
        [
         "Maryland",
         2013,
         33988
        ],
        [
         "Maryland",
         2014,
         53960
        ],
        [
         "Maryland",
         2015,
         129141
        ],
        [
         "Maryland",
         2016,
         462473
        ],
        [
         "Maryland",
         2017,
         1416565
        ],
        [
         "Maryland",
         2018,
         2556883
        ],
        [
         "Maryland",
         2019,
         3125174
        ],
        [
         "Maryland",
         2020,
         2007696
        ],
        [
         "Maryland",
         2021,
         914892
        ],
        [
         "Massachusetts",
         1999,
         4
        ],
        [
         "Massachusetts",
         2000,
         2
        ],
        [
         "Massachusetts",
         2001,
         1
        ],
        [
         "Massachusetts",
         2002,
         26
        ],
        [
         "Massachusetts",
         2003,
         11
        ],
        [
         "Massachusetts",
         2004,
         220
        ],
        [
         "Massachusetts",
         2005,
         17
        ],
        [
         "Massachusetts",
         2006,
         245
        ],
        [
         "Massachusetts",
         2007,
         122
        ],
        [
         "Massachusetts",
         2008,
         503
        ],
        [
         "Massachusetts",
         2009,
         456
        ],
        [
         "Massachusetts",
         2010,
         3578
        ],
        [
         "Massachusetts",
         2011,
         10289
        ],
        [
         "Massachusetts",
         2012,
         25271
        ],
        [
         "Massachusetts",
         2013,
         34721
        ],
        [
         "Massachusetts",
         2014,
         56385
        ],
        [
         "Massachusetts",
         2015,
         126565
        ],
        [
         "Massachusetts",
         2016,
         499989
        ],
        [
         "Massachusetts",
         2017,
         1473313
        ],
        [
         "Massachusetts",
         2018,
         2558626
        ],
        [
         "Massachusetts",
         2019,
         3031449
        ],
        [
         "Massachusetts",
         2020,
         1829696
        ],
        [
         "Massachusetts",
         2021,
         795518
        ],
        [
         "Michigan",
         1999,
         8
        ],
        [
         "Michigan",
         2003,
         1
        ],
        [
         "Michigan",
         2006,
         42
        ],
        [
         "Michigan",
         2007,
         176
        ],
        [
         "Michigan",
         2008,
         333
        ],
        [
         "Michigan",
         2009,
         658
        ],
        [
         "Michigan",
         2010,
         3564
        ],
        [
         "Michigan",
         2011,
         11991
        ],
        [
         "Michigan",
         2012,
         26081
        ],
        [
         "Michigan",
         2013,
         55631
        ],
        [
         "Michigan",
         2014,
         83485
        ],
        [
         "Michigan",
         2015,
         212112
        ],
        [
         "Michigan",
         2016,
         818169
        ],
        [
         "Michigan",
         2017,
         2786141
        ],
        [
         "Michigan",
         2018,
         5090052
        ],
        [
         "Michigan",
         2019,
         6067318
        ],
        [
         "Michigan",
         2020,
         3909789
        ],
        [
         "Michigan",
         2021,
         1710604
        ],
        [
         "Minnesota",
         1999,
         1
        ],
        [
         "Minnesota",
         2004,
         2
        ],
        [
         "Minnesota",
         2006,
         17
        ],
        [
         "Minnesota",
         2007,
         69
        ],
        [
         "Minnesota",
         2008,
         176
        ],
        [
         "Minnesota",
         2009,
         397
        ],
        [
         "Minnesota",
         2010,
         2487
        ],
        [
         "Minnesota",
         2011,
         8675
        ],
        [
         "Minnesota",
         2012,
         16448
        ],
        [
         "Minnesota",
         2013,
         32111
        ],
        [
         "Minnesota",
         2014,
         48588
        ],
        [
         "Minnesota",
         2015,
         118008
        ],
        [
         "Minnesota",
         2016,
         442338
        ],
        [
         "Minnesota",
         2017,
         1369774
        ],
        [
         "Minnesota",
         2018,
         2269020
        ],
        [
         "Minnesota",
         2019,
         2663538
        ],
        [
         "Minnesota",
         2020,
         1773914
        ],
        [
         "Minnesota",
         2021,
         774695
        ],
        [
         "Mississippi",
         1999,
         3
        ],
        [
         "Mississippi",
         2006,
         22
        ],
        [
         "Mississippi",
         2007,
         49
        ],
        [
         "Mississippi",
         2008,
         73
        ],
        [
         "Mississippi",
         2009,
         104
        ],
        [
         "Mississippi",
         2010,
         341
        ],
        [
         "Mississippi",
         2011,
         1425
        ],
        [
         "Mississippi",
         2012,
         3202
        ],
        [
         "Mississippi",
         2013,
         6699
        ],
        [
         "Mississippi",
         2014,
         9874
        ],
        [
         "Mississippi",
         2015,
         27805
        ],
        [
         "Mississippi",
         2016,
         120186
        ],
        [
         "Mississippi",
         2017,
         485754
        ],
        [
         "Mississippi",
         2018,
         932444
        ],
        [
         "Mississippi",
         2019,
         1151784
        ],
        [
         "Mississippi",
         2020,
         747451
        ],
        [
         "Mississippi",
         2021,
         374555
        ],
        [
         "Missouri",
         1999,
         2
        ],
        [
         "Missouri",
         2003,
         7
        ],
        [
         "Missouri",
         2004,
         2
        ],
        [
         "Missouri",
         2005,
         2
        ],
        [
         "Missouri",
         2006,
         48
        ],
        [
         "Missouri",
         2007,
         92
        ],
        [
         "Missouri",
         2008,
         200
        ],
        [
         "Missouri",
         2009,
         382
        ],
        [
         "Missouri",
         2010,
         1835
        ],
        [
         "Missouri",
         2011,
         7505
        ],
        [
         "Missouri",
         2012,
         16853
        ],
        [
         "Missouri",
         2013,
         33828
        ],
        [
         "Missouri",
         2014,
         51162
        ],
        [
         "Missouri",
         2015,
         128912
        ],
        [
         "Missouri",
         2016,
         519175
        ],
        [
         "Missouri",
         2017,
         1785232
        ],
        [
         "Missouri",
         2018,
         3209712
        ],
        [
         "Missouri",
         2019,
         3872440
        ],
        [
         "Missouri",
         2020,
         2585160
        ],
        [
         "Missouri",
         2021,
         1203962
        ],
        [
         "Montana",
         1999,
         1
        ],
        [
         "Montana",
         2006,
         10
        ],
        [
         "Montana",
         2007,
         31
        ],
        [
         "Montana",
         2008,
         62
        ],
        [
         "Montana",
         2009,
         68
        ],
        [
         "Montana",
         2010,
         300
        ],
        [
         "Montana",
         2011,
         1076
        ],
        [
         "Montana",
         2012,
         2274
        ],
        [
         "Montana",
         2013,
         4747
        ],
        [
         "Montana",
         2014,
         7034
        ],
        [
         "Montana",
         2015,
         17115
        ],
        [
         "Montana",
         2016,
         72014
        ],
        [
         "Montana",
         2017,
         255415
        ],
        [
         "Montana",
         2018,
         466031
        ],
        [
         "Montana",
         2019,
         554010
        ],
        [
         "Montana",
         2020,
         384636
        ],
        [
         "Montana",
         2021,
         169115
        ],
        [
         "Nebraska",
         2006,
         3
        ],
        [
         "Nebraska",
         2007,
         38
        ],
        [
         "Nebraska",
         2008,
         55
        ],
        [
         "Nebraska",
         2009,
         109
        ],
        [
         "Nebraska",
         2010,
         732
        ],
        [
         "Nebraska",
         2011,
         1923
        ],
        [
         "Nebraska",
         2012,
         4467
        ],
        [
         "Nebraska",
         2013,
         8540
        ],
        [
         "Nebraska",
         2014,
         12780
        ],
        [
         "Nebraska",
         2015,
         33583
        ],
        [
         "Nebraska",
         2016,
         130578
        ],
        [
         "Nebraska",
         2017,
         442812
        ],
        [
         "Nebraska",
         2018,
         790182
        ],
        [
         "Nebraska",
         2019,
         946997
        ],
        [
         "Nebraska",
         2020,
         625593
        ],
        [
         "Nebraska",
         2021,
         288418
        ],
        [
         "Nevada",
         1999,
         1
        ],
        [
         "Nevada",
         2001,
         3
        ],
        [
         "Nevada",
         2002,
         6
        ],
        [
         "Nevada",
         2003,
         24
        ],
        [
         "Nevada",
         2004,
         16
        ],
        [
         "Nevada",
         2005,
         246
        ],
        [
         "Nevada",
         2006,
         36
        ],
        [
         "Nevada",
         2007,
         266
        ],
        [
         "Nevada",
         2008,
         128
        ],
        [
         "Nevada",
         2009,
         257
        ],
        [
         "Nevada",
         2010,
         1224
        ],
        [
         "Nevada",
         2011,
         5654
        ],
        [
         "Nevada",
         2012,
         11315
        ],
        [
         "Nevada",
         2013,
         23892
        ],
        [
         "Nevada",
         2014,
         36051
        ],
        [
         "Nevada",
         2015,
         92024
        ],
        [
         "Nevada",
         2016,
         373271
        ],
        [
         "Nevada",
         2017,
         1062658
        ],
        [
         "Nevada",
         2018,
         2083460
        ],
        [
         "Nevada",
         2019,
         2625954
        ],
        [
         "Nevada",
         2020,
         1706421
        ],
        [
         "Nevada",
         2021,
         810496
        ],
        [
         "New_Hampshire",
         2006,
         6
        ],
        [
         "New_Hampshire",
         2007,
         35
        ],
        [
         "New_Hampshire",
         2008,
         44
        ],
        [
         "New_Hampshire",
         2009,
         102
        ],
        [
         "New_Hampshire",
         2010,
         535
        ],
        [
         "New_Hampshire",
         2011,
         1349
        ],
        [
         "New_Hampshire",
         2012,
         3628
        ],
        [
         "New_Hampshire",
         2013,
         7547
        ],
        [
         "New_Hampshire",
         2014,
         10827
        ],
        [
         "New_Hampshire",
         2015,
         26105
        ],
        [
         "New_Hampshire",
         2016,
         105794
        ],
        [
         "New_Hampshire",
         2017,
         356535
        ],
        [
         "New_Hampshire",
         2018,
         639654
        ],
        [
         "New_Hampshire",
         2019,
         756436
        ],
        [
         "New_Hampshire",
         2020,
         520804
        ],
        [
         "New_Hampshire",
         2021,
         218680
        ],
        [
         "New_Jersey",
         1999,
         2
        ],
        [
         "New_Jersey",
         2000,
         1
        ],
        [
         "New_Jersey",
         2001,
         3
        ],
        [
         "New_Jersey",
         2002,
         22
        ],
        [
         "New_Jersey",
         2003,
         6
        ],
        [
         "New_Jersey",
         2004,
         201
        ],
        [
         "New_Jersey",
         2005,
         12
        ],
        [
         "New_Jersey",
         2006,
         269
        ],
        [
         "New_Jersey",
         2007,
         161
        ],
        [
         "New_Jersey",
         2008,
         477
        ],
        [
         "New_Jersey",
         2009,
         557
        ],
        [
         "New_Jersey",
         2010,
         2869
        ],
        [
         "New_Jersey",
         2011,
         9417
        ],
        [
         "New_Jersey",
         2012,
         21964
        ],
        [
         "New_Jersey",
         2013,
         48252
        ],
        [
         "New_Jersey",
         2014,
         73881
        ],
        [
         "New_Jersey",
         2015,
         184498
        ],
        [
         "New_Jersey",
         2016,
         683193
        ],
        [
         "New_Jersey",
         2017,
         2095662
        ],
        [
         "New_Jersey",
         2018,
         3757574
        ],
        [
         "New_Jersey",
         2019,
         4475015
        ],
        [
         "New_Jersey",
         2020,
         2973187
        ],
        [
         "New_Jersey",
         2021,
         1393043
        ],
        [
         "New_Mexico",
         1999,
         4
        ],
        [
         "New_Mexico",
         2005,
         1
        ],
        [
         "New_Mexico",
         2006,
         25
        ],
        [
         "New_Mexico",
         2007,
         66
        ],
        [
         "New_Mexico",
         2008,
         121
        ],
        [
         "New_Mexico",
         2009,
         177
        ],
        [
         "New_Mexico",
         2010,
         781
        ],
        [
         "New_Mexico",
         2011,
         2577
        ],
        [
         "New_Mexico",
         2012,
         5875
        ],
        [
         "New_Mexico",
         2013,
         11605
        ],
        [
         "New_Mexico",
         2014,
         17775
        ],
        [
         "New_Mexico",
         2015,
         43717
        ],
        [
         "New_Mexico",
         2016,
         174454
        ],
        [
         "New_Mexico",
         2017,
         601214
        ],
        [
         "New_Mexico",
         2018,
         1166141
        ],
        [
         "New_Mexico",
         2019,
         1444371
        ],
        [
         "New_Mexico",
         2020,
         846430
        ],
        [
         "New_Mexico",
         2021,
         390055
        ],
        [
         "New_York",
         1990,
         411
        ],
        [
         "New_York",
         1999,
         10
        ],
        [
         "New_York",
         2000,
         4
        ],
        [
         "New_York",
         2001,
         7
        ],
        [
         "New_York",
         2002,
         150
        ],
        [
         "New_York",
         2003,
         150
        ],
        [
         "New_York",
         2004,
         458
        ],
        [
         "New_York",
         2005,
         1057
        ],
        [
         "New_York",
         2006,
         1337
        ],
        [
         "New_York",
         2007,
         1302
        ],
        [
         "New_York",
         2008,
         2224
        ],
        [
         "New_York",
         2009,
         2529
        ],
        [
         "New_York",
         2010,
         13526
        ],
        [
         "New_York",
         2011,
         36355
        ],
        [
         "New_York",
         2012,
         64044
        ],
        [
         "New_York",
         2013,
         143088
        ],
        [
         "New_York",
         2014,
         188223
        ],
        [
         "New_York",
         2015,
         446811
        ],
        [
         "New_York",
         2016,
         1583793
        ],
        [
         "New_York",
         2017,
         4508192
        ],
        [
         "New_York",
         2018,
         8222212
        ],
        [
         "New_York",
         2019,
         9970815
        ],
        [
         "New_York",
         2020,
         5767967
        ],
        [
         "New_York",
         2021,
         2505096
        ],
        [
         "North_Carolina",
         1999,
         2
        ],
        [
         "North_Carolina",
         2002,
         4
        ],
        [
         "North_Carolina",
         2003,
         1
        ],
        [
         "North_Carolina",
         2005,
         24
        ],
        [
         "North_Carolina",
         2006,
         59
        ],
        [
         "North_Carolina",
         2007,
         179
        ],
        [
         "North_Carolina",
         2008,
         416
        ],
        [
         "North_Carolina",
         2009,
         819
        ],
        [
         "North_Carolina",
         2010,
         3668
        ],
        [
         "North_Carolina",
         2011,
         13903
        ],
        [
         "North_Carolina",
         2012,
         31232
        ],
        [
         "North_Carolina",
         2013,
         65389
        ],
        [
         "North_Carolina",
         2014,
         98708
        ],
        [
         "North_Carolina",
         2015,
         237784
        ],
        [
         "North_Carolina",
         2016,
         872434
        ],
        [
         "North_Carolina",
         2017,
         2843074
        ],
        [
         "North_Carolina",
         2018,
         5228893
        ],
        [
         "North_Carolina",
         2019,
         6531719
        ],
        [
         "North_Carolina",
         2020,
         4298486
        ],
        [
         "North_Carolina",
         2021,
         2072342
        ],
        [
         "North_Dakota",
         2006,
         5
        ],
        [
         "North_Dakota",
         2007,
         9
        ],
        [
         "North_Dakota",
         2008,
         21
        ],
        [
         "North_Dakota",
         2009,
         18
        ],
        [
         "North_Dakota",
         2010,
         89
        ],
        [
         "North_Dakota",
         2011,
         590
        ],
        [
         "North_Dakota",
         2012,
         1263
        ],
        [
         "North_Dakota",
         2013,
         2732
        ],
        [
         "North_Dakota",
         2014,
         3835
        ],
        [
         "North_Dakota",
         2015,
         10004
        ],
        [
         "North_Dakota",
         2016,
         42297
        ],
        [
         "North_Dakota",
         2017,
         150212
        ],
        [
         "North_Dakota",
         2018,
         269148
        ],
        [
         "North_Dakota",
         2019,
         321343
        ],
        [
         "North_Dakota",
         2020,
         212786
        ],
        [
         "North_Dakota",
         2021,
         95206
        ],
        [
         "Ohio",
         1999,
         4
        ],
        [
         "Ohio",
         2004,
         2
        ],
        [
         "Ohio",
         2006,
         58
        ],
        [
         "Ohio",
         2007,
         179
        ],
        [
         "Ohio",
         2008,
         289
        ],
        [
         "Ohio",
         2009,
         634
        ],
        [
         "Ohio",
         2010,
         2775
        ],
        [
         "Ohio",
         2011,
         12003
        ],
        [
         "Ohio",
         2012,
         26115
        ],
        [
         "Ohio",
         2013,
         52056
        ],
        [
         "Ohio",
         2014,
         76980
        ],
        [
         "Ohio",
         2015,
         207413
        ],
        [
         "Ohio",
         2016,
         832599
        ],
        [
         "Ohio",
         2017,
         2987766
        ],
        [
         "Ohio",
         2018,
         5594056
        ],
        [
         "Ohio",
         2019,
         6820441
        ],
        [
         "Ohio",
         2020,
         4420266
        ],
        [
         "Ohio",
         2021,
         2005729
        ],
        [
         "Oklahoma",
         1999,
         3
        ],
        [
         "Oklahoma",
         2006,
         31
        ],
        [
         "Oklahoma",
         2007,
         129
        ],
        [
         "Oklahoma",
         2008,
         188
        ],
        [
         "Oklahoma",
         2009,
         250
        ],
        [
         "Oklahoma",
         2010,
         1022
        ],
        [
         "Oklahoma",
         2011,
         3878
        ],
        [
         "Oklahoma",
         2012,
         8707
        ],
        [
         "Oklahoma",
         2013,
         18356
        ],
        [
         "Oklahoma",
         2014,
         27647
        ],
        [
         "Oklahoma",
         2015,
         73337
        ],
        [
         "Oklahoma",
         2016,
         298318
        ],
        [
         "Oklahoma",
         2017,
         1062516
        ],
        [
         "Oklahoma",
         2018,
         1967006
        ],
        [
         "Oklahoma",
         2019,
         2454377
        ],
        [
         "Oklahoma",
         2020,
         1742434
        ],
        [
         "Oklahoma",
         2021,
         824621
        ],
        [
         "Oregon",
         1990,
         9
        ],
        [
         "Oregon",
         1999,
         2
        ],
        [
         "Oregon",
         2002,
         1
        ],
        [
         "Oregon",
         2003,
         8
        ],
        [
         "Oregon",
         2004,
         2
        ],
        [
         "Oregon",
         2005,
         2
        ],
        [
         "Oregon",
         2006,
         28
        ],
        [
         "Oregon",
         2007,
         88
        ],
        [
         "Oregon",
         2008,
         301
        ],
        [
         "Oregon",
         2009,
         622
        ],
        [
         "Oregon",
         2010,
         4193
        ],
        [
         "Oregon",
         2011,
         27084
        ],
        [
         "Oregon",
         2012,
         27437
        ],
        [
         "Oregon",
         2013,
         39507
        ],
        [
         "Oregon",
         2014,
         56183
        ],
        [
         "Oregon",
         2015,
         129644
        ],
        [
         "Oregon",
         2016,
         515709
        ],
        [
         "Oregon",
         2017,
         1518400
        ],
        [
         "Oregon",
         2018,
         2703997
        ],
        [
         "Oregon",
         2019,
         3137345
        ],
        [
         "Oregon",
         2020,
         1982583
        ],
        [
         "Oregon",
         2021,
         869025
        ],
        [
         "Pennsylvania",
         1990,
         41
        ],
        [
         "Pennsylvania",
         1999,
         4
        ],
        [
         "Pennsylvania",
         2000,
         2
        ],
        [
         "Pennsylvania",
         2001,
         1
        ],
        [
         "Pennsylvania",
         2002,
         1
        ],
        [
         "Pennsylvania",
         2003,
         2
        ],
        [
         "Pennsylvania",
         2004,
         39
        ],
        [
         "Pennsylvania",
         2005,
         23
        ],
        [
         "Pennsylvania",
         2006,
         210
        ],
        [
         "Pennsylvania",
         2007,
         215
        ],
        [
         "Pennsylvania",
         2008,
         466
        ],
        [
         "Pennsylvania",
         2009,
         757
        ],
        [
         "Pennsylvania",
         2010,
         4226
        ],
        [
         "Pennsylvania",
         2011,
         12799
        ],
        [
         "Pennsylvania",
         2012,
         29212
        ],
        [
         "Pennsylvania",
         2013,
         58057
        ],
        [
         "Pennsylvania",
         2014,
         84598
        ],
        [
         "Pennsylvania",
         2015,
         220003
        ],
        [
         "Pennsylvania",
         2016,
         857919
        ],
        [
         "Pennsylvania",
         2017,
         2928459
        ],
        [
         "Pennsylvania",
         2018,
         5395594
        ],
        [
         "Pennsylvania",
         2019,
         6454808
        ],
        [
         "Pennsylvania",
         2020,
         4057083
        ],
        [
         "Pennsylvania",
         2021,
         1840283
        ],
        [
         "Rhode_Island",
         2006,
         5
        ],
        [
         "Rhode_Island",
         2007,
         17
        ],
        [
         "Rhode_Island",
         2008,
         23
        ],
        [
         "Rhode_Island",
         2009,
         50
        ],
        [
         "Rhode_Island",
         2010,
         344
        ],
        [
         "Rhode_Island",
         2011,
         1142
        ],
        [
         "Rhode_Island",
         2012,
         2239
        ],
        [
         "Rhode_Island",
         2013,
         4402
        ],
        [
         "Rhode_Island",
         2014,
         7019
        ],
        [
         "Rhode_Island",
         2015,
         17681
        ],
        [
         "Rhode_Island",
         2016,
         72266
        ],
        [
         "Rhode_Island",
         2017,
         244711
        ],
        [
         "Rhode_Island",
         2018,
         442436
        ],
        [
         "Rhode_Island",
         2019,
         524956
        ],
        [
         "Rhode_Island",
         2020,
         319589
        ],
        [
         "Rhode_Island",
         2021,
         140214
        ],
        [
         "South_Carolina",
         1999,
         5
        ],
        [
         "South_Carolina",
         2005,
         5
        ],
        [
         "South_Carolina",
         2006,
         38
        ],
        [
         "South_Carolina",
         2007,
         106
        ],
        [
         "South_Carolina",
         2008,
         135
        ],
        [
         "South_Carolina",
         2009,
         340
        ],
        [
         "South_Carolina",
         2010,
         1360
        ],
        [
         "South_Carolina",
         2011,
         5952
        ],
        [
         "South_Carolina",
         2012,
         13155
        ],
        [
         "South_Carolina",
         2013,
         27717
        ],
        [
         "South_Carolina",
         2014,
         42906
        ],
        [
         "South_Carolina",
         2015,
         111167
        ],
        [
         "South_Carolina",
         2016,
         430387
        ],
        [
         "South_Carolina",
         2017,
         1513338
        ],
        [
         "South_Carolina",
         2018,
         2816515
        ],
        [
         "South_Carolina",
         2019,
         3567359
        ],
        [
         "South_Carolina",
         2020,
         2336964
        ],
        [
         "South_Carolina",
         2021,
         1128033
        ],
        [
         "South_Dakota",
         1999,
         1
        ],
        [
         "South_Dakota",
         2006,
         10
        ],
        [
         "South_Dakota",
         2007,
         18
        ],
        [
         "South_Dakota",
         2008,
         36
        ],
        [
         "South_Dakota",
         2009,
         59
        ],
        [
         "South_Dakota",
         2010,
         140
        ],
        [
         "South_Dakota",
         2011,
         706
        ],
        [
         "South_Dakota",
         2012,
         1465
        ],
        [
         "South_Dakota",
         2013,
         2948
        ],
        [
         "South_Dakota",
         2014,
         4572
        ],
        [
         "South_Dakota",
         2015,
         11883
        ],
        [
         "South_Dakota",
         2016,
         50323
        ],
        [
         "South_Dakota",
         2017,
         185292
        ],
        [
         "South_Dakota",
         2018,
         344188
        ],
        [
         "South_Dakota",
         2019,
         423288
        ],
        [
         "South_Dakota",
         2020,
         302501
        ],
        [
         "South_Dakota",
         2021,
         125169
        ],
        [
         "Tennessee",
         1999,
         5
        ],
        [
         "Tennessee",
         2006,
         46
        ],
        [
         "Tennessee",
         2007,
         150
        ],
        [
         "Tennessee",
         2008,
         210
        ],
        [
         "Tennessee",
         2009,
         427
        ],
        [
         "Tennessee",
         2010,
         1706
        ],
        [
         "Tennessee",
         2011,
         7261
        ],
        [
         "Tennessee",
         2012,
         16018
        ],
        [
         "Tennessee",
         2013,
         33916
        ],
        [
         "Tennessee",
         2014,
         53031
        ],
        [
         "Tennessee",
         2015,
         141177
        ],
        [
         "Tennessee",
         2016,
         577830
        ],
        [
         "Tennessee",
         2017,
         1981199
        ],
        [
         "Tennessee",
         2018,
         3770489
        ],
        [
         "Tennessee",
         2019,
         4738872
        ],
        [
         "Tennessee",
         2020,
         3136985
        ],
        [
         "Tennessee",
         2021,
         1491891
        ],
        [
         "Texas",
         1990,
         29
        ],
        [
         "Texas",
         1999,
         11
        ],
        [
         "Texas",
         2003,
         10
        ],
        [
         "Texas",
         2004,
         1
        ],
        [
         "Texas",
         2005,
         142
        ],
        [
         "Texas",
         2006,
         185
        ],
        [
         "Texas",
         2007,
         578
        ],
        [
         "Texas",
         2008,
         997
        ],
        [
         "Texas",
         2009,
         2262
        ],
        [
         "Texas",
         2010,
         8990
        ],
        [
         "Texas",
         2011,
         55120
        ],
        [
         "Texas",
         2012,
         95259
        ],
        [
         "Texas",
         2013,
         202595
        ],
        [
         "Texas",
         2014,
         316218
        ],
        [
         "Texas",
         2015,
         767528
        ],
        [
         "Texas",
         2016,
         2772976
        ],
        [
         "Texas",
         2017,
         8372993
        ],
        [
         "Texas",
         2018,
         15255844
        ],
        [
         "Texas",
         2019,
         19050685
        ],
        [
         "Texas",
         2020,
         13212873
        ],
        [
         "Texas",
         2021,
         6319888
        ],
        [
         "Utah",
         1990,
         5
        ],
        [
         "Utah",
         1999,
         3
        ],
        [
         "Utah",
         2004,
         4
        ],
        [
         "Utah",
         2005,
         4
        ],
        [
         "Utah",
         2006,
         14
        ],
        [
         "Utah",
         2007,
         99
        ],
        [
         "Utah",
         2008,
         176
        ],
        [
         "Utah",
         2009,
         379
        ],
        [
         "Utah",
         2010,
         2125
        ],
        [
         "Utah",
         2011,
         6826
        ],
        [
         "Utah",
         2012,
         15559
        ],
        [
         "Utah",
         2013,
         30357
        ],
        [
         "Utah",
         2014,
         51509
        ],
        [
         "Utah",
         2015,
         120284
        ],
        [
         "Utah",
         2016,
         433571
        ],
        [
         "Utah",
         2017,
         1203166
        ],
        [
         "Utah",
         2018,
         2057327
        ],
        [
         "Utah",
         2019,
         2543636
        ],
        [
         "Utah",
         2020,
         1795956
        ],
        [
         "Utah",
         2021,
         820167
        ],
        [
         "Vermont",
         1999,
         2
        ],
        [
         "Vermont",
         2006,
         9
        ],
        [
         "Vermont",
         2007,
         13
        ],
        [
         "Vermont",
         2008,
         25
        ],
        [
         "Vermont",
         2009,
         56
        ],
        [
         "Vermont",
         2010,
         188
        ],
        [
         "Vermont",
         2011,
         769
        ],
        [
         "Vermont",
         2012,
         1391
        ],
        [
         "Vermont",
         2013,
         2962
        ],
        [
         "Vermont",
         2014,
         4224
        ],
        [
         "Vermont",
         2015,
         9601
        ],
        [
         "Vermont",
         2016,
         39033
        ],
        [
         "Vermont",
         2017,
         121002
        ],
        [
         "Vermont",
         2018,
         216229
        ],
        [
         "Vermont",
         2019,
         247209
        ],
        [
         "Vermont",
         2020,
         147006
        ],
        [
         "Vermont",
         2021,
         62484
        ],
        [
         "Virginia",
         1990,
         18
        ],
        [
         "Virginia",
         1999,
         7
        ],
        [
         "Virginia",
         2002,
         1
        ],
        [
         "Virginia",
         2003,
         1
        ],
        [
         "Virginia",
         2004,
         3
        ],
        [
         "Virginia",
         2005,
         20
        ],
        [
         "Virginia",
         2006,
         103
        ],
        [
         "Virginia",
         2007,
         168
        ],
        [
         "Virginia",
         2008,
         420
        ],
        [
         "Virginia",
         2009,
         664
        ],
        [
         "Virginia",
         2010,
         3316
        ],
        [
         "Virginia",
         2011,
         12017
        ],
        [
         "Virginia",
         2012,
         26139
        ],
        [
         "Virginia",
         2013,
         52231
        ],
        [
         "Virginia",
         2014,
         80012
        ],
        [
         "Virginia",
         2015,
         191140
        ],
        [
         "Virginia",
         2016,
         680911
        ],
        [
         "Virginia",
         2017,
         2073030
        ],
        [
         "Virginia",
         2018,
         3771691
        ],
        [
         "Virginia",
         2019,
         4656865
        ],
        [
         "Virginia",
         2020,
         3016787
        ],
        [
         "Virginia",
         2021,
         1392394
        ],
        [
         "Washington",
         1999,
         4
        ],
        [
         "Washington",
         2001,
         1
        ],
        [
         "Washington",
         2002,
         3
        ],
        [
         "Washington",
         2003,
         1
        ],
        [
         "Washington",
         2004,
         1
        ],
        [
         "Washington",
         2005,
         2
        ],
        [
         "Washington",
         2006,
         78
        ],
        [
         "Washington",
         2007,
         219
        ],
        [
         "Washington",
         2008,
         429
        ],
        [
         "Washington",
         2009,
         746
        ],
        [
         "Washington",
         2010,
         5248
        ],
        [
         "Washington",
         2011,
         18281
        ],
        [
         "Washington",
         2012,
         30394
        ],
        [
         "Washington",
         2013,
         50738
        ],
        [
         "Washington",
         2014,
         78306
        ],
        [
         "Washington",
         2015,
         189333
        ],
        [
         "Washington",
         2016,
         758736
        ],
        [
         "Washington",
         2017,
         2298026
        ],
        [
         "Washington",
         2018,
         4090672
        ],
        [
         "Washington",
         2019,
         4843869
        ],
        [
         "Washington",
         2020,
         2905007
        ],
        [
         "Washington",
         2021,
         1271640
        ],
        [
         "West_Virginia",
         2006,
         15
        ],
        [
         "West_Virginia",
         2007,
         20
        ],
        [
         "West_Virginia",
         2008,
         40
        ],
        [
         "West_Virginia",
         2009,
         39
        ],
        [
         "West_Virginia",
         2010,
         194
        ],
        [
         "West_Virginia",
         2011,
         1021
        ],
        [
         "West_Virginia",
         2012,
         2095
        ],
        [
         "West_Virginia",
         2013,
         4158
        ],
        [
         "West_Virginia",
         2014,
         5457
        ],
        [
         "West_Virginia",
         2015,
         16086
        ],
        [
         "West_Virginia",
         2016,
         70556
        ],
        [
         "West_Virginia",
         2017,
         282480
        ],
        [
         "West_Virginia",
         2018,
         538386
        ],
        [
         "West_Virginia",
         2019,
         664726
        ],
        [
         "West_Virginia",
         2020,
         423374
        ],
        [
         "West_Virginia",
         2021,
         199552
        ],
        [
         "Wisconsin",
         1990,
         4
        ],
        [
         "Wisconsin",
         1999,
         3
        ],
        [
         "Wisconsin",
         2004,
         10
        ],
        [
         "Wisconsin",
         2005,
         5
        ],
        [
         "Wisconsin",
         2006,
         22
        ],
        [
         "Wisconsin",
         2007,
         69
        ],
        [
         "Wisconsin",
         2008,
         163
        ],
        [
         "Wisconsin",
         2009,
         395
        ],
        [
         "Wisconsin",
         2010,
         1791
        ],
        [
         "Wisconsin",
         2011,
         7575
        ],
        [
         "Wisconsin",
         2012,
         14874
        ],
        [
         "Wisconsin",
         2013,
         28346
        ],
        [
         "Wisconsin",
         2014,
         40622
        ],
        [
         "Wisconsin",
         2015,
         100886
        ],
        [
         "Wisconsin",
         2016,
         407486
        ],
        [
         "Wisconsin",
         2017,
         1405094
        ],
        [
         "Wisconsin",
         2018,
         2526869
        ],
        [
         "Wisconsin",
         2019,
         2969487
        ],
        [
         "Wisconsin",
         2020,
         1896948
        ],
        [
         "Wisconsin",
         2021,
         846036
        ],
        [
         "Wyoming",
         2006,
         10
        ],
        [
         "Wyoming",
         2007,
         27
        ],
        [
         "Wyoming",
         2008,
         38
        ],
        [
         "Wyoming",
         2009,
         66
        ],
        [
         "Wyoming",
         2010,
         181
        ],
        [
         "Wyoming",
         2011,
         631
        ],
        [
         "Wyoming",
         2012,
         1258
        ],
        [
         "Wyoming",
         2013,
         2715
        ],
        [
         "Wyoming",
         2014,
         4236
        ],
        [
         "Wyoming",
         2015,
         9885
        ],
        [
         "Wyoming",
         2016,
         42674
        ],
        [
         "Wyoming",
         2017,
         148279
        ],
        [
         "Wyoming",
         2018,
         274867
        ],
        [
         "Wyoming",
         2019,
         341383
        ],
        [
         "Wyoming",
         2020,
         226991
        ],
        [
         "Wyoming",
         2021,
         88180
        ],
        [
         "other",
         1990,
         2
        ],
        [
         "other",
         2004,
         2
        ],
        [
         "other",
         2006,
         1
        ],
        [
         "other",
         2007,
         1
        ],
        [
         "other",
         2008,
         5
        ],
        [
         "other",
         2009,
         1
        ],
        [
         "other",
         2010,
         41
        ],
        [
         "other",
         2011,
         106
        ],
        [
         "other",
         2012,
         220
        ],
        [
         "other",
         2013,
         376
        ],
        [
         "other",
         2014,
         683
        ],
        [
         "other",
         2015,
         1850
        ],
        [
         "other",
         2016,
         6310
        ],
        [
         "other",
         2017,
         16869
        ],
        [
         "other",
         2018,
         35097
        ],
        [
         "other",
         2019,
         48509
        ],
        [
         "other",
         2020,
         35349
        ],
        [
         "other",
         2021,
         17530
        ]
       ],
       "datasetInfos": [
        {
         "name": "_sqldf",
         "schema": {
          "fields": [
           {
            "metadata": {},
            "name": "region",
            "nullable": true,
            "type": "string"
           },
           {
            "metadata": {},
            "name": "year",
            "nullable": true,
            "type": "integer"
           },
           {
            "metadata": {},
            "name": "review_count",
            "nullable": false,
            "type": "long"
           }
          ],
          "type": "struct"
         },
         "tableIdentifier": null,
         "typeStr": "pyspark.sql.connect.dataframe.DataFrame"
        }
       ],
       "dbfsResultPath": null,
       "isJsonSchema": true,
       "metadata": {
        "createTempViewForImplicitDf": true,
        "dataframeName": "_sqldf",
        "executionCount": 36
       },
       "overflow": false,
       "plotOptions": {
        "customPlotOptions": {},
        "displayType": "table",
        "pivotAggregation": null,
        "pivotColumns": null,
        "xColumns": null,
        "yColumns": null
       },
       "removedWidgets": [],
       "schema": [
        {
         "metadata": "{}",
         "name": "region",
         "type": "\"string\""
        },
        {
         "metadata": "{}",
         "name": "year",
         "type": "\"integer\""
        },
        {
         "metadata": "{}",
         "name": "review_count",
         "type": "\"long\""
        }
       ],
       "type": "table"
      }
     },
     "output_type": "display_data"
    },
    {
     "output_type": "display_data",
     "data": {
      "text/plain": [
       "Databricks visualization. Run in Databricks to view."
      ]
     },
     "metadata": {
      "application/vnd.databricks.v1.subcommand+json": {
       "baseErrorDetails": null,
       "bindings": {},
       "collapsed": false,
       "command": "%sql WITH q AS (SELECT \n    region, \n    YEAR(time) AS year, \n    COUNT(*) AS review_count \nFROM \n    hive_metastore.silver.review_data\nGROUP BY \n    region, YEAR(time) \nORDER BY \n    region, year) SELECT `year`,SUM(`review_count`) `column_bd66e4893`,`region` FROM q GROUP BY `region`,`year`",
       "commandTitle": "Visualization 1",
       "commandType": "auto",
       "commandVersion": 0,
       "commentThread": [],
       "commentsVisible": false,
       "contentSha256Hex": null,
       "customPlotOptions": {
        "redashChart": [
         {
          "key": "type",
          "value": "CHART"
         },
         {
          "key": "options",
          "value": {
           "alignYAxesAtZero": true,
           "coefficient": 1,
           "columnConfigurationMap": {
            "series": {
             "column": "region",
             "id": "column_bd66e4895"
            },
            "x": {
             "column": "year",
             "id": "column_bd66e4891"
            },
            "y": [
             {
              "column": "review_count",
              "id": "column_bd66e4893",
              "transform": "SUM"
             }
            ]
           },
           "dateTimeFormat": "DD/MM/YYYY HH:mm",
           "direction": {
            "type": "counterclockwise"
           },
           "error_y": {
            "type": "data",
            "visible": true
           },
           "globalSeriesType": "line",
           "isAggregationOn": true,
           "legend": {
            "traceorder": "normal"
           },
           "missingValuesAsZero": true,
           "numberFormat": "0,0.[00000]",
           "percentFormat": "0[.]00%",
           "series": {
            "error_y": {
             "type": "data",
             "visible": true
            },
            "stacking": null
           },
           "seriesOptions": {
            "column_bd66e4893": {
             "type": "line",
             "yAxis": 0
            }
           },
           "showDataLabels": false,
           "sizemode": "diameter",
           "sortX": true,
           "sortY": true,
           "swappedAxes": false,
           "textFormat": "",
           "useAggregationsUi": true,
           "valuesOptions": {},
           "version": 2,
           "xAxis": {
            "labels": {
             "enabled": true
            },
            "type": "category"
           },
           "yAxis": [
            {
             "type": "-"
            },
            {
             "opposite": true,
             "type": "-"
            }
           ]
          }
         }
        ]
       },
       "datasetPreviewNameToCmdIdMap": {},
       "diffDeletes": [],
       "diffInserts": [],
       "displayType": "redashChart",
       "error": null,
       "errorDetails": null,
       "errorSummary": null,
       "errorTraceType": null,
       "finishTime": 0,
       "globalVars": {},
       "guid": "",
       "height": "auto",
       "hideCommandCode": false,
       "hideCommandResult": false,
       "iPythonMetadata": null,
       "inputWidgets": {},
       "isLockedInExamMode": false,
       "latestUser": "a user",
       "latestUserId": null,
       "listResultMetadata": null,
       "metadata": {},
       "nuid": "0f0209f8-78e9-4f8a-8cad-ec5b274f6415",
       "origId": 0,
       "parentHierarchy": [],
       "pivotAggregation": null,
       "pivotColumns": null,
       "position": 7.0,
       "resultDbfsErrorMessage": null,
       "resultDbfsStatus": "INLINED_IN_TREE",
       "results": null,
       "showCommandTitle": false,
       "startTime": 0,
       "state": "input",
       "streamStates": {},
       "subcommandOptions": {
        "queryPlan": {
         "groups": [
          {
           "column": "year",
           "type": "column"
          },
          {
           "column": "region",
           "type": "column"
          }
         ],
         "selects": [
          {
           "column": "year",
           "type": "column"
          },
          {
           "alias": "column_bd66e4893",
           "args": [
            {
             "column": "review_count",
             "type": "column"
            }
           ],
           "function": "SUM",
           "type": "function"
          },
          {
           "column": "region",
           "type": "column"
          }
         ]
        }
       },
       "submitTime": 0,
       "subtype": "tableResultSubCmd.visualization",
       "tableResultIndex": 0,
       "useConsistentColors": false,
       "version": "CommandV1",
       "width": "auto",
       "workflows": [],
       "xColumns": null,
       "yColumns": null
      }
     },
     "output_type": "display_data"
    }
   ],
   "source": [
    "%sql\n",
    "SELECT \n",
    "    region, -- 지역을 선택\n",
    "    YEAR(time) AS year, -- time 컬럼에서 년도를 추출하여 year 컬럼 생성\n",
    "    COUNT(*) AS review_count -- 년도별 리뷰 개수를 카운트\n",
    "FROM \n",
    "    hive_metastore.silver.review_data\n",
    "GROUP BY \n",
    "    region, YEAR(time) -- region과 year 컬럼을 기준으로 그룹화\n",
    "ORDER BY \n",
    "    region, year; -- 지역과 년도별로 정렬"
   ]
  },
  {
   "cell_type": "code",
   "execution_count": 0,
   "metadata": {
    "application/vnd.databricks.v1+cell": {
     "cellMetadata": {},
     "inputWidgets": {},
     "nuid": "e348ccf1-3883-410d-aba4-fbeb4249a9ee",
     "showTitle": false,
     "title": ""
    }
   },
   "outputs": [],
   "source": []
  }
 ],
 "metadata": {
  "application/vnd.databricks.v1+notebook": {
   "dashboards": [],
   "environmentMetadata": {
    "base_environment": "",
    "client": "1"
   },
   "language": "python",
   "notebookMetadata": {
    "mostRecentlyExecutedCommandWithImplicitDF": {
     "commandId": 2235710144410002,
     "dataframes": [
      "_sqldf"
     ]
    },
    "pythonIndentUnit": 4
   },
   "notebookName": "(최종) EDA_전체지역",
   "widgets": {}
  }
 },
 "nbformat": 4,
 "nbformat_minor": 0
}
