{
 "cells": [
  {
   "cell_type": "markdown",
   "metadata": {
    "application/vnd.databricks.v1+cell": {
     "cellMetadata": {},
     "inputWidgets": {},
     "nuid": "1d88859a-2e77-4f9b-b023-d781904647f0",
     "showTitle": false,
     "title": ""
    },
    "id": "m0v0lW0TV2QH"
   },
   "source": [
    "### 하와이 메타데이터 불러오기"
   ]
  },
  {
   "cell_type": "code",
   "execution_count": 0,
   "metadata": {
    "application/vnd.databricks.v1+cell": {
     "cellMetadata": {},
     "inputWidgets": {},
     "nuid": "ca07a52c-b731-4ae4-b71b-d6a3797b10a0",
     "showTitle": false,
     "title": ""
    },
    "colab": {
     "base_uri": "https://localhost:8080/"
    },
    "executionInfo": {
     "elapsed": 21106,
     "status": "ok",
     "timestamp": 1721187448599,
     "user": {
      "displayName": "이설하",
      "userId": "07166075204393279284"
     },
     "user_tz": -540
    },
    "id": "O-guxREvV-HQ",
    "outputId": "c217df90-e3c0-4f12-9c13-9cfa444a32eb"
   },
   "outputs": [],
   "source": [
    "from google.colab import drive\n",
    "drive.mount('/content/drive')"
   ]
  },
  {
   "cell_type": "code",
   "execution_count": 0,
   "metadata": {
    "application/vnd.databricks.v1+cell": {
     "cellMetadata": {},
     "inputWidgets": {},
     "nuid": "bef63096-2191-44a2-ac7a-a2eddc3a45ad",
     "showTitle": false,
     "title": ""
    },
    "executionInfo": {
     "elapsed": 1087,
     "status": "ok",
     "timestamp": 1721187449682,
     "user": {
      "displayName": "이설하",
      "userId": "07166075204393279284"
     },
     "user_tz": -540
    },
    "id": "NMno8_grWC4B"
   },
   "outputs": [],
   "source": [
    "import requests\n",
    "import json\n",
    "import pandas as pd\n",
    "import numpy as np\n",
    "import matplotlib.pyplot as plt\n",
    "import seaborn as sns"
   ]
  },
  {
   "cell_type": "code",
   "execution_count": 0,
   "metadata": {
    "application/vnd.databricks.v1+cell": {
     "cellMetadata": {},
     "inputWidgets": {},
     "nuid": "433d3f35-ddc1-44e6-9c05-7a0b929718de",
     "showTitle": false,
     "title": ""
    },
    "colab": {
     "base_uri": "https://localhost:8080/"
    },
    "executionInfo": {
     "elapsed": 2635,
     "status": "ok",
     "timestamp": 1721187452313,
     "user": {
      "displayName": "이설하",
      "userId": "07166075204393279284"
     },
     "user_tz": -540
    },
    "id": "wvxs_k2_VE6D",
    "outputId": "412174fe-13a2-4ba6-9556-2d9013d6004f"
   },
   "outputs": [],
   "source": [
    "!mkdir unzip_path\n",
    "!cd unzip_path # 압축을 풀 폴더 경로\n",
    "!unzip -qq '/content/drive/MyDrive/ASAC/Project_GoogleMap/meta-Hawaii.json.gz' # 압축파일 경로"
   ]
  },
  {
   "cell_type": "code",
   "execution_count": 0,
   "metadata": {
    "application/vnd.databricks.v1+cell": {
     "cellMetadata": {},
     "inputWidgets": {},
     "nuid": "742d0f99-5926-4cd0-850d-1e4da2e6b115",
     "showTitle": false,
     "title": ""
    },
    "executionInfo": {
     "elapsed": 1051,
     "status": "ok",
     "timestamp": 1721187453360,
     "user": {
      "displayName": "이설하",
      "userId": "07166075204393279284"
     },
     "user_tz": -540
    },
    "id": "TOdBj-0ZV4Wt"
   },
   "outputs": [],
   "source": [
    "import gzip\n",
    "\n",
    "# JSON 데이터를 파싱하는 함수\n",
    "def parse(path):\n",
    "    g = gzip.open(path, 'r')\n",
    "    for l in g:\n",
    "        yield json.loads(l)\n",
    "\n",
    "# 데이터 경로\n",
    "data_path = '/content/drive/MyDrive/ASAC/Project_GoogleMap/meta-Hawaii.json.gz'\n",
    "\n",
    "# 데이터를 리스트에 저장\n",
    "data = []\n",
    "for item in parse(data_path):\n",
    "    data.append(item)\n",
    "\n",
    "# 데이터를 판다스 데이터프레임으로 변환\n",
    "df = pd.DataFrame(data)"
   ]
  },
  {
   "cell_type": "code",
   "execution_count": 0,
   "metadata": {
    "application/vnd.databricks.v1+cell": {
     "cellMetadata": {},
     "inputWidgets": {},
     "nuid": "5691b084-77e1-4b23-a22f-79abe7c08159",
     "showTitle": false,
     "title": ""
    },
    "colab": {
     "base_uri": "https://localhost:8080/",
     "height": 0
    },
    "executionInfo": {
     "elapsed": 8,
     "status": "ok",
     "timestamp": 1721187453360,
     "user": {
      "displayName": "이설하",
      "userId": "07166075204393279284"
     },
     "user_tz": -540
    },
    "id": "mzlwlYfnWRXU",
    "outputId": "dbe6efa3-5668-4358-ad7f-8e78ca051382"
   },
   "outputs": [],
   "source": [
    "df.head()"
   ]
  },
  {
   "cell_type": "markdown",
   "metadata": {
    "application/vnd.databricks.v1+cell": {
     "cellMetadata": {},
     "inputWidgets": {},
     "nuid": "1c402c02-8d15-4e2f-94ae-2f80e31f4c41",
     "showTitle": false,
     "title": ""
    },
    "id": "_-q8rarCpfQR"
   },
   "source": [
    "## gmap_id 수와 unique한 gmap_id 수가 달라 확인 필요"
   ]
  },
  {
   "cell_type": "code",
   "execution_count": 0,
   "metadata": {
    "application/vnd.databricks.v1+cell": {
     "cellMetadata": {},
     "inputWidgets": {},
     "nuid": "89acf0df-7e98-403e-93e8-2a4075b97e4a",
     "showTitle": false,
     "title": ""
    },
    "colab": {
     "base_uri": "https://localhost:8080/"
    },
    "executionInfo": {
     "elapsed": 20,
     "status": "ok",
     "timestamp": 1720585032239,
     "user": {
      "displayName": "이설하",
      "userId": "07166075204393279284"
     },
     "user_tz": -540
    },
    "id": "ZvKRQQTenSd-",
    "outputId": "4594f9cd-0cfc-436a-f90e-11a01604cd33"
   },
   "outputs": [],
   "source": [
    "df.info()"
   ]
  },
  {
   "cell_type": "code",
   "execution_count": 0,
   "metadata": {
    "application/vnd.databricks.v1+cell": {
     "cellMetadata": {},
     "inputWidgets": {},
     "nuid": "5c3e45f2-533a-430a-a85c-1be831577d65",
     "showTitle": false,
     "title": ""
    },
    "colab": {
     "base_uri": "https://localhost:8080/"
    },
    "executionInfo": {
     "elapsed": 19,
     "status": "ok",
     "timestamp": 1720585032239,
     "user": {
      "displayName": "이설하",
      "userId": "07166075204393279284"
     },
     "user_tz": -540
    },
    "id": "oZVbZcdVnVmw",
    "outputId": "5913447a-1c43-42c5-db30-274e50f811f2"
   },
   "outputs": [],
   "source": [
    "df['gmap_id'].nunique()"
   ]
  },
  {
   "cell_type": "code",
   "execution_count": 0,
   "metadata": {
    "application/vnd.databricks.v1+cell": {
     "cellMetadata": {},
     "inputWidgets": {},
     "nuid": "5866c049-2822-48b2-ab0d-8686b7959079",
     "showTitle": false,
     "title": ""
    },
    "colab": {
     "base_uri": "https://localhost:8080/"
    },
    "executionInfo": {
     "elapsed": 18,
     "status": "ok",
     "timestamp": 1720585032239,
     "user": {
      "displayName": "이설하",
      "userId": "07166075204393279284"
     },
     "user_tz": -540
    },
    "id": "QLXyAdmZobP6",
    "outputId": "4a7b9438-beb4-43c5-e218-c981041b4864"
   },
   "outputs": [],
   "source": [
    "# 1. 전체 행의 수\n",
    "total_rows = df.shape[0]\n",
    "\n",
    "# 2. 고유한 gmap_id의 개수\n",
    "unique_gmap_ids = df['gmap_id'].nunique()\n",
    "\n",
    "# 3. 중복된 gmap_id 찾기\n",
    "duplicated_gmap_ids = df[df.duplicated('gmap_id', keep=False)]\n",
    "\n",
    "# 4. 중복된 gmap_id의 개수\n",
    "num_duplicated_gmap_ids = duplicated_gmap_ids['gmap_id'].nunique()\n",
    "\n",
    "# 5. 중복된 행의 수\n",
    "num_duplicated_rows = duplicated_gmap_ids.shape[0]\n",
    "\n",
    "# 결과 출력\n",
    "print(f\"전체 행의 수: {total_rows}\")\n",
    "print(f\"고유한 gmap_id의 개수: {unique_gmap_ids}\")\n",
    "print(f\"고유한 중복된 gmap_id의 개수: {num_duplicated_gmap_ids}\")\n",
    "print(f\"중복된 행의 수: {num_duplicated_rows}\")"
   ]
  },
  {
   "cell_type": "code",
   "execution_count": 0,
   "metadata": {
    "application/vnd.databricks.v1+cell": {
     "cellMetadata": {},
     "inputWidgets": {},
     "nuid": "95c3e217-c123-4af2-853f-ba29b9ddfafc",
     "showTitle": false,
     "title": ""
    },
    "colab": {
     "base_uri": "https://localhost:8080/"
    },
    "collapsed": true,
    "executionInfo": {
     "elapsed": 18,
     "status": "ok",
     "timestamp": 1720585032240,
     "user": {
      "displayName": "이설하",
      "userId": "07166075204393279284"
     },
     "user_tz": -540
    },
    "id": "tUTj_FWUn1D7",
    "outputId": "598f0e6b-31ee-437c-d81c-41c0f8f0ddf5"
   },
   "outputs": [],
   "source": [
    "# 중복된 gmap_id 찾기\n",
    "duplicated_gmap_ids = df[df.duplicated('gmap_id', keep=False)]\n",
    "\n",
    "# 중복된 gmap_id를 가진 행들을 gmap_id 기준으로 정렬\n",
    "duplicated_gmap_ids_sorted = duplicated_gmap_ids.sort_values(by='gmap_id')\n",
    "\n",
    "# 중복된 gmap_id 출력\n",
    "du_df = duplicated_gmap_ids_sorted\n",
    "\n",
    "du_df"
   ]
  },
  {
   "cell_type": "code",
   "execution_count": 0,
   "metadata": {
    "application/vnd.databricks.v1+cell": {
     "cellMetadata": {},
     "inputWidgets": {},
     "nuid": "b1f3d8e6-3708-4ed5-b9ef-1c1cb6ee9cf9",
     "showTitle": false,
     "title": ""
    },
    "colab": {
     "base_uri": "https://localhost:8080/"
    },
    "executionInfo": {
     "elapsed": 17,
     "status": "ok",
     "timestamp": 1720585032240,
     "user": {
      "displayName": "이설하",
      "userId": "07166075204393279284"
     },
     "user_tz": -540
    },
    "id": "U_Aq2vTpp8Lk",
    "outputId": "53743666-611b-453f-cf51-da6678b47ca9"
   },
   "outputs": [],
   "source": [
    "id_tf = du_df['gmap_id'].value_counts() !=2\n",
    "id_tf.sum()"
   ]
  },
  {
   "cell_type": "code",
   "execution_count": 0,
   "metadata": {
    "application/vnd.databricks.v1+cell": {
     "cellMetadata": {},
     "inputWidgets": {},
     "nuid": "b5952da2-b2a8-4827-8635-5365023e26d3",
     "showTitle": false,
     "title": ""
    },
    "colab": {
     "base_uri": "https://localhost:8080/"
    },
    "collapsed": true,
    "executionInfo": {
     "elapsed": 16,
     "status": "ok",
     "timestamp": 1720585032240,
     "user": {
      "displayName": "이설하",
      "userId": "07166075204393279284"
     },
     "user_tz": -540
    },
    "id": "vRJrZn5eq_gv",
    "outputId": "82918de7-f349-41de-b89c-1f6defa04369"
   },
   "outputs": [],
   "source": [
    "du_df.head()"
   ]
  },
  {
   "cell_type": "code",
   "execution_count": 0,
   "metadata": {
    "application/vnd.databricks.v1+cell": {
     "cellMetadata": {},
     "inputWidgets": {},
     "nuid": "9ee34448-0af7-427a-89a0-0a43650df9bd",
     "showTitle": false,
     "title": ""
    },
    "colab": {
     "base_uri": "https://localhost:8080/"
    },
    "executionInfo": {
     "elapsed": 14,
     "status": "ok",
     "timestamp": 1720585032240,
     "user": {
      "displayName": "이설하",
      "userId": "07166075204393279284"
     },
     "user_tz": -540
    },
    "id": "gn9OCHKYrmwe",
    "outputId": "a5138d5f-b311-4955-a205-26a93fecc588"
   },
   "outputs": [],
   "source": [
    "# 중복된 행 제거\n",
    "df_unique = df.drop_duplicates(subset='gmap_id')\n",
    "\n",
    "df_unique.shape"
   ]
  },
  {
   "cell_type": "code",
   "execution_count": 0,
   "metadata": {
    "application/vnd.databricks.v1+cell": {
     "cellMetadata": {},
     "inputWidgets": {},
     "nuid": "65369c2b-70fd-40ed-9902-0b50dbb03066",
     "showTitle": false,
     "title": ""
    },
    "colab": {
     "base_uri": "https://localhost:8080/"
    },
    "executionInfo": {
     "elapsed": 13,
     "status": "ok",
     "timestamp": 1720585032240,
     "user": {
      "displayName": "이설하",
      "userId": "07166075204393279284"
     },
     "user_tz": -540
    },
    "id": "mvK56mkIuofO",
    "outputId": "7eca6996-5771-483e-a738-6fcc4f3cca28"
   },
   "outputs": [],
   "source": [
    "df_unique['gmap_id'].nunique()"
   ]
  },
  {
   "cell_type": "code",
   "execution_count": 0,
   "metadata": {
    "application/vnd.databricks.v1+cell": {
     "cellMetadata": {},
     "inputWidgets": {},
     "nuid": "aefabe3a-a585-4673-97ab-d8c777953774",
     "showTitle": false,
     "title": ""
    },
    "id": "gaTjE-Ccux-H"
   },
   "outputs": [],
   "source": [
    "df = df_unique"
   ]
  },
  {
   "cell_type": "markdown",
   "metadata": {
    "application/vnd.databricks.v1+cell": {
     "cellMetadata": {},
     "inputWidgets": {},
     "nuid": "c992c21c-e6af-4cf7-8e6f-74c70f44a557",
     "showTitle": false,
     "title": ""
    },
    "id": "Q-ZGdgTwlKH9"
   },
   "source": [
    "## 평균 평점(avg_rating)"
   ]
  },
  {
   "cell_type": "markdown",
   "metadata": {
    "application/vnd.databricks.v1+cell": {
     "cellMetadata": {},
     "inputWidgets": {},
     "nuid": "b7caec8d-517a-48fe-a0b7-f1103c4fcfbb",
     "showTitle": false,
     "title": ""
    },
    "id": "Ry37aTaA378t"
   },
   "source": [
    "### 전체"
   ]
  },
  {
   "cell_type": "code",
   "execution_count": 0,
   "metadata": {
    "application/vnd.databricks.v1+cell": {
     "cellMetadata": {},
     "inputWidgets": {},
     "nuid": "64cfd343-13c6-4e04-a7af-cdd58bb494ab",
     "showTitle": false,
     "title": ""
    },
    "colab": {
     "base_uri": "https://localhost:8080/"
    },
    "executionInfo": {
     "elapsed": 14,
     "status": "ok",
     "timestamp": 1720585032241,
     "user": {
      "displayName": "이설하",
      "userId": "07166075204393279284"
     },
     "user_tz": -540
    },
    "id": "5fdghZIJlQd6",
    "outputId": "9295869e-5bff-4e50-c722-de96052941be"
   },
   "outputs": [],
   "source": [
    "# avg_rating의 도수분포표 생성\n",
    "bins = [i * 0.5 for i in range(2, 11)]  # 1.0에서 5.0까지 0.5 단위로 구간 설정\n",
    "counts, bin_edges = np.histogram(df['avg_rating'], bins=bins)\n",
    "\n",
    "# 도수분포표 생성\n",
    "freq_table = pd.DataFrame({\n",
    "    'Bin Range': [f'{bin_edges[i]} - {bin_edges[i+1]}' for i in range(len(bin_edges)-1)],\n",
    "    'Frequency': counts\n",
    "})\n",
    "\n",
    "# 전체에 대한 비율 계산\n",
    "total_count = counts.sum()\n",
    "freq_table['Percentage'] = np.round((freq_table['Frequency'] / total_count) * 100, 2)\n",
    "\n",
    "freq_table"
   ]
  },
  {
   "cell_type": "code",
   "execution_count": 0,
   "metadata": {
    "application/vnd.databricks.v1+cell": {
     "cellMetadata": {},
     "inputWidgets": {},
     "nuid": "9a153c47-722c-411a-a4c3-b012913d32ac",
     "showTitle": false,
     "title": ""
    },
    "colab": {
     "base_uri": "https://localhost:8080/"
    },
    "executionInfo": {
     "elapsed": 13,
     "status": "ok",
     "timestamp": 1720585032241,
     "user": {
      "displayName": "이설하",
      "userId": "07166075204393279284"
     },
     "user_tz": -540
    },
    "id": "7aVX5Wyrmum_",
    "outputId": "d6739c77-3fb6-4ff7-8d41-b5fdf3a23429"
   },
   "outputs": [],
   "source": [
    "freq_table['Frequency'].sum()"
   ]
  },
  {
   "cell_type": "code",
   "execution_count": 0,
   "metadata": {
    "application/vnd.databricks.v1+cell": {
     "cellMetadata": {},
     "inputWidgets": {},
     "nuid": "e17f5e92-e40f-4dc9-9614-e66b10eb5466",
     "showTitle": false,
     "title": ""
    },
    "colab": {
     "base_uri": "https://localhost:8080/"
    },
    "executionInfo": {
     "elapsed": 13,
     "status": "ok",
     "timestamp": 1720585032241,
     "user": {
      "displayName": "이설하",
      "userId": "07166075204393279284"
     },
     "user_tz": -540
    },
    "id": "D-9TFn4VnNAJ",
    "outputId": "826f081c-bf95-4383-8c63-9e28b347ca31"
   },
   "outputs": [],
   "source": [
    "len(df['avg_rating'])"
   ]
  },
  {
   "cell_type": "code",
   "execution_count": 0,
   "metadata": {
    "application/vnd.databricks.v1+cell": {
     "cellMetadata": {},
     "inputWidgets": {},
     "nuid": "c17f703b-8644-4098-9682-61df594abdd7",
     "showTitle": false,
     "title": ""
    },
    "colab": {
     "base_uri": "https://localhost:8080/"
    },
    "executionInfo": {
     "elapsed": 12,
     "status": "ok",
     "timestamp": 1720585032241,
     "user": {
      "displayName": "이설하",
      "userId": "07166075204393279284"
     },
     "user_tz": -540
    },
    "id": "O_D62BHEtG3Z",
    "outputId": "04e27489-92da-4884-e49d-cb951901dee5"
   },
   "outputs": [],
   "source": [
    "df['avg_rating'].max(), df['avg_rating'].min()"
   ]
  },
  {
   "cell_type": "code",
   "execution_count": 0,
   "metadata": {
    "application/vnd.databricks.v1+cell": {
     "cellMetadata": {},
     "inputWidgets": {},
     "nuid": "d1f67ccf-9486-4906-bf46-b542ffcaac48",
     "showTitle": false,
     "title": ""
    },
    "colab": {
     "base_uri": "https://localhost:8080/"
    },
    "executionInfo": {
     "elapsed": 620,
     "status": "ok",
     "timestamp": 1720585032849,
     "user": {
      "displayName": "이설하",
      "userId": "07166075204393279284"
     },
     "user_tz": -540
    },
    "id": "3xfmNUVmqV3T",
    "outputId": "2d8f3a8c-35c9-4a4a-b1fb-03603577d5bb"
   },
   "outputs": [],
   "source": [
    "# avg_rating의 도수분포표 생성\n",
    "bins = [i * 0.5 for i in range(2, 11)]  # 1.0에서 5.0까지 0.5 단위로 구간 설정\n",
    "counts, bin_edges = np.histogram(df['avg_rating'], bins=bins)\n",
    "\n",
    "# 도수분포표 생성\n",
    "freq_table = pd.DataFrame({\n",
    "    'Bin Range': [f'{bin_edges[i]} - {bin_edges[i+1]}' for i in range(len(bin_edges)-1)],\n",
    "    'Frequency': counts\n",
    "})\n",
    "\n",
    "# 전체에 대한 비율 계산 및 소수점 둘째 자리까지 반올림\n",
    "total_count = counts.sum()\n",
    "freq_table['Percentage'] = np.round((freq_table['Frequency'] / total_count) * 100, 2)\n",
    "\n",
    "# 히스토그램과 KDE 시각화\n",
    "plt.figure(figsize=(10, 6))\n",
    "ax = sns.histplot(df['avg_rating'], bins=bins, kde=True)\n",
    "\n",
    "# 각 구간에 대한 빈도수와 비율 추가\n",
    "for i in range(len(bins) - 1):\n",
    "    plt.text(bin_edges[i] + 0.25, counts[i] + 0.5, f'{counts[i]}\\n({freq_table[\"Percentage\"][i]}%)',\n",
    "             ha='center', va='bottom', fontsize=10, color='black')\n",
    "\n",
    "# y축 범위 조정\n",
    "y_max = max(counts) * 1.1\n",
    "plt.ylim(0, y_max)\n",
    "\n",
    "plt.title('Average Rating Distribution')\n",
    "plt.xlabel('Average Rating')\n",
    "plt.ylabel('Frequency')\n",
    "plt.show()"
   ]
  },
  {
   "cell_type": "markdown",
   "metadata": {
    "application/vnd.databricks.v1+cell": {
     "cellMetadata": {},
     "inputWidgets": {},
     "nuid": "9516f80b-5e7f-47a2-9754-1aa78f310c6b",
     "showTitle": false,
     "title": ""
    },
    "id": "tspICAVct3Gu"
   },
   "source": [
    "### Permanently closed를 제외한 평균 평점 분포"
   ]
  },
  {
   "cell_type": "code",
   "execution_count": 0,
   "metadata": {
    "application/vnd.databricks.v1+cell": {
     "cellMetadata": {},
     "inputWidgets": {},
     "nuid": "90a434a3-ea92-4f13-8312-0f1268c2945d",
     "showTitle": false,
     "title": ""
    },
    "colab": {
     "base_uri": "https://localhost:8080/"
    },
    "executionInfo": {
     "elapsed": 5,
     "status": "ok",
     "timestamp": 1720585032849,
     "user": {
      "displayName": "이설하",
      "userId": "07166075204393279284"
     },
     "user_tz": -540
    },
    "id": "qEFCzPrbqWYH",
    "outputId": "cbcd1644-fcb5-468e-ffa1-4d40cfcdaf44"
   },
   "outputs": [],
   "source": [
    "len(df[df['state']=='Permanently closed'])"
   ]
  },
  {
   "cell_type": "code",
   "execution_count": 0,
   "metadata": {
    "application/vnd.databricks.v1+cell": {
     "cellMetadata": {},
     "inputWidgets": {},
     "nuid": "06f63e30-3ca8-4258-84b4-cc6c47fba110",
     "showTitle": false,
     "title": ""
    },
    "colab": {
     "base_uri": "https://localhost:8080/"
    },
    "executionInfo": {
     "elapsed": 1127,
     "status": "ok",
     "timestamp": 1720585033972,
     "user": {
      "displayName": "이설하",
      "userId": "07166075204393279284"
     },
     "user_tz": -540
    },
    "id": "LvEEXP6euClS",
    "outputId": "95a810ba-1924-48bc-9643-7343b547f975"
   },
   "outputs": [],
   "source": [
    "# Permanently closed가 아닌 데이터 필터링\n",
    "filtered_df = df[df['state'] != 'Permanently closed']\n",
    "\n",
    "# avg_rating의 도수분포표 생성\n",
    "bins = [i * 0.5 for i in range(2, 11)]  # 1.0에서 5.0까지 0.5 단위로 구간 설정\n",
    "counts, bin_edges = np.histogram(filtered_df['avg_rating'], bins=bins)\n",
    "\n",
    "# 도수분포표 생성\n",
    "freq_table = pd.DataFrame({\n",
    "    'Bin Range': [f'{bin_edges[i]} - {bin_edges[i+1]}' for i in range(len(bin_edges)-1)],\n",
    "    'Frequency': counts\n",
    "})\n",
    "\n",
    "# 전체에 대한 비율 계산 및 소수점 둘째 자리까지 반올림\n",
    "total_count = counts.sum()\n",
    "freq_table['Percentage'] = np.round((freq_table['Frequency'] / total_count) * 100, 2)\n",
    "\n",
    "# 히스토그램과 KDE 시각화\n",
    "plt.figure(figsize=(10, 6))\n",
    "ax = sns.histplot(filtered_df['avg_rating'], bins=bins, kde=True)\n",
    "\n",
    "# 각 구간에 대한 빈도수와 비율 추가\n",
    "for i in range(len(bins) - 1):\n",
    "    plt.text(bin_edges[i] + 0.25, counts[i] + 0.5, f'{counts[i]}\\n({freq_table[\"Percentage\"][i]}%)',\n",
    "             ha='center', va='bottom', fontsize=10, color='black')\n",
    "\n",
    "# y축 범위 조정\n",
    "y_max = max(counts) * 1.1\n",
    "plt.ylim(0, y_max)\n",
    "\n",
    "plt.title('Average Rating Distribution (Excluding Permanently Closed)')\n",
    "plt.xlabel('Average Rating')\n",
    "plt.ylabel('Frequency')\n",
    "plt.show()"
   ]
  },
  {
   "cell_type": "markdown",
   "metadata": {
    "application/vnd.databricks.v1+cell": {
     "cellMetadata": {},
     "inputWidgets": {},
     "nuid": "21e1613e-26ea-438d-b64f-22c3b76cd638",
     "showTitle": false,
     "title": ""
    },
    "id": "O9r1v9PU1nUi"
   },
   "source": [
    "### Permanently closed의 평균 평점 분포"
   ]
  },
  {
   "cell_type": "code",
   "execution_count": 0,
   "metadata": {
    "application/vnd.databricks.v1+cell": {
     "cellMetadata": {},
     "inputWidgets": {},
     "nuid": "cb058de8-770f-4b4b-b2de-d27afa4320a0",
     "showTitle": false,
     "title": ""
    },
    "colab": {
     "base_uri": "https://localhost:8080/"
    },
    "executionInfo": {
     "elapsed": 11,
     "status": "ok",
     "timestamp": 1720585033972,
     "user": {
      "displayName": "이설하",
      "userId": "07166075204393279284"
     },
     "user_tz": -540
    },
    "id": "CLB-mOK50q9i",
    "outputId": "73cb3907-db56-4f93-afe8-40f07d7201ee"
   },
   "outputs": [],
   "source": [
    "# Permanently closed 데이터 필터링\n",
    "closed_df = df[df['state'] == 'Permanently closed']\n",
    "\n",
    "# avg_rating의 도수분포표 생성\n",
    "bins = [i * 0.5 for i in range(2, 11)]  # 1.0에서 5.0까지 0.5 단위로 구간 설정\n",
    "counts, bin_edges = np.histogram(closed_df['avg_rating'], bins=bins)\n",
    "\n",
    "# 도수분포표 생성\n",
    "freq_table = pd.DataFrame({\n",
    "    'Bin Range': [f'{bin_edges[i]} - {bin_edges[i+1]}' for i in range(len(bin_edges)-1)],\n",
    "    'Frequency': counts\n",
    "})\n",
    "\n",
    "# 전체에 대한 비율 계산 및 소수점 둘째 자리까지 반올림\n",
    "total_count = counts.sum()\n",
    "freq_table['Percentage'] = np.round((freq_table['Frequency'] / total_count) * 100, 2)\n",
    "\n",
    "# 히스토그램과 KDE 시각화\n",
    "plt.figure(figsize=(10, 6))\n",
    "ax = sns.histplot(closed_df['avg_rating'], bins=bins, kde=True)\n",
    "\n",
    "# 각 구간에 대한 빈도수와 비율 추가\n",
    "for i in range(len(bins) - 1):\n",
    "    plt.text(bin_edges[i] + 0.25, counts[i] + 0.5, f'{counts[i]}\\n({freq_table[\"Percentage\"][i]}%)',\n",
    "             ha='center', va='bottom', fontsize=10, color='black')\n",
    "\n",
    "# y축 범위 조정\n",
    "y_max = max(counts) * 1.1\n",
    "plt.ylim(0, y_max)\n",
    "\n",
    "plt.title('Average Rating Distribution (Permanently Closed)')\n",
    "plt.xlabel('Average Rating')\n",
    "plt.ylabel('Frequency')\n",
    "plt.show()"
   ]
  },
  {
   "cell_type": "markdown",
   "metadata": {
    "application/vnd.databricks.v1+cell": {
     "cellMetadata": {},
     "inputWidgets": {},
     "nuid": "af9a166d-568d-4634-bed2-ddace564b8a2",
     "showTitle": false,
     "title": ""
    },
    "id": "o14dvtR82jF_"
   },
   "source": [
    "### 4.0 미만의 비율 비교"
   ]
  },
  {
   "cell_type": "code",
   "execution_count": 0,
   "metadata": {
    "application/vnd.databricks.v1+cell": {
     "cellMetadata": {},
     "inputWidgets": {},
     "nuid": "5d9342ec-860b-4ac8-ab27-39cbccc1731e",
     "showTitle": false,
     "title": ""
    },
    "colab": {
     "base_uri": "https://localhost:8080/"
    },
    "executionInfo": {
     "elapsed": 11,
     "status": "ok",
     "timestamp": 1720585033973,
     "user": {
      "displayName": "이설하",
      "userId": "07166075204393279284"
     },
     "user_tz": -540
    },
    "id": "HNCSyak42I9V",
    "outputId": "4ada1547-388b-4e1a-d33e-c47aac9682db"
   },
   "outputs": [],
   "source": [
    "# 전체 데이터프레임 비율 계산\n",
    "total_df_count = len(df)\n",
    "df_below_4 = df[df['avg_rating'] < 4.0]\n",
    "df_below_4_count = len(df_below_4)\n",
    "df_below_4_percentage = round((df_below_4_count / total_df_count) * 100, 2)\n",
    "\n",
    "# Permanently closed가 아닌 데이터 비율 계산\n",
    "total_filtered_df_count = len(filtered_df)\n",
    "filtered_df_below_4 = filtered_df[filtered_df['avg_rating'] < 4.0]\n",
    "filtered_df_below_4_count = len(filtered_df_below_4)\n",
    "filtered_df_below_4_percentage = round((filtered_df_below_4_count / total_filtered_df_count) * 100, 2)\n",
    "\n",
    "# Permanently closed 데이터 비율 계산\n",
    "total_closed_df_count = len(closed_df)\n",
    "closed_df_below_4 = closed_df[closed_df['avg_rating'] < 4.0]\n",
    "closed_df_below_4_count = len(closed_df_below_4)\n",
    "closed_df_below_4_percentage = round((closed_df_below_4_count / total_closed_df_count) * 100, 2)\n",
    "\n",
    "# 결과를 데이터프레임으로 생성\n",
    "percentage_df = pd.DataFrame({\n",
    "    'DataFrame': ['df', 'filtered_df', 'closed_df'],\n",
    "    'Total Count': [total_df_count, total_filtered_df_count, total_closed_df_count],\n",
    "    'Count < 4.0': [df_below_4_count, filtered_df_below_4_count, closed_df_below_4_count],\n",
    "    'Percentage < 4.0': [df_below_4_percentage, filtered_df_below_4_percentage, closed_df_below_4_percentage]\n",
    "})\n",
    "\n",
    "percentage_df"
   ]
  },
  {
   "cell_type": "markdown",
   "metadata": {
    "application/vnd.databricks.v1+cell": {
     "cellMetadata": {},
     "inputWidgets": {},
     "nuid": "f85e284e-9a8b-4965-b53a-2b0027c73e30",
     "showTitle": false,
     "title": ""
    },
    "id": "Wnuv53zu4CaI"
   },
   "source": [
    "## 리뷰 수(num_of_reviews)"
   ]
  },
  {
   "cell_type": "code",
   "execution_count": 0,
   "metadata": {
    "application/vnd.databricks.v1+cell": {
     "cellMetadata": {},
     "inputWidgets": {},
     "nuid": "9e39d024-1a96-4ec8-96a5-658fd0cfc4f3",
     "showTitle": false,
     "title": ""
    },
    "colab": {
     "base_uri": "https://localhost:8080/"
    },
    "executionInfo": {
     "elapsed": 10,
     "status": "ok",
     "timestamp": 1720585033973,
     "user": {
      "displayName": "이설하",
      "userId": "07166075204393279284"
     },
     "user_tz": -540
    },
    "id": "1SgVd2CG2npR",
    "outputId": "443c75e7-6fe6-44b7-8ccd-c5a206533a0d"
   },
   "outputs": [],
   "source": [
    "# 기술 통계량\n",
    "df['num_of_reviews'].describe()"
   ]
  },
  {
   "cell_type": "code",
   "execution_count": 0,
   "metadata": {
    "application/vnd.databricks.v1+cell": {
     "cellMetadata": {},
     "inputWidgets": {},
     "nuid": "a3021fd1-4932-423b-ae3d-803d6423e033",
     "showTitle": false,
     "title": ""
    },
    "colab": {
     "base_uri": "https://localhost:8080/"
    },
    "executionInfo": {
     "elapsed": 879,
     "status": "ok",
     "timestamp": 1720585034844,
     "user": {
      "displayName": "이설하",
      "userId": "07166075204393279284"
     },
     "user_tz": -540
    },
    "id": "5gbpbI2svWvq",
    "outputId": "2f9faea8-3a55-4755-b273-e69b5e490b5c"
   },
   "outputs": [],
   "source": [
    "# 히스토그램 그리기\n",
    "plt.figure(figsize=(10, 6))\n",
    "sns.histplot(df['num_of_reviews'], bins=30, kde=True)  # bins: 히스토그램의 막대 개수, kde: 커널 밀도 추정\n",
    "plt.title('Distribution of num_of_reviews(ALL)')\n",
    "plt.xlabel('num_of_reviews')\n",
    "plt.ylabel('Frequency')\n",
    "\n",
    "plt.show()"
   ]
  },
  {
   "cell_type": "code",
   "execution_count": 0,
   "metadata": {
    "application/vnd.databricks.v1+cell": {
     "cellMetadata": {},
     "inputWidgets": {},
     "nuid": "b4e17cf1-738d-4947-9f2f-1bedc4d65416",
     "showTitle": false,
     "title": ""
    },
    "colab": {
     "base_uri": "https://localhost:8080/"
    },
    "executionInfo": {
     "elapsed": 8,
     "status": "ok",
     "timestamp": 1720585034844,
     "user": {
      "displayName": "이설하",
      "userId": "07166075204393279284"
     },
     "user_tz": -540
    },
    "id": "qc8tZv6ezOMq",
    "outputId": "68369f7a-3968-4c7c-9fbd-27b8a46789f0"
   },
   "outputs": [],
   "source": [
    "# 구간 설정\n",
    "bins = [0, 20, 40, 60, 80, 100]\n",
    "labels = ['0-20', '20-40', '40-60', '60-80', '80-100']\n",
    "\n",
    "# num_of_reviews 컬럼을 구간별로 나누기\n",
    "df['binned'] = pd.cut(df['num_of_reviews'], bins=bins, labels=labels, right=False)\n",
    "\n",
    "# 각 구간별 값들의 개수 계산\n",
    "bin_counts = df['binned'].value_counts().sort_index().reset_index()\n",
    "bin_counts.columns = ['Range', 'Count']\n",
    "\n",
    "# 결과 출력\n",
    "print(bin_counts)"
   ]
  },
  {
   "cell_type": "code",
   "execution_count": 0,
   "metadata": {
    "application/vnd.databricks.v1+cell": {
     "cellMetadata": {},
     "inputWidgets": {},
     "nuid": "856603b1-54a9-4d11-8502-f7c03b3c4337",
     "showTitle": false,
     "title": ""
    },
    "colab": {
     "base_uri": "https://localhost:8080/"
    },
    "executionInfo": {
     "elapsed": 7,
     "status": "ok",
     "timestamp": 1720585034844,
     "user": {
      "displayName": "이설하",
      "userId": "07166075204393279284"
     },
     "user_tz": -540
    },
    "id": "Oxo72zHmzeog",
    "outputId": "a4fb75f7-6d9e-49d0-9d19-665ae45f3f62"
   },
   "outputs": [],
   "source": [
    "# 100 이하의 값들만 선택\n",
    "df_under_28 = df[df['num_of_reviews'] <= 100]\n",
    "\n",
    "# num_of_reviews 컬럼의 분포 시각화 (100 이하 값들만)\n",
    "plt.figure(figsize=(10, 6))\n",
    "sns.histplot(df_under_28['num_of_reviews'], bins=10, kde=True, edgecolor='black')\n",
    "plt.title('Distribution of Number of Reviews (<=100)')\n",
    "plt.xlabel('Number of Reviews')\n",
    "plt.ylabel('Frequency')\n",
    "\n",
    "plt.show()"
   ]
  },
  {
   "cell_type": "code",
   "execution_count": 0,
   "metadata": {
    "application/vnd.databricks.v1+cell": {
     "cellMetadata": {},
     "inputWidgets": {},
     "nuid": "8a7cca1a-0d66-4f13-8bd8-d6520cc599d9",
     "showTitle": false,
     "title": ""
    },
    "colab": {
     "base_uri": "https://localhost:8080/"
    },
    "executionInfo": {
     "elapsed": 1139,
     "status": "ok",
     "timestamp": 1720585035977,
     "user": {
      "displayName": "이설하",
      "userId": "07166075204393279284"
     },
     "user_tz": -540
    },
    "id": "6A5cYM4h0v5p",
    "outputId": "65d4799b-c82c-4e1c-f27f-5ebc26cdc0dc"
   },
   "outputs": [],
   "source": [
    "# 28 이하의 값들만 선택\n",
    "df_under_28 = df[df['num_of_reviews'] <= 28]\n",
    "\n",
    "# num_of_reviews 컬럼의 분포 시각화 (28 이하 값들만)\n",
    "plt.figure(figsize=(10, 6))\n",
    "sns.histplot(df_under_28['num_of_reviews'], bins=10, kde=True, edgecolor='black')\n",
    "plt.title('Distribution of Number of Reviews (<=28)')\n",
    "plt.xlabel('Number of Reviews')\n",
    "plt.ylabel('Frequency')\n",
    "\n",
    "plt.show()"
   ]
  },
  {
   "cell_type": "code",
   "execution_count": 0,
   "metadata": {
    "application/vnd.databricks.v1+cell": {
     "cellMetadata": {},
     "inputWidgets": {},
     "nuid": "b990b7d7-fa14-4af8-a1c5-f8cbacb79eeb",
     "showTitle": false,
     "title": ""
    },
    "colab": {
     "base_uri": "https://localhost:8080/"
    },
    "executionInfo": {
     "elapsed": 23,
     "status": "ok",
     "timestamp": 1720585035978,
     "user": {
      "displayName": "이설하",
      "userId": "07166075204393279284"
     },
     "user_tz": -540
    },
    "id": "2BHexYMU1sXo",
    "outputId": "1eb06838-d784-4378-987f-264bdc1fea65"
   },
   "outputs": [],
   "source": [
    "len(df[df['num_of_reviews'] <= 10])"
   ]
  },
  {
   "cell_type": "code",
   "execution_count": 0,
   "metadata": {
    "application/vnd.databricks.v1+cell": {
     "cellMetadata": {},
     "inputWidgets": {},
     "nuid": "4bcab351-17ae-4975-837f-75851d172056",
     "showTitle": false,
     "title": ""
    },
    "colab": {
     "base_uri": "https://localhost:8080/"
    },
    "executionInfo": {
     "elapsed": 20,
     "status": "ok",
     "timestamp": 1720585035978,
     "user": {
      "displayName": "이설하",
      "userId": "07166075204393279284"
     },
     "user_tz": -540
    },
    "id": "-QyFX3Q81yIK",
    "outputId": "f676251c-d14e-44b8-81a5-e3ab9094d515"
   },
   "outputs": [],
   "source": [
    "len(df[df['num_of_reviews'] <= 10])/len(df)"
   ]
  },
  {
   "cell_type": "code",
   "execution_count": 0,
   "metadata": {
    "application/vnd.databricks.v1+cell": {
     "cellMetadata": {},
     "inputWidgets": {},
     "nuid": "7ad45626-f949-4a2d-b68c-a307fff6ac67",
     "showTitle": false,
     "title": ""
    },
    "colab": {
     "base_uri": "https://localhost:8080/"
    },
    "executionInfo": {
     "elapsed": 20,
     "status": "ok",
     "timestamp": 1720585035978,
     "user": {
      "displayName": "이설하",
      "userId": "07166075204393279284"
     },
     "user_tz": -540
    },
    "id": "_ZJvyCrk2K4G",
    "outputId": "3a17d1b4-cba5-49ba-d752-9bd39b5d4bba"
   },
   "outputs": [],
   "source": [
    "len(df[df['num_of_reviews']==0])"
   ]
  },
  {
   "cell_type": "code",
   "execution_count": 0,
   "metadata": {
    "application/vnd.databricks.v1+cell": {
     "cellMetadata": {},
     "inputWidgets": {},
     "nuid": "e7cd81fc-dd71-4a39-b587-e8dffc94b1ed",
     "showTitle": false,
     "title": ""
    },
    "colab": {
     "base_uri": "https://localhost:8080/"
    },
    "executionInfo": {
     "elapsed": 19,
     "status": "ok",
     "timestamp": 1720585035978,
     "user": {
      "displayName": "이설하",
      "userId": "07166075204393279284"
     },
     "user_tz": -540
    },
    "id": "gKqPNVFM3bSh",
    "outputId": "d6312eda-ffc3-49dd-8b5a-a0b3c4819275"
   },
   "outputs": [],
   "source": [
    "# 여러 통계량 계산\n",
    "min_value = round(df['num_of_reviews'].min(), 2)\n",
    "max_value = round(df['num_of_reviews'].max(), 2)\n",
    "mode_value = round(df['num_of_reviews'].mode()[0] if not df['num_of_reviews'].mode().empty else None, 2)\n",
    "mean_value = round(df['num_of_reviews'].mean(), 2)\n",
    "median_value = round(df['num_of_reviews'].median(), 2)\n",
    "\n",
    "# 결과를 데이터프레임으로 정리\n",
    "summary_data = {\n",
    "    '통계량': ['최소값', '최대값', '최빈값', '평균값', '중앙값'],\n",
    "    '값': [min_value, max_value, mode_value, mean_value, median_value]\n",
    "}\n",
    "\n",
    "summary_df = pd.DataFrame(summary_data)\n",
    "summary_df.set_index('통계량', inplace=True)\n",
    "\n",
    "summary_df"
   ]
  },
  {
   "cell_type": "code",
   "execution_count": 0,
   "metadata": {
    "application/vnd.databricks.v1+cell": {
     "cellMetadata": {},
     "inputWidgets": {},
     "nuid": "121bca3e-9b76-480c-bfef-84a47b9de99b",
     "showTitle": false,
     "title": ""
    },
    "colab": {
     "base_uri": "https://localhost:8080/"
    },
    "executionInfo": {
     "elapsed": 18,
     "status": "ok",
     "timestamp": 1720585035978,
     "user": {
      "displayName": "이설하",
      "userId": "07166075204393279284"
     },
     "user_tz": -540
    },
    "id": "1c9i9ms04GgF",
    "outputId": "beed5884-4698-4dcc-e345-0ebdbe70b80b"
   },
   "outputs": [],
   "source": [
    "len(df[df['num_of_reviews'] == 8])"
   ]
  },
  {
   "cell_type": "code",
   "execution_count": 0,
   "metadata": {
    "application/vnd.databricks.v1+cell": {
     "cellMetadata": {},
     "inputWidgets": {},
     "nuid": "3b1d9974-33d2-404e-9d2a-7e8d3af67dec",
     "showTitle": false,
     "title": ""
    },
    "colab": {
     "base_uri": "https://localhost:8080/"
    },
    "executionInfo": {
     "elapsed": 18,
     "status": "ok",
     "timestamp": 1720585035978,
     "user": {
      "displayName": "이설하",
      "userId": "07166075204393279284"
     },
     "user_tz": -540
    },
    "id": "Rzdx8dSM4aYb",
    "outputId": "6f431239-3056-4a95-99f8-209b04215d2c"
   },
   "outputs": [],
   "source": [
    "df[df['num_of_reviews'] == 8]['gmap_id'].nunique()"
   ]
  },
  {
   "cell_type": "markdown",
   "metadata": {
    "application/vnd.databricks.v1+cell": {
     "cellMetadata": {},
     "inputWidgets": {},
     "nuid": "a18d4c74-4643-4587-8db8-5f33022c1d4e",
     "showTitle": false,
     "title": ""
    },
    "id": "1nE4yOpi4_VS"
   },
   "source": [
    "## 구글 추천(relative_results)"
   ]
  },
  {
   "cell_type": "code",
   "execution_count": 0,
   "metadata": {
    "application/vnd.databricks.v1+cell": {
     "cellMetadata": {},
     "inputWidgets": {},
     "nuid": "a1fe92f3-3df3-48ec-9712-5266740c4048",
     "showTitle": false,
     "title": ""
    },
    "id": "gjG8T4Dr-hji"
   },
   "outputs": [],
   "source": [
    "df['relative_results'].fillna('',inplace=True) #NaN 데이터를 빈칸으로 채움"
   ]
  },
  {
   "cell_type": "code",
   "execution_count": 0,
   "metadata": {
    "application/vnd.databricks.v1+cell": {
     "cellMetadata": {},
     "inputWidgets": {},
     "nuid": "394ee415-d9b2-45b7-949f-1be7b9dc12b8",
     "showTitle": false,
     "title": ""
    },
    "id": "yWCFLv8Q5HcW"
   },
   "outputs": [],
   "source": [
    "df['results_count'] = df['relative_results'].apply(len)"
   ]
  },
  {
   "cell_type": "code",
   "execution_count": 0,
   "metadata": {
    "application/vnd.databricks.v1+cell": {
     "cellMetadata": {},
     "inputWidgets": {},
     "nuid": "08bde33d-1263-4e08-ae93-9c45af435ed6",
     "showTitle": false,
     "title": ""
    },
    "colab": {
     "base_uri": "https://localhost:8080/"
    },
    "executionInfo": {
     "elapsed": 18,
     "status": "ok",
     "timestamp": 1720585035979,
     "user": {
      "displayName": "이설하",
      "userId": "07166075204393279284"
     },
     "user_tz": -540
    },
    "id": "uwDJC7IY_KrV",
    "outputId": "4a0dc0b2-d707-483e-9bad-78125080381a"
   },
   "outputs": [],
   "source": [
    "df['results_count'].value_counts()"
   ]
  },
  {
   "cell_type": "markdown",
   "metadata": {
    "application/vnd.databricks.v1+cell": {
     "cellMetadata": {},
     "inputWidgets": {},
     "nuid": "e1919e04-3bea-4a70-a7a7-7f12eb0e4ac1",
     "showTitle": false,
     "title": ""
    },
    "id": "MKb2j6xJVFph"
   },
   "source": [
    "## 리뷰 수와 평점 상관 관계"
   ]
  },
  {
   "cell_type": "code",
   "execution_count": 0,
   "metadata": {
    "application/vnd.databricks.v1+cell": {
     "cellMetadata": {},
     "inputWidgets": {},
     "nuid": "1eebbfcd-8261-4329-b7dc-91d06f216dd9",
     "showTitle": false,
     "title": ""
    },
    "colab": {
     "base_uri": "https://localhost:8080/",
     "height": 490
    },
    "executionInfo": {
     "elapsed": 18,
     "status": "ok",
     "timestamp": 1720585035979,
     "user": {
      "displayName": "이설하",
      "userId": "07166075204393279284"
     },
     "user_tz": -540
    },
    "id": "yyjS2a59VICa",
    "outputId": "6a7ac479-0daf-4679-ef27-100f42345e0d"
   },
   "outputs": [],
   "source": [
    "# 상관계수 계산\n",
    "correlation = df['num_of_reviews'].corr(df['avg_rating'])\n",
    "\n",
    "# 상관계수 출력\n",
    "print(f\"Correlation between num_of_reviews and avg_rating: {correlation}\")\n",
    "\n",
    "# 산점도 시각화\n",
    "plt.scatter(df['num_of_reviews'], df['avg_rating'])\n",
    "plt.xlabel('Number of Reviews')\n",
    "plt.ylabel('Average Rating')\n",
    "plt.title('Scatter Plot of Number of Reviews vs. Average Rating')\n",
    "plt.show()"
   ]
  },
  {
   "cell_type": "code",
   "execution_count": 0,
   "metadata": {
    "application/vnd.databricks.v1+cell": {
     "cellMetadata": {},
     "inputWidgets": {},
     "nuid": "532aa554-a58a-422c-b695-c39bb47f416f",
     "showTitle": false,
     "title": ""
    },
    "colab": {
     "base_uri": "https://localhost:8080/",
     "height": 545
    },
    "executionInfo": {
     "elapsed": 16,
     "status": "ok",
     "timestamp": 1720585035979,
     "user": {
      "displayName": "이설하",
      "userId": "07166075204393279284"
     },
     "user_tz": -540
    },
    "id": "o_0pxmNCWWtq",
    "outputId": "64f0d195-f0be-470c-e808-5e28be5f0aa8"
   },
   "outputs": [],
   "source": [
    "# 상관계수 계산\n",
    "correlation = df[['num_of_reviews', 'avg_rating']].corr()\n",
    "\n",
    "# 히트맵 시각화\n",
    "plt.figure(figsize=(8, 6))\n",
    "sns.heatmap(correlation, annot=True, cmap='coolwarm', vmin=-1, vmax=1)\n",
    "plt.title('Correlation Heatmap of num_of_reviews and avg_rating')\n",
    "plt.show()"
   ]
  },
  {
   "cell_type": "markdown",
   "metadata": {
    "application/vnd.databricks.v1+cell": {
     "cellMetadata": {},
     "inputWidgets": {},
     "nuid": "502734da-bb08-4eba-82cf-a7919ea8d2d5",
     "showTitle": false,
     "title": ""
    },
    "id": "uerwdfJ5AiLI"
   },
   "source": [
    "## Price"
   ]
  },
  {
   "cell_type": "markdown",
   "metadata": {
    "application/vnd.databricks.v1+cell": {
     "cellMetadata": {},
     "inputWidgets": {},
     "nuid": "9c08e4d9-25de-4ed5-be2b-e428261951e3",
     "showTitle": false,
     "title": ""
    },
    "id": "OGeMKHnDA3pm"
   },
   "source": [
    "**API docs 기준**\n",
    "- 0 : free\n",
    "- 1 : inexpensive\n",
    "- 2 : moderate\n",
    "- 3 : expensive\n",
    "- 4 : very expensive"
   ]
  },
  {
   "cell_type": "code",
   "execution_count": 0,
   "metadata": {
    "application/vnd.databricks.v1+cell": {
     "cellMetadata": {},
     "inputWidgets": {},
     "nuid": "91992782-7fb6-4de2-a9fe-06e82db51b8a",
     "showTitle": false,
     "title": ""
    },
    "colab": {
     "base_uri": "https://localhost:8080/"
    },
    "executionInfo": {
     "elapsed": 14,
     "status": "ok",
     "timestamp": 1720585035979,
     "user": {
      "displayName": "이설하",
      "userId": "07166075204393279284"
     },
     "user_tz": -540
    },
    "id": "ved-gpV9WXJj",
    "outputId": "b75f1153-33e2-498c-eb15-e42f034fd49d"
   },
   "outputs": [],
   "source": [
    "df['price'].value_counts()"
   ]
  },
  {
   "cell_type": "code",
   "execution_count": 0,
   "metadata": {
    "application/vnd.databricks.v1+cell": {
     "cellMetadata": {},
     "inputWidgets": {},
     "nuid": "b9e8de31-99a2-4185-8961-600c08d356fd",
     "showTitle": false,
     "title": ""
    },
    "colab": {
     "base_uri": "https://localhost:8080/",
     "height": 35
    },
    "executionInfo": {
     "elapsed": 13,
     "status": "ok",
     "timestamp": 1720585035979,
     "user": {
      "displayName": "이설하",
      "userId": "07166075204393279284"
     },
     "user_tz": -540
    },
    "id": "6hTolD5OB88l",
    "outputId": "78880246-c0db-44b9-860f-e3ce6c84a8d2"
   },
   "outputs": [],
   "source": [
    "df[df['gmap_id']=='0x7954d370921ff6bd:0x3193ba783e26d032']['address'].iloc[0]"
   ]
  },
  {
   "cell_type": "code",
   "execution_count": 0,
   "metadata": {
    "application/vnd.databricks.v1+cell": {
     "cellMetadata": {},
     "inputWidgets": {},
     "nuid": "d5aa5ace-6baa-49bb-83dd-2f1e14c220f1",
     "showTitle": false,
     "title": ""
    },
    "colab": {
     "base_uri": "https://localhost:8080/",
     "height": 476
    },
    "executionInfo": {
     "elapsed": 640,
     "status": "ok",
     "timestamp": 1720585036607,
     "user": {
      "displayName": "이설하",
      "userId": "07166075204393279284"
     },
     "user_tz": -540
    },
    "id": "7gTqFlSWC9fA",
    "outputId": "0a071e4c-7dae-42e9-dec4-24ff03d0966e"
   },
   "outputs": [],
   "source": [
    "df[df['price']=='$$$'].head(3)"
   ]
  },
  {
   "cell_type": "code",
   "execution_count": 0,
   "metadata": {
    "application/vnd.databricks.v1+cell": {
     "cellMetadata": {},
     "inputWidgets": {},
     "nuid": "810b384a-f2ca-4f43-90dc-7f50aa3e67a2",
     "showTitle": false,
     "title": ""
    },
    "id": "CHa-U7AOFFRZ"
   },
   "outputs": [],
   "source": [
    "won = df[df['price']=='₩'].head(10)['name']"
   ]
  },
  {
   "cell_type": "code",
   "execution_count": 0,
   "metadata": {
    "application/vnd.databricks.v1+cell": {
     "cellMetadata": {},
     "inputWidgets": {},
     "nuid": "25cbdebb-d83a-40a8-a9c2-0e98ef1ccf3d",
     "showTitle": false,
     "title": ""
    },
    "colab": {
     "base_uri": "https://localhost:8080/"
    },
    "executionInfo": {
     "elapsed": 23,
     "status": "ok",
     "timestamp": 1720585036608,
     "user": {
      "displayName": "이설하",
      "userId": "07166075204393279284"
     },
     "user_tz": -540
    },
    "id": "Rn8poJJ1JC1q",
    "outputId": "54b817b5-a543-477c-fd9d-db097600b821"
   },
   "outputs": [],
   "source": [
    "won.to_list()"
   ]
  },
  {
   "cell_type": "code",
   "execution_count": 0,
   "metadata": {
    "application/vnd.databricks.v1+cell": {
     "cellMetadata": {},
     "inputWidgets": {},
     "nuid": "b83ebe42-b870-464c-acf3-0b71f251e9dc",
     "showTitle": false,
     "title": ""
    },
    "id": "jTepHSJBFiar"
   },
   "outputs": [],
   "source": [
    "won.to_csv('won.csv', index = False)"
   ]
  },
  {
   "cell_type": "code",
   "execution_count": 0,
   "metadata": {
    "application/vnd.databricks.v1+cell": {
     "cellMetadata": {},
     "inputWidgets": {},
     "nuid": "a1bb40c4-9232-41be-82dd-96830735626c",
     "showTitle": false,
     "title": ""
    },
    "id": "0ICuNEq7juqu"
   },
   "outputs": [],
   "source": [
    "three = df[df['price']=='$$$'].head(10)['name']"
   ]
  },
  {
   "cell_type": "code",
   "execution_count": 0,
   "metadata": {
    "application/vnd.databricks.v1+cell": {
     "cellMetadata": {},
     "inputWidgets": {},
     "nuid": "5935050c-224e-40dd-a504-300f8d23cf43",
     "showTitle": false,
     "title": ""
    },
    "colab": {
     "base_uri": "https://localhost:8080/"
    },
    "executionInfo": {
     "elapsed": 20,
     "status": "ok",
     "timestamp": 1720585036608,
     "user": {
      "displayName": "이설하",
      "userId": "07166075204393279284"
     },
     "user_tz": -540
    },
    "id": "fnHJ5cG0jzUf",
    "outputId": "a78a07f0-da27-448f-8b2c-30b6a69b7d2e"
   },
   "outputs": [],
   "source": [
    "three.to_list()"
   ]
  },
  {
   "cell_type": "code",
   "execution_count": 0,
   "metadata": {
    "application/vnd.databricks.v1+cell": {
     "cellMetadata": {},
     "inputWidgets": {},
     "nuid": "6e4f601a-b548-45a3-bec7-42014f7d13c6",
     "showTitle": false,
     "title": ""
    },
    "colab": {
     "base_uri": "https://localhost:8080/",
     "height": 458
    },
    "executionInfo": {
     "elapsed": 18,
     "status": "ok",
     "timestamp": 1720585036608,
     "user": {
      "displayName": "이설하",
      "userId": "07166075204393279284"
     },
     "user_tz": -540
    },
    "id": "qu_2F1bmj1QV",
    "outputId": "c2c2c057-4df4-4aa5-98a6-a5fe24fb93b2"
   },
   "outputs": [],
   "source": [
    "df.head(3)"
   ]
  },
  {
   "cell_type": "code",
   "execution_count": 0,
   "metadata": {
    "application/vnd.databricks.v1+cell": {
     "cellMetadata": {},
     "inputWidgets": {},
     "nuid": "05e25c5f-abe5-4419-a2cf-fbdcb6e19f69",
     "showTitle": false,
     "title": ""
    },
    "colab": {
     "base_uri": "https://localhost:8080/",
     "height": 205
    },
    "executionInfo": {
     "elapsed": 18,
     "status": "ok",
     "timestamp": 1720585036609,
     "user": {
      "displayName": "이설하",
      "userId": "07166075204393279284"
     },
     "user_tz": -540
    },
    "id": "JhUk9qgxk6ZG",
    "outputId": "264075f8-8837-489d-cf2c-b9721d9f7b73"
   },
   "outputs": [],
   "source": [
    "df[df['name']=='Kirby Co']"
   ]
  },
  {
   "cell_type": "code",
   "execution_count": 0,
   "metadata": {
    "application/vnd.databricks.v1+cell": {
     "cellMetadata": {},
     "inputWidgets": {},
     "nuid": "2416b9ae-f589-4afe-8be2-c99a0a47f18d",
     "showTitle": false,
     "title": ""
    },
    "colab": {
     "base_uri": "https://localhost:8080/",
     "height": 625
    },
    "executionInfo": {
     "elapsed": 17,
     "status": "ok",
     "timestamp": 1720585036609,
     "user": {
      "displayName": "이설하",
      "userId": "07166075204393279284"
     },
     "user_tz": -540
    },
    "id": "rvNERvREmsAY",
    "outputId": "67ccc011-f7c2-4e52-dddb-d4b35a8e4329"
   },
   "outputs": [],
   "source": [
    "df[df['price'].isnull()].tail()"
   ]
  },
  {
   "cell_type": "code",
   "execution_count": 0,
   "metadata": {
    "application/vnd.databricks.v1+cell": {
     "cellMetadata": {},
     "inputWidgets": {},
     "nuid": "3e96ec85-b9ed-4cf3-a1e0-014c90558f7b",
     "showTitle": false,
     "title": ""
    },
    "colab": {
     "base_uri": "https://localhost:8080/",
     "height": 222
    },
    "executionInfo": {
     "elapsed": 16,
     "status": "ok",
     "timestamp": 1720585036609,
     "user": {
      "displayName": "이설하",
      "userId": "07166075204393279284"
     },
     "user_tz": -540
    },
    "id": "HgOcBMBkn1Rt",
    "outputId": "2bc67fc8-cb2d-4183-9129-03bfd63e5684"
   },
   "outputs": [],
   "source": [
    "df[df['name']=='2 Cheesy Guys']"
   ]
  },
  {
   "cell_type": "code",
   "execution_count": 0,
   "metadata": {
    "application/vnd.databricks.v1+cell": {
     "cellMetadata": {},
     "inputWidgets": {},
     "nuid": "204d47dc-b45a-4883-9fff-fbaf073434e5",
     "showTitle": false,
     "title": ""
    },
    "colab": {
     "base_uri": "https://localhost:8080/"
    },
    "executionInfo": {
     "elapsed": 15,
     "status": "ok",
     "timestamp": 1720585036609,
     "user": {
      "displayName": "이설하",
      "userId": "07166075204393279284"
     },
     "user_tz": -540
    },
    "id": "Z6O3BP4sogUl",
    "outputId": "26584904-7702-4731-b8ca-1e7f4e4708bb"
   },
   "outputs": [],
   "source": [
    "df[df['name']=='2 Cheesy Guys']['hours'].iloc[0]"
   ]
  },
  {
   "cell_type": "markdown",
   "metadata": {
    "application/vnd.databricks.v1+cell": {
     "cellMetadata": {},
     "inputWidgets": {},
     "nuid": "17ae2f8b-68b8-4db1-9afe-789eeda9fc7c",
     "showTitle": false,
     "title": ""
    },
    "id": "w9-pPkNPw_aZ"
   },
   "source": [
    "## Categroy"
   ]
  },
  {
   "cell_type": "code",
   "execution_count": 0,
   "metadata": {
    "application/vnd.databricks.v1+cell": {
     "cellMetadata": {},
     "inputWidgets": {},
     "nuid": "772f38b7-ca56-4317-a1b2-2a8389a95e9b",
     "showTitle": false,
     "title": ""
    },
    "colab": {
     "base_uri": "https://localhost:8080/",
     "height": 53
    },
    "executionInfo": {
     "elapsed": 415,
     "status": "ok",
     "timestamp": 1721187508680,
     "user": {
      "displayName": "이설하",
      "userId": "07166075204393279284"
     },
     "user_tz": -540
    },
    "id": "1eV_fo5HxJ9C",
    "outputId": "bc093787-6507-45ba-e67e-4bec3864ce74"
   },
   "outputs": [],
   "source": [
    "df[df['category']=='Bar']"
   ]
  },
  {
   "cell_type": "code",
   "execution_count": 0,
   "metadata": {
    "application/vnd.databricks.v1+cell": {
     "cellMetadata": {},
     "inputWidgets": {},
     "nuid": "8e1d8a58-6e83-410a-ae49-af21501ba0ce",
     "showTitle": false,
     "title": ""
    },
    "colab": {
     "base_uri": "https://localhost:8080/"
    },
    "executionInfo": {
     "elapsed": 14,
     "status": "ok",
     "timestamp": 1720585036609,
     "user": {
      "displayName": "이설하",
      "userId": "07166075204393279284"
     },
     "user_tz": -540
    },
    "id": "c11vTRn5oxhq",
    "outputId": "8914d3f4-18b2-4828-f877-5f0b7f1f0912"
   },
   "outputs": [],
   "source": [
    "df['category'][2000][0].split()"
   ]
  },
  {
   "cell_type": "code",
   "execution_count": 0,
   "metadata": {
    "application/vnd.databricks.v1+cell": {
     "cellMetadata": {},
     "inputWidgets": {},
     "nuid": "eeaf62d7-49a8-418b-9ca9-e84a215047c9",
     "showTitle": false,
     "title": ""
    },
    "id": "dRzueaHD2OnZ"
   },
   "outputs": [],
   "source": [
    "value_counts = df['category'].value_counts()\n",
    "# count가 10 이상인 데이터 필터링\n",
    "filtered_value_counts = value_counts[value_counts >= 10]"
   ]
  },
  {
   "cell_type": "code",
   "execution_count": 0,
   "metadata": {
    "application/vnd.databricks.v1+cell": {
     "cellMetadata": {},
     "inputWidgets": {},
     "nuid": "1823681e-222b-4445-aa0e-a4d24afae5d5",
     "showTitle": false,
     "title": ""
    },
    "colab": {
     "base_uri": "https://localhost:8080/"
    },
    "executionInfo": {
     "elapsed": 12,
     "status": "ok",
     "timestamp": 1720585039999,
     "user": {
      "displayName": "이설하",
      "userId": "07166075204393279284"
     },
     "user_tz": -540
    },
    "id": "_AOvOk_xROPP",
    "outputId": "9a50b03e-58c2-4045-b4d0-51352c334f6b"
   },
   "outputs": [],
   "source": [
    "filtered_value_counts.tail()"
   ]
  },
  {
   "cell_type": "code",
   "execution_count": 0,
   "metadata": {
    "application/vnd.databricks.v1+cell": {
     "cellMetadata": {},
     "inputWidgets": {},
     "nuid": "99832c2c-f16f-4003-8966-10582d561d9e",
     "showTitle": false,
     "title": ""
    },
    "id": "gtMEkWtWX5nw"
   },
   "outputs": [],
   "source": [
    "pd.set_option('display.max_rows', 10)"
   ]
  },
  {
   "cell_type": "code",
   "execution_count": 0,
   "metadata": {
    "application/vnd.databricks.v1+cell": {
     "cellMetadata": {},
     "inputWidgets": {},
     "nuid": "26163fa6-0f57-43c1-b0d2-7c79c24e3ade",
     "showTitle": false,
     "title": ""
    },
    "id": "az6PauHUX6lb"
   },
   "outputs": [],
   "source": [
    "cate = df['category'].value_counts()"
   ]
  },
  {
   "cell_type": "code",
   "execution_count": 0,
   "metadata": {
    "application/vnd.databricks.v1+cell": {
     "cellMetadata": {},
     "inputWidgets": {},
     "nuid": "f1cc4190-cb5c-4081-b014-e3adfccbcf37",
     "showTitle": false,
     "title": ""
    },
    "id": "dQaZLGRUZtR9"
   },
   "outputs": [],
   "source": [
    "# 각 카테고리의 빈도 계산\n",
    "category_counts = df['category'].value_counts()\n",
    "\n",
    "# 빈도가 10 이상인 카테고리 필터링\n",
    "categories_with_10_or_more = category_counts[category_counts == 1]\n",
    "\n",
    "# 이 카테고리들의 비율 계산\n",
    "proportion = len(categories_with_10_or_more) / len(category_counts)"
   ]
  },
  {
   "cell_type": "code",
   "execution_count": 0,
   "metadata": {
    "application/vnd.databricks.v1+cell": {
     "cellMetadata": {},
     "inputWidgets": {},
     "nuid": "5b8f4c00-6bdb-40e9-b20c-ff9c9480c579",
     "showTitle": false,
     "title": ""
    },
    "colab": {
     "base_uri": "https://localhost:8080/"
    },
    "executionInfo": {
     "elapsed": 21,
     "status": "ok",
     "timestamp": 1720585047527,
     "user": {
      "displayName": "이설하",
      "userId": "07166075204393279284"
     },
     "user_tz": -540
    },
    "id": "kswaayPXZtol",
    "outputId": "32e3cde7-bb57-4e65-9cc5-adc9b8c3481d"
   },
   "outputs": [],
   "source": [
    "print(proportion)"
   ]
  },
  {
   "cell_type": "code",
   "execution_count": 0,
   "metadata": {
    "application/vnd.databricks.v1+cell": {
     "cellMetadata": {},
     "inputWidgets": {},
     "nuid": "63dd01c3-16b6-430f-84eb-b9ef4c8e7eb4",
     "showTitle": false,
     "title": ""
    },
    "colab": {
     "base_uri": "https://localhost:8080/"
    },
    "executionInfo": {
     "elapsed": 21,
     "status": "ok",
     "timestamp": 1720585047527,
     "user": {
      "displayName": "이설하",
      "userId": "07166075204393279284"
     },
     "user_tz": -540
    },
    "id": "z0TTuZ1MZyZB",
    "outputId": "2cf8615e-fae1-42c5-d4b6-59220e0d8261"
   },
   "outputs": [],
   "source": [
    "len(df['category'][3000])"
   ]
  },
  {
   "cell_type": "code",
   "execution_count": 0,
   "metadata": {
    "application/vnd.databricks.v1+cell": {
     "cellMetadata": {},
     "inputWidgets": {},
     "nuid": "ab168562-f3a1-41a1-b9c9-217b073e69b5",
     "showTitle": false,
     "title": ""
    },
    "colab": {
     "base_uri": "https://localhost:8080/"
    },
    "executionInfo": {
     "elapsed": 19,
     "status": "ok",
     "timestamp": 1720585047527,
     "user": {
      "displayName": "이설하",
      "userId": "07166075204393279284"
     },
     "user_tz": -540
    },
    "id": "9KBXfjQXdYiz",
    "outputId": "556dffa0-56b9-4fcd-8761-4f2db58bf9da"
   },
   "outputs": [],
   "source": [
    "type(df['category'][0])"
   ]
  },
  {
   "cell_type": "code",
   "execution_count": 0,
   "metadata": {
    "application/vnd.databricks.v1+cell": {
     "cellMetadata": {},
     "inputWidgets": {},
     "nuid": "896adb9f-2fab-4e37-95a2-902fc89d7915",
     "showTitle": false,
     "title": ""
    },
    "colab": {
     "base_uri": "https://localhost:8080/",
     "height": 205
    },
    "executionInfo": {
     "elapsed": 17,
     "status": "ok",
     "timestamp": 1720585047527,
     "user": {
      "displayName": "이설하",
      "userId": "07166075204393279284"
     },
     "user_tz": -540
    },
    "id": "683x7B7xdU6V",
    "outputId": "56401948-aa0b-464b-8407-3571be9a1c04"
   },
   "outputs": [],
   "source": [
    "# 찾고자 하는 리스트 값\n",
    "target_value = ['Gay bar', 'Restaurant']\n",
    "\n",
    "# 'category' 컬럼이 target_value와 같은 행을 필터링\n",
    "filtered_df = df[df['category'].apply(lambda x: x == target_value)]\n",
    "\n",
    "filtered_df"
   ]
  },
  {
   "cell_type": "code",
   "execution_count": 0,
   "metadata": {
    "application/vnd.databricks.v1+cell": {
     "cellMetadata": {},
     "inputWidgets": {},
     "nuid": "aa0739c8-8133-409e-beaf-ba8bf31f0d2f",
     "showTitle": false,
     "title": ""
    },
    "colab": {
     "base_uri": "https://localhost:8080/"
    },
    "executionInfo": {
     "elapsed": 16,
     "status": "ok",
     "timestamp": 1720585047527,
     "user": {
      "displayName": "이설하",
      "userId": "07166075204393279284"
     },
     "user_tz": -540
    },
    "id": "ohlksvkPeXBg",
    "outputId": "7ebcbc51-1cf0-4655-b7e5-cf5bdce33ed3"
   },
   "outputs": [],
   "source": [
    "len(df['category'][7750])"
   ]
  },
  {
   "cell_type": "code",
   "execution_count": 0,
   "metadata": {
    "application/vnd.databricks.v1+cell": {
     "cellMetadata": {},
     "inputWidgets": {},
     "nuid": "9f112d8c-31b5-44e3-8203-cd7c8bbd3c71",
     "showTitle": false,
     "title": ""
    },
    "id": "0l21oV9rep7w"
   },
   "outputs": [],
   "source": [
    "df['cate_count'] = df['category'].apply(lambda x: len(x) if x is not None else 0)"
   ]
  },
  {
   "cell_type": "code",
   "execution_count": 0,
   "metadata": {
    "application/vnd.databricks.v1+cell": {
     "cellMetadata": {},
     "inputWidgets": {},
     "nuid": "c5b9117c-6cf3-43aa-bb0a-4e840b52d4fa",
     "showTitle": false,
     "title": ""
    },
    "colab": {
     "base_uri": "https://localhost:8080/"
    },
    "executionInfo": {
     "elapsed": 326,
     "status": "ok",
     "timestamp": 1720585323179,
     "user": {
      "displayName": "이설하",
      "userId": "07166075204393279284"
     },
     "user_tz": -540
    },
    "id": "ykOxdSqb4E5A",
    "outputId": "dc27a17d-2efb-40a5-8324-6aacd259c522"
   },
   "outputs": [],
   "source": [
    "df['cate_count'].value_counts()"
   ]
  },
  {
   "cell_type": "code",
   "execution_count": 0,
   "metadata": {
    "application/vnd.databricks.v1+cell": {
     "cellMetadata": {},
     "inputWidgets": {},
     "nuid": "93313d8e-f9d8-4a4f-b541-96d2af51b1fa",
     "showTitle": false,
     "title": ""
    },
    "id": "z0O1mz6ThC8q"
   },
   "outputs": [],
   "source": [
    "eleven = df[df['cate_count']==11]['category']"
   ]
  },
  {
   "cell_type": "code",
   "execution_count": 0,
   "metadata": {
    "application/vnd.databricks.v1+cell": {
     "cellMetadata": {},
     "inputWidgets": {},
     "nuid": "c95fef08-53a1-42f9-bb83-9d4852328ebd",
     "showTitle": false,
     "title": ""
    },
    "colab": {
     "base_uri": "https://localhost:8080/",
     "height": 205
    },
    "executionInfo": {
     "elapsed": 330,
     "status": "ok",
     "timestamp": 1720590910918,
     "user": {
      "displayName": "이설하",
      "userId": "07166075204393279284"
     },
     "user_tz": -540
    },
    "id": "cllNYzl_NO-y",
    "outputId": "f5f6b909-1144-4917-ca31-ded1027faf77"
   },
   "outputs": [],
   "source": [
    "df[df['cate_count']==11]"
   ]
  },
  {
   "cell_type": "code",
   "execution_count": 0,
   "metadata": {
    "application/vnd.databricks.v1+cell": {
     "cellMetadata": {},
     "inputWidgets": {},
     "nuid": "87abef6a-ec97-4b80-9150-2572ff3aa466",
     "showTitle": false,
     "title": ""
    },
    "colab": {
     "base_uri": "https://localhost:8080/"
    },
    "executionInfo": {
     "elapsed": 2,
     "status": "ok",
     "timestamp": 1720585229005,
     "user": {
      "displayName": "이설하",
      "userId": "07166075204393279284"
     },
     "user_tz": -540
    },
    "id": "3Ype_Uzt3dDT",
    "outputId": "537e9d86-9784-43b8-b824-bddec036d90c"
   },
   "outputs": [],
   "source": [
    "for _ in eleven:\n",
    "  print(_)"
   ]
  },
  {
   "cell_type": "code",
   "execution_count": 0,
   "metadata": {
    "application/vnd.databricks.v1+cell": {
     "cellMetadata": {},
     "inputWidgets": {},
     "nuid": "87fa4480-f87c-42f1-8389-6b2cca099757",
     "showTitle": false,
     "title": ""
    },
    "colab": {
     "base_uri": "https://localhost:8080/",
     "height": 564
    },
    "executionInfo": {
     "elapsed": 410,
     "status": "ok",
     "timestamp": 1720585420300,
     "user": {
      "displayName": "이설하",
      "userId": "07166075204393279284"
     },
     "user_tz": -540
    },
    "id": "-SNarb054TjU",
    "outputId": "e5d5d80f-38e4-4e0d-defa-9e6a07d2dcec"
   },
   "outputs": [],
   "source": [
    "import matplotlib.pyplot as plt\n",
    "\n",
    "# 히스토그램 생성\n",
    "plt.figure(figsize=(12, 6))\n",
    "plt.hist(df['cate_count'], bins=30, edgecolor='k', alpha=0.7)\n",
    "plt.title('Distribution of cate_count')\n",
    "plt.xlabel('cate_count')\n",
    "plt.ylabel('Frequency')\n",
    "\n",
    "# x축 눈금 설정\n",
    "plt.xticks(range(int(df['cate_count'].min()), int(df['cate_count'].max()) + 1))\n",
    "\n",
    "plt.show()"
   ]
  },
  {
   "cell_type": "code",
   "execution_count": 0,
   "metadata": {
    "application/vnd.databricks.v1+cell": {
     "cellMetadata": {},
     "inputWidgets": {},
     "nuid": "aa1f0dd7-1252-41fa-9b21-d2538a1d0720",
     "showTitle": false,
     "title": ""
    },
    "colab": {
     "base_uri": "https://localhost:8080/",
     "height": 570
    },
    "executionInfo": {
     "elapsed": 690,
     "status": "ok",
     "timestamp": 1720585712740,
     "user": {
      "displayName": "이설하",
      "userId": "07166075204393279284"
     },
     "user_tz": -540
    },
    "id": "cKBv5Ywk4zfh",
    "outputId": "f25b4c7c-dd15-4a19-dd18-e44003724e4e"
   },
   "outputs": [],
   "source": [
    "import matplotlib.pyplot as plt\n",
    "\n",
    "# cate_count의 값별 빈도수 계산\n",
    "value_counts = df['cate_count'].value_counts().sort_index()\n",
    "\n",
    "# 막대 그래프 생성\n",
    "fig, ax = plt.subplots(figsize=(12, 6))\n",
    "bars = ax.bar(value_counts.index, value_counts.values, edgecolor='k', alpha=0.7)\n",
    "ax.set_title('Distribution of cate_count')\n",
    "ax.set_xlabel('cate_count')\n",
    "ax.set_ylabel('Frequency')\n",
    "\n",
    "# x축 눈금 설정\n",
    "ax.set_xticks(range(int(df['cate_count'].min()), int(df['cate_count'].max()) + 1))\n",
    "\n",
    "# 막대 위에 숫자와 비율 표시\n",
    "total_counts = value_counts.sum()\n",
    "for bar in bars:\n",
    "    height = bar.get_height()\n",
    "    x = bar.get_x() + bar.get_width() / 2\n",
    "    # 숫자 표시\n",
    "    ax.text(x, height, f'{int(height)}', ha='center', va='bottom')\n",
    "    # 비율 표시\n",
    "    ax.text(x, height + 0.05 * total_counts, f'{height/total_counts:.1%}', ha='center', va='bottom', fontsize=8, color='blue')\n",
    "\n",
    "plt.show()"
   ]
  },
  {
   "cell_type": "code",
   "execution_count": 0,
   "metadata": {
    "application/vnd.databricks.v1+cell": {
     "cellMetadata": {},
     "inputWidgets": {},
     "nuid": "dbf408ea-7670-4747-83d6-1645d2244324",
     "showTitle": false,
     "title": ""
    },
    "id": "PAFYfA7aOkHa"
   },
   "outputs": [],
   "source": [
    "one_cate = df[df['cate_count']==1]"
   ]
  },
  {
   "cell_type": "code",
   "execution_count": 0,
   "metadata": {
    "application/vnd.databricks.v1+cell": {
     "cellMetadata": {},
     "inputWidgets": {},
     "nuid": "c96df302-a5b3-4961-8726-870b5ede4420",
     "showTitle": false,
     "title": ""
    },
    "colab": {
     "base_uri": "https://localhost:8080/"
    },
    "executionInfo": {
     "elapsed": 322,
     "status": "ok",
     "timestamp": 1720599780000,
     "user": {
      "displayName": "이설하",
      "userId": "07166075204393279284"
     },
     "user_tz": -540
    },
    "id": "tMeYh-MkvEq1",
    "outputId": "50425723-1226-4373-c438-5be4d90a5633"
   },
   "outputs": [],
   "source": [
    "one_cate['split'] = one_cate['category'].apply(lambda x: x[0].split())"
   ]
  },
  {
   "cell_type": "code",
   "execution_count": 0,
   "metadata": {
    "application/vnd.databricks.v1+cell": {
     "cellMetadata": {},
     "inputWidgets": {},
     "nuid": "1d02f1a9-f547-40c9-a815-bbf15240f2ac",
     "showTitle": false,
     "title": ""
    },
    "id": "0rhwUyH_vg8F"
   },
   "outputs": [],
   "source": [
    "one_cate = one_cate.reset_index(drop=True)"
   ]
  },
  {
   "cell_type": "code",
   "execution_count": 0,
   "metadata": {
    "application/vnd.databricks.v1+cell": {
     "cellMetadata": {},
     "inputWidgets": {},
     "nuid": "d1bb3e87-ecf7-4b9f-80ab-4bb9762210ab",
     "showTitle": false,
     "title": ""
    },
    "colab": {
     "base_uri": "https://localhost:8080/"
    },
    "executionInfo": {
     "elapsed": 361,
     "status": "ok",
     "timestamp": 1720600147868,
     "user": {
      "displayName": "이설하",
      "userId": "07166075204393279284"
     },
     "user_tz": -540
    },
    "id": "R5OjRC5EvSqg",
    "outputId": "9f17048f-5238-4cb8-b166-9c1f624c7eae"
   },
   "outputs": [],
   "source": [
    "# 확인할 문자열\n",
    "target = 'shop'\n",
    "\n",
    "# for문을 사용하여 각 리스트를 검사\n",
    "for i in range(50):\n",
    "    if target in one_cate['split'][i]:\n",
    "        print(f\"{i} -> 있음\")\n",
    "    else:\n",
    "        print(f\"{i} -> -\")"
   ]
  }
 ],
 "metadata": {
  "application/vnd.databricks.v1+notebook": {
   "dashboards": [],
   "environmentMetadata": null,
   "language": "python",
   "notebookMetadata": {},
   "notebookName": "[0710]metadata_EDA",
   "widgets": {}
  },
  "colab": {
   "authorship_tag": "ABX9TyNmOrPaYBatqQ9rjnITMHtN",
   "collapsed_sections": [
    "m0v0lW0TV2QH",
    "_-q8rarCpfQR",
    "Ry37aTaA378t",
    "tspICAVct3Gu",
    "O9r1v9PU1nUi",
    "o14dvtR82jF_",
    "Wnuv53zu4CaI"
   ],
   "machine_shape": "hm",
   "provenance": []
  },
  "kernelspec": {
   "display_name": "Python 3",
   "name": "python3"
  },
  "language_info": {
   "name": "python"
  }
 },
 "nbformat": 4,
 "nbformat_minor": 0
}
