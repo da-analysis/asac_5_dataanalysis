{
 "cells": [
  {
   "cell_type": "markdown",
   "metadata": {
    "application/vnd.databricks.v1+cell": {
     "cellMetadata": {},
     "inputWidgets": {},
     "nuid": "cbba5c75-1f3f-4ff6-893c-d68cad565ff4",
     "showTitle": false,
     "title": ""
    },
    "id": "m0v0lW0TV2QH"
   },
   "source": [
    "### 하와이 메타데이터 불러오기"
   ]
  },
  {
   "cell_type": "code",
   "execution_count": 0,
   "metadata": {
    "application/vnd.databricks.v1+cell": {
     "cellMetadata": {},
     "inputWidgets": {},
     "nuid": "2582f6c2-4496-4b8f-a086-97b965b464a0",
     "showTitle": false,
     "title": ""
    },
    "colab": {
     "base_uri": "https://localhost:8080/"
    },
    "executionInfo": {
     "elapsed": 3115,
     "status": "ok",
     "timestamp": 1720223919229,
     "user": {
      "displayName": "이설하",
      "userId": "07166075204393279284"
     },
     "user_tz": -540
    },
    "id": "O-guxREvV-HQ",
    "outputId": "b4ec58e8-e9ad-48ee-b294-8244197dd5c2"
   },
   "outputs": [],
   "source": [
    "from google.colab import drive\n",
    "drive.mount('/content/drive')"
   ]
  },
  {
   "cell_type": "code",
   "execution_count": 0,
   "metadata": {
    "application/vnd.databricks.v1+cell": {
     "cellMetadata": {},
     "inputWidgets": {},
     "nuid": "7f917d0d-917a-49ca-8d38-2ab49cebeac3",
     "showTitle": false,
     "title": ""
    },
    "executionInfo": {
     "elapsed": 22,
     "status": "ok",
     "timestamp": 1720223919230,
     "user": {
      "displayName": "이설하",
      "userId": "07166075204393279284"
     },
     "user_tz": -540
    },
    "id": "NMno8_grWC4B"
   },
   "outputs": [],
   "source": [
    "import requests\n",
    "import json\n",
    "import pandas as pd\n",
    "import numpy as np\n",
    "import matplotlib.pyplot as plt\n",
    "import seaborn as sns"
   ]
  },
  {
   "cell_type": "code",
   "execution_count": 0,
   "metadata": {
    "application/vnd.databricks.v1+cell": {
     "cellMetadata": {},
     "inputWidgets": {},
     "nuid": "be13a9fe-d02b-4103-8bcb-640e8f9cd6b7",
     "showTitle": false,
     "title": ""
    },
    "colab": {
     "base_uri": "https://localhost:8080/"
    },
    "executionInfo": {
     "elapsed": 20,
     "status": "ok",
     "timestamp": 1720223919231,
     "user": {
      "displayName": "이설하",
      "userId": "07166075204393279284"
     },
     "user_tz": -540
    },
    "id": "wvxs_k2_VE6D",
    "outputId": "a26f7e6b-38f7-45bd-e6ec-709373790fc8"
   },
   "outputs": [],
   "source": [
    "!mkdir unzip_path\n",
    "!cd unzip_path # 압축을 풀 폴더 경로\n",
    "!unzip -qq '/content/drive/MyDrive/ASAC/Project_GoogleMap/meta-Hawaii.json.gz' # 압축파일 경로"
   ]
  },
  {
   "cell_type": "code",
   "execution_count": 0,
   "metadata": {
    "application/vnd.databricks.v1+cell": {
     "cellMetadata": {},
     "inputWidgets": {},
     "nuid": "f2a6d7b4-a70d-44bd-ba6b-43d1c476dff6",
     "showTitle": false,
     "title": ""
    },
    "executionInfo": {
     "elapsed": 2085,
     "status": "ok",
     "timestamp": 1720223921307,
     "user": {
      "displayName": "이설하",
      "userId": "07166075204393279284"
     },
     "user_tz": -540
    },
    "id": "TOdBj-0ZV4Wt"
   },
   "outputs": [],
   "source": [
    "import gzip\n",
    "\n",
    "# JSON 데이터를 파싱하는 함수\n",
    "def parse(path):\n",
    "    g = gzip.open(path, 'r')\n",
    "    for l in g:\n",
    "        yield json.loads(l)\n",
    "\n",
    "# 데이터 경로\n",
    "data_path = '/content/drive/MyDrive/ASAC/Project_GoogleMap/meta-Hawaii.json.gz'\n",
    "\n",
    "# 데이터를 리스트에 저장\n",
    "data = []\n",
    "for item in parse(data_path):\n",
    "    data.append(item)\n",
    "\n",
    "# 데이터를 판다스 데이터프레임으로 변환\n",
    "df = pd.DataFrame(data)"
   ]
  },
  {
   "cell_type": "code",
   "execution_count": 0,
   "metadata": {
    "application/vnd.databricks.v1+cell": {
     "cellMetadata": {},
     "inputWidgets": {},
     "nuid": "85d35db7-e640-49a5-bb9c-1301201c2454",
     "showTitle": false,
     "title": ""
    },
    "colab": {
     "base_uri": "https://localhost:8080/",
     "height": 0
    },
    "executionInfo": {
     "elapsed": 43,
     "status": "ok",
     "timestamp": 1720223921308,
     "user": {
      "displayName": "이설하",
      "userId": "07166075204393279284"
     },
     "user_tz": -540
    },
    "id": "mzlwlYfnWRXU",
    "outputId": "3a70d626-0895-41b0-ac75-dad232367785"
   },
   "outputs": [],
   "source": [
    "df.head()"
   ]
  },
  {
   "cell_type": "markdown",
   "metadata": {
    "application/vnd.databricks.v1+cell": {
     "cellMetadata": {},
     "inputWidgets": {},
     "nuid": "edb84d16-3cd7-4c89-b310-b47f63bd3638",
     "showTitle": false,
     "title": ""
    },
    "id": "_-q8rarCpfQR"
   },
   "source": [
    "## gmap_id 수와 unique한 gmap_id 수가 달라 확인 필요"
   ]
  },
  {
   "cell_type": "code",
   "execution_count": 0,
   "metadata": {
    "application/vnd.databricks.v1+cell": {
     "cellMetadata": {},
     "inputWidgets": {},
     "nuid": "965d10f7-1e34-40ae-9690-b479a655122e",
     "showTitle": false,
     "title": ""
    },
    "colab": {
     "base_uri": "https://localhost:8080/"
    },
    "executionInfo": {
     "elapsed": 40,
     "status": "ok",
     "timestamp": 1720223921308,
     "user": {
      "displayName": "이설하",
      "userId": "07166075204393279284"
     },
     "user_tz": -540
    },
    "id": "ZvKRQQTenSd-",
    "outputId": "104f2214-6914-4b34-9d23-7b839df9e870"
   },
   "outputs": [],
   "source": [
    "df.info()"
   ]
  },
  {
   "cell_type": "code",
   "execution_count": 0,
   "metadata": {
    "application/vnd.databricks.v1+cell": {
     "cellMetadata": {},
     "inputWidgets": {},
     "nuid": "b28263be-a5ed-4a3b-b28c-b8acb33b8672",
     "showTitle": false,
     "title": ""
    },
    "colab": {
     "base_uri": "https://localhost:8080/"
    },
    "executionInfo": {
     "elapsed": 39,
     "status": "ok",
     "timestamp": 1720223921309,
     "user": {
      "displayName": "이설하",
      "userId": "07166075204393279284"
     },
     "user_tz": -540
    },
    "id": "oZVbZcdVnVmw",
    "outputId": "55927bf6-59f0-44cc-9d4e-22a6f9535a21"
   },
   "outputs": [],
   "source": [
    "df['gmap_id'].nunique()"
   ]
  },
  {
   "cell_type": "code",
   "execution_count": 0,
   "metadata": {
    "application/vnd.databricks.v1+cell": {
     "cellMetadata": {},
     "inputWidgets": {},
     "nuid": "91deaa85-04da-4083-8c5a-b7ec4d9d838d",
     "showTitle": false,
     "title": ""
    },
    "colab": {
     "base_uri": "https://localhost:8080/"
    },
    "executionInfo": {
     "elapsed": 38,
     "status": "ok",
     "timestamp": 1720223921309,
     "user": {
      "displayName": "이설하",
      "userId": "07166075204393279284"
     },
     "user_tz": -540
    },
    "id": "QLXyAdmZobP6",
    "outputId": "a3ea128a-7d6b-4d83-ebb4-b55870bcda67"
   },
   "outputs": [],
   "source": [
    "# 1. 전체 행의 수\n",
    "total_rows = df.shape[0]\n",
    "\n",
    "# 2. 고유한 gmap_id의 개수\n",
    "unique_gmap_ids = df['gmap_id'].nunique()\n",
    "\n",
    "# 3. 중복된 gmap_id 찾기\n",
    "duplicated_gmap_ids = df[df.duplicated('gmap_id', keep=False)]\n",
    "\n",
    "# 4. 중복된 gmap_id의 개수\n",
    "num_duplicated_gmap_ids = duplicated_gmap_ids['gmap_id'].nunique()\n",
    "\n",
    "# 5. 중복된 행의 수\n",
    "num_duplicated_rows = duplicated_gmap_ids.shape[0]\n",
    "\n",
    "# 결과 출력\n",
    "print(f\"전체 행의 수: {total_rows}\")\n",
    "print(f\"고유한 gmap_id의 개수: {unique_gmap_ids}\")\n",
    "print(f\"고유한 중복된 gmap_id의 개수: {num_duplicated_gmap_ids}\")\n",
    "print(f\"중복된 행의 수: {num_duplicated_rows}\")"
   ]
  },
  {
   "cell_type": "code",
   "execution_count": 0,
   "metadata": {
    "application/vnd.databricks.v1+cell": {
     "cellMetadata": {},
     "inputWidgets": {},
     "nuid": "8ae639f2-37ac-4136-87de-24996e6fee8c",
     "showTitle": false,
     "title": ""
    },
    "colab": {
     "base_uri": "https://localhost:8080/",
     "height": 0
    },
    "collapsed": true,
    "executionInfo": {
     "elapsed": 38,
     "status": "ok",
     "timestamp": 1720223921310,
     "user": {
      "displayName": "이설하",
      "userId": "07166075204393279284"
     },
     "user_tz": -540
    },
    "id": "tUTj_FWUn1D7",
    "outputId": "a1cfc302-7893-4a9d-a563-0e0177eac6fe"
   },
   "outputs": [],
   "source": [
    "# 중복된 gmap_id 찾기\n",
    "duplicated_gmap_ids = df[df.duplicated('gmap_id', keep=False)]\n",
    "\n",
    "# 중복된 gmap_id를 가진 행들을 gmap_id 기준으로 정렬\n",
    "duplicated_gmap_ids_sorted = duplicated_gmap_ids.sort_values(by='gmap_id')\n",
    "\n",
    "# 중복된 gmap_id 출력\n",
    "du_df = duplicated_gmap_ids_sorted\n",
    "\n",
    "du_df"
   ]
  },
  {
   "cell_type": "code",
   "execution_count": 0,
   "metadata": {
    "application/vnd.databricks.v1+cell": {
     "cellMetadata": {},
     "inputWidgets": {},
     "nuid": "af313e10-05e8-4442-8735-75c5d0c145c3",
     "showTitle": false,
     "title": ""
    },
    "colab": {
     "base_uri": "https://localhost:8080/"
    },
    "executionInfo": {
     "elapsed": 38,
     "status": "ok",
     "timestamp": 1720223921311,
     "user": {
      "displayName": "이설하",
      "userId": "07166075204393279284"
     },
     "user_tz": -540
    },
    "id": "U_Aq2vTpp8Lk",
    "outputId": "7c154134-0e37-4447-8000-8a6df135b54f"
   },
   "outputs": [],
   "source": [
    "id_tf = du_df['gmap_id'].value_counts() !=2\n",
    "id_tf.sum()"
   ]
  },
  {
   "cell_type": "code",
   "execution_count": 0,
   "metadata": {
    "application/vnd.databricks.v1+cell": {
     "cellMetadata": {},
     "inputWidgets": {},
     "nuid": "728a469d-09aa-49d8-a8f5-8652c1b19ffd",
     "showTitle": false,
     "title": ""
    },
    "colab": {
     "base_uri": "https://localhost:8080/",
     "height": 0
    },
    "collapsed": true,
    "executionInfo": {
     "elapsed": 38,
     "status": "ok",
     "timestamp": 1720223921312,
     "user": {
      "displayName": "이설하",
      "userId": "07166075204393279284"
     },
     "user_tz": -540
    },
    "id": "vRJrZn5eq_gv",
    "outputId": "3aa3b672-522b-49fc-cef0-5d70663aab7e"
   },
   "outputs": [],
   "source": [
    "du_df.head()"
   ]
  },
  {
   "cell_type": "code",
   "execution_count": 0,
   "metadata": {
    "application/vnd.databricks.v1+cell": {
     "cellMetadata": {},
     "inputWidgets": {},
     "nuid": "e5cca7f0-e375-4c03-a549-844ff065ec8a",
     "showTitle": false,
     "title": ""
    },
    "colab": {
     "base_uri": "https://localhost:8080/"
    },
    "executionInfo": {
     "elapsed": 36,
     "status": "ok",
     "timestamp": 1720223921312,
     "user": {
      "displayName": "이설하",
      "userId": "07166075204393279284"
     },
     "user_tz": -540
    },
    "id": "gn9OCHKYrmwe",
    "outputId": "9aaface8-b8d0-4e5d-ece9-904258ccac77"
   },
   "outputs": [],
   "source": [
    "# 중복된 행 제거\n",
    "df_unique = df.drop_duplicates(subset='gmap_id')\n",
    "\n",
    "df_unique.shape"
   ]
  },
  {
   "cell_type": "code",
   "execution_count": 0,
   "metadata": {
    "application/vnd.databricks.v1+cell": {
     "cellMetadata": {},
     "inputWidgets": {},
     "nuid": "da4d4f01-9615-44b5-8ed9-86aadfe188d8",
     "showTitle": false,
     "title": ""
    },
    "colab": {
     "base_uri": "https://localhost:8080/"
    },
    "executionInfo": {
     "elapsed": 36,
     "status": "ok",
     "timestamp": 1720223921313,
     "user": {
      "displayName": "이설하",
      "userId": "07166075204393279284"
     },
     "user_tz": -540
    },
    "id": "mvK56mkIuofO",
    "outputId": "2f5510b8-3f7d-4bb4-e870-3df339993a6f"
   },
   "outputs": [],
   "source": [
    "df_unique['gmap_id'].nunique()"
   ]
  },
  {
   "cell_type": "code",
   "execution_count": 0,
   "metadata": {
    "application/vnd.databricks.v1+cell": {
     "cellMetadata": {},
     "inputWidgets": {},
     "nuid": "4697faa1-043f-48e2-96bf-e7034d4c46b0",
     "showTitle": false,
     "title": ""
    },
    "executionInfo": {
     "elapsed": 35,
     "status": "ok",
     "timestamp": 1720223921313,
     "user": {
      "displayName": "이설하",
      "userId": "07166075204393279284"
     },
     "user_tz": -540
    },
    "id": "gaTjE-Ccux-H"
   },
   "outputs": [],
   "source": [
    "df = df_unique"
   ]
  },
  {
   "cell_type": "markdown",
   "metadata": {
    "application/vnd.databricks.v1+cell": {
     "cellMetadata": {},
     "inputWidgets": {},
     "nuid": "1fb58cfe-181b-48b9-86dc-b48ff0963a5b",
     "showTitle": false,
     "title": ""
    },
    "id": "Q-ZGdgTwlKH9"
   },
   "source": [
    "## 평균 평점(avg_rating)"
   ]
  },
  {
   "cell_type": "markdown",
   "metadata": {
    "application/vnd.databricks.v1+cell": {
     "cellMetadata": {},
     "inputWidgets": {},
     "nuid": "897942be-70a1-41f4-99d4-429cd8b5a662",
     "showTitle": false,
     "title": ""
    },
    "id": "Ry37aTaA378t"
   },
   "source": [
    "### 전체"
   ]
  },
  {
   "cell_type": "code",
   "execution_count": 0,
   "metadata": {
    "application/vnd.databricks.v1+cell": {
     "cellMetadata": {},
     "inputWidgets": {},
     "nuid": "a35c78d2-54c8-4366-9443-1cf38acbf5ed",
     "showTitle": false,
     "title": ""
    },
    "colab": {
     "base_uri": "https://localhost:8080/",
     "height": 0
    },
    "executionInfo": {
     "elapsed": 35,
     "status": "ok",
     "timestamp": 1720223921313,
     "user": {
      "displayName": "이설하",
      "userId": "07166075204393279284"
     },
     "user_tz": -540
    },
    "id": "5fdghZIJlQd6",
    "outputId": "d20845dc-014a-4e58-b1b0-b9bbfa4a4fc5"
   },
   "outputs": [],
   "source": [
    "# avg_rating의 도수분포표 생성\n",
    "bins = [i * 0.5 for i in range(2, 11)]  # 1.0에서 5.0까지 0.5 단위로 구간 설정\n",
    "counts, bin_edges = np.histogram(df['avg_rating'], bins=bins)\n",
    "\n",
    "# 도수분포표 생성\n",
    "freq_table = pd.DataFrame({\n",
    "    'Bin Range': [f'{bin_edges[i]} - {bin_edges[i+1]}' for i in range(len(bin_edges)-1)],\n",
    "    'Frequency': counts\n",
    "})\n",
    "\n",
    "# 전체에 대한 비율 계산\n",
    "total_count = counts.sum()\n",
    "freq_table['Percentage'] = np.round((freq_table['Frequency'] / total_count) * 100, 2)\n",
    "\n",
    "freq_table"
   ]
  },
  {
   "cell_type": "code",
   "execution_count": 0,
   "metadata": {
    "application/vnd.databricks.v1+cell": {
     "cellMetadata": {},
     "inputWidgets": {},
     "nuid": "8d98bb98-2224-4f4c-95be-969d3f3fc3b1",
     "showTitle": false,
     "title": ""
    },
    "colab": {
     "base_uri": "https://localhost:8080/"
    },
    "executionInfo": {
     "elapsed": 35,
     "status": "ok",
     "timestamp": 1720223921314,
     "user": {
      "displayName": "이설하",
      "userId": "07166075204393279284"
     },
     "user_tz": -540
    },
    "id": "7aVX5Wyrmum_",
    "outputId": "4d6e3df2-b90e-4757-a93a-adce7c994514"
   },
   "outputs": [],
   "source": [
    "freq_table['Frequency'].sum()"
   ]
  },
  {
   "cell_type": "code",
   "execution_count": 0,
   "metadata": {
    "application/vnd.databricks.v1+cell": {
     "cellMetadata": {},
     "inputWidgets": {},
     "nuid": "400d5158-9db6-4112-824b-0f40720f7644",
     "showTitle": false,
     "title": ""
    },
    "colab": {
     "base_uri": "https://localhost:8080/"
    },
    "executionInfo": {
     "elapsed": 33,
     "status": "ok",
     "timestamp": 1720223921314,
     "user": {
      "displayName": "이설하",
      "userId": "07166075204393279284"
     },
     "user_tz": -540
    },
    "id": "D-9TFn4VnNAJ",
    "outputId": "6f405cce-069d-4626-b6d2-bc9c7231d39d"
   },
   "outputs": [],
   "source": [
    "len(df['avg_rating'])"
   ]
  },
  {
   "cell_type": "code",
   "execution_count": 0,
   "metadata": {
    "application/vnd.databricks.v1+cell": {
     "cellMetadata": {},
     "inputWidgets": {},
     "nuid": "acc39337-2645-486f-8abf-88c22208a7d3",
     "showTitle": false,
     "title": ""
    },
    "colab": {
     "base_uri": "https://localhost:8080/"
    },
    "executionInfo": {
     "elapsed": 33,
     "status": "ok",
     "timestamp": 1720223921314,
     "user": {
      "displayName": "이설하",
      "userId": "07166075204393279284"
     },
     "user_tz": -540
    },
    "id": "O_D62BHEtG3Z",
    "outputId": "95122c81-7f6a-42fa-bb0e-d02dcc6c7440"
   },
   "outputs": [],
   "source": [
    "df['avg_rating'].max(), df['avg_rating'].min()"
   ]
  },
  {
   "cell_type": "code",
   "execution_count": 0,
   "metadata": {
    "application/vnd.databricks.v1+cell": {
     "cellMetadata": {},
     "inputWidgets": {},
     "nuid": "be28303f-f05e-4c37-8b5c-e5efb173f31a",
     "showTitle": false,
     "title": ""
    },
    "colab": {
     "base_uri": "https://localhost:8080/",
     "height": 0
    },
    "executionInfo": {
     "elapsed": 33,
     "status": "ok",
     "timestamp": 1720223921315,
     "user": {
      "displayName": "이설하",
      "userId": "07166075204393279284"
     },
     "user_tz": -540
    },
    "id": "3xfmNUVmqV3T",
    "outputId": "e65388f2-492c-4a1c-8ea9-db7b8301fcdb"
   },
   "outputs": [],
   "source": [
    "# avg_rating의 도수분포표 생성\n",
    "bins = [i * 0.5 for i in range(2, 11)]  # 1.0에서 5.0까지 0.5 단위로 구간 설정\n",
    "counts, bin_edges = np.histogram(df['avg_rating'], bins=bins)\n",
    "\n",
    "# 도수분포표 생성\n",
    "freq_table = pd.DataFrame({\n",
    "    'Bin Range': [f'{bin_edges[i]} - {bin_edges[i+1]}' for i in range(len(bin_edges)-1)],\n",
    "    'Frequency': counts\n",
    "})\n",
    "\n",
    "# 전체에 대한 비율 계산 및 소수점 둘째 자리까지 반올림\n",
    "total_count = counts.sum()\n",
    "freq_table['Percentage'] = np.round((freq_table['Frequency'] / total_count) * 100, 2)\n",
    "\n",
    "# 히스토그램과 KDE 시각화\n",
    "plt.figure(figsize=(10, 6))\n",
    "ax = sns.histplot(df['avg_rating'], bins=bins, kde=True)\n",
    "\n",
    "# 각 구간에 대한 빈도수와 비율 추가\n",
    "for i in range(len(bins) - 1):\n",
    "    plt.text(bin_edges[i] + 0.25, counts[i] + 0.5, f'{counts[i]}\\n({freq_table[\"Percentage\"][i]}%)',\n",
    "             ha='center', va='bottom', fontsize=10, color='black')\n",
    "\n",
    "# y축 범위 조정\n",
    "y_max = max(counts) * 1.1\n",
    "plt.ylim(0, y_max)\n",
    "\n",
    "plt.title('Average Rating Distribution')\n",
    "plt.xlabel('Average Rating')\n",
    "plt.ylabel('Frequency')\n",
    "plt.show()"
   ]
  },
  {
   "cell_type": "markdown",
   "metadata": {
    "application/vnd.databricks.v1+cell": {
     "cellMetadata": {},
     "inputWidgets": {},
     "nuid": "a6ceefd9-2d0f-4371-835d-fbb5dd17ea6a",
     "showTitle": false,
     "title": ""
    },
    "id": "tspICAVct3Gu"
   },
   "source": [
    "### Permanently closed를 제외한 평균 평점 분포"
   ]
  },
  {
   "cell_type": "code",
   "execution_count": 0,
   "metadata": {
    "application/vnd.databricks.v1+cell": {
     "cellMetadata": {},
     "inputWidgets": {},
     "nuid": "b6c5d96d-cb51-4d3e-a216-18891faf07ee",
     "showTitle": false,
     "title": ""
    },
    "colab": {
     "base_uri": "https://localhost:8080/"
    },
    "executionInfo": {
     "elapsed": 31,
     "status": "ok",
     "timestamp": 1720223921315,
     "user": {
      "displayName": "이설하",
      "userId": "07166075204393279284"
     },
     "user_tz": -540
    },
    "id": "qEFCzPrbqWYH",
    "outputId": "e7ee5821-368c-47c6-cac5-3b7685e7c25c"
   },
   "outputs": [],
   "source": [
    "len(df[df['state']=='Permanently closed'])"
   ]
  },
  {
   "cell_type": "code",
   "execution_count": 0,
   "metadata": {
    "application/vnd.databricks.v1+cell": {
     "cellMetadata": {},
     "inputWidgets": {},
     "nuid": "1756c74c-bb3d-4023-9399-23d8eb814ce6",
     "showTitle": false,
     "title": ""
    },
    "colab": {
     "base_uri": "https://localhost:8080/",
     "height": 0
    },
    "executionInfo": {
     "elapsed": 1078,
     "status": "ok",
     "timestamp": 1720223922364,
     "user": {
      "displayName": "이설하",
      "userId": "07166075204393279284"
     },
     "user_tz": -540
    },
    "id": "LvEEXP6euClS",
    "outputId": "38176cac-16f0-4a21-b940-33182165fb5c"
   },
   "outputs": [],
   "source": [
    "# Permanently closed가 아닌 데이터 필터링\n",
    "filtered_df = df[df['state'] != 'Permanently closed']\n",
    "\n",
    "# avg_rating의 도수분포표 생성\n",
    "bins = [i * 0.5 for i in range(2, 11)]  # 1.0에서 5.0까지 0.5 단위로 구간 설정\n",
    "counts, bin_edges = np.histogram(filtered_df['avg_rating'], bins=bins)\n",
    "\n",
    "# 도수분포표 생성\n",
    "freq_table = pd.DataFrame({\n",
    "    'Bin Range': [f'{bin_edges[i]} - {bin_edges[i+1]}' for i in range(len(bin_edges)-1)],\n",
    "    'Frequency': counts\n",
    "})\n",
    "\n",
    "# 전체에 대한 비율 계산 및 소수점 둘째 자리까지 반올림\n",
    "total_count = counts.sum()\n",
    "freq_table['Percentage'] = np.round((freq_table['Frequency'] / total_count) * 100, 2)\n",
    "\n",
    "# 히스토그램과 KDE 시각화\n",
    "plt.figure(figsize=(10, 6))\n",
    "ax = sns.histplot(filtered_df['avg_rating'], bins=bins, kde=True)\n",
    "\n",
    "# 각 구간에 대한 빈도수와 비율 추가\n",
    "for i in range(len(bins) - 1):\n",
    "    plt.text(bin_edges[i] + 0.25, counts[i] + 0.5, f'{counts[i]}\\n({freq_table[\"Percentage\"][i]}%)',\n",
    "             ha='center', va='bottom', fontsize=10, color='black')\n",
    "\n",
    "# y축 범위 조정\n",
    "y_max = max(counts) * 1.1\n",
    "plt.ylim(0, y_max)\n",
    "\n",
    "plt.title('Average Rating Distribution (Excluding Permanently Closed)')\n",
    "plt.xlabel('Average Rating')\n",
    "plt.ylabel('Frequency')\n",
    "plt.show()"
   ]
  },
  {
   "cell_type": "markdown",
   "metadata": {
    "application/vnd.databricks.v1+cell": {
     "cellMetadata": {},
     "inputWidgets": {},
     "nuid": "c406a411-0890-4e29-aded-0342a3cda6f1",
     "showTitle": false,
     "title": ""
    },
    "id": "O9r1v9PU1nUi"
   },
   "source": [
    "### Permanently closed의 평균 평점 분포"
   ]
  },
  {
   "cell_type": "code",
   "execution_count": 0,
   "metadata": {
    "application/vnd.databricks.v1+cell": {
     "cellMetadata": {},
     "inputWidgets": {},
     "nuid": "86799eda-d543-4255-9b00-c2e59978c56b",
     "showTitle": false,
     "title": ""
    },
    "colab": {
     "base_uri": "https://localhost:8080/",
     "height": 0
    },
    "executionInfo": {
     "elapsed": 16,
     "status": "ok",
     "timestamp": 1720223922364,
     "user": {
      "displayName": "이설하",
      "userId": "07166075204393279284"
     },
     "user_tz": -540
    },
    "id": "CLB-mOK50q9i",
    "outputId": "a8b97fa4-e44f-4309-8822-47df8517bc8e"
   },
   "outputs": [],
   "source": [
    "# Permanently closed 데이터 필터링\n",
    "closed_df = df[df['state'] == 'Permanently closed']\n",
    "\n",
    "# avg_rating의 도수분포표 생성\n",
    "bins = [i * 0.5 for i in range(2, 11)]  # 1.0에서 5.0까지 0.5 단위로 구간 설정\n",
    "counts, bin_edges = np.histogram(closed_df['avg_rating'], bins=bins)\n",
    "\n",
    "# 도수분포표 생성\n",
    "freq_table = pd.DataFrame({\n",
    "    'Bin Range': [f'{bin_edges[i]} - {bin_edges[i+1]}' for i in range(len(bin_edges)-1)],\n",
    "    'Frequency': counts\n",
    "})\n",
    "\n",
    "# 전체에 대한 비율 계산 및 소수점 둘째 자리까지 반올림\n",
    "total_count = counts.sum()\n",
    "freq_table['Percentage'] = np.round((freq_table['Frequency'] / total_count) * 100, 2)\n",
    "\n",
    "# 히스토그램과 KDE 시각화\n",
    "plt.figure(figsize=(10, 6))\n",
    "ax = sns.histplot(closed_df['avg_rating'], bins=bins, kde=True)\n",
    "\n",
    "# 각 구간에 대한 빈도수와 비율 추가\n",
    "for i in range(len(bins) - 1):\n",
    "    plt.text(bin_edges[i] + 0.25, counts[i] + 0.5, f'{counts[i]}\\n({freq_table[\"Percentage\"][i]}%)',\n",
    "             ha='center', va='bottom', fontsize=10, color='black')\n",
    "\n",
    "# y축 범위 조정\n",
    "y_max = max(counts) * 1.1\n",
    "plt.ylim(0, y_max)\n",
    "\n",
    "plt.title('Average Rating Distribution (Permanently Closed)')\n",
    "plt.xlabel('Average Rating')\n",
    "plt.ylabel('Frequency')\n",
    "plt.show()"
   ]
  },
  {
   "cell_type": "markdown",
   "metadata": {
    "application/vnd.databricks.v1+cell": {
     "cellMetadata": {},
     "inputWidgets": {},
     "nuid": "f11debf8-ab83-468d-b0a6-75de4ad2affb",
     "showTitle": false,
     "title": ""
    },
    "id": "o14dvtR82jF_"
   },
   "source": [
    "### 4.0 미만의 비율 비교"
   ]
  },
  {
   "cell_type": "code",
   "execution_count": 0,
   "metadata": {
    "application/vnd.databricks.v1+cell": {
     "cellMetadata": {},
     "inputWidgets": {},
     "nuid": "9ddf7acb-d53e-4ed0-9d51-4617183e93eb",
     "showTitle": false,
     "title": ""
    },
    "colab": {
     "base_uri": "https://localhost:8080/",
     "height": 0
    },
    "executionInfo": {
     "elapsed": 14,
     "status": "ok",
     "timestamp": 1720223922364,
     "user": {
      "displayName": "이설하",
      "userId": "07166075204393279284"
     },
     "user_tz": -540
    },
    "id": "HNCSyak42I9V",
    "outputId": "ae03c60e-17d1-492e-a402-8184212879fb"
   },
   "outputs": [],
   "source": [
    "# 전체 데이터프레임 비율 계산\n",
    "total_df_count = len(df)\n",
    "df_below_4 = df[df['avg_rating'] < 4.0]\n",
    "df_below_4_count = len(df_below_4)\n",
    "df_below_4_percentage = round((df_below_4_count / total_df_count) * 100, 2)\n",
    "\n",
    "# Permanently closed가 아닌 데이터 비율 계산\n",
    "total_filtered_df_count = len(filtered_df)\n",
    "filtered_df_below_4 = filtered_df[filtered_df['avg_rating'] < 4.0]\n",
    "filtered_df_below_4_count = len(filtered_df_below_4)\n",
    "filtered_df_below_4_percentage = round((filtered_df_below_4_count / total_filtered_df_count) * 100, 2)\n",
    "\n",
    "# Permanently closed 데이터 비율 계산\n",
    "total_closed_df_count = len(closed_df)\n",
    "closed_df_below_4 = closed_df[closed_df['avg_rating'] < 4.0]\n",
    "closed_df_below_4_count = len(closed_df_below_4)\n",
    "closed_df_below_4_percentage = round((closed_df_below_4_count / total_closed_df_count) * 100, 2)\n",
    "\n",
    "# 결과를 데이터프레임으로 생성\n",
    "percentage_df = pd.DataFrame({\n",
    "    'DataFrame': ['df', 'filtered_df', 'closed_df'],\n",
    "    'Total Count': [total_df_count, total_filtered_df_count, total_closed_df_count],\n",
    "    'Count < 4.0': [df_below_4_count, filtered_df_below_4_count, closed_df_below_4_count],\n",
    "    'Percentage < 4.0': [df_below_4_percentage, filtered_df_below_4_percentage, closed_df_below_4_percentage]\n",
    "})\n",
    "\n",
    "percentage_df"
   ]
  },
  {
   "cell_type": "markdown",
   "metadata": {
    "application/vnd.databricks.v1+cell": {
     "cellMetadata": {},
     "inputWidgets": {},
     "nuid": "68fbc164-5d62-4950-b19f-86c19cf1b554",
     "showTitle": false,
     "title": ""
    },
    "id": "Wnuv53zu4CaI"
   },
   "source": [
    "## 리뷰 수(num_of_reviews)"
   ]
  },
  {
   "cell_type": "code",
   "execution_count": 0,
   "metadata": {
    "application/vnd.databricks.v1+cell": {
     "cellMetadata": {},
     "inputWidgets": {},
     "nuid": "64237410-86ce-479c-9d96-7eb40090279d",
     "showTitle": false,
     "title": ""
    },
    "colab": {
     "base_uri": "https://localhost:8080/"
    },
    "executionInfo": {
     "elapsed": 13,
     "status": "ok",
     "timestamp": 1720223922364,
     "user": {
      "displayName": "이설하",
      "userId": "07166075204393279284"
     },
     "user_tz": -540
    },
    "id": "1SgVd2CG2npR",
    "outputId": "b550f27c-3868-4f56-932e-d9e055bb6817"
   },
   "outputs": [],
   "source": [
    "# 기술 통계량\n",
    "df['num_of_reviews'].describe()"
   ]
  },
  {
   "cell_type": "code",
   "execution_count": 0,
   "metadata": {
    "application/vnd.databricks.v1+cell": {
     "cellMetadata": {},
     "inputWidgets": {},
     "nuid": "733b1dea-4194-4d8b-9b5b-f80f8b5aa718",
     "showTitle": false,
     "title": ""
    },
    "colab": {
     "base_uri": "https://localhost:8080/",
     "height": 0
    },
    "executionInfo": {
     "elapsed": 13,
     "status": "ok",
     "timestamp": 1720223922365,
     "user": {
      "displayName": "이설하",
      "userId": "07166075204393279284"
     },
     "user_tz": -540
    },
    "id": "5gbpbI2svWvq",
    "outputId": "d2cae335-f07d-423f-bf45-b477585b4f42"
   },
   "outputs": [],
   "source": [
    "# 히스토그램 그리기\n",
    "plt.figure(figsize=(10, 6))\n",
    "sns.histplot(df['num_of_reviews'], bins=30, kde=True)  # bins: 히스토그램의 막대 개수, kde: 커널 밀도 추정\n",
    "plt.title('Distribution of num_of_reviews(ALL)')\n",
    "plt.xlabel('num_of_reviews')\n",
    "plt.ylabel('Frequency')\n",
    "\n",
    "plt.show()"
   ]
  },
  {
   "cell_type": "code",
   "execution_count": 0,
   "metadata": {
    "application/vnd.databricks.v1+cell": {
     "cellMetadata": {},
     "inputWidgets": {},
     "nuid": "a39ecf8a-869a-4295-9f7a-a714fcf57492",
     "showTitle": false,
     "title": ""
    },
    "colab": {
     "base_uri": "https://localhost:8080/"
    },
    "executionInfo": {
     "elapsed": 12,
     "status": "ok",
     "timestamp": 1720223922365,
     "user": {
      "displayName": "이설하",
      "userId": "07166075204393279284"
     },
     "user_tz": -540
    },
    "id": "qc8tZv6ezOMq",
    "outputId": "794587b6-9222-4a34-e59b-8c46989e9d97"
   },
   "outputs": [],
   "source": [
    "# 구간 설정\n",
    "bins = [0, 20, 40, 60, 80, 100]\n",
    "labels = ['0-20', '20-40', '40-60', '60-80', '80-100']\n",
    "\n",
    "# num_of_reviews 컬럼을 구간별로 나누기\n",
    "df['binned'] = pd.cut(df['num_of_reviews'], bins=bins, labels=labels, right=False)\n",
    "\n",
    "# 각 구간별 값들의 개수 계산\n",
    "bin_counts = df['binned'].value_counts().sort_index().reset_index()\n",
    "bin_counts.columns = ['Range', 'Count']\n",
    "\n",
    "# 결과 출력\n",
    "print(bin_counts)"
   ]
  },
  {
   "cell_type": "code",
   "execution_count": 0,
   "metadata": {
    "application/vnd.databricks.v1+cell": {
     "cellMetadata": {},
     "inputWidgets": {},
     "nuid": "b575df7f-b935-47b4-b0fd-cc45b8b72717",
     "showTitle": false,
     "title": ""
    },
    "colab": {
     "base_uri": "https://localhost:8080/",
     "height": 0
    },
    "executionInfo": {
     "elapsed": 1560,
     "status": "ok",
     "timestamp": 1720223923915,
     "user": {
      "displayName": "이설하",
      "userId": "07166075204393279284"
     },
     "user_tz": -540
    },
    "id": "Oxo72zHmzeog",
    "outputId": "7fe4f306-4061-4c43-ecbf-e57d9da75d84"
   },
   "outputs": [],
   "source": [
    "# 100 이하의 값들만 선택\n",
    "df_under_28 = df[df['num_of_reviews'] <= 100]\n",
    "\n",
    "# num_of_reviews 컬럼의 분포 시각화 (100 이하 값들만)\n",
    "plt.figure(figsize=(10, 6))\n",
    "sns.histplot(df_under_28['num_of_reviews'], bins=10, kde=True, edgecolor='black')\n",
    "plt.title('Distribution of Number of Reviews (<=100)')\n",
    "plt.xlabel('Number of Reviews')\n",
    "plt.ylabel('Frequency')\n",
    "\n",
    "plt.show()"
   ]
  },
  {
   "cell_type": "code",
   "execution_count": 0,
   "metadata": {
    "application/vnd.databricks.v1+cell": {
     "cellMetadata": {},
     "inputWidgets": {},
     "nuid": "182e9a8d-8fbc-49fc-bcac-38b5cb174c9c",
     "showTitle": false,
     "title": ""
    },
    "colab": {
     "base_uri": "https://localhost:8080/",
     "height": 0
    },
    "executionInfo": {
     "elapsed": 42,
     "status": "ok",
     "timestamp": 1720223923915,
     "user": {
      "displayName": "이설하",
      "userId": "07166075204393279284"
     },
     "user_tz": -540
    },
    "id": "6A5cYM4h0v5p",
    "outputId": "13ceb202-77c7-4dd8-b951-c824ff100728"
   },
   "outputs": [],
   "source": [
    "# 28 이하의 값들만 선택\n",
    "df_under_28 = df[df['num_of_reviews'] <= 28]\n",
    "\n",
    "# num_of_reviews 컬럼의 분포 시각화 (28 이하 값들만)\n",
    "plt.figure(figsize=(10, 6))\n",
    "sns.histplot(df_under_28['num_of_reviews'], bins=10, kde=True, edgecolor='black')\n",
    "plt.title('Distribution of Number of Reviews (<=28)')\n",
    "plt.xlabel('Number of Reviews')\n",
    "plt.ylabel('Frequency')\n",
    "\n",
    "plt.show()"
   ]
  },
  {
   "cell_type": "code",
   "execution_count": 0,
   "metadata": {
    "application/vnd.databricks.v1+cell": {
     "cellMetadata": {},
     "inputWidgets": {},
     "nuid": "b877bd57-87e3-4da0-9205-36c0c6222017",
     "showTitle": false,
     "title": ""
    },
    "colab": {
     "base_uri": "https://localhost:8080/"
    },
    "executionInfo": {
     "elapsed": 37,
     "status": "ok",
     "timestamp": 1720223923916,
     "user": {
      "displayName": "이설하",
      "userId": "07166075204393279284"
     },
     "user_tz": -540
    },
    "id": "2BHexYMU1sXo",
    "outputId": "19cab02b-af9f-41fc-f0f4-56b42a8648d3"
   },
   "outputs": [],
   "source": [
    "len(df[df['num_of_reviews'] <= 10])"
   ]
  },
  {
   "cell_type": "code",
   "execution_count": 0,
   "metadata": {
    "application/vnd.databricks.v1+cell": {
     "cellMetadata": {},
     "inputWidgets": {},
     "nuid": "58001b8a-248b-4a34-933a-0d253d2f7e0e",
     "showTitle": false,
     "title": ""
    },
    "colab": {
     "base_uri": "https://localhost:8080/"
    },
    "executionInfo": {
     "elapsed": 32,
     "status": "ok",
     "timestamp": 1720223923916,
     "user": {
      "displayName": "이설하",
      "userId": "07166075204393279284"
     },
     "user_tz": -540
    },
    "id": "-QyFX3Q81yIK",
    "outputId": "7710214a-18bd-4d9c-acde-4d551593c74e"
   },
   "outputs": [],
   "source": [
    "len(df[df['num_of_reviews'] <= 10])/len(df)"
   ]
  },
  {
   "cell_type": "code",
   "execution_count": 0,
   "metadata": {
    "application/vnd.databricks.v1+cell": {
     "cellMetadata": {},
     "inputWidgets": {},
     "nuid": "a0fa6f42-af55-4139-a6ac-b761e030f6cc",
     "showTitle": false,
     "title": ""
    },
    "colab": {
     "base_uri": "https://localhost:8080/"
    },
    "executionInfo": {
     "elapsed": 30,
     "status": "ok",
     "timestamp": 1720223923916,
     "user": {
      "displayName": "이설하",
      "userId": "07166075204393279284"
     },
     "user_tz": -540
    },
    "id": "_ZJvyCrk2K4G",
    "outputId": "59d9965f-af94-4f0e-c90c-a5e677072719"
   },
   "outputs": [],
   "source": [
    "len(df[df['num_of_reviews']==0])"
   ]
  },
  {
   "cell_type": "code",
   "execution_count": 0,
   "metadata": {
    "application/vnd.databricks.v1+cell": {
     "cellMetadata": {},
     "inputWidgets": {},
     "nuid": "c8ded2c0-a745-470a-954e-f0d49e8c5837",
     "showTitle": false,
     "title": ""
    },
    "colab": {
     "base_uri": "https://localhost:8080/",
     "height": 0
    },
    "executionInfo": {
     "elapsed": 29,
     "status": "ok",
     "timestamp": 1720223923916,
     "user": {
      "displayName": "이설하",
      "userId": "07166075204393279284"
     },
     "user_tz": -540
    },
    "id": "gKqPNVFM3bSh",
    "outputId": "dd00beb7-992f-4202-86dc-391aac046aae"
   },
   "outputs": [],
   "source": [
    "# 여러 통계량 계산\n",
    "min_value = round(df['num_of_reviews'].min(), 2)\n",
    "max_value = round(df['num_of_reviews'].max(), 2)\n",
    "mode_value = round(df['num_of_reviews'].mode()[0] if not df['num_of_reviews'].mode().empty else None, 2)\n",
    "mean_value = round(df['num_of_reviews'].mean(), 2)\n",
    "median_value = round(df['num_of_reviews'].median(), 2)\n",
    "\n",
    "# 결과를 데이터프레임으로 정리\n",
    "summary_data = {\n",
    "    '통계량': ['최소값', '최대값', '최빈값', '평균값', '중앙값'],\n",
    "    '값': [min_value, max_value, mode_value, mean_value, median_value]\n",
    "}\n",
    "\n",
    "summary_df = pd.DataFrame(summary_data)\n",
    "summary_df.set_index('통계량', inplace=True)\n",
    "\n",
    "summary_df"
   ]
  },
  {
   "cell_type": "code",
   "execution_count": 0,
   "metadata": {
    "application/vnd.databricks.v1+cell": {
     "cellMetadata": {},
     "inputWidgets": {},
     "nuid": "3c8a7f1e-1275-481b-9af2-8e7783eb0c1e",
     "showTitle": false,
     "title": ""
    },
    "colab": {
     "base_uri": "https://localhost:8080/"
    },
    "executionInfo": {
     "elapsed": 27,
     "status": "ok",
     "timestamp": 1720223923917,
     "user": {
      "displayName": "이설하",
      "userId": "07166075204393279284"
     },
     "user_tz": -540
    },
    "id": "1c9i9ms04GgF",
    "outputId": "6f6314e7-89d1-4ef3-828d-16e7b04a9706"
   },
   "outputs": [],
   "source": [
    "len(df[df['num_of_reviews'] == 8])"
   ]
  },
  {
   "cell_type": "code",
   "execution_count": 0,
   "metadata": {
    "application/vnd.databricks.v1+cell": {
     "cellMetadata": {},
     "inputWidgets": {},
     "nuid": "81f14cd9-edd8-4749-a348-7bac445e80f9",
     "showTitle": false,
     "title": ""
    },
    "colab": {
     "base_uri": "https://localhost:8080/"
    },
    "executionInfo": {
     "elapsed": 26,
     "status": "ok",
     "timestamp": 1720223923917,
     "user": {
      "displayName": "이설하",
      "userId": "07166075204393279284"
     },
     "user_tz": -540
    },
    "id": "Rzdx8dSM4aYb",
    "outputId": "9aa3c309-5ff9-4d57-bac0-20853d074f78"
   },
   "outputs": [],
   "source": [
    "df[df['num_of_reviews'] == 8]['gmap_id'].nunique()"
   ]
  },
  {
   "cell_type": "markdown",
   "metadata": {
    "application/vnd.databricks.v1+cell": {
     "cellMetadata": {},
     "inputWidgets": {},
     "nuid": "820130d0-1947-4102-8176-7cd32c03301d",
     "showTitle": false,
     "title": ""
    },
    "id": "1nE4yOpi4_VS"
   },
   "source": [
    "## 구글 추천(relative_results)"
   ]
  },
  {
   "cell_type": "code",
   "execution_count": 0,
   "metadata": {
    "application/vnd.databricks.v1+cell": {
     "cellMetadata": {},
     "inputWidgets": {},
     "nuid": "1db806d5-5be1-4534-b0be-d5fdd9fd1118",
     "showTitle": false,
     "title": ""
    },
    "executionInfo": {
     "elapsed": 24,
     "status": "ok",
     "timestamp": 1720223923917,
     "user": {
      "displayName": "이설하",
      "userId": "07166075204393279284"
     },
     "user_tz": -540
    },
    "id": "gjG8T4Dr-hji"
   },
   "outputs": [],
   "source": [
    "df['relative_results'].fillna('',inplace=True) #NaN 데이터를 빈칸으로 채움"
   ]
  },
  {
   "cell_type": "code",
   "execution_count": 0,
   "metadata": {
    "application/vnd.databricks.v1+cell": {
     "cellMetadata": {},
     "inputWidgets": {},
     "nuid": "559fe847-331d-4686-9628-65c556840a8b",
     "showTitle": false,
     "title": ""
    },
    "executionInfo": {
     "elapsed": 25,
     "status": "ok",
     "timestamp": 1720223923918,
     "user": {
      "displayName": "이설하",
      "userId": "07166075204393279284"
     },
     "user_tz": -540
    },
    "id": "yWCFLv8Q5HcW"
   },
   "outputs": [],
   "source": [
    "df['results_count'] = df['relative_results'].apply(len)"
   ]
  },
  {
   "cell_type": "code",
   "execution_count": 0,
   "metadata": {
    "application/vnd.databricks.v1+cell": {
     "cellMetadata": {},
     "inputWidgets": {},
     "nuid": "aa6103af-046e-45c4-8f41-ebf169f8799d",
     "showTitle": false,
     "title": ""
    },
    "colab": {
     "base_uri": "https://localhost:8080/"
    },
    "executionInfo": {
     "elapsed": 24,
     "status": "ok",
     "timestamp": 1720223923918,
     "user": {
      "displayName": "이설하",
      "userId": "07166075204393279284"
     },
     "user_tz": -540
    },
    "id": "uwDJC7IY_KrV",
    "outputId": "2076a4e6-e79b-41de-91e0-1ad6c5d3e5df"
   },
   "outputs": [],
   "source": [
    "df['results_count'].value_counts()"
   ]
  },
  {
   "cell_type": "markdown",
   "metadata": {
    "application/vnd.databricks.v1+cell": {
     "cellMetadata": {},
     "inputWidgets": {},
     "nuid": "aa6c1dd6-3adc-4025-be3d-49e7defb8300",
     "showTitle": false,
     "title": ""
    },
    "id": "MKb2j6xJVFph"
   },
   "source": [
    "## 리뷰 수와 평점 상관 관계"
   ]
  },
  {
   "cell_type": "code",
   "execution_count": 0,
   "metadata": {
    "application/vnd.databricks.v1+cell": {
     "cellMetadata": {},
     "inputWidgets": {},
     "nuid": "a79ebbe2-12d3-47a0-834e-99a9a7484ce5",
     "showTitle": false,
     "title": ""
    },
    "colab": {
     "base_uri": "https://localhost:8080/",
     "height": 490
    },
    "executionInfo": {
     "elapsed": 632,
     "status": "ok",
     "timestamp": 1720224003181,
     "user": {
      "displayName": "이설하",
      "userId": "07166075204393279284"
     },
     "user_tz": -540
    },
    "id": "yyjS2a59VICa",
    "outputId": "9260c326-7966-42f2-9213-7fda17e0c877"
   },
   "outputs": [],
   "source": [
    "# 상관계수 계산\n",
    "correlation = df['num_of_reviews'].corr(df['avg_rating'])\n",
    "\n",
    "# 상관계수 출력\n",
    "print(f\"Correlation between num_of_reviews and avg_rating: {correlation}\")\n",
    "\n",
    "# 산점도 시각화\n",
    "plt.scatter(df['num_of_reviews'], df['avg_rating'])\n",
    "plt.xlabel('Number of Reviews')\n",
    "plt.ylabel('Average Rating')\n",
    "plt.title('Scatter Plot of Number of Reviews vs. Average Rating')\n",
    "plt.show()"
   ]
  },
  {
   "cell_type": "code",
   "execution_count": 0,
   "metadata": {
    "application/vnd.databricks.v1+cell": {
     "cellMetadata": {},
     "inputWidgets": {},
     "nuid": "ff4f406e-abe5-4c48-af97-ad7f4861b054",
     "showTitle": false,
     "title": ""
    },
    "colab": {
     "base_uri": "https://localhost:8080/",
     "height": 545
    },
    "executionInfo": {
     "elapsed": 559,
     "status": "ok",
     "timestamp": 1720224351881,
     "user": {
      "displayName": "이설하",
      "userId": "07166075204393279284"
     },
     "user_tz": -540
    },
    "id": "o_0pxmNCWWtq",
    "outputId": "abf1e326-5e41-455d-835c-395f30714b14"
   },
   "outputs": [],
   "source": [
    "# 상관계수 계산\n",
    "correlation = df[['num_of_reviews', 'avg_rating']].corr()\n",
    "\n",
    "# 히트맵 시각화\n",
    "plt.figure(figsize=(8, 6))\n",
    "sns.heatmap(correlation, annot=True, cmap='coolwarm', vmin=-1, vmax=1)\n",
    "plt.title('Correlation Heatmap of num_of_reviews and avg_rating')\n",
    "plt.show()"
   ]
  },
  {
   "cell_type": "code",
   "execution_count": 0,
   "metadata": {
    "application/vnd.databricks.v1+cell": {
     "cellMetadata": {},
     "inputWidgets": {},
     "nuid": "d6d98e7f-d4ea-4c5b-a3f7-cef1985b4117",
     "showTitle": false,
     "title": ""
    },
    "id": "ved-gpV9WXJj"
   },
   "outputs": [],
   "source": []
  }
 ],
 "metadata": {
  "application/vnd.databricks.v1+notebook": {
   "dashboards": [],
   "environmentMetadata": null,
   "language": "python",
   "notebookMetadata": {},
   "notebookName": "[0706]metadata_EDA",
   "widgets": {}
  },
  "colab": {
   "authorship_tag": "ABX9TyM76XfqxLRpIxigHQN5hL3S",
   "collapsed_sections": [
    "m0v0lW0TV2QH",
    "_-q8rarCpfQR",
    "Ry37aTaA378t",
    "tspICAVct3Gu",
    "O9r1v9PU1nUi",
    "o14dvtR82jF_",
    "Wnuv53zu4CaI"
   ],
   "machine_shape": "hm",
   "provenance": []
  },
  "kernelspec": {
   "display_name": "Python 3",
   "name": "python3"
  },
  "language_info": {
   "name": "python"
  }
 },
 "nbformat": 4,
 "nbformat_minor": 0
}
