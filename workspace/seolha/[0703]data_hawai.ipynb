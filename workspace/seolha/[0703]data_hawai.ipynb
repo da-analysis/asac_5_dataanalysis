{
 "cells": [
  {
   "cell_type": "markdown",
   "metadata": {
    "application/vnd.databricks.v1+cell": {
     "cellMetadata": {},
     "inputWidgets": {},
     "nuid": "902aa8b9-1f20-4d47-8c20-9f2e56d3894e",
     "showTitle": false,
     "title": ""
    },
    "id": "-7b6h78Zzuv8"
   },
   "source": [
    "#하와이 데이터 탐색\n"
   ]
  },
  {
   "cell_type": "code",
   "execution_count": 0,
   "metadata": {
    "application/vnd.databricks.v1+cell": {
     "cellMetadata": {},
     "inputWidgets": {},
     "nuid": "5b8e2ff8-f7c6-4dd2-9f9a-c834d8b5dd63",
     "showTitle": false,
     "title": ""
    },
    "colab": {
     "base_uri": "https://localhost:8080/"
    },
    "executionInfo": {
     "elapsed": 96244,
     "status": "ok",
     "timestamp": 1719980974682,
     "user": {
      "displayName": "이설하",
      "userId": "07166075204393279284"
     },
     "user_tz": -540
    },
    "id": "25hNj-UhTtCs",
    "outputId": "0545ae0a-a3f4-4e77-cca1-fe5626259067"
   },
   "outputs": [],
   "source": [
    "from google.colab import drive\n",
    "drive.mount('/content/drive')"
   ]
  },
  {
   "cell_type": "code",
   "execution_count": 0,
   "metadata": {
    "application/vnd.databricks.v1+cell": {
     "cellMetadata": {},
     "inputWidgets": {},
     "nuid": "66643d50-8fc2-4a21-b2f6-f44c77a28bc2",
     "showTitle": false,
     "title": ""
    },
    "id": "InLJNq0dTxCS"
   },
   "outputs": [],
   "source": [
    "import requests\n",
    "import json\n",
    "import pandas as pd"
   ]
  },
  {
   "cell_type": "markdown",
   "metadata": {
    "application/vnd.databricks.v1+cell": {
     "cellMetadata": {},
     "inputWidgets": {},
     "nuid": "4b2c7307-2956-4002-b48d-f0e43503fdd7",
     "showTitle": false,
     "title": ""
    },
    "id": "8hiXL-urOVcq"
   },
   "source": [
    "#하와이 리뷰 데이터"
   ]
  },
  {
   "cell_type": "markdown",
   "metadata": {
    "application/vnd.databricks.v1+cell": {
     "cellMetadata": {},
     "inputWidgets": {},
     "nuid": "63c3644f-f3fe-4d23-a3b8-db89806e608e",
     "showTitle": false,
     "title": ""
    },
    "id": "pENJDMeDFdBZ"
   },
   "source": [
    "### df에 담기"
   ]
  },
  {
   "cell_type": "code",
   "execution_count": 0,
   "metadata": {
    "application/vnd.databricks.v1+cell": {
     "cellMetadata": {},
     "inputWidgets": {},
     "nuid": "1f76afb5-29a6-4a53-a1ea-e2b6f85e0f68",
     "showTitle": false,
     "title": ""
    },
    "colab": {
     "base_uri": "https://localhost:8080/"
    },
    "executionInfo": {
     "elapsed": 23878,
     "status": "ok",
     "timestamp": 1719981008794,
     "user": {
      "displayName": "이설하",
      "userId": "07166075204393279284"
     },
     "user_tz": -540
    },
    "id": "N99mGip0VgOR",
    "outputId": "65d8e5bb-f026-4bb4-8394-d47a59912df9"
   },
   "outputs": [],
   "source": [
    "import json\n",
    "import gzip\n",
    "\n",
    "path = '/content/drive/MyDrive/T아카데미_ASAC프로젝트_5기_멘토링/3. 데이터/review-Hawaii_large.json'\n",
    "\n",
    "def parse1(path):\n",
    "    if path.endswith('.gz'):\n",
    "        g = gzip.open(path, 'rt')  # gzip 파일일 경우\n",
    "    else:\n",
    "        g = open(path, 'r')  # 일반 텍스트 파일일 경우\n",
    "    for l in g:\n",
    "        yield json.loads(l)\n",
    "    g.close()\n",
    "\n",
    "json_objects = list(parse1(path))\n",
    "\n",
    "# 첫 번째 JSON 객체를 출력하여 확인\n",
    "print(json.dumps(json_objects[0], indent=4))\n",
    "print(f\"성공적으로 로드된 JSON 객체 수: {len(json_objects)}\")\n"
   ]
  },
  {
   "cell_type": "code",
   "execution_count": 0,
   "metadata": {
    "application/vnd.databricks.v1+cell": {
     "cellMetadata": {},
     "inputWidgets": {},
     "nuid": "e12c0965-9e4e-49c3-929e-48ee66000e39",
     "showTitle": false,
     "title": ""
    },
    "colab": {
     "base_uri": "https://localhost:8080/"
    },
    "executionInfo": {
     "elapsed": 6,
     "status": "ok",
     "timestamp": 1719981008794,
     "user": {
      "displayName": "이설하",
      "userId": "07166075204393279284"
     },
     "user_tz": -540
    },
    "id": "uRTc1SugfV7m",
    "outputId": "be2f3385-012a-457a-91df-598ffda2c512"
   },
   "outputs": [],
   "source": [
    "type(json_objects)"
   ]
  },
  {
   "cell_type": "code",
   "execution_count": 0,
   "metadata": {
    "application/vnd.databricks.v1+cell": {
     "cellMetadata": {},
     "inputWidgets": {},
     "nuid": "4d1b07b0-0bc9-4d07-8aba-9a68e66f3397",
     "showTitle": false,
     "title": ""
    },
    "colab": {
     "base_uri": "https://localhost:8080/"
    },
    "executionInfo": {
     "elapsed": 5,
     "status": "ok",
     "timestamp": 1719981008795,
     "user": {
      "displayName": "이설하",
      "userId": "07166075204393279284"
     },
     "user_tz": -540
    },
    "id": "oa7US7-agLKa",
    "outputId": "23df9f10-d9e8-48dc-ba91-aba13d70c034"
   },
   "outputs": [],
   "source": [
    "json_objects[0]"
   ]
  },
  {
   "cell_type": "code",
   "execution_count": 0,
   "metadata": {
    "application/vnd.databricks.v1+cell": {
     "cellMetadata": {},
     "inputWidgets": {},
     "nuid": "63c9ffd4-98bc-40dd-8a5f-9dd82198e18f",
     "showTitle": false,
     "title": ""
    },
    "colab": {
     "base_uri": "https://localhost:8080/"
    },
    "executionInfo": {
     "elapsed": 6357,
     "status": "ok",
     "timestamp": 1719981015148,
     "user": {
      "displayName": "이설하",
      "userId": "07166075204393279284"
     },
     "user_tz": -540
    },
    "id": "H7E5Fmp3zmZV",
    "outputId": "0cb1dbd8-225a-4a61-d545-53b9ce223e19"
   },
   "outputs": [],
   "source": [
    "# 데이터를 리스트에 저장\n",
    "data = []\n",
    "for item in json_objects:\n",
    "    data.append(item)\n",
    "\n",
    "# 데이터를 판다스 데이터프레임으로 변환\n",
    "df = pd.DataFrame(data)\n",
    "\n",
    "# 데이터프레임의 첫 몇 줄을 출력하여 확인\n",
    "print(df.head())\n"
   ]
  },
  {
   "cell_type": "code",
   "execution_count": 0,
   "metadata": {
    "application/vnd.databricks.v1+cell": {
     "cellMetadata": {},
     "inputWidgets": {},
     "nuid": "a1ad985d-7812-455c-a0a4-93f98c0c8fa9",
     "showTitle": false,
     "title": ""
    },
    "colab": {
     "base_uri": "https://localhost:8080/",
     "height": 434
    },
    "executionInfo": {
     "elapsed": 25,
     "status": "ok",
     "timestamp": 1719981015149,
     "user": {
      "displayName": "이설하",
      "userId": "07166075204393279284"
     },
     "user_tz": -540
    },
    "id": "GDaQ4eRrKtdu",
    "outputId": "704760d9-aa76-45c5-f036-3ecb21074ea9"
   },
   "outputs": [],
   "source": [
    "df.head()"
   ]
  },
  {
   "cell_type": "markdown",
   "metadata": {
    "application/vnd.databricks.v1+cell": {
     "cellMetadata": {},
     "inputWidgets": {},
     "nuid": "1dcd5f88-df72-4f04-a5ab-b814073afb67",
     "showTitle": false,
     "title": ""
    },
    "id": "WRvg0mTzPGmQ"
   },
   "source": [
    "### df.info()"
   ]
  },
  {
   "cell_type": "code",
   "execution_count": 0,
   "metadata": {
    "application/vnd.databricks.v1+cell": {
     "cellMetadata": {},
     "inputWidgets": {},
     "nuid": "1dadc056-0666-46a0-bb5d-df039a7a56a7",
     "showTitle": false,
     "title": ""
    },
    "colab": {
     "base_uri": "https://localhost:8080/"
    },
    "executionInfo": {
     "elapsed": 10,
     "status": "ok",
     "timestamp": 1719987392493,
     "user": {
      "displayName": "이설하",
      "userId": "07166075204393279284"
     },
     "user_tz": -540
    },
    "id": "wtlSj-LpPEWd",
    "outputId": "ef455794-5ca0-42d9-d68d-2d9ac95b8446"
   },
   "outputs": [],
   "source": [
    "df.info()"
   ]
  },
  {
   "cell_type": "markdown",
   "metadata": {
    "application/vnd.databricks.v1+cell": {
     "cellMetadata": {},
     "inputWidgets": {},
     "nuid": "d1fa9ef3-a7db-44f0-b576-5ad6d014e4b9",
     "showTitle": false,
     "title": ""
    },
    "id": "-qgk09JBFSjF"
   },
   "source": [
    "### 결측치"
   ]
  },
  {
   "cell_type": "code",
   "execution_count": 0,
   "metadata": {
    "application/vnd.databricks.v1+cell": {
     "cellMetadata": {},
     "inputWidgets": {},
     "nuid": "7cc6b6ac-b18e-4d70-9f35-42ab4924a872",
     "showTitle": false,
     "title": ""
    },
    "colab": {
     "base_uri": "https://localhost:8080/"
    },
    "executionInfo": {
     "elapsed": 473,
     "status": "ok",
     "timestamp": 1719981015618,
     "user": {
      "displayName": "이설하",
      "userId": "07166075204393279284"
     },
     "user_tz": -540
    },
    "id": "CtphlHClXW9c",
    "outputId": "95f412bf-351a-4d67-bd71-24c85d7ea96c"
   },
   "outputs": [],
   "source": [
    "df.loc[df['text'].isnull()]"
   ]
  },
  {
   "cell_type": "code",
   "execution_count": 0,
   "metadata": {
    "application/vnd.databricks.v1+cell": {
     "cellMetadata": {},
     "inputWidgets": {},
     "nuid": "9b15a718-dbb2-4ba8-ae10-62fcaa40cfaf",
     "showTitle": false,
     "title": ""
    },
    "colab": {
     "base_uri": "https://localhost:8080/"
    },
    "executionInfo": {
     "elapsed": 852,
     "status": "ok",
     "timestamp": 1719981016467,
     "user": {
      "displayName": "이설하",
      "userId": "07166075204393279284"
     },
     "user_tz": -540
    },
    "id": "2us_zfDIXXNw",
    "outputId": "dfe11e37-cd9c-47f6-d71d-48cbf8272c6f"
   },
   "outputs": [],
   "source": [
    "print('총갯수',len(df))\n",
    "for i in df.columns:\n",
    "\n",
    "  print(i,':',df[i].isnull().sum())"
   ]
  },
  {
   "cell_type": "markdown",
   "metadata": {
    "application/vnd.databricks.v1+cell": {
     "cellMetadata": {},
     "inputWidgets": {},
     "nuid": "e69a8d6f-1d57-4903-a369-c3311604e049",
     "showTitle": false,
     "title": ""
    },
    "id": "_3d7rq8fE8fh"
   },
   "source": [
    "### 사진"
   ]
  },
  {
   "cell_type": "code",
   "execution_count": 0,
   "metadata": {
    "application/vnd.databricks.v1+cell": {
     "cellMetadata": {},
     "inputWidgets": {},
     "nuid": "b627f756-3221-4c22-a971-c4d30bf0b684",
     "showTitle": false,
     "title": ""
    },
    "colab": {
     "base_uri": "https://localhost:8080/",
     "height": 434
    },
    "executionInfo": {
     "elapsed": 13,
     "status": "ok",
     "timestamp": 1719981016468,
     "user": {
      "displayName": "이설하",
      "userId": "07166075204393279284"
     },
     "user_tz": -540
    },
    "id": "hJvC2hT7nil2",
    "outputId": "e4c77b39-4eea-4682-d160-892957eecbf9"
   },
   "outputs": [],
   "source": [
    "df.head()"
   ]
  },
  {
   "cell_type": "code",
   "execution_count": 0,
   "metadata": {
    "application/vnd.databricks.v1+cell": {
     "cellMetadata": {},
     "inputWidgets": {},
     "nuid": "aae6917b-13d2-48a5-84f7-7f0ae200cab3",
     "showTitle": false,
     "title": ""
    },
    "id": "LzzRXKiqFiDI"
   },
   "outputs": [],
   "source": [
    "# df[len(df['pics']) > 3]\n",
    "# df[df['pics'].apply(len) > 3]"
   ]
  },
  {
   "cell_type": "code",
   "execution_count": 0,
   "metadata": {
    "application/vnd.databricks.v1+cell": {
     "cellMetadata": {},
     "inputWidgets": {},
     "nuid": "7f244abd-c3fe-4d34-ab7e-3ff515b7631e",
     "showTitle": false,
     "title": ""
    },
    "id": "jM9CVZkVnYoT"
   },
   "outputs": [],
   "source": [
    "df['pics_cnt'] = 0"
   ]
  },
  {
   "cell_type": "code",
   "execution_count": 0,
   "metadata": {
    "application/vnd.databricks.v1+cell": {
     "cellMetadata": {},
     "inputWidgets": {},
     "nuid": "183147c2-04a5-4b87-b77f-7a22ecdfa6f4",
     "showTitle": false,
     "title": ""
    },
    "id": "tgB-I-T5nNL6"
   },
   "outputs": [],
   "source": [
    "for i,v in enumerate(df['pics']):\n",
    "  if v == None:\n",
    "    df.at[i,'pics_cnt'] = 0\n",
    "  else :\n",
    "    df.at[i,'pics_cnt'] = len(df['pics'].iloc[i])"
   ]
  },
  {
   "cell_type": "code",
   "execution_count": 0,
   "metadata": {
    "application/vnd.databricks.v1+cell": {
     "cellMetadata": {},
     "inputWidgets": {},
     "nuid": "ce2b58f9-f041-4351-9133-9be6da94836a",
     "showTitle": false,
     "title": ""
    },
    "colab": {
     "base_uri": "https://localhost:8080/",
     "height": 434
    },
    "executionInfo": {
     "elapsed": 23,
     "status": "ok",
     "timestamp": 1719981073629,
     "user": {
      "displayName": "이설하",
      "userId": "07166075204393279284"
     },
     "user_tz": -540
    },
    "id": "3o0IgCo6pqj0",
    "outputId": "057de76a-0f69-4774-a64a-cbac42d1df42"
   },
   "outputs": [],
   "source": [
    "df.head()"
   ]
  },
  {
   "cell_type": "code",
   "execution_count": 0,
   "metadata": {
    "application/vnd.databricks.v1+cell": {
     "cellMetadata": {},
     "inputWidgets": {},
     "nuid": "1405c1ae-d51a-4a76-a23a-c2b78db73b91",
     "showTitle": false,
     "title": ""
    },
    "id": "EhrCmZLYSWsS"
   },
   "outputs": [],
   "source": [
    "df.to_parquet('hawaii_review.parquet', index=False)"
   ]
  },
  {
   "cell_type": "code",
   "execution_count": 0,
   "metadata": {
    "application/vnd.databricks.v1+cell": {
     "cellMetadata": {},
     "inputWidgets": {},
     "nuid": "285aca34-dd3a-475d-b2bf-68410dce24f5",
     "showTitle": false,
     "title": ""
    },
    "id": "_wRMPuP9UDZD"
   },
   "outputs": [],
   "source": [
    "!cp hawaii_review.parquet /content/drive/MyDrive/"
   ]
  },
  {
   "cell_type": "code",
   "execution_count": 0,
   "metadata": {
    "application/vnd.databricks.v1+cell": {
     "cellMetadata": {},
     "inputWidgets": {},
     "nuid": "cda3eeea-3239-4d93-bf02-42add953e930",
     "showTitle": false,
     "title": ""
    },
    "colab": {
     "base_uri": "https://localhost:8080/"
    },
    "executionInfo": {
     "elapsed": 14,
     "status": "ok",
     "timestamp": 1719981087019,
     "user": {
      "displayName": "이설하",
      "userId": "07166075204393279284"
     },
     "user_tz": -540
    },
    "id": "Y7GfmGjKCo5v",
    "outputId": "2ee95bcd-e09c-437c-bcb4-bac89ab98251"
   },
   "outputs": [],
   "source": [
    "non_zero_count = (df['pics_cnt'] != 0).sum()\n",
    "print(non_zero_count)"
   ]
  },
  {
   "cell_type": "code",
   "execution_count": 0,
   "metadata": {
    "application/vnd.databricks.v1+cell": {
     "cellMetadata": {},
     "inputWidgets": {},
     "nuid": "d6cbdda6-1661-4e42-b513-4cacc7175aec",
     "showTitle": false,
     "title": ""
    },
    "colab": {
     "base_uri": "https://localhost:8080/"
    },
    "executionInfo": {
     "elapsed": 12,
     "status": "ok",
     "timestamp": 1719981087020,
     "user": {
      "displayName": "이설하",
      "userId": "07166075204393279284"
     },
     "user_tz": -540
    },
    "id": "u7qt1h2GCs-o",
    "outputId": "7ee31f7c-5057-4ce4-e62c-37a9fadbc587"
   },
   "outputs": [],
   "source": [
    "print(len(df['pics_cnt']))\n",
    "print(len(df['pics']))"
   ]
  },
  {
   "cell_type": "code",
   "execution_count": 0,
   "metadata": {
    "application/vnd.databricks.v1+cell": {
     "cellMetadata": {},
     "inputWidgets": {},
     "nuid": "e7c90cc6-c24f-4d57-a9fc-0da2495a4b23",
     "showTitle": false,
     "title": ""
    },
    "colab": {
     "base_uri": "https://localhost:8080/"
    },
    "executionInfo": {
     "elapsed": 13,
     "status": "ok",
     "timestamp": 1719981087021,
     "user": {
      "displayName": "이설하",
      "userId": "07166075204393279284"
     },
     "user_tz": -540
    },
    "id": "ZtdKDJ7usNpt",
    "outputId": "b97ec8bd-1c11-4a9d-fd58-4c994bb9b276"
   },
   "outputs": [],
   "source": [
    "df['pics_cnt'].sum()/non_zero_count"
   ]
  },
  {
   "cell_type": "code",
   "execution_count": 0,
   "metadata": {
    "application/vnd.databricks.v1+cell": {
     "cellMetadata": {},
     "inputWidgets": {},
     "nuid": "fd64437d-c7fe-42c0-a70e-2cb4a23d4243",
     "showTitle": false,
     "title": ""
    },
    "colab": {
     "base_uri": "https://localhost:8080/",
     "height": 608
    },
    "executionInfo": {
     "elapsed": 12,
     "status": "ok",
     "timestamp": 1719981087021,
     "user": {
      "displayName": "이설하",
      "userId": "07166075204393279284"
     },
     "user_tz": -540
    },
    "id": "ZbJkjd80Dcb5",
    "outputId": "34699f0a-7892-424c-c672-5829aba18af0"
   },
   "outputs": [],
   "source": [
    "df[df['pics_cnt']==df['pics_cnt'].max()].head()"
   ]
  },
  {
   "cell_type": "code",
   "execution_count": 0,
   "metadata": {
    "application/vnd.databricks.v1+cell": {
     "cellMetadata": {},
     "inputWidgets": {},
     "nuid": "0759258d-22bc-4f0e-9ffe-4a16bf12e2e4",
     "showTitle": false,
     "title": ""
    },
    "id": "5geCfKoXYEfK"
   },
   "outputs": [],
   "source": [
    "# df[df['pics_cnt']==5]\n",
    "pics_test = df.at[36,'pics']"
   ]
  },
  {
   "cell_type": "code",
   "execution_count": 0,
   "metadata": {
    "application/vnd.databricks.v1+cell": {
     "cellMetadata": {},
     "inputWidgets": {},
     "nuid": "e17c2922-01af-46fd-930d-9e1e8e8fed9d",
     "showTitle": false,
     "title": ""
    },
    "colab": {
     "base_uri": "https://localhost:8080/"
    },
    "executionInfo": {
     "elapsed": 9,
     "status": "ok",
     "timestamp": 1719981087021,
     "user": {
      "displayName": "이설하",
      "userId": "07166075204393279284"
     },
     "user_tz": -540
    },
    "id": "NRz05CidYb69",
    "outputId": "4c3849e5-7bce-44bf-d763-b16622a445a3"
   },
   "outputs": [],
   "source": [
    "pics_test[0]['url']"
   ]
  },
  {
   "cell_type": "code",
   "execution_count": 0,
   "metadata": {
    "application/vnd.databricks.v1+cell": {
     "cellMetadata": {},
     "inputWidgets": {},
     "nuid": "6b6c9a2c-59a4-4dc9-8998-534b9f8a150f",
     "showTitle": false,
     "title": ""
    },
    "colab": {
     "base_uri": "https://localhost:8080/"
    },
    "executionInfo": {
     "elapsed": 8,
     "status": "ok",
     "timestamp": 1719981087021,
     "user": {
      "displayName": "이설하",
      "userId": "07166075204393279284"
     },
     "user_tz": -540
    },
    "id": "FlTXQzDfECG4",
    "outputId": "f987ec51-bc7f-4df9-93c5-a8afcb23e57c"
   },
   "outputs": [],
   "source": [
    "len(df.at[581,'pics'])"
   ]
  },
  {
   "cell_type": "markdown",
   "metadata": {
    "application/vnd.databricks.v1+cell": {
     "cellMetadata": {},
     "inputWidgets": {},
     "nuid": "4f2ce788-06de-4771-848f-8e4e0d64510f",
     "showTitle": false,
     "title": ""
    },
    "id": "VwpLeZTkERll"
   },
   "source": [
    "- 리뷰에 포함된 사진의 개수는 최소 0, 최대 50\n",
    "- 사진이 포함된 리뷰를 기준으로 사진의 개수는 약 3장"
   ]
  },
  {
   "cell_type": "code",
   "execution_count": 0,
   "metadata": {
    "application/vnd.databricks.v1+cell": {
     "cellMetadata": {},
     "inputWidgets": {},
     "nuid": "cfbdd79a-a823-4aa0-afc8-588e56b66cb6",
     "showTitle": false,
     "title": ""
    },
    "id": "GQB7RIHFVrjq"
   },
   "outputs": [],
   "source": [
    "import matplotlib.pyplot as plt"
   ]
  },
  {
   "cell_type": "code",
   "execution_count": 0,
   "metadata": {
    "application/vnd.databricks.v1+cell": {
     "cellMetadata": {},
     "inputWidgets": {},
     "nuid": "3204c8dc-38a4-4698-8eb2-c163e7e3af67",
     "showTitle": false,
     "title": ""
    },
    "colab": {
     "base_uri": "https://localhost:8080/",
     "height": 557
    },
    "executionInfo": {
     "elapsed": 629,
     "status": "ok",
     "timestamp": 1719981087643,
     "user": {
      "displayName": "이설하",
      "userId": "07166075204393279284"
     },
     "user_tz": -540
    },
    "id": "dFl8IyW4VtBr",
    "outputId": "cfe2cfdd-c270-4014-8255-5443b8dc2584"
   },
   "outputs": [],
   "source": [
    "plt.figure(figsize=(10, 6))\n",
    "plt.hist(df['pics_cnt'], bins=10, edgecolor='black')\n",
    "plt.xlabel('pics_cnt')\n",
    "plt.ylabel('Frequency')\n",
    "plt.show()"
   ]
  },
  {
   "cell_type": "markdown",
   "metadata": {
    "application/vnd.databricks.v1+cell": {
     "cellMetadata": {},
     "inputWidgets": {},
     "nuid": "09c54c98-0ffe-4307-9535-1c9e6fe14515",
     "showTitle": false,
     "title": ""
    },
    "id": "vCOZOtVZE-_0"
   },
   "source": [
    "### 시간"
   ]
  },
  {
   "cell_type": "code",
   "execution_count": 0,
   "metadata": {
    "application/vnd.databricks.v1+cell": {
     "cellMetadata": {},
     "inputWidgets": {},
     "nuid": "c6ea60c4-b921-4112-8653-c8e1fcc922ad",
     "showTitle": false,
     "title": ""
    },
    "colab": {
     "base_uri": "https://localhost:8080/"
    },
    "executionInfo": {
     "elapsed": 6419,
     "status": "ok",
     "timestamp": 1719981094045,
     "user": {
      "displayName": "이설하",
      "userId": "07166075204393279284"
     },
     "user_tz": -540
    },
    "id": "9eQMabShT56i",
    "outputId": "119d193b-fa40-4142-fb6f-d3600cafd5c2"
   },
   "outputs": [],
   "source": [
    "# 시간 컬럼을 사람이 읽을 수 있는 형식으로 변환\n",
    "df['time'] = pd.to_datetime(df['time'], unit='ms')\n",
    "\n",
    "# 결측값 처리 (여기서는 간단히 None을 빈 문자열로 대체)\n",
    "df['pics'] = df['pics'].apply(lambda x: x if x is not None else [])\n",
    "df['resp'] = df['resp'].fillna('')\n",
    "\n",
    "# 데이터 정리: 텍스트 컬럼의 줄바꿈 문자 제거\n",
    "df['text'] = df['text'].str.replace('\\n', ' ')\n",
    "\n",
    "# 필요하면 데이터 타입 변환 (예: rating 컬럼을 float로)\n",
    "df['rating'] = df['rating'].astype(float)\n",
    "\n",
    "# 데이터 확인\n",
    "print(df.head())"
   ]
  },
  {
   "cell_type": "code",
   "execution_count": 0,
   "metadata": {
    "application/vnd.databricks.v1+cell": {
     "cellMetadata": {},
     "inputWidgets": {},
     "nuid": "2a27147a-c3af-4bf9-ada3-1296068bca52",
     "showTitle": false,
     "title": ""
    },
    "colab": {
     "base_uri": "https://localhost:8080/",
     "height": 746
    },
    "executionInfo": {
     "elapsed": 48,
     "status": "ok",
     "timestamp": 1719981094045,
     "user": {
      "displayName": "이설하",
      "userId": "07166075204393279284"
     },
     "user_tz": -540
    },
    "id": "bCRhg_GzUHPO",
    "outputId": "30212c92-28ed-42a3-ea14-c6a9596f2c37"
   },
   "outputs": [],
   "source": [
    "df.head()"
   ]
  },
  {
   "cell_type": "code",
   "execution_count": 0,
   "metadata": {
    "application/vnd.databricks.v1+cell": {
     "cellMetadata": {},
     "inputWidgets": {},
     "nuid": "235717ca-5522-45e3-90ea-48800254411a",
     "showTitle": false,
     "title": ""
    },
    "id": "nQQNyh91ap3R"
   },
   "outputs": [],
   "source": [
    "from tqdm import tqdm"
   ]
  },
  {
   "cell_type": "code",
   "execution_count": 0,
   "metadata": {
    "application/vnd.databricks.v1+cell": {
     "cellMetadata": {},
     "inputWidgets": {},
     "nuid": "f1c3d436-737f-4dba-bdff-0fafc8cdcb5a",
     "showTitle": false,
     "title": ""
    },
    "colab": {
     "base_uri": "https://localhost:8080/"
    },
    "executionInfo": {
     "elapsed": 200300,
     "status": "ok",
     "timestamp": 1719981326838,
     "user": {
      "displayName": "이설하",
      "userId": "07166075204393279284"
     },
     "user_tz": -540
    },
    "id": "onJlhfLwZUCf",
    "outputId": "c22fe6c7-c589-4da6-f000-8c29ffbab740"
   },
   "outputs": [],
   "source": [
    "for i in tqdm(range(len(df))):\n",
    "  df.at[i,'year'] = str(df['time'][i])[:4]"
   ]
  },
  {
   "cell_type": "code",
   "execution_count": 0,
   "metadata": {
    "application/vnd.databricks.v1+cell": {
     "cellMetadata": {},
     "inputWidgets": {},
     "nuid": "4a200991-28f1-4aa2-bc03-9c27bfe1445b",
     "showTitle": false,
     "title": ""
    },
    "colab": {
     "base_uri": "https://localhost:8080/",
     "height": 585
    },
    "executionInfo": {
     "elapsed": 401,
     "status": "ok",
     "timestamp": 1719981416852,
     "user": {
      "displayName": "이설하",
      "userId": "07166075204393279284"
     },
     "user_tz": -540
    },
    "id": "aUh44JiTb4UM",
    "outputId": "9c5c89f0-ea70-4e53-80b2-a58366054302"
   },
   "outputs": [],
   "source": [
    "year_counts = df['year'].value_counts().sort_index()\n",
    "year_counts.plot(kind='bar', figsize=(10, 6))\n",
    "plt.xlabel('Year')\n",
    "plt.ylabel('Frequency')\n",
    "plt.title('Yearly Distribution')\n",
    "plt.show()"
   ]
  },
  {
   "cell_type": "code",
   "execution_count": 0,
   "metadata": {
    "application/vnd.databricks.v1+cell": {
     "cellMetadata": {},
     "inputWidgets": {},
     "nuid": "f766c475-2b89-46b7-adb6-f79381d633a0",
     "showTitle": false,
     "title": ""
    },
    "colab": {
     "base_uri": "https://localhost:8080/",
     "height": 81
    },
    "executionInfo": {
     "elapsed": 348,
     "status": "ok",
     "timestamp": 1719981420371,
     "user": {
      "displayName": "이설하",
      "userId": "07166075204393279284"
     },
     "user_tz": -540
    },
    "id": "Mrt8eCS8cM5F",
    "outputId": "5f9ae4ab-5896-4f49-8d9a-0ad940085469"
   },
   "outputs": [],
   "source": [
    "df[df['year']=='1990']"
   ]
  },
  {
   "cell_type": "code",
   "execution_count": 0,
   "metadata": {
    "application/vnd.databricks.v1+cell": {
     "cellMetadata": {},
     "inputWidgets": {},
     "nuid": "fb537385-804c-4e43-8105-2b85c6e9c121",
     "showTitle": false,
     "title": ""
    },
    "id": "cpku3DXp4beG"
   },
   "outputs": [],
   "source": [
    "# 날짜 문자열을 요일로 변환하는 함수\n",
    "def get_weekday_from_string(date_string):\n",
    "    date = pd.to_datetime(date_string)\n",
    "    weekdays = ['Mon', 'Tue', 'Wed', 'Thu', 'Fri', 'Sat', 'Sun']\n",
    "    return weekdays[date.weekday()]\n",
    "\n",
    "# 새로운 열 추가\n",
    "df['Weekday'] = df['time'].apply(get_weekday_from_string)"
   ]
  },
  {
   "cell_type": "code",
   "execution_count": 0,
   "metadata": {
    "application/vnd.databricks.v1+cell": {
     "cellMetadata": {},
     "inputWidgets": {},
     "nuid": "b3d228ce-08e0-402d-ab6b-8db272511df0",
     "showTitle": false,
     "title": ""
    },
    "colab": {
     "base_uri": "https://localhost:8080/"
    },
    "executionInfo": {
     "elapsed": 13,
     "status": "ok",
     "timestamp": 1719982051328,
     "user": {
      "displayName": "이설하",
      "userId": "07166075204393279284"
     },
     "user_tz": -540
    },
    "id": "qxJ3iuXb6uUO",
    "outputId": "24e216df-541d-4f81-8a06-4c8fd08fb3f0"
   },
   "outputs": [],
   "source": [
    "df['Weekday'].value_counts()"
   ]
  },
  {
   "cell_type": "code",
   "execution_count": 0,
   "metadata": {
    "application/vnd.databricks.v1+cell": {
     "cellMetadata": {},
     "inputWidgets": {},
     "nuid": "6afb3211-4fce-4dde-a463-53e12fb94b2f",
     "showTitle": false,
     "title": ""
    },
    "colab": {
     "base_uri": "https://localhost:8080/",
     "height": 564
    },
    "executionInfo": {
     "elapsed": 389,
     "status": "ok",
     "timestamp": 1719981781962,
     "user": {
      "displayName": "이설하",
      "userId": "07166075204393279284"
     },
     "user_tz": -540
    },
    "id": "E4gd8m-75mBT",
    "outputId": "07adeae0-1265-43b2-f9d8-8963a2605a81"
   },
   "outputs": [],
   "source": [
    "# 요일별 리뷰 수 계산\n",
    "weekday_counts = df['Weekday'].value_counts().reindex(['Mon', 'Tue', 'Wed', 'Thu', 'Fri', 'Sat', 'Sun'])\n",
    "\n",
    "# 막대 그래프로 시각화\n",
    "plt.figure(figsize=(10, 6))\n",
    "weekday_counts.plot(kind='bar', color='skyblue')\n",
    "plt.title('Number of Reviews by Weekday')\n",
    "plt.xlabel('Weekday')\n",
    "plt.ylabel('Number of Reviews')\n",
    "plt.xticks(rotation=0)\n",
    "plt.grid(axis='y')\n",
    "\n",
    "# 그래프 출력\n",
    "plt.show()"
   ]
  },
  {
   "cell_type": "code",
   "execution_count": 0,
   "metadata": {
    "application/vnd.databricks.v1+cell": {
     "cellMetadata": {},
     "inputWidgets": {},
     "nuid": "07f79157-5f96-401c-a97e-6f34da177e83",
     "showTitle": false,
     "title": ""
    },
    "colab": {
     "base_uri": "https://localhost:8080/"
    },
    "executionInfo": {
     "elapsed": 420,
     "status": "ok",
     "timestamp": 1719982309672,
     "user": {
      "displayName": "이설하",
      "userId": "07166075204393279284"
     },
     "user_tz": -540
    },
    "id": "vvgcoJLp6_0x",
    "outputId": "2aea8432-9cc8-40ba-d5ff-a25082d0eae8"
   },
   "outputs": [],
   "source": [
    "print(df.groupby('Weekday')['rating'].mean())"
   ]
  },
  {
   "cell_type": "code",
   "execution_count": 0,
   "metadata": {
    "application/vnd.databricks.v1+cell": {
     "cellMetadata": {},
     "inputWidgets": {},
     "nuid": "47d27b4e-5594-4a70-bb1b-249b1062843f",
     "showTitle": false,
     "title": ""
    },
    "colab": {
     "base_uri": "https://localhost:8080/",
     "height": 564
    },
    "executionInfo": {
     "elapsed": 549,
     "status": "ok",
     "timestamp": 1719981884442,
     "user": {
      "displayName": "이설하",
      "userId": "07166075204393279284"
     },
     "user_tz": -540
    },
    "id": "YL0E94Hk6Lqb",
    "outputId": "c5071c95-b372-4fb8-84de-e1c679a8e080"
   },
   "outputs": [],
   "source": [
    "# 요일별 평점 평균 계산\n",
    "weekday_avg_rating = df.groupby('Weekday')['rating'].mean().reindex(['Mon', 'Tue', 'Wed', 'Thu', 'Fri', 'Sat', 'Sun'])\n",
    "\n",
    "# 막대 그래프로 시각화\n",
    "plt.figure(figsize=(10, 6))\n",
    "weekday_avg_rating.plot(kind='bar', color='skyblue')\n",
    "plt.title('Average Rating by Weekday')\n",
    "plt.xlabel('Weekday')\n",
    "plt.ylabel('Average Rating')\n",
    "plt.ylim(0, 5)  # 평점 범위 (0-5)\n",
    "plt.xticks(rotation=0)\n",
    "plt.grid(axis='y')\n",
    "\n",
    "# 그래프 출력\n",
    "plt.show()"
   ]
  },
  {
   "cell_type": "code",
   "execution_count": 0,
   "metadata": {
    "application/vnd.databricks.v1+cell": {
     "cellMetadata": {},
     "inputWidgets": {},
     "nuid": "592778c5-4580-48ce-961b-9a967a0a2623",
     "showTitle": false,
     "title": ""
    },
    "colab": {
     "base_uri": "https://localhost:8080/",
     "height": 564
    },
    "executionInfo": {
     "elapsed": 992,
     "status": "ok",
     "timestamp": 1719982521714,
     "user": {
      "displayName": "이설하",
      "userId": "07166075204393279284"
     },
     "user_tz": -540
    },
    "id": "2JB04B8r8nCP",
    "outputId": "df193d4f-f01e-40a9-b3f1-a526165f3a65"
   },
   "outputs": [],
   "source": [
    "# 요일별 평점 평균 계산\n",
    "weekday_avg_rating = df.groupby('Weekday')['rating'].mean().reindex(['Mon', 'Tue', 'Wed', 'Thu', 'Fri', 'Sat', 'Sun'])\n",
    "\n",
    "# 막대 그래프로 시각화\n",
    "plt.figure(figsize=(10, 6))\n",
    "bars = weekday_avg_rating.plot(kind='bar', color='skyblue')\n",
    "plt.title('Average Rating by Weekday')\n",
    "plt.xlabel('Weekday')\n",
    "plt.ylabel('Average Rating')\n",
    "plt.ylim(0, 5)  # 평점 범위 (0-5)\n",
    "plt.xticks(rotation=0)\n",
    "plt.grid(axis='y')\n",
    "\n",
    "# 막대 상단에 값 표시\n",
    "for bar in bars.patches:\n",
    "    plt.text(\n",
    "        bar.get_x() + bar.get_width() / 2,\n",
    "        bar.get_height() - 0.1,\n",
    "        f'{bar.get_height():.2f}',\n",
    "        ha='center',\n",
    "        va='bottom',\n",
    "        fontsize=10\n",
    "    )\n",
    "\n",
    "# 그래프 출력\n",
    "plt.show()"
   ]
  },
  {
   "cell_type": "markdown",
   "metadata": {
    "application/vnd.databricks.v1+cell": {
     "cellMetadata": {},
     "inputWidgets": {},
     "nuid": "13649bce-9899-4b44-b4f9-54b05e36ec19",
     "showTitle": false,
     "title": ""
    },
    "id": "PZRDwFCfOzcp"
   },
   "source": [
    "### 텍스트"
   ]
  },
  {
   "cell_type": "code",
   "execution_count": 0,
   "metadata": {
    "application/vnd.databricks.v1+cell": {
     "cellMetadata": {},
     "inputWidgets": {},
     "nuid": "5f64883c-1b77-4acc-8812-0eee870205c7",
     "showTitle": false,
     "title": ""
    },
    "colab": {
     "base_uri": "https://localhost:8080/",
     "height": 746
    },
    "executionInfo": {
     "elapsed": 896,
     "status": "ok",
     "timestamp": 1719982689963,
     "user": {
      "displayName": "이설하",
      "userId": "07166075204393279284"
     },
     "user_tz": -540
    },
    "id": "bTp2eGTh85WY",
    "outputId": "6f53a353-c3ba-4683-a9bd-7ec8998386db"
   },
   "outputs": [],
   "source": [
    "df[df['text'].notnull()].head()"
   ]
  },
  {
   "cell_type": "code",
   "execution_count": 0,
   "metadata": {
    "application/vnd.databricks.v1+cell": {
     "cellMetadata": {},
     "inputWidgets": {},
     "nuid": "b685509d-6934-4246-b391-6ec7e917cf88",
     "showTitle": false,
     "title": ""
    },
    "colab": {
     "base_uri": "https://localhost:8080/"
    },
    "executionInfo": {
     "elapsed": 2,
     "status": "ok",
     "timestamp": 1719982710687,
     "user": {
      "displayName": "이설하",
      "userId": "07166075204393279284"
     },
     "user_tz": -540
    },
    "id": "2IrODCVl9Skx",
    "outputId": "35444f27-145d-4c23-92d3-de5b9ab2f925"
   },
   "outputs": [],
   "source": [
    "type(df.at[0,'text'])"
   ]
  },
  {
   "cell_type": "code",
   "execution_count": 0,
   "metadata": {
    "application/vnd.databricks.v1+cell": {
     "cellMetadata": {},
     "inputWidgets": {},
     "nuid": "05830a5f-f8f9-4e54-b922-a50b855173ae",
     "showTitle": false,
     "title": ""
    },
    "id": "H_cGDUjC9WZs"
   },
   "outputs": [],
   "source": [
    "# 바다와 관련된 영단어 리스트\n",
    "sea_words = ['ocean', 'beach', 'sea', 'waves', 'sand', 'coast', 'shore']\n",
    "\n",
    "# None 값을 빈 문자열로 대체\n",
    "df['text'] = df['text'].fillna('')\n",
    "\n",
    "# beach 열 추가 및 값 설정\n",
    "df['beach'] = df['text'].apply(lambda x: 1 if any(word in x.split() for word in sea_words) else 0)"
   ]
  },
  {
   "cell_type": "code",
   "execution_count": 0,
   "metadata": {
    "application/vnd.databricks.v1+cell": {
     "cellMetadata": {},
     "inputWidgets": {},
     "nuid": "8cab6a7e-5135-4823-a674-1269019b6c0b",
     "showTitle": false,
     "title": ""
    },
    "colab": {
     "base_uri": "https://localhost:8080/",
     "height": 72
    },
    "executionInfo": {
     "elapsed": 355,
     "status": "ok",
     "timestamp": 1719983333027,
     "user": {
      "displayName": "이설하",
      "userId": "07166075204393279284"
     },
     "user_tz": -540
    },
    "id": "DmNaHUDh_gVA",
    "outputId": "657ef10a-7f80-40ae-db07-c165d7286c23"
   },
   "outputs": [],
   "source": [
    "df.at[7,'text']"
   ]
  },
  {
   "cell_type": "code",
   "execution_count": 0,
   "metadata": {
    "application/vnd.databricks.v1+cell": {
     "cellMetadata": {},
     "inputWidgets": {},
     "nuid": "f7764515-6471-4908-8fa8-5714bf99a5b9",
     "showTitle": false,
     "title": ""
    },
    "colab": {
     "base_uri": "https://localhost:8080/"
    },
    "executionInfo": {
     "elapsed": 423,
     "status": "ok",
     "timestamp": 1719983485905,
     "user": {
      "displayName": "이설하",
      "userId": "07166075204393279284"
     },
     "user_tz": -540
    },
    "id": "mISHQSxzAPMx",
    "outputId": "9d55d338-5e70-4bcb-e68b-76bb158684ba"
   },
   "outputs": [],
   "source": [
    "df['beach'].value_counts()"
   ]
  },
  {
   "cell_type": "code",
   "execution_count": 0,
   "metadata": {
    "application/vnd.databricks.v1+cell": {
     "cellMetadata": {},
     "inputWidgets": {},
     "nuid": "e2b0745d-5d52-452b-a3a7-cdc17cb1875d",
     "showTitle": false,
     "title": ""
    },
    "colab": {
     "base_uri": "https://localhost:8080/",
     "height": 564
    },
    "executionInfo": {
     "elapsed": 1246,
     "status": "ok",
     "timestamp": 1719984701358,
     "user": {
      "displayName": "이설하",
      "userId": "07166075204393279284"
     },
     "user_tz": -540
    },
    "id": "w9aCyhvcB6Ko",
    "outputId": "4ddf0fdf-d536-49ec-f153-0fec6002aa74"
   },
   "outputs": [],
   "source": [
    "import matplotlib.pyplot as plt\n",
    "\n",
    "# beach 열을 기준으로 평점 평균 계산\n",
    "beach_mean = df[df['beach'] == 1]['rating'].mean()\n",
    "non_beach_mean = df[df['beach'] == 0]['rating'].mean()\n",
    "\n",
    "overall_mean = df['rating'].mean()\n",
    "\n",
    "# 시각화\n",
    "labels = ['Beach Related', 'Not Beach Related']\n",
    "means = [beach_mean, non_beach_mean]\n",
    "\n",
    "plt.figure(figsize=(8, 6))\n",
    "bars = plt.bar(labels, means, color=['blue', 'orange'])\n",
    "plt.xlabel('Category')\n",
    "plt.ylabel('Average Rating')\n",
    "plt.title('Average Rating by Beach Related Content')\n",
    "plt.ylim(0, 5)  # y축 범위를 0에서 5로 설정\n",
    "\n",
    "# 전체 평균을 표시하는 수평선 추가\n",
    "plt.axhline(y=overall_mean, color='red', linestyle='--', label=f'Overall Mean: {overall_mean:.3f}')\n",
    "\n",
    "# 막대 위에 값을 표시\n",
    "for bar in bars:\n",
    "    yval = bar.get_height()\n",
    "    plt.text(bar.get_x() + bar.get_width() / 2.0, yval, round(yval, 3), ha='center', va='bottom')\n",
    "\n",
    "# 범례 추가\n",
    "plt.legend()\n",
    "\n",
    "plt.show()\n"
   ]
  },
  {
   "cell_type": "code",
   "execution_count": 0,
   "metadata": {
    "application/vnd.databricks.v1+cell": {
     "cellMetadata": {},
     "inputWidgets": {},
     "nuid": "d58ce089-3fe6-40be-949e-5b49afe3cc31",
     "showTitle": false,
     "title": ""
    },
    "colab": {
     "base_uri": "https://localhost:8080/"
    },
    "executionInfo": {
     "elapsed": 411,
     "status": "ok",
     "timestamp": 1719984022937,
     "user": {
      "displayName": "이설하",
      "userId": "07166075204393279284"
     },
     "user_tz": -540
    },
    "id": "reiv4TsSCDqw",
    "outputId": "2d30364c-5559-4354-ac70-fdfc60061bf6"
   },
   "outputs": [],
   "source": [
    "df['rating'].mean()"
   ]
  },
  {
   "cell_type": "code",
   "execution_count": 0,
   "metadata": {
    "application/vnd.databricks.v1+cell": {
     "cellMetadata": {},
     "inputWidgets": {},
     "nuid": "891240f5-14d6-4a36-97dc-4b4c703748eb",
     "showTitle": false,
     "title": ""
    },
    "id": "N2DZFnCBEpsO"
   },
   "outputs": [],
   "source": [
    "# 사람과 관련된 단어 리스트\n",
    "people_words = ['family', 'child', 'children', 'kids', 'couple', 'friend', 'friends', 'baby', 'parents']\n",
    "\n",
    "# None 값을 빈 문자열로 대체\n",
    "df['text'] = df['text'].fillna('')\n",
    "\n",
    "# people 열 추가 및 값 설정\n",
    "df['people'] = df['text'].apply(lambda x: 1 if any(word in x for word in people_words) else 0)\n"
   ]
  },
  {
   "cell_type": "code",
   "execution_count": 0,
   "metadata": {
    "application/vnd.databricks.v1+cell": {
     "cellMetadata": {},
     "inputWidgets": {},
     "nuid": "a16fd1d0-0b41-4ab2-bdaf-4b8e28da5f9b",
     "showTitle": false,
     "title": ""
    },
    "colab": {
     "base_uri": "https://localhost:8080/",
     "height": 564
    },
    "executionInfo": {
     "elapsed": 1452,
     "status": "ok",
     "timestamp": 1719984643696,
     "user": {
      "displayName": "이설하",
      "userId": "07166075204393279284"
     },
     "user_tz": -540
    },
    "id": "138UrXiBCWHw",
    "outputId": "6e6fd1da-d433-47d8-a5c7-22d6b8f3effd"
   },
   "outputs": [],
   "source": [
    "# people 열을 기준으로 평점 평균 계산\n",
    "people_mean = df[df['people'] == 1]['rating'].mean()\n",
    "non_people_mean = df[df['people'] == 0]['rating'].mean()\n",
    "\n",
    "# 시각화\n",
    "labels = ['People Related', 'Not People Related']\n",
    "means = [people_mean, non_people_mean]\n",
    "\n",
    "plt.figure(figsize=(8, 6))\n",
    "bars = plt.bar(labels, means, color=['green', 'red'])\n",
    "plt.xlabel('Category')\n",
    "plt.ylabel('Average Rating')\n",
    "plt.title('Average Rating by People Related Content')\n",
    "plt.ylim(0, 5)  # y축 범위를 0에서 5로 설정\n",
    "\n",
    "# 각 막대 위에 값 표시\n",
    "for bar in bars:\n",
    "    yval = bar.get_height()\n",
    "    plt.text(bar.get_x() + bar.get_width()/2, yval, round(yval, 3), ha='center', va='bottom')\n",
    "\n",
    "plt.show()"
   ]
  },
  {
   "cell_type": "code",
   "execution_count": 0,
   "metadata": {
    "application/vnd.databricks.v1+cell": {
     "cellMetadata": {},
     "inputWidgets": {},
     "nuid": "2bfa1f32-8e07-4c27-a6e6-676574c91f1b",
     "showTitle": false,
     "title": ""
    },
    "colab": {
     "base_uri": "https://localhost:8080/"
    },
    "executionInfo": {
     "elapsed": 440,
     "status": "ok",
     "timestamp": 1719984402431,
     "user": {
      "displayName": "이설하",
      "userId": "07166075204393279284"
     },
     "user_tz": -540
    },
    "id": "UjaF_N1LDwy1",
    "outputId": "a8ebed60-e12e-4e2f-e03f-f1a147fd12cd"
   },
   "outputs": [],
   "source": [
    "df['people'].value_counts()"
   ]
  },
  {
   "cell_type": "markdown",
   "metadata": {
    "application/vnd.databricks.v1+cell": {
     "cellMetadata": {},
     "inputWidgets": {},
     "nuid": "419795f1-3e73-4c88-b493-3cbe32cb4a8c",
     "showTitle": false,
     "title": ""
    },
    "id": "wXhdtmXLPZRl"
   },
   "source": [
    "#하와이 메타 데이터\n"
   ]
  },
  {
   "cell_type": "code",
   "execution_count": 0,
   "metadata": {
    "application/vnd.databricks.v1+cell": {
     "cellMetadata": {},
     "inputWidgets": {},
     "nuid": "0f02998d-59d6-465a-8605-c3c15a633914",
     "showTitle": false,
     "title": ""
    },
    "colab": {
     "base_uri": "https://localhost:8080/"
    },
    "executionInfo": {
     "elapsed": 1660,
     "status": "ok",
     "timestamp": 1719987141126,
     "user": {
      "displayName": "이설하",
      "userId": "07166075204393279284"
     },
     "user_tz": -540
    },
    "id": "jQDcSF_PVaEr",
    "outputId": "6d647976-6915-405a-902a-78e52e681ca1"
   },
   "outputs": [],
   "source": [
    "!mkdir unzip_path\n",
    "!cd unzip_path # 압축을 풀 폴더 경로\n",
    "!unzip -qq '/content/drive/MyDrive/ASAC/Project_GoogleMap/meta-Hawaii.json.gz' # 압축파일 경로"
   ]
  },
  {
   "cell_type": "code",
   "execution_count": 0,
   "metadata": {
    "application/vnd.databricks.v1+cell": {
     "cellMetadata": {},
     "inputWidgets": {},
     "nuid": "fd4e4394-478d-4188-ba53-a48f1438d7df",
     "showTitle": false,
     "title": ""
    },
    "colab": {
     "base_uri": "https://localhost:8080/"
    },
    "executionInfo": {
     "elapsed": 798,
     "status": "ok",
     "timestamp": 1719987152849,
     "user": {
      "displayName": "이설하",
      "userId": "07166075204393279284"
     },
     "user_tz": -540
    },
    "id": "s0cxJKJUdF4m",
    "outputId": "235ff32e-953c-4ef4-f527-3b3b268f1e07"
   },
   "outputs": [],
   "source": [
    "import gzip\n",
    "import json\n",
    "import pandas as pd\n",
    "\n",
    "# JSON 데이터를 파싱하는 함수\n",
    "def parse(path):\n",
    "    g = gzip.open(path, 'r')\n",
    "    for l in g:\n",
    "        yield json.loads(l)\n",
    "\n",
    "# 데이터 경로\n",
    "data_path = '/content/drive/MyDrive/ASAC/Project_GoogleMap/meta-Hawaii.json.gz'\n",
    "\n",
    "# 데이터를 리스트에 저장\n",
    "data = []\n",
    "for item in parse(data_path):\n",
    "    data.append(item)\n",
    "\n",
    "# 데이터를 판다스 데이터프레임으로 변환\n",
    "df_meta = pd.DataFrame(data)\n",
    "\n",
    "# 데이터프레임의 첫 몇 줄을 출력하여 확인\n",
    "print(df_meta.head())\n",
    "\n",
    "# 데이터프레임을 저장할 수도 있습니다.\n",
    "#df.to_csv('/content/drive/MyDrive/korean_credit_data/meta-Hawaii.csv', index=False)\n"
   ]
  },
  {
   "cell_type": "code",
   "execution_count": 0,
   "metadata": {
    "application/vnd.databricks.v1+cell": {
     "cellMetadata": {},
     "inputWidgets": {},
     "nuid": "9964318a-d60c-4887-b049-a4acf0e3780d",
     "showTitle": false,
     "title": ""
    },
    "colab": {
     "base_uri": "https://localhost:8080/"
    },
    "executionInfo": {
     "elapsed": 1559,
     "status": "ok",
     "timestamp": 1719987158858,
     "user": {
      "displayName": "이설하",
      "userId": "07166075204393279284"
     },
     "user_tz": -540
    },
    "id": "SP9GNq-wp5Nm",
    "outputId": "6d82fa87-3f4b-466e-ddd5-590cd409849c"
   },
   "outputs": [],
   "source": [
    "data"
   ]
  },
  {
   "cell_type": "code",
   "execution_count": 0,
   "metadata": {
    "application/vnd.databricks.v1+cell": {
     "cellMetadata": {},
     "inputWidgets": {},
     "nuid": "d117a22e-a033-43e4-8489-5605b15b2974",
     "showTitle": false,
     "title": ""
    },
    "colab": {
     "base_uri": "https://localhost:8080/"
    },
    "collapsed": true,
    "executionInfo": {
     "elapsed": 1207,
     "status": "ok",
     "timestamp": 1719987344885,
     "user": {
      "displayName": "이설하",
      "userId": "07166075204393279284"
     },
     "user_tz": -540
    },
    "id": "tlUdaIwe1n4k",
    "outputId": "a61151b3-7d1b-4893-b430-7d2911cb23aa"
   },
   "outputs": [],
   "source": [
    "for i in df_meta['price'].loc[df_meta['price'].isnull()==False]:\n",
    "  print(i)"
   ]
  },
  {
   "cell_type": "code",
   "execution_count": 0,
   "metadata": {
    "application/vnd.databricks.v1+cell": {
     "cellMetadata": {},
     "inputWidgets": {},
     "nuid": "e076c406-e514-48ef-bbe1-8643ea78725d",
     "showTitle": false,
     "title": ""
    },
    "colab": {
     "base_uri": "https://localhost:8080/"
    },
    "executionInfo": {
     "elapsed": 355,
     "status": "ok",
     "timestamp": 1719987172216,
     "user": {
      "displayName": "이설하",
      "userId": "07166075204393279284"
     },
     "user_tz": -540
    },
    "id": "j90iQq-DvniB",
    "outputId": "2de86666-531b-454b-8915-383d8eed4ad4"
   },
   "outputs": [],
   "source": [
    "df_meta.shape"
   ]
  },
  {
   "cell_type": "code",
   "execution_count": 0,
   "metadata": {
    "application/vnd.databricks.v1+cell": {
     "cellMetadata": {},
     "inputWidgets": {},
     "nuid": "f655b572-033b-4cb7-a51b-05c2afe71a0b",
     "showTitle": false,
     "title": ""
    },
    "colab": {
     "base_uri": "https://localhost:8080/"
    },
    "executionInfo": {
     "elapsed": 403,
     "status": "ok",
     "timestamp": 1719987246394,
     "user": {
      "displayName": "이설하",
      "userId": "07166075204393279284"
     },
     "user_tz": -540
    },
    "id": "aFgh5cUgvt5M",
    "outputId": "30115e7f-a0ed-4ad8-c084-7036704ebbe2"
   },
   "outputs": [],
   "source": [
    "df_meta.info()"
   ]
  },
  {
   "cell_type": "code",
   "execution_count": 0,
   "metadata": {
    "application/vnd.databricks.v1+cell": {
     "cellMetadata": {},
     "inputWidgets": {},
     "nuid": "1747b076-5b59-47f4-8cea-787047c56ba6",
     "showTitle": false,
     "title": ""
    },
    "colab": {
     "base_uri": "https://localhost:8080/"
    },
    "executionInfo": {
     "elapsed": 294,
     "status": "ok",
     "timestamp": 1719987552438,
     "user": {
      "displayName": "이설하",
      "userId": "07166075204393279284"
     },
     "user_tz": -540
    },
    "id": "uYOBGO9-n8YZ",
    "outputId": "aa987b7b-bb18-4513-d268-8c229522650f"
   },
   "outputs": [],
   "source": [
    "print('총갯수',len(df_meta))\n",
    "for i in df_meta.columns:\n",
    "\n",
    "  print(i,':',df_meta[i].isnull().sum())"
   ]
  },
  {
   "cell_type": "code",
   "execution_count": 0,
   "metadata": {
    "application/vnd.databricks.v1+cell": {
     "cellMetadata": {},
     "inputWidgets": {},
     "nuid": "8fa70b32-ba20-4a45-9e55-2b7a5c97e3be",
     "showTitle": false,
     "title": ""
    },
    "colab": {
     "base_uri": "https://localhost:8080/"
    },
    "collapsed": true,
    "executionInfo": {
     "elapsed": 364,
     "status": "ok",
     "timestamp": 1719542489199,
     "user": {
      "displayName": "양희선",
      "userId": "05450387058549810740"
     },
     "user_tz": -540
    },
    "id": "zsrP0BZwqmXy",
    "outputId": "30762b47-cf19-428d-a8e5-e01050595b58"
   },
   "outputs": [],
   "source": [
    "for i in df_meta['state'][:100]:\n",
    "  print(i)"
   ]
  },
  {
   "cell_type": "code",
   "execution_count": 0,
   "metadata": {
    "application/vnd.databricks.v1+cell": {
     "cellMetadata": {},
     "inputWidgets": {},
     "nuid": "7f7952fb-7fb2-417e-a9a9-a79d973d642e",
     "showTitle": false,
     "title": ""
    },
    "colab": {
     "base_uri": "https://localhost:8080/",
     "height": 694
    },
    "executionInfo": {
     "elapsed": 337,
     "status": "ok",
     "timestamp": 1719987604015,
     "user": {
      "displayName": "이설하",
      "userId": "07166075204393279284"
     },
     "user_tz": -540
    },
    "id": "ztb4Hwy7P42e",
    "outputId": "c6d5bfba-65f9-445b-8091-fbc0bf143ae9"
   },
   "outputs": [],
   "source": [
    "df_meta.head()"
   ]
  },
  {
   "cell_type": "markdown",
   "metadata": {
    "application/vnd.databricks.v1+cell": {
     "cellMetadata": {},
     "inputWidgets": {},
     "nuid": "d75cfe49-cdfa-4e54-8241-2806fdc19469",
     "showTitle": false,
     "title": ""
    },
    "id": "VnKbvmeuVEAw"
   },
   "source": [
    "### 카테고리"
   ]
  },
  {
   "cell_type": "code",
   "execution_count": 0,
   "metadata": {
    "application/vnd.databricks.v1+cell": {
     "cellMetadata": {},
     "inputWidgets": {},
     "nuid": "2abac935-8480-4590-82e3-3f1c128c99cb",
     "showTitle": false,
     "title": ""
    },
    "colab": {
     "base_uri": "https://localhost:8080/"
    },
    "executionInfo": {
     "elapsed": 329,
     "status": "ok",
     "timestamp": 1719989158475,
     "user": {
      "displayName": "이설하",
      "userId": "07166075204393279284"
     },
     "user_tz": -540
    },
    "id": "vo2XdnQ_V5pQ",
    "outputId": "751dccb2-43d8-4a5d-e646-fbe501f3e5fe"
   },
   "outputs": [],
   "source": [
    "df_meta['category'].value_counts()"
   ]
  },
  {
   "cell_type": "code",
   "execution_count": 0,
   "metadata": {
    "application/vnd.databricks.v1+cell": {
     "cellMetadata": {},
     "inputWidgets": {},
     "nuid": "89a7aad3-22cd-4c4a-afe4-e4dc0de5bf99",
     "showTitle": false,
     "title": ""
    },
    "colab": {
     "base_uri": "https://localhost:8080/"
    },
    "executionInfo": {
     "elapsed": 347,
     "status": "ok",
     "timestamp": 1719988351303,
     "user": {
      "displayName": "이설하",
      "userId": "07166075204393279284"
     },
     "user_tz": -540
    },
    "id": "EoefAbEWR-0H",
    "outputId": "ef832e2d-61e3-4b28-d46f-7ad55c0ac39a"
   },
   "outputs": [],
   "source": [
    "df_meta['category'].value_counts().mean()"
   ]
  },
  {
   "cell_type": "code",
   "execution_count": 0,
   "metadata": {
    "application/vnd.databricks.v1+cell": {
     "cellMetadata": {},
     "inputWidgets": {},
     "nuid": "5da3e9c9-0d1c-4c06-ab4e-04a66d34c4b2",
     "showTitle": false,
     "title": ""
    },
    "colab": {
     "base_uri": "https://localhost:8080/",
     "height": 607
    },
    "executionInfo": {
     "elapsed": 1195,
     "status": "ok",
     "timestamp": 1719988772188,
     "user": {
      "displayName": "이설하",
      "userId": "07166075204393279284"
     },
     "user_tz": -540
    },
    "id": "94JzCqYkP99r",
    "outputId": "92fa72f8-49ad-428a-871a-102993cfe302"
   },
   "outputs": [],
   "source": [
    "import pandas as pd\n",
    "import matplotlib.pyplot as plt\n",
    "\n",
    "# df_meta 데이터프레임이 이미 존재한다고 가정합니다.\n",
    "\n",
    "# category 컬럼이 리스트인 경우 문자열로 변환\n",
    "df_meta['category'] = df_meta['category'].apply(lambda x: ''.join(x) if isinstance(x, list) else x)\n",
    "\n",
    "# category 컬럼 값들의 빈도 계산\n",
    "category_counts = df_meta['category'].value_counts()\n",
    "\n",
    "# category 값의 수의 평균 계산\n",
    "# average_frequency = category_counts.mean()\n",
    "\n",
    "# 빈도가 평균 이상인 category 값들 필터링\n",
    "frequent_categories = category_counts[category_counts >= 100]\n",
    "\n",
    "# 그래프 생성\n",
    "plt.figure(figsize=(10, 6))\n",
    "plt.bar(frequent_categories.index, frequent_categories.values, color='skyblue')\n",
    "plt.xlabel('Category')\n",
    "plt.ylabel('Frequency')\n",
    "plt.title('Categories with Frequency Above 100', fontsize=16)\n",
    "plt.xticks(rotation=45, ha='right', fontsize=12)  # x라벨 회전 및 글꼴 크기 조정\n",
    "plt.tight_layout()  # 레이아웃 조정\n",
    "plt.show()"
   ]
  },
  {
   "cell_type": "code",
   "execution_count": 0,
   "metadata": {
    "application/vnd.databricks.v1+cell": {
     "cellMetadata": {},
     "inputWidgets": {},
     "nuid": "40ef52d7-85a6-4351-b8b4-467a9850ca04",
     "showTitle": false,
     "title": ""
    },
    "colab": {
     "base_uri": "https://localhost:8080/",
     "height": 807
    },
    "executionInfo": {
     "elapsed": 1187,
     "status": "ok",
     "timestamp": 1719989028730,
     "user": {
      "displayName": "이설하",
      "userId": "07166075204393279284"
     },
     "user_tz": -540
    },
    "id": "LOhmfjVQVBqg",
    "outputId": "b5db6291-6583-4f28-ae47-e4997245a1c8"
   },
   "outputs": [],
   "source": [
    "# category 컬럼이 리스트인 경우 문자열로 변환\n",
    "df_meta['category'] = df_meta['category'].apply(lambda x: ''.join(x) if isinstance(x, list) else x)\n",
    "\n",
    "# category 컬럼 값들의 빈도 계산\n",
    "category_counts = df_meta['category'].value_counts()\n",
    "\n",
    "# 빈도가 100 이상인 category 값들 필터링\n",
    "frequent_categories = category_counts[category_counts >= 100].index\n",
    "\n",
    "# 빈도가 100 이상인 카테고리들의 평점 평균 계산\n",
    "category_ratings = df_meta[df_meta['category'].isin(frequent_categories)].groupby('category')['avg_rating'].mean()\n",
    "\n",
    "# 평점 평균이 높은 순서대로 정렬\n",
    "category_ratings = category_ratings.sort_values(ascending=False)\n",
    "\n",
    "# 그래프 생성\n",
    "plt.figure(figsize=(12, 8))  # 그래프 크기 조정\n",
    "bars = plt.bar(category_ratings.index, category_ratings.values, color='skyblue')\n",
    "plt.xlabel('Category', fontsize=14)\n",
    "plt.ylabel('Average Rating', fontsize=14)\n",
    "plt.title('Average Rating by Category (Frequency >= 100)', fontsize=16)\n",
    "plt.xticks(rotation=45, ha='right', fontsize=12)  # x라벨 회전 및 글꼴 크기 조정\n",
    "plt.ylim(3, max(category_ratings.values) + 0.5)  # y축 범위 설정\n",
    "\n",
    "# 막대 위에 평점 값 표시\n",
    "for bar in bars:\n",
    "    yval = bar.get_height()\n",
    "    plt.text(bar.get_x() + bar.get_width()/2, yval + 0.05, round(yval, 2), ha='center', va='bottom', fontsize=12)\n",
    "\n",
    "plt.tight_layout()  # 레이아웃 조정\n",
    "plt.show()"
   ]
  },
  {
   "cell_type": "code",
   "execution_count": 0,
   "metadata": {
    "application/vnd.databricks.v1+cell": {
     "cellMetadata": {},
     "inputWidgets": {},
     "nuid": "560af9f7-dbfa-471a-957f-930931b36740",
     "showTitle": false,
     "title": ""
    },
    "colab": {
     "base_uri": "https://localhost:8080/",
     "height": 582
    },
    "executionInfo": {
     "elapsed": 324,
     "status": "ok",
     "timestamp": 1719989564630,
     "user": {
      "displayName": "이설하",
      "userId": "07166075204393279284"
     },
     "user_tz": -540
    },
    "id": "r8dL9HdlWhr3",
    "outputId": "6a1eb08d-fc5f-42ca-acf5-883d5fd1b37d"
   },
   "outputs": [],
   "source": [
    "# category 컬럼이 리스트인 경우 문자열로 변환\n",
    "df_meta['category'] = df_meta['category'].apply(lambda x: ''.join(x) if isinstance(x, list) else x)\n",
    "\n",
    "# category 컬럼 값들의 빈도 계산\n",
    "category_counts = df_meta['category'].value_counts()\n",
    "\n",
    "# 빈도가 100 이상인 category 값들 필터링\n",
    "frequent_categories = category_counts[category_counts >= 100].index\n",
    "\n",
    "# 빈도가 100 이상인 카테고리들의 평점 통계 계산\n",
    "category_stats = df_meta[df_meta['category'].isin(frequent_categories)].groupby('category')['avg_rating'].agg(\n",
    "    min_rating='min',\n",
    "    max_rating='max',\n",
    "    mean_rating='mean',\n",
    "    mode_rating=lambda x: x.mode()[0] if not x.mode().empty else None\n",
    ").reset_index()\n",
    "\n",
    "# 리스트로 변환\n",
    "stats_list = category_stats.values.tolist()\n",
    "\n",
    "# 리스트를 데이터프레임으로 변환\n",
    "category_stats_df = pd.DataFrame(stats_list, columns=['category', 'min_rating', 'max_rating', 'mean_rating', 'mode_rating'])\n",
    "category_stats_df_sorted = category_stats_df.sort_values(by='mean_rating', ascending=False).reset_index(drop=True)\n",
    "\n",
    "category_stats_df_sorted"
   ]
  },
  {
   "cell_type": "markdown",
   "metadata": {
    "application/vnd.databricks.v1+cell": {
     "cellMetadata": {},
     "inputWidgets": {},
     "nuid": "20602c03-195b-4d88-93ba-c77767429c11",
     "showTitle": false,
     "title": ""
    },
    "id": "Rr2QJjMHe2I3"
   },
   "source": [
    "### 리뷰 수"
   ]
  },
  {
   "cell_type": "code",
   "execution_count": 0,
   "metadata": {
    "application/vnd.databricks.v1+cell": {
     "cellMetadata": {},
     "inputWidgets": {},
     "nuid": "beb08f8a-5c96-41b1-8f53-e6d2b0ca3f63",
     "showTitle": false,
     "title": ""
    },
    "colab": {
     "base_uri": "https://localhost:8080/",
     "height": 564
    },
    "executionInfo": {
     "elapsed": 411,
     "status": "ok",
     "timestamp": 1719991512507,
     "user": {
      "displayName": "이설하",
      "userId": "07166075204393279284"
     },
     "user_tz": -540
    },
    "id": "7c-3OegPdTHp",
    "outputId": "16fdec9c-22a4-4c87-879f-37703102fe31"
   },
   "outputs": [],
   "source": [
    "# num_of_reviews의 분포 시각화\n",
    "plt.figure(figsize=(10, 6))\n",
    "plt.hist(df_meta['num_of_reviews'].dropna(), bins=30, edgecolor='black')\n",
    "plt.title('Distribution of Number of Reviews')\n",
    "plt.xlabel('Number of Reviews')\n",
    "plt.ylabel('Frequency')\n",
    "plt.grid(True)\n",
    "plt.show()"
   ]
  },
  {
   "cell_type": "code",
   "execution_count": 0,
   "metadata": {
    "application/vnd.databricks.v1+cell": {
     "cellMetadata": {},
     "inputWidgets": {},
     "nuid": "c2dddc9e-5c78-4d48-a735-0a19ce8d4d95",
     "showTitle": false,
     "title": ""
    },
    "colab": {
     "base_uri": "https://localhost:8080/",
     "height": 564
    },
    "executionInfo": {
     "elapsed": 986,
     "status": "ok",
     "timestamp": 1719991605706,
     "user": {
      "displayName": "이설하",
      "userId": "07166075204393279284"
     },
     "user_tz": -540
    },
    "id": "ViLqkDUMe36M",
    "outputId": "c7ad6b2e-05dd-4dc4-d22c-f643d6b6084c"
   },
   "outputs": [],
   "source": [
    "plt.figure(figsize=(10, 6))\n",
    "plt.hist(df_meta['num_of_reviews'].dropna(), bins=30, edgecolor='black')\n",
    "plt.title('Distribution of Number of Reviews')\n",
    "plt.xlabel('Number of Reviews')\n",
    "plt.ylabel('Frequency')\n",
    "plt.grid(True)\n",
    "plt.xlim(0, 2000)  # x축 범위를 0에서 2000으로 설정\n",
    "plt.show()"
   ]
  },
  {
   "cell_type": "code",
   "execution_count": 0,
   "metadata": {
    "application/vnd.databricks.v1+cell": {
     "cellMetadata": {},
     "inputWidgets": {},
     "nuid": "99cf991c-5ac9-441f-8ae3-be9eeb783086",
     "showTitle": false,
     "title": ""
    },
    "colab": {
     "base_uri": "https://localhost:8080/",
     "height": 564
    },
    "executionInfo": {
     "elapsed": 630,
     "status": "ok",
     "timestamp": 1719991873512,
     "user": {
      "displayName": "이설하",
      "userId": "07166075204393279284"
     },
     "user_tz": -540
    },
    "id": "ULrR9gvIgPTt",
    "outputId": "29923f7f-0686-4d66-9766-92c887a74317"
   },
   "outputs": [],
   "source": [
    "# num_of_reviews의 박스 플롯 시각화\n",
    "plt.figure(figsize=(10, 6))\n",
    "plt.boxplot(df_meta['num_of_reviews'].dropna(), vert=False)\n",
    "plt.title('Boxplot of Number of Reviews')\n",
    "plt.xlabel('Number of Reviews')\n",
    "plt.grid(True)\n",
    "plt.show()"
   ]
  },
  {
   "cell_type": "markdown",
   "metadata": {
    "application/vnd.databricks.v1+cell": {
     "cellMetadata": {},
     "inputWidgets": {},
     "nuid": "c9eb16a6-5e99-4f83-83c1-785df9228de7",
     "showTitle": false,
     "title": ""
    },
    "id": "OQaXgRS7itEo"
   },
   "source": [
    "### MISC"
   ]
  },
  {
   "cell_type": "code",
   "execution_count": 0,
   "metadata": {
    "application/vnd.databricks.v1+cell": {
     "cellMetadata": {},
     "inputWidgets": {},
     "nuid": "940adc54-0d22-42ce-a1e8-dee52e239268",
     "showTitle": false,
     "title": ""
    },
    "id": "_CGSMTTuisPM"
   },
   "outputs": [],
   "source": []
  }
 ],
 "metadata": {
  "accelerator": "GPU",
  "application/vnd.databricks.v1+notebook": {
   "dashboards": [],
   "environmentMetadata": null,
   "language": "python",
   "notebookMetadata": {},
   "notebookName": "[0703]data_hawai",
   "widgets": {}
  },
  "colab": {
   "collapsed_sections": [
    "8hiXL-urOVcq",
    "pENJDMeDFdBZ",
    "WRvg0mTzPGmQ",
    "-qgk09JBFSjF",
    "_3d7rq8fE8fh",
    "PZRDwFCfOzcp"
   ],
   "gpuType": "T4",
   "machine_shape": "hm",
   "provenance": []
  },
  "kernelspec": {
   "display_name": "Python 3",
   "name": "python3"
  },
  "language_info": {
   "name": "python"
  }
 },
 "nbformat": 4,
 "nbformat_minor": 0
}
